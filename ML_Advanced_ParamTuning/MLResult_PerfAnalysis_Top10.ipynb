{
 "cells": [
  {
   "cell_type": "code",
   "execution_count": null,
   "metadata": {
    "pycharm": {
     "is_executing": true
    }
   },
   "outputs": [],
   "source": [
    "import pandas as pd\n",
    "import numpy as np"
   ]
  },
  {
   "cell_type": "code",
   "execution_count": null,
   "metadata": {
    "pycharm": {
     "is_executing": true
    }
   },
   "outputs": [],
   "source": [
    "strategy='Long'\n",
    "algorithm='xgb'\n",
    "\n",
    "if algorithm == 'xgb':\n",
    " dataset=pd.read_csv(f'result/xgb_{strategy}-MLResult.csv')\n",
    " selected_cols=['acc_mean','learning_rate','n_estimators']\n",
    " list_group=['learning_rate','n_estimators']\n",
    "elif algorithm == 'lgb':\n",
    " dataset=pd.read_csv(f'result/lgb_{strategy}-MLResult.csv')\n",
    " selected_cols=['acc_mean','learning_rate','n_estimators','num_leaves']\n",
    " list_group=['learning_rate','n_estimators','num_leaves']\n",
    "dataset.info()"
   ]
  },
  {
   "cell_type": "code",
   "execution_count": null,
   "metadata": {
    "pycharm": {
     "is_executing": true
    }
   },
   "outputs": [],
   "source": [
    "dataset.isnull().sum()"
   ]
  },
  {
   "cell_type": "code",
   "execution_count": 282,
   "metadata": {},
   "outputs": [
    {
     "data": {
      "text/html": [
       "<div>\n",
       "<style scoped>\n",
       "    .dataframe tbody tr th:only-of-type {\n",
       "        vertical-align: middle;\n",
       "    }\n",
       "\n",
       "    .dataframe tbody tr th {\n",
       "        vertical-align: top;\n",
       "    }\n",
       "\n",
       "    .dataframe thead th {\n",
       "        text-align: right;\n",
       "    }\n",
       "</style>\n",
       "<table border=\"1\" class=\"dataframe\">\n",
       "  <thead>\n",
       "    <tr style=\"text-align: right;\">\n",
       "      <th></th>\n",
       "      <th>acc_mean</th>\n",
       "      <th>learning_rate</th>\n",
       "      <th>n_estimators</th>\n",
       "      <th>num_leaves</th>\n",
       "    </tr>\n",
       "  </thead>\n",
       "  <tbody>\n",
       "    <tr>\n",
       "      <th>0</th>\n",
       "      <td>0.652632</td>\n",
       "      <td>0.001</td>\n",
       "      <td>40.0</td>\n",
       "      <td>31.0</td>\n",
       "    </tr>\n",
       "    <tr>\n",
       "      <th>1</th>\n",
       "      <td>0.652632</td>\n",
       "      <td>0.001</td>\n",
       "      <td>40.0</td>\n",
       "      <td>50.0</td>\n",
       "    </tr>\n",
       "    <tr>\n",
       "      <th>2</th>\n",
       "      <td>0.652632</td>\n",
       "      <td>0.001</td>\n",
       "      <td>40.0</td>\n",
       "      <td>100.0</td>\n",
       "    </tr>\n",
       "    <tr>\n",
       "      <th>3</th>\n",
       "      <td>0.652632</td>\n",
       "      <td>0.001</td>\n",
       "      <td>40.0</td>\n",
       "      <td>150.0</td>\n",
       "    </tr>\n",
       "    <tr>\n",
       "      <th>4</th>\n",
       "      <td>0.652632</td>\n",
       "      <td>0.001</td>\n",
       "      <td>40.0</td>\n",
       "      <td>200.0</td>\n",
       "    </tr>\n",
       "  </tbody>\n",
       "</table>\n",
       "</div>"
      ],
      "text/plain": [
       "   acc_mean  learning_rate  n_estimators  num_leaves\n",
       "0  0.652632          0.001          40.0        31.0\n",
       "1  0.652632          0.001          40.0        50.0\n",
       "2  0.652632          0.001          40.0       100.0\n",
       "3  0.652632          0.001          40.0       150.0\n",
       "4  0.652632          0.001          40.0       200.0"
      ]
     },
     "execution_count": 282,
     "metadata": {},
     "output_type": "execute_result"
    }
   ],
   "source": [
    "\n",
    "\n",
    "ml_df=dataset[selected_cols]\n",
    "ml_df.head(5)"
   ]
  },
  {
   "cell_type": "code",
   "execution_count": 283,
   "metadata": {},
   "outputs": [
    {
     "data": {
      "text/html": [
       "<div>\n",
       "<style scoped>\n",
       "    .dataframe tbody tr th:only-of-type {\n",
       "        vertical-align: middle;\n",
       "    }\n",
       "\n",
       "    .dataframe tbody tr th {\n",
       "        vertical-align: top;\n",
       "    }\n",
       "\n",
       "    .dataframe thead th {\n",
       "        text-align: right;\n",
       "    }\n",
       "</style>\n",
       "<table border=\"1\" class=\"dataframe\">\n",
       "  <thead>\n",
       "    <tr style=\"text-align: right;\">\n",
       "      <th></th>\n",
       "      <th>acc_mean</th>\n",
       "      <th>learning_rate</th>\n",
       "      <th>n_estimators</th>\n",
       "      <th>num_leaves</th>\n",
       "    </tr>\n",
       "  </thead>\n",
       "  <tbody>\n",
       "    <tr>\n",
       "      <th>count</th>\n",
       "      <td>1680.000000</td>\n",
       "      <td>1680.000000</td>\n",
       "      <td>1680.000000</td>\n",
       "      <td>1680.000000</td>\n",
       "    </tr>\n",
       "    <tr>\n",
       "      <th>mean</th>\n",
       "      <td>0.784139</td>\n",
       "      <td>0.238000</td>\n",
       "      <td>130.000000</td>\n",
       "      <td>130.166667</td>\n",
       "    </tr>\n",
       "    <tr>\n",
       "      <th>std</th>\n",
       "      <td>0.064495</td>\n",
       "      <td>0.351859</td>\n",
       "      <td>57.462731</td>\n",
       "      <td>78.339806</td>\n",
       "    </tr>\n",
       "    <tr>\n",
       "      <th>min</th>\n",
       "      <td>0.642361</td>\n",
       "      <td>0.001000</td>\n",
       "      <td>40.000000</td>\n",
       "      <td>31.000000</td>\n",
       "    </tr>\n",
       "    <tr>\n",
       "      <th>25%</th>\n",
       "      <td>0.785560</td>\n",
       "      <td>0.005000</td>\n",
       "      <td>80.000000</td>\n",
       "      <td>50.000000</td>\n",
       "    </tr>\n",
       "    <tr>\n",
       "      <th>50%</th>\n",
       "      <td>0.810528</td>\n",
       "      <td>0.050000</td>\n",
       "      <td>130.000000</td>\n",
       "      <td>125.000000</td>\n",
       "    </tr>\n",
       "    <tr>\n",
       "      <th>75%</th>\n",
       "      <td>0.825330</td>\n",
       "      <td>0.500000</td>\n",
       "      <td>180.000000</td>\n",
       "      <td>200.000000</td>\n",
       "    </tr>\n",
       "    <tr>\n",
       "      <th>max</th>\n",
       "      <td>0.849707</td>\n",
       "      <td>1.000000</td>\n",
       "      <td>220.000000</td>\n",
       "      <td>250.000000</td>\n",
       "    </tr>\n",
       "  </tbody>\n",
       "</table>\n",
       "</div>"
      ],
      "text/plain": [
       "          acc_mean  learning_rate  n_estimators   num_leaves\n",
       "count  1680.000000    1680.000000   1680.000000  1680.000000\n",
       "mean      0.784139       0.238000    130.000000   130.166667\n",
       "std       0.064495       0.351859     57.462731    78.339806\n",
       "min       0.642361       0.001000     40.000000    31.000000\n",
       "25%       0.785560       0.005000     80.000000    50.000000\n",
       "50%       0.810528       0.050000    130.000000   125.000000\n",
       "75%       0.825330       0.500000    180.000000   200.000000\n",
       "max       0.849707       1.000000    220.000000   250.000000"
      ]
     },
     "execution_count": 283,
     "metadata": {},
     "output_type": "execute_result"
    }
   ],
   "source": [
    "ml_df.describe()"
   ]
  },
  {
   "cell_type": "code",
   "execution_count": 284,
   "metadata": {},
   "outputs": [],
   "source": [
    "datasets=None\n",
    "dfx=ml_df.groupby(list_group,as_index=False).agg({'acc_mean':['mean','median','max','min','std']})\n",
    "dfx.columns = [\"_\".join(x) for x in dfx.columns.ravel()]\n"
   ]
  },
  {
   "cell_type": "code",
   "execution_count": 285,
   "metadata": {},
   "outputs": [],
   "source": [
    "ntop=10\n",
    "topx=dfx.sort_values(by=['acc_mean_median','acc_mean_mean'], ascending=False).head(ntop)\n",
    "topx.reset_index(drop=True)\n",
    "topx.to_csv(f'{algorithm}_{strategy}_top{ntop}.csv',index=False)"
   ]
  },
  {
   "cell_type": "code",
   "execution_count": 286,
   "metadata": {},
   "outputs": [
    {
     "data": {
      "text/html": [
       "<div>\n",
       "<style scoped>\n",
       "    .dataframe tbody tr th:only-of-type {\n",
       "        vertical-align: middle;\n",
       "    }\n",
       "\n",
       "    .dataframe tbody tr th {\n",
       "        vertical-align: top;\n",
       "    }\n",
       "\n",
       "    .dataframe thead th {\n",
       "        text-align: right;\n",
       "    }\n",
       "</style>\n",
       "<table border=\"1\" class=\"dataframe\">\n",
       "  <thead>\n",
       "    <tr style=\"text-align: right;\">\n",
       "      <th></th>\n",
       "      <th>learning_rate_</th>\n",
       "      <th>n_estimators_</th>\n",
       "      <th>num_leaves_</th>\n",
       "      <th>acc_mean_mean</th>\n",
       "      <th>acc_mean_median</th>\n",
       "      <th>acc_mean_max</th>\n",
       "      <th>acc_mean_min</th>\n",
       "      <th>acc_mean_std</th>\n",
       "    </tr>\n",
       "  </thead>\n",
       "  <tbody>\n",
       "    <tr>\n",
       "      <th>156</th>\n",
       "      <td>0.010</td>\n",
       "      <td>160.0</td>\n",
       "      <td>31.0</td>\n",
       "      <td>0.838243</td>\n",
       "      <td>0.840179</td>\n",
       "      <td>0.844552</td>\n",
       "      <td>0.828060</td>\n",
       "      <td>0.007927</td>\n",
       "    </tr>\n",
       "    <tr>\n",
       "      <th>174</th>\n",
       "      <td>0.010</td>\n",
       "      <td>220.0</td>\n",
       "      <td>31.0</td>\n",
       "      <td>0.837306</td>\n",
       "      <td>0.839749</td>\n",
       "      <td>0.844284</td>\n",
       "      <td>0.825442</td>\n",
       "      <td>0.008488</td>\n",
       "    </tr>\n",
       "    <tr>\n",
       "      <th>168</th>\n",
       "      <td>0.010</td>\n",
       "      <td>200.0</td>\n",
       "      <td>31.0</td>\n",
       "      <td>0.837404</td>\n",
       "      <td>0.839112</td>\n",
       "      <td>0.844834</td>\n",
       "      <td>0.826557</td>\n",
       "      <td>0.008112</td>\n",
       "    </tr>\n",
       "    <tr>\n",
       "      <th>150</th>\n",
       "      <td>0.010</td>\n",
       "      <td>140.0</td>\n",
       "      <td>31.0</td>\n",
       "      <td>0.837301</td>\n",
       "      <td>0.838347</td>\n",
       "      <td>0.844791</td>\n",
       "      <td>0.827719</td>\n",
       "      <td>0.007746</td>\n",
       "    </tr>\n",
       "    <tr>\n",
       "      <th>192</th>\n",
       "      <td>0.050</td>\n",
       "      <td>80.0</td>\n",
       "      <td>31.0</td>\n",
       "      <td>0.836101</td>\n",
       "      <td>0.838071</td>\n",
       "      <td>0.846214</td>\n",
       "      <td>0.822048</td>\n",
       "      <td>0.010131</td>\n",
       "    </tr>\n",
       "    <tr>\n",
       "      <th>144</th>\n",
       "      <td>0.010</td>\n",
       "      <td>120.0</td>\n",
       "      <td>31.0</td>\n",
       "      <td>0.836788</td>\n",
       "      <td>0.837447</td>\n",
       "      <td>0.846524</td>\n",
       "      <td>0.825736</td>\n",
       "      <td>0.008998</td>\n",
       "    </tr>\n",
       "    <tr>\n",
       "      <th>102</th>\n",
       "      <td>0.005</td>\n",
       "      <td>180.0</td>\n",
       "      <td>31.0</td>\n",
       "      <td>0.837016</td>\n",
       "      <td>0.837130</td>\n",
       "      <td>0.848256</td>\n",
       "      <td>0.825550</td>\n",
       "      <td>0.010102</td>\n",
       "    </tr>\n",
       "    <tr>\n",
       "      <th>186</th>\n",
       "      <td>0.050</td>\n",
       "      <td>60.0</td>\n",
       "      <td>31.0</td>\n",
       "      <td>0.835974</td>\n",
       "      <td>0.836974</td>\n",
       "      <td>0.846862</td>\n",
       "      <td>0.823086</td>\n",
       "      <td>0.009841</td>\n",
       "    </tr>\n",
       "    <tr>\n",
       "      <th>126</th>\n",
       "      <td>0.010</td>\n",
       "      <td>60.0</td>\n",
       "      <td>31.0</td>\n",
       "      <td>0.833983</td>\n",
       "      <td>0.836891</td>\n",
       "      <td>0.839805</td>\n",
       "      <td>0.822343</td>\n",
       "      <td>0.008229</td>\n",
       "    </tr>\n",
       "    <tr>\n",
       "      <th>90</th>\n",
       "      <td>0.005</td>\n",
       "      <td>140.0</td>\n",
       "      <td>31.0</td>\n",
       "      <td>0.835914</td>\n",
       "      <td>0.836884</td>\n",
       "      <td>0.843904</td>\n",
       "      <td>0.825984</td>\n",
       "      <td>0.007690</td>\n",
       "    </tr>\n",
       "  </tbody>\n",
       "</table>\n",
       "</div>"
      ],
      "text/plain": [
       "     learning_rate_  n_estimators_  num_leaves_  acc_mean_mean  \\\n",
       "156           0.010          160.0         31.0       0.838243   \n",
       "174           0.010          220.0         31.0       0.837306   \n",
       "168           0.010          200.0         31.0       0.837404   \n",
       "150           0.010          140.0         31.0       0.837301   \n",
       "192           0.050           80.0         31.0       0.836101   \n",
       "144           0.010          120.0         31.0       0.836788   \n",
       "102           0.005          180.0         31.0       0.837016   \n",
       "186           0.050           60.0         31.0       0.835974   \n",
       "126           0.010           60.0         31.0       0.833983   \n",
       "90            0.005          140.0         31.0       0.835914   \n",
       "\n",
       "     acc_mean_median  acc_mean_max  acc_mean_min  acc_mean_std  \n",
       "156         0.840179      0.844552      0.828060      0.007927  \n",
       "174         0.839749      0.844284      0.825442      0.008488  \n",
       "168         0.839112      0.844834      0.826557      0.008112  \n",
       "150         0.838347      0.844791      0.827719      0.007746  \n",
       "192         0.838071      0.846214      0.822048      0.010131  \n",
       "144         0.837447      0.846524      0.825736      0.008998  \n",
       "102         0.837130      0.848256      0.825550      0.010102  \n",
       "186         0.836974      0.846862      0.823086      0.009841  \n",
       "126         0.836891      0.839805      0.822343      0.008229  \n",
       "90          0.836884      0.843904      0.825984      0.007690  "
      ]
     },
     "execution_count": 286,
     "metadata": {},
     "output_type": "execute_result"
    }
   ],
   "source": [
    "topx.head(ntop)"
   ]
  },
  {
   "cell_type": "code",
   "execution_count": 287,
   "metadata": {},
   "outputs": [
    {
     "data": {
      "text/plain": [
       "0.010    6\n",
       "0.050    2\n",
       "0.005    2\n",
       "Name: learning_rate_, dtype: int64"
      ]
     },
     "execution_count": 287,
     "metadata": {},
     "output_type": "execute_result"
    }
   ],
   "source": [
    "topx['learning_rate_'].value_counts()"
   ]
  },
  {
   "cell_type": "code",
   "execution_count": 288,
   "metadata": {},
   "outputs": [
    {
     "data": {
      "text/plain": [
       "60.0     2\n",
       "140.0    2\n",
       "180.0    1\n",
       "120.0    1\n",
       "80.0     1\n",
       "200.0    1\n",
       "220.0    1\n",
       "160.0    1\n",
       "Name: n_estimators_, dtype: int64"
      ]
     },
     "execution_count": 288,
     "metadata": {},
     "output_type": "execute_result"
    }
   ],
   "source": [
    "topx['n_estimators_'].value_counts()"
   ]
  },
  {
   "cell_type": "code",
   "execution_count": null,
   "metadata": {},
   "outputs": [],
   "source": []
  },
  {
   "cell_type": "code",
   "execution_count": null,
   "metadata": {},
   "outputs": [],
   "source": []
  }
 ],
 "metadata": {
  "kernelspec": {
   "display_name": "Python 3",
   "language": "python",
   "name": "python3"
  },
  "language_info": {
   "codemirror_mode": {
    "name": "ipython",
    "version": 3
   },
   "file_extension": ".py",
   "mimetype": "text/x-python",
   "name": "python",
   "nbconvert_exporter": "python",
   "pygments_lexer": "ipython3",
   "version": "3.7.6"
  }
 },
 "nbformat": 4,
 "nbformat_minor": 4
}
