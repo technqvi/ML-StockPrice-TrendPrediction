{
 "cells": [
  {
   "cell_type": "code",
   "execution_count": 3,
   "metadata": {},
   "outputs": [],
   "source": [
    "import numpy as np\n",
    "import pandas as pd\n",
    "\n",
    "\n",
    "from sklearn import preprocessing\n",
    "from datetime import datetime\n",
    "\n",
    "import pickle\n",
    "import joblib\n",
    "\n",
    "\n",
    "import os\n",
    "import sys \n",
    "\n",
    "import pyodbc\n",
    "\n",
    "from datetime  import datetime"
   ]
  },
  {
   "cell_type": "markdown",
   "metadata": {},
   "source": [
    "# Log Error  "
   ]
  },
  {
   "cell_type": "code",
   "execution_count": 4,
   "metadata": {},
   "outputs": [],
   "source": [
    "def WriteLogError(error):\n",
    "        f = open('ml_error.csv', 'a')\n",
    "        error_str=f'{datetime.now().strftime(\"%d/%m/%Y %H:%M:%S\")}|{repr(error)}\\n'\n",
    "        f.write(error_str)\n",
    "        f.close()\n",
    "        print(error_str) \n",
    "        raise error"
   ]
  },
  {
   "cell_type": "markdown",
   "metadata": {},
   "source": [
    "# Check the most critical variables"
   ]
  },
  {
   "cell_type": "code",
   "execution_count": 8,
   "metadata": {},
   "outputs": [
    {
     "name": "stdout",
     "output_type": "stream",
     "text": [
      "StrategyTrade=Short\n",
      "FullFeatures=False\n",
      "Predict one item=True\n"
     ]
    }
   ],
   "source": [
    "x_date=datetime(2020,10,20,10,45,0)\n",
    "#x_date=datetime.now()\n",
    "\n",
    "\n",
    "isRunByscheduling=False\n",
    "isSavedDB=True\n",
    "\n",
    "#CONSTANT VARIABLE\n",
    "predictionColName=\"Signal\"\n",
    "\n",
    "strategyName= 'short'  # Short or Long\n",
    "strategyName=strategyName.title()\n",
    "\n",
    "onlyLastRecord=True\n",
    "isFullFeatures=False\n",
    "\n",
    "\n",
    "if isRunByscheduling :\n",
    " n = len(sys.argv) \n",
    " print(\"Total arguments passed:\", n) \n",
    "\n",
    " try:\n",
    "\n",
    "  if n==4:\n",
    "    #sys.argv[0]= program file .py\n",
    "    strategyName= sys.argv[1].title()\n",
    "    isFullFeatures=bool(sys.argv[2])\n",
    "    onlyLastRecord=bool(sys.argv[3])\n",
    "  else  :\n",
    "    raise Exception(\"you must specify the strategyName parameter either of long or short\") \n",
    " except Exception as error:\n",
    "    WriteLogError(error) \n",
    "\n",
    "print(f\"StrategyTrade={strategyName}\")\n",
    "print(f\"FullFeatures={isFullFeatures}\")\n",
    "print(f\"Predict one item={onlyLastRecord}\")"
   ]
  },
  {
   "cell_type": "markdown",
   "metadata": {},
   "source": [
    "# Set all Path Files"
   ]
  },
  {
   "cell_type": "code",
   "execution_count": 392,
   "metadata": {},
   "outputs": [
    {
     "data": {
      "text/plain": [
       "True"
      ]
     },
     "execution_count": 392,
     "metadata": {},
     "output_type": "execute_result"
    }
   ],
   "source": [
    "root_path=os.path.abspath(r'D:\\InvestmentSystem\\XAlfa\\ML-Project\\PredictMLScript\\PredictML-Script_V2')\n",
    "script_path=root_path+'\\\\AB_Script'\n",
    "datat_path=root_path+'\\\\NewData'\n",
    "\n",
    "holiday_path=os.path.abspath(r'{}\\ChkHolidayForYear.csv'.format(script_path))\n",
    "ml_file_path=os.path.abspath(r'{}\\NewData'.format(root_path))\n",
    "model_path=os.path.abspath(r'{}\\Models'.format(root_path))\n",
    "result_path=os.path.abspath(r'{}\\PredictionResult'.format(root_path))\n",
    "\n",
    "selectedFeat_path=os.path.abspath(r'{}\\xgb_s50f15m_featSelect.xlsx'.format(root_path))\n",
    "\n",
    "os.path.exists(selectedFeat_path)\n"
   ]
  },
  {
   "cell_type": "code",
   "execution_count": 393,
   "metadata": {},
   "outputs": [
    {
     "name": "stdout",
     "output_type": "stream",
     "text": [
      "D:\\InvestmentSystem\\XAlfa\\ML-Project\\PredictMLScript\\PredictML-Script_V2\\NewData\\Short_S50M15_ListFeatures.csv\n"
     ]
    }
   ],
   "source": [
    "\n",
    "if onlyLastRecord:\n",
    "  #Live Run with last one data\n",
    "  abfeatures_file=f'{strategyName}_S50M15_ListFeatures.csv'\n",
    "else:\n",
    "  #Live Run with last n-bar data\n",
    "  abfeatures_file=f'BackFill_S50M15_ListFeatures_{strategyName}.csv'\n",
    "\n",
    "ml_file_path=f'{ml_file_path}\\\\{abfeatures_file}'\n",
    "print(ml_file_path)\n"
   ]
  },
  {
   "cell_type": "markdown",
   "metadata": {},
   "source": [
    "# Set Model File Path and Feturess (if selectFeature)"
   ]
  },
  {
   "cell_type": "code",
   "execution_count": 394,
   "metadata": {},
   "outputs": [],
   "source": [
    "if strategyName=='Long':\n",
    " sheet_name_feat=\"long_xgb\"\n",
    " modelfile=f'{model_path}\\\\long_S50M15_XGB-80x8x01_01-2007t12-2020_selectFeat_b111020_2226.pickle.dat'\n",
    "else:\n",
    " sheet_name_feat=\"short_xgb\"   \n",
    " modelfile=f'{model_path}\\\\short_S50M15_XGB-160x8x005_01-2007t12-2020_selectFeat_b111020_2228.pickle.dat'\n",
    "\n",
    "trade_symbol=f'{strategyName}_S50IF_V2' \n",
    "#os.path.exists(modelfile)"
   ]
  },
  {
   "cell_type": "markdown",
   "metadata": {},
   "source": [
    "# Function For Check Market Time"
   ]
  },
  {
   "cell_type": "code",
   "execution_count": 395,
   "metadata": {},
   "outputs": [],
   "source": [
    "def CheckValidPath(path):\n",
    "        if os.path.exists(path):\n",
    "            return True\n",
    "        else:\n",
    "            raise Exception(f'Invalid path: {path}') "
   ]
  },
  {
   "cell_type": "code",
   "execution_count": 396,
   "metadata": {},
   "outputs": [],
   "source": [
    "# 10:01 is before the first triger in the morning  at 10:02  for first bar at 10:00\n",
    "# 12:26 is after the last trigter in the morning at 12:17 for first bar at 12:15\n",
    "\n",
    "# 14:31 is before the first triger after noon  at 14:32  for first bar at 14:30\n",
    "# 16:56 is after the last trigter after noon at 16:47 for first bar at 16:45\n",
    "\n",
    "def CheckMarketTime(current_time):\n",
    "  # check time 10:00-17:00\n",
    "  isTradeTime_morning=current_time.strftime('%H:%M:%S')>='10:01:00' and current_time.strftime('%H:%M:%S')<='12:36:00' \n",
    "  isTradeTime_noon=current_time.strftime('%H:%M:%S')>='14:31:00' and current_time.strftime('%H:%M:%S')<='17:06:00' \n",
    "  \n",
    "  return  isTradeTime_morning or isTradeTime_noon\n",
    "    "
   ]
  },
  {
   "cell_type": "code",
   "execution_count": 397,
   "metadata": {},
   "outputs": [],
   "source": [
    "def CheckMarketDay(current_time):\n",
    "   w_no= int(current_time.strftime('%w'))\n",
    "   if w_no>=1 and w_no<=5 :\n",
    "      return True\n",
    "   else :\n",
    "      return False"
   ]
  },
  {
   "cell_type": "code",
   "execution_count": 398,
   "metadata": {},
   "outputs": [],
   "source": [
    "def CheckNotHoliday(df_holiday,current_time):\n",
    "\n",
    " holiday_today=current_time.strftime('%Y%m%d')\n",
    "\n",
    " df_holiday[0]= current_time.strftime('%Y')+df_holiday[0]\n",
    " #print(df_holiday)\n",
    "\n",
    " if holiday_today not in df_holiday[0].tolist():\n",
    "  return True\n",
    " else:\n",
    "  return False\n",
    "    "
   ]
  },
  {
   "cell_type": "markdown",
   "metadata": {},
   "source": [
    "# Check Trading Time&Date"
   ]
  },
  {
   "cell_type": "code",
   "execution_count": 399,
   "metadata": {},
   "outputs": [
    {
     "name": "stdout",
     "output_type": "stream",
     "text": [
      "Current time\n",
      "20/10/2020\n",
      "10:45:00\n",
      "===========check trade time&day===========\n",
      "IsMarkerTime =  True\n",
      "IsMarketDay =  True\n",
      "IsNotholiday =  True\n",
      "#######################################################\n",
      "Let 's go ,it is time to make the large amount of profit\n"
     ]
    }
   ],
   "source": [
    "\n",
    "print(\"Current time\")\n",
    "print(x_date.strftime('%d/%m/%Y'))\n",
    "print(x_date.strftime('%H:%M:%S'))\n",
    "#print(x_today)\n",
    "\n",
    "print(\"===========check trade time&day===========\")\n",
    "\n",
    "IsMarketTime=CheckMarketTime(x_date)\n",
    "print('IsMarkerTime = ',CheckMarketTime(x_date))\n",
    "\n",
    "IsMarketDay=CheckMarketDay(x_date)\n",
    "print('IsMarketDay = ',CheckMarketDay(x_date))\n",
    "\n",
    "\n",
    "try:\n",
    " df_holiday =pd.read_csv(holiday_path,header =  None,dtype=object)\n",
    "\n",
    " IsNotHoliday=CheckNotHoliday(df_holiday ,x_date)\n",
    " print('IsNotholiday = ',IsNotHoliday)\n",
    "\n",
    "\n",
    " IsTradable=IsMarketTime and  IsMarketDay and  IsNotHoliday\n",
    " if not IsTradable:\n",
    "   sys.exit((\"It is not trading time\")) \n",
    "\n",
    "\n",
    " print(\"#######################################################\")\n",
    " print(\"Let 's go ,it is time to make the large amount of profit\")\n",
    "\n",
    "except Exception as error:\n",
    " WriteLogError(error) \n",
    "    "
   ]
  },
  {
   "cell_type": "markdown",
   "metadata": {},
   "source": [
    "# Check all Path Files"
   ]
  },
  {
   "cell_type": "code",
   "execution_count": 400,
   "metadata": {},
   "outputs": [
    {
     "name": "stdout",
     "output_type": "stream",
     "text": [
      "model: D:\\InvestmentSystem\\XAlfa\\ML-Project\\PredictMLScript\\PredictML-Script_V2\\Models\\short_S50M15_XGB-160x8x005_01-2007t12-2020_selectFeat_b111020_2228.pickle.dat\n",
      "new data: D:\\InvestmentSystem\\XAlfa\\ML-Project\\PredictMLScript\\PredictML-Script_V2\\NewData\\Short_S50M15_ListFeatures.csv\n",
      "holiday:  D:\\InvestmentSystem\\XAlfa\\ML-Project\\PredictMLScript\\PredictML-Script_V2\\AB_Script\\ChkHolidayForYear.csv\n",
      "result:  D:\\InvestmentSystem\\XAlfa\\ML-Project\\PredictMLScript\\PredictML-Script_V2\\PredictionResult\\Short_Signal_PredictResult_201020-2322.csv\n"
     ]
    }
   ],
   "source": [
    "predict_time=datetime.now().strftime('%d%m%y-%H%M')\n",
    "prediction_file=f'{strategyName}_{predictionColName}_PredictResult_{predict_time}.csv'\n",
    "\n",
    "\n",
    "path_prediction=f'{result_path}\\\\{prediction_file}'\n",
    "\n",
    "print('model:' ,modelfile)\n",
    "print('new data:',ml_file_path)\n",
    "print('holiday: ',holiday_path)\n",
    "print('result: ',path_prediction)\n",
    "\n",
    "                                                                              \n",
    "                                                                                    "
   ]
  },
  {
   "cell_type": "code",
   "execution_count": 401,
   "metadata": {},
   "outputs": [
    {
     "name": "stdout",
     "output_type": "stream",
     "text": [
      "Model File=  D:\\InvestmentSystem\\XAlfa\\ML-Project\\PredictMLScript\\PredictML-Script_V2\\Models\\short_S50M15_XGB-160x8x005_01-2007t12-2020_selectFeat_b111020_2228.pickle.dat\n",
      "New Data&Features Path=  D:\\InvestmentSystem\\XAlfa\\ML-Project\\PredictMLScript\\PredictML-Script_V2\\NewData\\Short_S50M15_ListFeatures.csv\n",
      "Holiday Path=  D:\\InvestmentSystem\\XAlfa\\ML-Project\\PredictMLScript\\PredictML-Script_V2\\AB_Script\\ChkHolidayForYear.csv\n"
     ]
    }
   ],
   "source": [
    "try:\n",
    "    if CheckValidPath(modelfile) and CheckValidPath(ml_file_path)  and CheckValidPath(holiday_path)  :\n",
    "       print(\"Model File= \",modelfile)\n",
    "       print(\"New Data&Features Path= \",ml_file_path)\n",
    "       print(\"Holiday Path= \",holiday_path)\n",
    "     \n",
    "except Exception as error:\n",
    "       WriteLogError(error)  "
   ]
  },
  {
   "cell_type": "markdown",
   "metadata": {},
   "source": [
    "# 1.Load unseen data file to predict by model"
   ]
  },
  {
   "cell_type": "code",
   "execution_count": 402,
   "metadata": {},
   "outputs": [
    {
     "name": "stdout",
     "output_type": "stream",
     "text": [
      "1-Load unseen data file from D:\\InvestmentSystem\\XAlfa\\ML-Project\\PredictMLScript\\PredictML-Script_V2\\NewData\\Short_S50M15_ListFeatures.csv  succeeded.\n",
      "<class 'pandas.core.frame.DataFrame'>\n",
      "RangeIndex: 23 entries, 0 to 22\n",
      "Data columns (total 23 columns):\n",
      " #   Column                  Non-Null Count  Dtype  \n",
      "---  ------                  --------------  -----  \n",
      " 0   Ticker                  23 non-null     object \n",
      " 1   Date/Time               23 non-null     object \n",
      " 2   open                    23 non-null     float64\n",
      " 3   high                    23 non-null     float64\n",
      " 4   low                     23 non-null     float64\n",
      " 5   close                   23 non-null     float64\n",
      " 6   indy_ma-220             23 non-null     float64\n",
      " 7   indy_ma-550             23 non-null     float64\n",
      " 8   indy_hh-220             23 non-null     float64\n",
      " 9   indy_ll-220             23 non-null     float64\n",
      " 10  indy_mid-220            23 non-null     float64\n",
      " 11  indy_hh2-550            23 non-null     float64\n",
      " 12  indy_ll2-550            23 non-null     float64\n",
      " 13  indy_mid2-550           23 non-null     float64\n",
      " 14  indy_macd110-440        23 non-null     float64\n",
      " 15  indy_signal110-440-110  23 non-null     float64\n",
      " 16  indy_hist_macd110-440   23 non-null     float64\n",
      " 17  indy_rsi25-ma20         23 non-null     float64\n",
      " 18  indy_6ATRTrail_DC-110   23 non-null     float64\n",
      " 19  cate_3trend-220_ma110   23 non-null     int64  \n",
      " 20  cate_2trend-550_ma110   23 non-null     int64  \n",
      " 21  cate_rannkHL550-ma66    23 non-null     int64  \n",
      " 22  cate_CombineTrend       23 non-null     int64  \n",
      "dtypes: float64(17), int64(4), object(2)\n",
      "memory usage: 4.3+ KB\n",
      "None\n"
     ]
    }
   ],
   "source": [
    "\n",
    "try:\n",
    "    dataset =pd.read_csv(ml_file_path)\n",
    "    \n",
    "    #For one record\n",
    "    #if onlyLastRecord==True:\n",
    "     #dataset =dataset.tail(1)\n",
    "    \n",
    "    if dataset.shape[0]>0:\n",
    "        print(f'1-Load unseen data file from {ml_file_path}  succeeded.')\n",
    "        dataset['Ticker']=trade_symbol\n",
    "    else:\n",
    "        raise Exception(f'No feature row  in dataframe from file,please check Amibroker Exploration')    \n",
    "    \n",
    "except Exception as error_x:\n",
    "        WriteLogError(f'{error_x} {ml_file_path}')\n",
    "\n",
    "\n",
    "print(dataset.info())\n"
   ]
  },
  {
   "cell_type": "code",
   "execution_count": 403,
   "metadata": {},
   "outputs": [],
   "source": [
    "#dataset.tail(10)"
   ]
  },
  {
   "cell_type": "markdown",
   "metadata": {},
   "source": [
    "# 2.Create dataframe succeeded and select features"
   ]
  },
  {
   "cell_type": "code",
   "execution_count": 404,
   "metadata": {},
   "outputs": [],
   "source": [
    "# create OHLC df\n",
    "noFeature_col=['Ticker','Date/Time' ,'open','high','low','close']\n",
    "dfx_ohlc=dataset[noFeature_col]\n"
   ]
  },
  {
   "cell_type": "code",
   "execution_count": 405,
   "metadata": {},
   "outputs": [
    {
     "name": "stdout",
     "output_type": "stream",
     "text": [
      "predict with selective features\n",
      "<class 'pandas.core.frame.DataFrame'>\n",
      "RangeIndex: 23 entries, 0 to 22\n",
      "Data columns (total 8 columns):\n",
      " #   Column                 Non-Null Count  Dtype  \n",
      "---  ------                 --------------  -----  \n",
      " 0   indy_ma-550            23 non-null     float64\n",
      " 1   indy_hh-220            23 non-null     float64\n",
      " 2   indy_ma-220            23 non-null     float64\n",
      " 3   cate_CombineTrend      23 non-null     int64  \n",
      " 4   cate_rannkHL550-ma66   23 non-null     int64  \n",
      " 5   indy_hh2-550           23 non-null     float64\n",
      " 6   indy_ll2-550           23 non-null     float64\n",
      " 7   cate_2trend-550_ma110  23 non-null     int64  \n",
      "dtypes: float64(5), int64(3)\n",
      "memory usage: 1.6 KB\n",
      "None\n",
      "2-Create dataframe succeeded.\n"
     ]
    }
   ],
   "source": [
    "if  isFullFeatures==True:\n",
    "    dfx_feature=dataset.drop(columns=noFeature_col)\n",
    "    print(\"predict with all features\")\n",
    "else:\n",
    "\n",
    "    feat_df=pd.read_excel(selectedFeat_path,header=None,engine='openpyxl',sheet_name=sheet_name_feat)\n",
    "    select_feat=feat_df.loc[:,0].tolist()\n",
    "    dfx_feature=dataset[select_feat]\n",
    "    \n",
    "    print(\"predict with selective features\")\n",
    "\n",
    "print(dfx_feature.info())\n",
    "    \n",
    "print('2-Create dataframe succeeded.')"
   ]
  },
  {
   "cell_type": "code",
   "execution_count": 406,
   "metadata": {},
   "outputs": [
    {
     "name": "stdout",
     "output_type": "stream",
     "text": [
      "            Ticker            Date/Time   open   high    low  close\n",
      "18  Short_S50IF_V2  20/10/2020 15:45:00  759.9  761.5  758.7  759.3\n",
      "19  Short_S50IF_V2  20/10/2020 16:00:00  759.4  759.6  757.3  758.6\n",
      "20  Short_S50IF_V2  20/10/2020 16:15:00  758.7  760.2  758.6  759.8\n",
      "21  Short_S50IF_V2  20/10/2020 16:30:00  759.7  760.0  758.8  758.9\n",
      "22  Short_S50IF_V2  20/10/2020 16:45:00  759.1  759.2  758.9  759.0\n"
     ]
    }
   ],
   "source": [
    "print(dfx_ohlc.tail(5))"
   ]
  },
  {
   "cell_type": "code",
   "execution_count": 407,
   "metadata": {},
   "outputs": [
    {
     "name": "stdout",
     "output_type": "stream",
     "text": [
      "    indy_ma-550  indy_hh-220  indy_ma-220  cate_CombineTrend  \\\n",
      "18         1.05         1.07         1.03                  2   \n",
      "19         1.05         1.07         1.03                  2   \n",
      "20         1.05         1.06         1.03                  2   \n",
      "21         1.05         1.07         1.03                  2   \n",
      "22         1.05         1.07         1.03                  2   \n",
      "\n",
      "    cate_rannkHL550-ma66  indy_hh2-550  indy_ll2-550  cate_2trend-550_ma110  \n",
      "18                     3          1.10          0.99                      0  \n",
      "19                     3          1.10          0.99                      0  \n",
      "20                     3          1.09          0.99                      0  \n",
      "21                     3          1.10          0.99                      0  \n",
      "22                     3          1.10          0.99                      0  \n"
     ]
    }
   ],
   "source": [
    "print(dfx_feature.tail(5))"
   ]
  },
  {
   "cell_type": "markdown",
   "metadata": {},
   "source": [
    "# 3.Create numpy array as input for model"
   ]
  },
  {
   "cell_type": "code",
   "execution_count": 408,
   "metadata": {},
   "outputs": [
    {
     "name": "stdout",
     "output_type": "stream",
     "text": [
      "[[1.05 1.07 1.04 1.   2.   1.1  1.   0.  ]\n",
      " [1.04 1.06 1.03 1.   2.   1.09 0.99 0.  ]\n",
      " [1.05 1.06 1.03 1.   2.   1.09 0.99 0.  ]\n",
      " [1.05 1.06 1.04 1.   2.   1.09 0.99 0.  ]\n",
      " [1.05 1.07 1.04 1.   2.   1.1  1.   0.  ]]\n",
      "3-Create numpy array succeeded.\n"
     ]
    }
   ],
   "source": [
    "X_new=dfx_feature.values\n",
    "print(X_new[:5,:])\n",
    "print('3-Create numpy array succeeded.')\n"
   ]
  },
  {
   "cell_type": "markdown",
   "metadata": {},
   "source": [
    "# 4.Load model file as strategy for prediction"
   ]
  },
  {
   "cell_type": "code",
   "execution_count": 409,
   "metadata": {},
   "outputs": [
    {
     "name": "stdout",
     "output_type": "stream",
     "text": [
      "4-Loaded model from: D:\\InvestmentSystem\\XAlfa\\ML-Project\\PredictMLScript\\PredictML-Script_V2\\Models\\short_S50M15_XGB-160x8x005_01-2007t12-2020_selectFeat_b111020_2228.pickle.dat succeeded\n"
     ]
    }
   ],
   "source": [
    " try:  \n",
    "   loaded_model = joblib.load(modelfile)\n",
    "  \n",
    "   #loaded_model =  pickle.load(open(modelfile, \"rb\"))\n",
    "  \n",
    "   print(f\"4-Loaded model from: {modelfile} succeeded\")\n",
    " except Exception as error:\n",
    "   WriteLogError(f'cannot load file {modelfile} {error}')  "
   ]
  },
  {
   "cell_type": "markdown",
   "metadata": {},
   "source": [
    "# 5.Predict unseen feature data"
   ]
  },
  {
   "cell_type": "code",
   "execution_count": 410,
   "metadata": {},
   "outputs": [
    {
     "name": "stdout",
     "output_type": "stream",
     "text": [
      "Predict Signal :  [1, 1, 1, 1, 1, 1, 1, 1, 1, 1, 1, 1, 1, 1, 1, 1, 1, 1, 1, 1, 1, 1, 1]\n"
     ]
    }
   ],
   "source": [
    "yPredited = loaded_model.predict(X_new)\n",
    "predictions = [round(value) for value in yPredited]\n",
    "\n",
    "print(\"Predict Signal : \",predictions)\n"
   ]
  },
  {
   "cell_type": "code",
   "execution_count": 411,
   "metadata": {},
   "outputs": [
    {
     "name": "stdout",
     "output_type": "stream",
     "text": [
      "           Ticker            Date/Time   open   high    low  close\n",
      "0  Short_S50IF_V2   20/10/2020 9:45:00  760.2  761.2  755.5  758.4\n",
      "1  Short_S50IF_V2  20/10/2020 10:00:00  758.5  764.8  758.4  763.8\n",
      "2  Short_S50IF_V2  20/10/2020 10:15:00  764.0  764.3  761.3  761.5\n",
      "3  Short_S50IF_V2  20/10/2020 10:30:00  761.6  762.4  759.8  760.0\n",
      "4  Short_S50IF_V2  20/10/2020 10:45:00  760.1  760.2  756.4  757.3\n",
      "   Signal\n",
      "0       1\n",
      "1       1\n",
      "2       1\n",
      "3       1\n",
      "4       1\n"
     ]
    }
   ],
   "source": [
    "prediction_df=pd.DataFrame(data= {predictionColName: predictions })\n",
    "print(dfx_ohlc.head(5))\n",
    "print(prediction_df.head(5))\n"
   ]
  },
  {
   "cell_type": "code",
   "execution_count": 412,
   "metadata": {},
   "outputs": [
    {
     "name": "stdout",
     "output_type": "stream",
     "text": [
      "            Ticker            Date/Time   open   high    low  close  Signal\n",
      "0   Short_S50IF_V2   20/10/2020 9:45:00  760.2  761.2  755.5  758.4       1\n",
      "1   Short_S50IF_V2  20/10/2020 10:00:00  758.5  764.8  758.4  763.8       1\n",
      "2   Short_S50IF_V2  20/10/2020 10:15:00  764.0  764.3  761.3  761.5       1\n",
      "3   Short_S50IF_V2  20/10/2020 10:30:00  761.6  762.4  759.8  760.0       1\n",
      "4   Short_S50IF_V2  20/10/2020 10:45:00  760.1  760.2  756.4  757.3       1\n",
      "5   Short_S50IF_V2  20/10/2020 11:00:00  757.4  759.9  757.2  759.0       1\n",
      "6   Short_S50IF_V2  20/10/2020 11:15:00  759.1  759.2  754.6  755.0       1\n",
      "7   Short_S50IF_V2  20/10/2020 11:30:00  755.1  758.0  753.8  756.9       1\n",
      "8   Short_S50IF_V2  20/10/2020 11:45:00  757.0  757.2  754.5  754.9       1\n",
      "9   Short_S50IF_V2  20/10/2020 12:00:00  754.7  756.7  754.3  755.8       1\n",
      "10  Short_S50IF_V2  20/10/2020 12:15:00  755.9  756.6  755.4  755.8       1\n",
      "11  Short_S50IF_V2  20/10/2020 12:30:00  755.7  755.9  755.6  755.9       1\n",
      "12  Short_S50IF_V2  20/10/2020 14:15:00  757.7  757.7  755.5  756.7       1\n",
      "13  Short_S50IF_V2  20/10/2020 14:30:00  756.5  760.3  755.6  759.5       1\n",
      "14  Short_S50IF_V2  20/10/2020 14:45:00  759.6  760.0  757.2  758.2       1\n",
      "15  Short_S50IF_V2  20/10/2020 15:00:00  758.3  760.9  758.1  759.3       1\n",
      "16  Short_S50IF_V2  20/10/2020 15:15:00  759.2  760.3  758.7  758.9       1\n",
      "17  Short_S50IF_V2  20/10/2020 15:30:00  758.8  760.7  758.8  759.8       1\n",
      "18  Short_S50IF_V2  20/10/2020 15:45:00  759.9  761.5  758.7  759.3       1\n",
      "19  Short_S50IF_V2  20/10/2020 16:00:00  759.4  759.6  757.3  758.6       1\n",
      "20  Short_S50IF_V2  20/10/2020 16:15:00  758.7  760.2  758.6  759.8       1\n",
      "21  Short_S50IF_V2  20/10/2020 16:30:00  759.7  760.0  758.8  758.9       1\n",
      "22  Short_S50IF_V2  20/10/2020 16:45:00  759.1  759.2  758.9  759.0       1\n",
      "5-Predict new data succeeded.\n"
     ]
    }
   ],
   "source": [
    "df_result=pd.concat([dfx_ohlc,prediction_df],axis=1)\n",
    "print(df_result.head(5))\n",
    "print('5-Predict new data succeeded.')"
   ]
  },
  {
   "cell_type": "code",
   "execution_count": 413,
   "metadata": {},
   "outputs": [
    {
     "name": "stdout",
     "output_type": "stream",
     "text": [
      "Sample Predict result\n",
      "=======================================================================\n",
      "           Ticker            Date/Time   open   high    low  close  Signal\n",
      "0  Short_S50IF_V2   20/10/2020 9:45:00  760.2  761.2  755.5  758.4       1\n",
      "1  Short_S50IF_V2  20/10/2020 10:00:00  758.5  764.8  758.4  763.8       1\n",
      "2  Short_S50IF_V2  20/10/2020 10:15:00  764.0  764.3  761.3  761.5       1\n",
      "3  Short_S50IF_V2  20/10/2020 10:30:00  761.6  762.4  759.8  760.0       1\n",
      "4  Short_S50IF_V2  20/10/2020 10:45:00  760.1  760.2  756.4  757.3       1\n"
     ]
    }
   ],
   "source": [
    "print(\"Sample Predict result\")\n",
    "print(\"=======================================================================\")\n",
    "print(df_result[:5])"
   ]
  },
  {
   "cell_type": "markdown",
   "metadata": {},
   "source": [
    "# 6.1 Save To CSV"
   ]
  },
  {
   "cell_type": "code",
   "execution_count": 384,
   "metadata": {},
   "outputs": [],
   "source": [
    "if isSavedDB==False:\n",
    " #df_result.drop(columns=['Ticker'],inplace=True)\n",
    " df_result.to_csv(path_prediction,index=False)\n",
    " print('6-Save predction result to csv succeeded.')\n"
   ]
  },
  {
   "cell_type": "markdown",
   "metadata": {},
   "source": [
    "# 6.2 Save To DB (check database server and database name)"
   ]
  },
  {
   "cell_type": "code",
   "execution_count": 385,
   "metadata": {},
   "outputs": [
    {
     "name": "stdout",
     "output_type": "stream",
     "text": [
      "6-Save predction result to database succeeded.\n"
     ]
    }
   ],
   "source": [
    "try:\n",
    " if isSavedDB==True:\n",
    "  conn = pyodbc.connect('Driver={SQL Server};'\n",
    "                       'Server=localhost;'\n",
    "                       'Database=Tfex_AB_ML;'\n",
    "                       'Trusted_Connection=yes;')\n",
    "\n",
    "  cursor=conn.cursor()\n",
    "\n",
    "  for index,row in df_result.iterrows():\n",
    "      #print(datetime.strptime(row[\"Date/Time\"],'%d/%m/%Y %H:%M:%S'))\n",
    "      #print(row[\"Ticker\"],row[\"Date/Time\"])\n",
    "      sqlcmd=\"INSERT INTO S50F_ML ([SYMBOL],[xDATE],[xOPEN],[xHIGH],[xLOW],[xCLOSE],[xVolume],[Signal],[UpdateTime]) VALUES(?,?,?,?,?,?,?,?,?)\"\n",
    "      cursor.execute(sqlcmd,row[\"Ticker\"],datetime.strptime(row[\"Date/Time\"],'%d/%m/%Y %H:%M:%S'),row[\"open\"],row[\"high\"],row[\"low\"],row[\"close\"],0,row[predictionColName],datetime.now())\n",
    "      conn.commit()\n",
    "    \n",
    "  cursor.commit()\n",
    "  cursor.close()\n",
    "  conn.close()\n",
    "  print('6-Save predction result to database succeeded.')\n",
    " #=================================================================\n",
    "except Exception as error :\n",
    "  WriteLogError(error)  "
   ]
  },
  {
   "cell_type": "code",
   "execution_count": null,
   "metadata": {},
   "outputs": [],
   "source": []
  },
  {
   "cell_type": "code",
   "execution_count": null,
   "metadata": {},
   "outputs": [],
   "source": []
  }
 ],
 "metadata": {
  "anaconda-cloud": {},
  "kernelspec": {
   "display_name": "Python 3",
   "language": "python",
   "name": "python3"
  },
  "language_info": {
   "codemirror_mode": {
    "name": "ipython",
    "version": 3
   },
   "file_extension": ".py",
   "mimetype": "text/x-python",
   "name": "python",
   "nbconvert_exporter": "python",
   "pygments_lexer": "ipython3",
   "version": "3.8.5"
  }
 },
 "nbformat": 4,
 "nbformat_minor": 4
}
