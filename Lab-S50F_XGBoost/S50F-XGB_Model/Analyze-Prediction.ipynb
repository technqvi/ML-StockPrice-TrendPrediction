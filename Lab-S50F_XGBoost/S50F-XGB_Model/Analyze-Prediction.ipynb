{
 "cells": [
  {
   "cell_type": "code",
   "execution_count": 84,
   "metadata": {},
   "outputs": [],
   "source": [
    "import numpy as np\n",
    "import pandas as pd\n",
    "\n",
    "import joblib\n",
    "import os\n",
    "\n",
    "from datetime  import datetime"
   ]
  },
  {
   "cell_type": "code",
   "execution_count": 85,
   "metadata": {},
   "outputs": [],
   "source": [
    "result_path=r'D:\\JupyterCode\\MyDev\\AlgoTradingProject\\ML-S50F\\Lab-S50F_XGBoost\\S50F-XGB_Model\\result-data'\n",
    "result_file='xgb_short_full.csv'\n",
    "\n",
    "path_file=f'{result_path}\\\\{result_file}'\n",
    "#print(os.path.exists(path_file))"
   ]
  },
  {
   "cell_type": "code",
   "execution_count": 86,
   "metadata": {},
   "outputs": [
    {
     "data": {
      "text/plain": [
       "1    2548\n",
       "0    1887\n",
       "Name: Signal, dtype: int64"
      ]
     },
     "execution_count": 86,
     "metadata": {},
     "output_type": "execute_result"
    }
   ],
   "source": [
    "df=pd.read_csv(path_file,index_col='datetime', parse_dates=['datetime'],dayfirst=True)\n",
    "df['Signal'].value_counts()"
   ]
  },
  {
   "cell_type": "code",
   "execution_count": 87,
   "metadata": {},
   "outputs": [
    {
     "name": "stdout",
     "output_type": "stream",
     "text": [
      "<class 'pandas.core.frame.DataFrame'>\n",
      "DatetimeIndex: 2548 entries, 2020-07-01 09:45:00 to 2021-05-06 12:15:00\n",
      "Data columns (total 6 columns):\n",
      " #   Column        Non-Null Count  Dtype  \n",
      "---  ------        --------------  -----  \n",
      " 0   open          2548 non-null   float64\n",
      " 1   high          2548 non-null   float64\n",
      " 2   low           2548 non-null   float64\n",
      " 3   close         2548 non-null   float64\n",
      " 4   Signal        2548 non-null   int64  \n",
      " 5   Prob_Trend_1  2548 non-null   float64\n",
      "dtypes: float64(5), int64(1)\n",
      "memory usage: 139.3 KB\n",
      "None\n"
     ]
    },
    {
     "data": {
      "text/html": [
       "<div>\n",
       "<style scoped>\n",
       "    .dataframe tbody tr th:only-of-type {\n",
       "        vertical-align: middle;\n",
       "    }\n",
       "\n",
       "    .dataframe tbody tr th {\n",
       "        vertical-align: top;\n",
       "    }\n",
       "\n",
       "    .dataframe thead th {\n",
       "        text-align: right;\n",
       "    }\n",
       "</style>\n",
       "<table border=\"1\" class=\"dataframe\">\n",
       "  <thead>\n",
       "    <tr style=\"text-align: right;\">\n",
       "      <th></th>\n",
       "      <th>open</th>\n",
       "      <th>high</th>\n",
       "      <th>low</th>\n",
       "      <th>close</th>\n",
       "      <th>Signal</th>\n",
       "      <th>Prob_Trend_1</th>\n",
       "    </tr>\n",
       "    <tr>\n",
       "      <th>datetime</th>\n",
       "      <th></th>\n",
       "      <th></th>\n",
       "      <th></th>\n",
       "      <th></th>\n",
       "      <th></th>\n",
       "      <th></th>\n",
       "    </tr>\n",
       "  </thead>\n",
       "  <tbody>\n",
       "    <tr>\n",
       "      <th>2021-05-06 11:15:00</th>\n",
       "      <td>934.5</td>\n",
       "      <td>936.8</td>\n",
       "      <td>934.2</td>\n",
       "      <td>936.6</td>\n",
       "      <td>1</td>\n",
       "      <td>66.883540</td>\n",
       "    </tr>\n",
       "    <tr>\n",
       "      <th>2021-05-06 11:30:00</th>\n",
       "      <td>936.7</td>\n",
       "      <td>938.0</td>\n",
       "      <td>935.3</td>\n",
       "      <td>936.5</td>\n",
       "      <td>1</td>\n",
       "      <td>66.883540</td>\n",
       "    </tr>\n",
       "    <tr>\n",
       "      <th>2021-05-06 11:45:00</th>\n",
       "      <td>936.6</td>\n",
       "      <td>937.5</td>\n",
       "      <td>935.5</td>\n",
       "      <td>935.6</td>\n",
       "      <td>1</td>\n",
       "      <td>63.580917</td>\n",
       "    </tr>\n",
       "    <tr>\n",
       "      <th>2021-05-06 12:00:00</th>\n",
       "      <td>935.7</td>\n",
       "      <td>936.9</td>\n",
       "      <td>935.5</td>\n",
       "      <td>936.0</td>\n",
       "      <td>1</td>\n",
       "      <td>62.177322</td>\n",
       "    </tr>\n",
       "    <tr>\n",
       "      <th>2021-05-06 12:15:00</th>\n",
       "      <td>935.9</td>\n",
       "      <td>936.5</td>\n",
       "      <td>934.4</td>\n",
       "      <td>936.4</td>\n",
       "      <td>1</td>\n",
       "      <td>60.177757</td>\n",
       "    </tr>\n",
       "  </tbody>\n",
       "</table>\n",
       "</div>"
      ],
      "text/plain": [
       "                      open   high    low  close  Signal  Prob_Trend_1\n",
       "datetime                                                             \n",
       "2021-05-06 11:15:00  934.5  936.8  934.2  936.6       1     66.883540\n",
       "2021-05-06 11:30:00  936.7  938.0  935.3  936.5       1     66.883540\n",
       "2021-05-06 11:45:00  936.6  937.5  935.5  935.6       1     63.580917\n",
       "2021-05-06 12:00:00  935.7  936.9  935.5  936.0       1     62.177322\n",
       "2021-05-06 12:15:00  935.9  936.5  934.4  936.4       1     60.177757"
      ]
     },
     "execution_count": 87,
     "metadata": {},
     "output_type": "execute_result"
    }
   ],
   "source": [
    "signal1_df=df.query('Signal==1')\n",
    "print(signal1_df.info())\n",
    "signal1_df.tail()"
   ]
  },
  {
   "cell_type": "code",
   "execution_count": 88,
   "metadata": {},
   "outputs": [
    {
     "data": {
      "text/plain": [
       "count    2548.000000\n",
       "mean       89.819051\n",
       "std        13.350001\n",
       "min        50.060127\n",
       "25%        85.076620\n",
       "50%        96.188763\n",
       "75%        99.500500\n",
       "max        99.932840\n",
       "Name: Prob_Trend_1, dtype: float64"
      ]
     },
     "execution_count": 88,
     "metadata": {},
     "output_type": "execute_result"
    }
   ],
   "source": [
    "signal1_df['Prob_Trend_1'].describe()"
   ]
  },
  {
   "cell_type": "code",
   "execution_count": 89,
   "metadata": {},
   "outputs": [
    {
     "data": {
      "text/plain": [
       "<matplotlib.axes._subplots.AxesSubplot at 0x21807319408>"
      ]
     },
     "execution_count": 89,
     "metadata": {},
     "output_type": "execute_result"
    },
    {
     "data": {
      "image/png": "[encoded data removed]",
      "text/plain": [
       "<Figure size 432x288 with 1 Axes>"
      ]
     },
     "metadata": {},
     "output_type": "display_data"
    }
   ],
   "source": [
    "import seaborn as sns\n",
    "\n",
    "sns.set_style('whitegrid')\n",
    "\n",
    "signal1_df['Prob_Trend_1'].plot.hist(title='SignalProb', bins=[50,65,90,100])\n",
    "#signal1_df['Prob_Trend_1'].plot.hist(title='SignalProb', bins=5)"
   ]
  },
  {
   "cell_type": "code",
   "execution_count": 73,
   "metadata": {},
   "outputs": [
    {
     "data": {
      "text/plain": [
       "datetime\n",
       "2020-11-05 15:45:00    (65.045, 70.032]\n",
       "2020-11-05 16:15:00    (65.045, 70.032]\n",
       "2020-11-05 16:30:00    (65.045, 70.032]\n",
       "2020-11-05 16:45:00    (80.005, 84.992]\n",
       "2020-11-06 10:00:00    (65.045, 70.032]\n",
       "                             ...       \n",
       "2021-04-05 15:30:00    (89.979, 94.965]\n",
       "2021-04-05 15:45:00    (80.005, 84.992]\n",
       "2021-04-05 16:00:00    (80.005, 84.992]\n",
       "2021-04-05 16:30:00    (89.979, 94.965]\n",
       "2021-04-05 16:45:00    (89.979, 94.965]\n",
       "Name: Prob_Trend_1, Length: 1315, dtype: category\n",
       "Categories (10, interval[float64]): [(50.036, 55.072] < (55.072, 60.059] < (60.059, 65.045] < (65.045, 70.032] ... (80.005, 84.992] < (84.992, 89.979] < (89.979, 94.965] < (94.965, 99.952]]"
      ]
     },
     "execution_count": 73,
     "metadata": {},
     "output_type": "execute_result"
    }
   ],
   "source": [
    "pd.cut(signal1_df['Prob_Trend_1'], bins=10)"
   ]
  },
  {
   "cell_type": "code",
   "execution_count": null,
   "metadata": {},
   "outputs": [],
   "source": []
  },
  {
   "cell_type": "code",
   "execution_count": null,
   "metadata": {},
   "outputs": [],
   "source": []
  },
  {
   "cell_type": "code",
   "execution_count": null,
   "metadata": {},
   "outputs": [],
   "source": []
  }
 ],
 "metadata": {
  "kernelspec": {
   "display_name": "Python 3",
   "language": "python",
   "name": "python3"
  },
  "language_info": {
   "codemirror_mode": {
    "name": "ipython",
    "version": 3
   },
   "file_extension": ".py",
   "mimetype": "text/x-python",
   "name": "python",
   "nbconvert_exporter": "python",
   "pygments_lexer": "ipython3",
   "version": "3.7.8"
  }
 },
 "nbformat": 4,
 "nbformat_minor": 4
}
