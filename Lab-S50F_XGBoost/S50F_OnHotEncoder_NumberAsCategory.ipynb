{
 "cells": [
  {
   "cell_type": "code",
   "execution_count": 341,
   "metadata": {},
   "outputs": [],
   "source": [
    "# binary classification, breast cancer dataset, label and one hot encoded\n",
    "import numpy as np\n",
    "import pandas as pd\n",
    "from xgboost import XGBClassifier\n",
    "from sklearn.model_selection import train_test_split\n",
    "from sklearn.metrics import accuracy_score\n",
    "from sklearn.preprocessing import LabelEncoder\n",
    "from sklearn.preprocessing import OneHotEncoder\n",
    "\n"
   ]
  },
  {
   "cell_type": "code",
   "execution_count": 342,
   "metadata": {},
   "outputs": [
    {
     "name": "stdout",
     "output_type": "stream",
     "text": [
      "<class 'pandas.core.frame.DataFrame'>\n",
      "DatetimeIndex: 1465 entries, 2014-01-02 09:45:00 to 2019-12-30 09:45:00\n",
      "Data columns (total 18 columns):\n",
      "ma-20             1465 non-null float64\n",
      "ma-50             1465 non-null float64\n",
      "ma-75             1465 non-null float64\n",
      "trend-20          1465 non-null int64\n",
      "trend-50          1465 non-null int64\n",
      "trend-75          1465 non-null int64\n",
      "hh-50             1465 non-null float64\n",
      "ll-50             1465 non-null float64\n",
      "mid50             1465 non-null float64\n",
      "rannkHL50         1465 non-null int64\n",
      "macd5-20          1465 non-null float64\n",
      "signal5-20-5      1465 non-null float64\n",
      "fast_hist5-20     1465 non-null float64\n",
      "rsi-10            1465 non-null float64\n",
      "MACDTrend         1465 non-null int64\n",
      "RsiTrend          1465 non-null int64\n",
      "MACD_RSI_Trend    1465 non-null int64\n",
      "TrendLabel        1465 non-null int64\n",
      "dtypes: float64(10), int64(8)\n",
      "memory usage: 217.5 KB\n",
      "None\n"
     ]
    },
    {
     "data": {
      "text/html": [
       "<div>\n",
       "<style scoped>\n",
       "    .dataframe tbody tr th:only-of-type {\n",
       "        vertical-align: middle;\n",
       "    }\n",
       "\n",
       "    .dataframe tbody tr th {\n",
       "        vertical-align: top;\n",
       "    }\n",
       "\n",
       "    .dataframe thead th {\n",
       "        text-align: right;\n",
       "    }\n",
       "</style>\n",
       "<table border=\"1\" class=\"dataframe\">\n",
       "  <thead>\n",
       "    <tr style=\"text-align: right;\">\n",
       "      <th></th>\n",
       "      <th>ma-20</th>\n",
       "      <th>ma-50</th>\n",
       "      <th>ma-75</th>\n",
       "      <th>trend-20</th>\n",
       "      <th>trend-50</th>\n",
       "      <th>trend-75</th>\n",
       "      <th>hh-50</th>\n",
       "      <th>ll-50</th>\n",
       "      <th>mid50</th>\n",
       "      <th>rannkHL50</th>\n",
       "      <th>macd5-20</th>\n",
       "      <th>signal5-20-5</th>\n",
       "      <th>fast_hist5-20</th>\n",
       "      <th>rsi-10</th>\n",
       "      <th>MACDTrend</th>\n",
       "      <th>RsiTrend</th>\n",
       "      <th>MACD_RSI_Trend</th>\n",
       "      <th>TrendLabel</th>\n",
       "    </tr>\n",
       "    <tr>\n",
       "      <th>datetime</th>\n",
       "      <th></th>\n",
       "      <th></th>\n",
       "      <th></th>\n",
       "      <th></th>\n",
       "      <th></th>\n",
       "      <th></th>\n",
       "      <th></th>\n",
       "      <th></th>\n",
       "      <th></th>\n",
       "      <th></th>\n",
       "      <th></th>\n",
       "      <th></th>\n",
       "      <th></th>\n",
       "      <th></th>\n",
       "      <th></th>\n",
       "      <th></th>\n",
       "      <th></th>\n",
       "      <th></th>\n",
       "    </tr>\n",
       "  </thead>\n",
       "  <tbody>\n",
       "    <tr>\n",
       "      <th>2019-12-26 09:45:00</th>\n",
       "      <td>1062.33</td>\n",
       "      <td>1074.89</td>\n",
       "      <td>1078.61</td>\n",
       "      <td>1</td>\n",
       "      <td>0</td>\n",
       "      <td>0</td>\n",
       "      <td>1091.5</td>\n",
       "      <td>1040.5</td>\n",
       "      <td>1066.0</td>\n",
       "      <td>2</td>\n",
       "      <td>6.39</td>\n",
       "      <td>1.61</td>\n",
       "      <td>4.78</td>\n",
       "      <td>56.17</td>\n",
       "      <td>4</td>\n",
       "      <td>3</td>\n",
       "      <td>4</td>\n",
       "      <td>2</td>\n",
       "    </tr>\n",
       "    <tr>\n",
       "      <th>2019-12-27 09:45:00</th>\n",
       "      <td>1061.13</td>\n",
       "      <td>1074.49</td>\n",
       "      <td>1078.04</td>\n",
       "      <td>1</td>\n",
       "      <td>0</td>\n",
       "      <td>0</td>\n",
       "      <td>1091.5</td>\n",
       "      <td>1040.5</td>\n",
       "      <td>1066.0</td>\n",
       "      <td>2</td>\n",
       "      <td>7.28</td>\n",
       "      <td>4.17</td>\n",
       "      <td>3.10</td>\n",
       "      <td>47.95</td>\n",
       "      <td>4</td>\n",
       "      <td>2</td>\n",
       "      <td>3</td>\n",
       "      <td>2</td>\n",
       "    </tr>\n",
       "    <tr>\n",
       "      <th>2019-12-30 09:45:00</th>\n",
       "      <td>1060.48</td>\n",
       "      <td>1074.14</td>\n",
       "      <td>1077.55</td>\n",
       "      <td>1</td>\n",
       "      <td>0</td>\n",
       "      <td>0</td>\n",
       "      <td>1091.5</td>\n",
       "      <td>1040.5</td>\n",
       "      <td>1066.0</td>\n",
       "      <td>2</td>\n",
       "      <td>7.28</td>\n",
       "      <td>5.77</td>\n",
       "      <td>1.51</td>\n",
       "      <td>50.90</td>\n",
       "      <td>4</td>\n",
       "      <td>3</td>\n",
       "      <td>4</td>\n",
       "      <td>2</td>\n",
       "    </tr>\n",
       "  </tbody>\n",
       "</table>\n",
       "</div>"
      ],
      "text/plain": [
       "                       ma-20    ma-50    ma-75  trend-20  trend-50  trend-75  \\\n",
       "datetime                                                                       \n",
       "2019-12-26 09:45:00  1062.33  1074.89  1078.61         1         0         0   \n",
       "2019-12-27 09:45:00  1061.13  1074.49  1078.04         1         0         0   \n",
       "2019-12-30 09:45:00  1060.48  1074.14  1077.55         1         0         0   \n",
       "\n",
       "                      hh-50   ll-50   mid50  rannkHL50  macd5-20  \\\n",
       "datetime                                                           \n",
       "2019-12-26 09:45:00  1091.5  1040.5  1066.0          2      6.39   \n",
       "2019-12-27 09:45:00  1091.5  1040.5  1066.0          2      7.28   \n",
       "2019-12-30 09:45:00  1091.5  1040.5  1066.0          2      7.28   \n",
       "\n",
       "                     signal5-20-5  fast_hist5-20  rsi-10  MACDTrend  RsiTrend  \\\n",
       "datetime                                                                        \n",
       "2019-12-26 09:45:00          1.61           4.78   56.17          4         3   \n",
       "2019-12-27 09:45:00          4.17           3.10   47.95          4         2   \n",
       "2019-12-30 09:45:00          5.77           1.51   50.90          4         3   \n",
       "\n",
       "                     MACD_RSI_Trend  TrendLabel  \n",
       "datetime                                         \n",
       "2019-12-26 09:45:00               4           2  \n",
       "2019-12-27 09:45:00               3           2  \n",
       "2019-12-30 09:45:00               4           2  "
      ]
     },
     "execution_count": 342,
     "metadata": {},
     "output_type": "execute_result"
    }
   ],
   "source": [
    "# load data\n",
    "# load data\n",
    "filepaht=\"datasets\\S50F_DataSets\\ML_S50IF_CON_2014-2019-TrainData.csv\"\n",
    "data =pd.read_csv(filepaht,index_col=\"datetime\", parse_dates=['datetime'],dayfirst=True)\n",
    "print(data.info())\n",
    "data.tail(3)"
   ]
  },
  {
   "cell_type": "code",
   "execution_count": 343,
   "metadata": {},
   "outputs": [
    {
     "name": "stdout",
     "output_type": "stream",
     "text": [
      "['trend-20', 'trend-50', 'trend-75', 'rannkHL50', 'MACDTrend', 'RsiTrend', 'MACD_RSI_Trend']\n",
      "['ma-20', 'ma-50', 'ma-75', 'hh-50', 'll-50', 'mid50', 'macd5-20', 'signal5-20-5', 'fast_hist5-20', 'rsi-10']\n"
     ]
    }
   ],
   "source": [
    "#data.isnull().sum()\n",
    "categorical_columns=['trend-20','trend-50','trend-75','rannkHL50','MACDTrend','RsiTrend','MACD_RSI_Trend']\n",
    "number_columns=[  x  for x in  data.columns if (x not in categorical_data) and x !='TrendLabel' ]\n",
    "print(categorical_data)\n",
    "print(number_columns)"
   ]
  },
  {
   "cell_type": "code",
   "execution_count": 344,
   "metadata": {},
   "outputs": [],
   "source": [
    "normical_data= data[categorical_columns]\n",
    "numberic_data=data[number_columns]\n"
   ]
  },
  {
   "cell_type": "code",
   "execution_count": 345,
   "metadata": {},
   "outputs": [
    {
     "data": {
      "text/html": [
       "<div>\n",
       "<style scoped>\n",
       "    .dataframe tbody tr th:only-of-type {\n",
       "        vertical-align: middle;\n",
       "    }\n",
       "\n",
       "    .dataframe tbody tr th {\n",
       "        vertical-align: top;\n",
       "    }\n",
       "\n",
       "    .dataframe thead th {\n",
       "        text-align: right;\n",
       "    }\n",
       "</style>\n",
       "<table border=\"1\" class=\"dataframe\">\n",
       "  <thead>\n",
       "    <tr style=\"text-align: right;\">\n",
       "      <th></th>\n",
       "      <th>trend-20</th>\n",
       "      <th>trend-50</th>\n",
       "      <th>trend-75</th>\n",
       "      <th>rannkHL50</th>\n",
       "      <th>MACDTrend</th>\n",
       "      <th>RsiTrend</th>\n",
       "      <th>MACD_RSI_Trend</th>\n",
       "    </tr>\n",
       "    <tr>\n",
       "      <th>datetime</th>\n",
       "      <th></th>\n",
       "      <th></th>\n",
       "      <th></th>\n",
       "      <th></th>\n",
       "      <th></th>\n",
       "      <th></th>\n",
       "      <th></th>\n",
       "    </tr>\n",
       "  </thead>\n",
       "  <tbody>\n",
       "    <tr>\n",
       "      <th>2014-01-02 09:45:00</th>\n",
       "      <td>1</td>\n",
       "      <td>0</td>\n",
       "      <td>1</td>\n",
       "      <td>3</td>\n",
       "      <td>1</td>\n",
       "      <td>1</td>\n",
       "      <td>1</td>\n",
       "    </tr>\n",
       "    <tr>\n",
       "      <th>2014-01-03 09:45:00</th>\n",
       "      <td>1</td>\n",
       "      <td>0</td>\n",
       "      <td>1</td>\n",
       "      <td>3</td>\n",
       "      <td>1</td>\n",
       "      <td>1</td>\n",
       "      <td>1</td>\n",
       "    </tr>\n",
       "    <tr>\n",
       "      <th>2014-01-06 09:45:00</th>\n",
       "      <td>1</td>\n",
       "      <td>0</td>\n",
       "      <td>0</td>\n",
       "      <td>3</td>\n",
       "      <td>1</td>\n",
       "      <td>1</td>\n",
       "      <td>1</td>\n",
       "    </tr>\n",
       "    <tr>\n",
       "      <th>2014-01-07 09:45:00</th>\n",
       "      <td>1</td>\n",
       "      <td>0</td>\n",
       "      <td>0</td>\n",
       "      <td>3</td>\n",
       "      <td>1</td>\n",
       "      <td>1</td>\n",
       "      <td>1</td>\n",
       "    </tr>\n",
       "    <tr>\n",
       "      <th>2014-01-08 09:45:00</th>\n",
       "      <td>1</td>\n",
       "      <td>0</td>\n",
       "      <td>0</td>\n",
       "      <td>3</td>\n",
       "      <td>1</td>\n",
       "      <td>1</td>\n",
       "      <td>1</td>\n",
       "    </tr>\n",
       "  </tbody>\n",
       "</table>\n",
       "</div>"
      ],
      "text/plain": [
       "                     trend-20  trend-50  trend-75  rannkHL50  MACDTrend  \\\n",
       "datetime                                                                  \n",
       "2014-01-02 09:45:00         1         0         1          3          1   \n",
       "2014-01-03 09:45:00         1         0         1          3          1   \n",
       "2014-01-06 09:45:00         1         0         0          3          1   \n",
       "2014-01-07 09:45:00         1         0         0          3          1   \n",
       "2014-01-08 09:45:00         1         0         0          3          1   \n",
       "\n",
       "                     RsiTrend  MACD_RSI_Trend  \n",
       "datetime                                       \n",
       "2014-01-02 09:45:00         1               1  \n",
       "2014-01-03 09:45:00         1               1  \n",
       "2014-01-06 09:45:00         1               1  \n",
       "2014-01-07 09:45:00         1               1  \n",
       "2014-01-08 09:45:00         1               1  "
      ]
     },
     "execution_count": 345,
     "metadata": {},
     "output_type": "execute_result"
    }
   ],
   "source": [
    "normical_data.head()"
   ]
  },
  {
   "cell_type": "code",
   "execution_count": 346,
   "metadata": {},
   "outputs": [
    {
     "data": {
      "text/html": [
       "<div>\n",
       "<style scoped>\n",
       "    .dataframe tbody tr th:only-of-type {\n",
       "        vertical-align: middle;\n",
       "    }\n",
       "\n",
       "    .dataframe tbody tr th {\n",
       "        vertical-align: top;\n",
       "    }\n",
       "\n",
       "    .dataframe thead th {\n",
       "        text-align: right;\n",
       "    }\n",
       "</style>\n",
       "<table border=\"1\" class=\"dataframe\">\n",
       "  <thead>\n",
       "    <tr style=\"text-align: right;\">\n",
       "      <th></th>\n",
       "      <th>ma-20</th>\n",
       "      <th>ma-50</th>\n",
       "      <th>ma-75</th>\n",
       "      <th>hh-50</th>\n",
       "      <th>ll-50</th>\n",
       "      <th>mid50</th>\n",
       "      <th>macd5-20</th>\n",
       "      <th>signal5-20-5</th>\n",
       "      <th>fast_hist5-20</th>\n",
       "      <th>rsi-10</th>\n",
       "    </tr>\n",
       "    <tr>\n",
       "      <th>datetime</th>\n",
       "      <th></th>\n",
       "      <th></th>\n",
       "      <th></th>\n",
       "      <th></th>\n",
       "      <th></th>\n",
       "      <th></th>\n",
       "      <th></th>\n",
       "      <th></th>\n",
       "      <th></th>\n",
       "      <th></th>\n",
       "    </tr>\n",
       "  </thead>\n",
       "  <tbody>\n",
       "    <tr>\n",
       "      <th>2014-01-02 09:45:00</th>\n",
       "      <td>911.91</td>\n",
       "      <td>945.41</td>\n",
       "      <td>956.83</td>\n",
       "      <td>951.8</td>\n",
       "      <td>869.3</td>\n",
       "      <td>910.55</td>\n",
       "      <td>-37.25</td>\n",
       "      <td>-21.21</td>\n",
       "      <td>-16.04</td>\n",
       "      <td>12.93</td>\n",
       "    </tr>\n",
       "    <tr>\n",
       "      <th>2014-01-03 09:45:00</th>\n",
       "      <td>906.27</td>\n",
       "      <td>941.76</td>\n",
       "      <td>955.11</td>\n",
       "      <td>951.4</td>\n",
       "      <td>815.8</td>\n",
       "      <td>883.60</td>\n",
       "      <td>-48.27</td>\n",
       "      <td>-28.72</td>\n",
       "      <td>-19.55</td>\n",
       "      <td>15.97</td>\n",
       "    </tr>\n",
       "    <tr>\n",
       "      <th>2014-01-06 09:45:00</th>\n",
       "      <td>900.83</td>\n",
       "      <td>938.03</td>\n",
       "      <td>953.48</td>\n",
       "      <td>951.4</td>\n",
       "      <td>796.8</td>\n",
       "      <td>874.10</td>\n",
       "      <td>-57.09</td>\n",
       "      <td>-37.39</td>\n",
       "      <td>-19.70</td>\n",
       "      <td>22.14</td>\n",
       "    </tr>\n",
       "    <tr>\n",
       "      <th>2014-01-07 09:45:00</th>\n",
       "      <td>896.10</td>\n",
       "      <td>935.31</td>\n",
       "      <td>951.68</td>\n",
       "      <td>951.4</td>\n",
       "      <td>796.8</td>\n",
       "      <td>874.10</td>\n",
       "      <td>-57.66</td>\n",
       "      <td>-45.07</td>\n",
       "      <td>-12.58</td>\n",
       "      <td>35.93</td>\n",
       "    </tr>\n",
       "    <tr>\n",
       "      <th>2014-01-08 09:45:00</th>\n",
       "      <td>891.59</td>\n",
       "      <td>932.43</td>\n",
       "      <td>949.87</td>\n",
       "      <td>951.4</td>\n",
       "      <td>796.8</td>\n",
       "      <td>874.10</td>\n",
       "      <td>-57.65</td>\n",
       "      <td>-51.58</td>\n",
       "      <td>-6.06</td>\n",
       "      <td>34.93</td>\n",
       "    </tr>\n",
       "  </tbody>\n",
       "</table>\n",
       "</div>"
      ],
      "text/plain": [
       "                      ma-20   ma-50   ma-75  hh-50  ll-50   mid50  macd5-20  \\\n",
       "datetime                                                                      \n",
       "2014-01-02 09:45:00  911.91  945.41  956.83  951.8  869.3  910.55    -37.25   \n",
       "2014-01-03 09:45:00  906.27  941.76  955.11  951.4  815.8  883.60    -48.27   \n",
       "2014-01-06 09:45:00  900.83  938.03  953.48  951.4  796.8  874.10    -57.09   \n",
       "2014-01-07 09:45:00  896.10  935.31  951.68  951.4  796.8  874.10    -57.66   \n",
       "2014-01-08 09:45:00  891.59  932.43  949.87  951.4  796.8  874.10    -57.65   \n",
       "\n",
       "                     signal5-20-5  fast_hist5-20  rsi-10  \n",
       "datetime                                                  \n",
       "2014-01-02 09:45:00        -21.21         -16.04   12.93  \n",
       "2014-01-03 09:45:00        -28.72         -19.55   15.97  \n",
       "2014-01-06 09:45:00        -37.39         -19.70   22.14  \n",
       "2014-01-07 09:45:00        -45.07         -12.58   35.93  \n",
       "2014-01-08 09:45:00        -51.58          -6.06   34.93  "
      ]
     },
     "execution_count": 346,
     "metadata": {},
     "output_type": "execute_result"
    }
   ],
   "source": [
    "numberic_data.head()"
   ]
  },
  {
   "cell_type": "code",
   "execution_count": 347,
   "metadata": {},
   "outputs": [
    {
     "name": "stdout",
     "output_type": "stream",
     "text": [
      "[1 2 3]\n",
      "[0 1]\n",
      "[1 0]\n",
      "[3 2 1]\n",
      "[1 2 4 3]\n",
      "[1 2 3 4]\n",
      "[1 2 3 4]\n"
     ]
    }
   ],
   "source": [
    "# list uniqu value excluding Label\n",
    "for col in categorical_columns:\n",
    " print(data[col].unique())\n"
   ]
  },
  {
   "cell_type": "markdown",
   "metadata": {},
   "source": [
    "# Encode string input values as integers"
   ]
  },
  {
   "cell_type": "code",
   "execution_count": 348,
   "metadata": {},
   "outputs": [
    {
     "name": "stdout",
     "output_type": "stream",
     "text": [
      "[[1 0 1 3 1 1 1]\n",
      " [1 0 1 3 1 1 1]\n",
      " [1 0 0 3 1 1 1]\n",
      " [1 0 0 3 1 1 1]\n",
      " [1 0 0 3 1 1 1]]\n",
      "[[911.91 945.41 956.83 951.8  869.3  910.55 -37.25 -21.21 -16.04  12.93]\n",
      " [906.27 941.76 955.11 951.4  815.8  883.6  -48.27 -28.72 -19.55  15.97]\n",
      " [900.83 938.03 953.48 951.4  796.8  874.1  -57.09 -37.39 -19.7   22.14]\n",
      " [896.1  935.31 951.68 951.4  796.8  874.1  -57.66 -45.07 -12.58  35.93]\n",
      " [891.59 932.43 949.87 951.4  796.8  874.1  -57.65 -51.58  -6.06  34.93]]\n"
     ]
    }
   ],
   "source": [
    "\n",
    "X_norminal = normical_data.to_numpy()\n",
    "X_numeric=numberic_data.to_numpy()\n",
    "\n",
    "print(X_norminal[:5,:])\n",
    "print(X_numeric[:5,:])\n"
   ]
  },
  {
   "cell_type": "code",
   "execution_count": 349,
   "metadata": {},
   "outputs": [
    {
     "name": "stdout",
     "output_type": "stream",
     "text": [
      "(1465,)\n"
     ]
    },
    {
     "data": {
      "text/plain": [
       "array([2, 2, 2, 2, 2], dtype=int64)"
      ]
     },
     "execution_count": 349,
     "metadata": {},
     "output_type": "execute_result"
    }
   ],
   "source": [
    "Y = (data['TrendLabel']).values\n",
    "print(Y.shape)\n",
    "Y[:5]"
   ]
  },
  {
   "cell_type": "code",
   "execution_count": 350,
   "metadata": {},
   "outputs": [
    {
     "name": "stdout",
     "output_type": "stream",
     "text": [
      "Col:  0 \n",
      "=======================================\n",
      "fit_transform\n",
      "[0 0 0 ... 0 0 0]\n",
      "onehot_encoder as no of category\n",
      "[[1. 0. 0.]\n",
      " [1. 0. 0.]\n",
      " [1. 0. 0.]\n",
      " ...\n",
      " [1. 0. 0.]\n",
      " [1. 0. 0.]\n",
      " [1. 0. 0.]]\n",
      "Col:  1 \n",
      "=======================================\n",
      "fit_transform\n",
      "[0 0 0 ... 0 0 0]\n",
      "onehot_encoder as no of category\n",
      "[[1. 0.]\n",
      " [1. 0.]\n",
      " [1. 0.]\n",
      " ...\n",
      " [1. 0.]\n",
      " [1. 0.]\n",
      " [1. 0.]]\n",
      "Col:  2 \n",
      "=======================================\n",
      "fit_transform\n",
      "[1 1 0 ... 0 0 0]\n",
      "onehot_encoder as no of category\n",
      "[[0. 1.]\n",
      " [0. 1.]\n",
      " [1. 0.]\n",
      " ...\n",
      " [1. 0.]\n",
      " [1. 0.]\n",
      " [1. 0.]]\n",
      "Col:  3 \n",
      "=======================================\n",
      "fit_transform\n",
      "[2 2 2 ... 1 1 1]\n",
      "onehot_encoder as no of category\n",
      "[[0. 0. 1.]\n",
      " [0. 0. 1.]\n",
      " [0. 0. 1.]\n",
      " ...\n",
      " [0. 1. 0.]\n",
      " [0. 1. 0.]\n",
      " [0. 1. 0.]]\n",
      "Col:  4 \n",
      "=======================================\n",
      "fit_transform\n",
      "[0 0 0 ... 3 3 3]\n",
      "onehot_encoder as no of category\n",
      "[[1. 0. 0. 0.]\n",
      " [1. 0. 0. 0.]\n",
      " [1. 0. 0. 0.]\n",
      " ...\n",
      " [0. 0. 0. 1.]\n",
      " [0. 0. 0. 1.]\n",
      " [0. 0. 0. 1.]]\n",
      "Col:  5 \n",
      "=======================================\n",
      "fit_transform\n",
      "[0 0 0 ... 2 1 2]\n",
      "onehot_encoder as no of category\n",
      "[[1. 0. 0. 0.]\n",
      " [1. 0. 0. 0.]\n",
      " [1. 0. 0. 0.]\n",
      " ...\n",
      " [0. 0. 1. 0.]\n",
      " [0. 1. 0. 0.]\n",
      " [0. 0. 1. 0.]]\n",
      "Col:  6 \n",
      "=======================================\n",
      "fit_transform\n",
      "[0 0 0 ... 3 2 3]\n",
      "onehot_encoder as no of category\n",
      "[[1. 0. 0. 0.]\n",
      " [1. 0. 0. 0.]\n",
      " [1. 0. 0. 0.]\n",
      " ...\n",
      " [0. 0. 0. 1.]\n",
      " [0. 0. 1. 0.]\n",
      " [0. 0. 0. 1.]]\n"
     ]
    }
   ],
   "source": [
    "columns = []\n",
    "for i in range(0, X_norminal.shape[1]):\n",
    "#for i in range(0, X.shape[1]):\n",
    " print(\"Col: \",i,\"\\n=======================================\")\n",
    "    \n",
    " label_encoder = LabelEncoder()\n",
    " feature = label_encoder.fit_transform(X_norminal[:,i])\n",
    " print(\"fit_transform\")\n",
    " print(feature)\n",
    "\n",
    " feature = feature.reshape(X_norminal.shape[0], 1)\n",
    " #print(\"resharp  to 2 dim\")\n",
    " #print(feature)\n",
    "\n",
    " onehot_encoder = OneHotEncoder(sparse=False, categories='auto')\n",
    " feature = onehot_encoder.fit_transform(feature)\n",
    " print(\"onehot_encoder as no of category\")\n",
    " print(feature)\n",
    "\n",
    " columns.append(feature)\n",
    "    \n",
    "\n",
    "#print(columns)\n"
   ]
  },
  {
   "cell_type": "code",
   "execution_count": 351,
   "metadata": {},
   "outputs": [
    {
     "name": "stdout",
     "output_type": "stream",
     "text": [
      "X_norminal shape: :  (1465, 22)\n"
     ]
    }
   ],
   "source": [
    "# collapse columns into array\n",
    "encoded_X_norminal = numpy.column_stack(columns)\n",
    "print(\"X_norminal shape: : \",encoded_X_norminal.shape)"
   ]
  },
  {
   "cell_type": "code",
   "execution_count": 352,
   "metadata": {},
   "outputs": [
    {
     "name": "stdout",
     "output_type": "stream",
     "text": [
      "(1465,)\n"
     ]
    },
    {
     "data": {
      "text/plain": [
       "array([1, 1, 1, ..., 1, 1, 1], dtype=int64)"
      ]
     },
     "execution_count": 352,
     "metadata": {},
     "output_type": "execute_result"
    }
   ],
   "source": [
    "\n",
    "# encode string class values as integers\n",
    "label_encoder = LabelEncoder()\n",
    "label_encoder = label_encoder.fit(Y)\n",
    "label_encoded_Y = label_encoder.transform(Y)\n",
    "\n",
    "print(label_encoded_Y.shape)\n",
    "label_encoded_Y"
   ]
  },
  {
   "cell_type": "code",
   "execution_count": 353,
   "metadata": {},
   "outputs": [
    {
     "name": "stdout",
     "output_type": "stream",
     "text": [
      "(1465, 22)\n"
     ]
    },
    {
     "data": {
      "text/plain": [
       "array([[1., 0., 0., 1., 0., 0., 1., 0., 0., 1., 1., 0., 0., 0., 1., 0.,\n",
       "        0., 0., 1., 0., 0., 0.],\n",
       "       [1., 0., 0., 1., 0., 0., 1., 0., 0., 1., 1., 0., 0., 0., 1., 0.,\n",
       "        0., 0., 1., 0., 0., 0.],\n",
       "       [1., 0., 0., 1., 0., 1., 0., 0., 0., 1., 1., 0., 0., 0., 1., 0.,\n",
       "        0., 0., 1., 0., 0., 0.]])"
      ]
     },
     "execution_count": 353,
     "metadata": {},
     "output_type": "execute_result"
    }
   ],
   "source": [
    "print(encoded_X_norminal.shape)\n",
    "encoded_X_norminal[:3,:]\n"
   ]
  },
  {
   "cell_type": "code",
   "execution_count": 354,
   "metadata": {},
   "outputs": [
    {
     "name": "stdout",
     "output_type": "stream",
     "text": [
      "(1465, 10)\n"
     ]
    },
    {
     "data": {
      "text/plain": [
       "array([[911.91, 945.41, 956.83, 951.8 , 869.3 , 910.55, -37.25, -21.21,\n",
       "        -16.04,  12.93],\n",
       "       [906.27, 941.76, 955.11, 951.4 , 815.8 , 883.6 , -48.27, -28.72,\n",
       "        -19.55,  15.97],\n",
       "       [900.83, 938.03, 953.48, 951.4 , 796.8 , 874.1 , -57.09, -37.39,\n",
       "        -19.7 ,  22.14]])"
      ]
     },
     "execution_count": 354,
     "metadata": {},
     "output_type": "execute_result"
    }
   ],
   "source": [
    "print(X_numeric.shape)\n",
    "X_numeric[:3,:]"
   ]
  },
  {
   "cell_type": "code",
   "execution_count": 355,
   "metadata": {},
   "outputs": [
    {
     "name": "stdout",
     "output_type": "stream",
     "text": [
      "(1465, 32)\n"
     ]
    },
    {
     "data": {
      "text/plain": [
       "array([[  1.  ,   0.  ,   0.  ,   1.  ,   0.  ,   0.  ,   1.  ,   0.  ,\n",
       "          0.  ,   1.  ,   1.  ,   0.  ,   0.  ,   0.  ,   1.  ,   0.  ,\n",
       "          0.  ,   0.  ,   1.  ,   0.  ,   0.  ,   0.  , 911.91, 945.41,\n",
       "        956.83, 951.8 , 869.3 , 910.55, -37.25, -21.21, -16.04,  12.93],\n",
       "       [  1.  ,   0.  ,   0.  ,   1.  ,   0.  ,   0.  ,   1.  ,   0.  ,\n",
       "          0.  ,   1.  ,   1.  ,   0.  ,   0.  ,   0.  ,   1.  ,   0.  ,\n",
       "          0.  ,   0.  ,   1.  ,   0.  ,   0.  ,   0.  , 906.27, 941.76,\n",
       "        955.11, 951.4 , 815.8 , 883.6 , -48.27, -28.72, -19.55,  15.97],\n",
       "       [  1.  ,   0.  ,   0.  ,   1.  ,   0.  ,   1.  ,   0.  ,   0.  ,\n",
       "          0.  ,   1.  ,   1.  ,   0.  ,   0.  ,   0.  ,   1.  ,   0.  ,\n",
       "          0.  ,   0.  ,   1.  ,   0.  ,   0.  ,   0.  , 900.83, 938.03,\n",
       "        953.48, 951.4 , 796.8 , 874.1 , -57.09, -37.39, -19.7 ,  22.14]])"
      ]
     },
     "execution_count": 355,
     "metadata": {},
     "output_type": "execute_result"
    }
   ],
   "source": [
    "X=np.concatenate((encoded_X_norminal, X_numeric), axis=1)\n",
    "print(X.shape)\n",
    "X[:3,:]"
   ]
  },
  {
   "cell_type": "code",
   "execution_count": 356,
   "metadata": {},
   "outputs": [
    {
     "name": "stdout",
     "output_type": "stream",
     "text": [
      "XGBClassifier(base_score=0.5, booster='gbtree', colsample_bylevel=1,\n",
      "              colsample_bynode=1, colsample_bytree=1, gamma=0,\n",
      "              learning_rate=0.1, max_delta_step=0, max_depth=3,\n",
      "              min_child_weight=1, missing=None, n_estimators=100, n_jobs=1,\n",
      "              nthread=None, objective='multi:softprob', random_state=0,\n",
      "              reg_alpha=0, reg_lambda=1, scale_pos_weight=1, seed=None,\n",
      "              silent=None, subsample=1, verbosity=1)\n",
      "Accuracy: 85.12%\n"
     ]
    }
   ],
   "source": [
    "# split data into train and test sets\n",
    "seed = 7\n",
    "test_size = 0.33\n",
    "X_train, X_test, y_train, y_test = train_test_split(X, label_encoded_Y, test_size=test_size, random_state=seed)\n",
    "# fit model no training data\n",
    "model = XGBClassifier()\n",
    "model.fit(X_train, y_train)\n",
    "print(model)\n",
    "# make predictions for test data\n",
    "y_pred = model.predict(X_test)\n",
    "predictions = [round(value) for value in y_pred]\n",
    "# evaluate predictions\n",
    "accuracy = accuracy_score(y_test, predictions)\n",
    "print(\"Accuracy: %.2f%%\" % (accuracy * 100.0))\n"
   ]
  },
  {
   "cell_type": "code",
   "execution_count": null,
   "metadata": {},
   "outputs": [],
   "source": []
  }
 ],
 "metadata": {
  "anaconda-cloud": {},
  "kernelspec": {
   "display_name": "Python 3",
   "language": "python",
   "name": "python3"
  },
  "language_info": {
   "codemirror_mode": {
    "name": "ipython",
    "version": 3
   },
   "file_extension": ".py",
   "mimetype": "text/x-python",
   "name": "python",
   "nbconvert_exporter": "python",
   "pygments_lexer": "ipython3",
   "version": "3.7.8"
  }
 },
 "nbformat": 4,
 "nbformat_minor": 1
}
