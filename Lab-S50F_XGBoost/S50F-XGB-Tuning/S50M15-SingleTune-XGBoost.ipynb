{
 "cells": [
  {
   "cell_type": "code",
   "execution_count": 15,
   "metadata": {},
   "outputs": [],
   "source": [
    "# XGBoost on Otto dataset, Tune n_estimators\n",
    "import pandas as pd\n",
    "import numpy as np\n",
    "from xgboost import XGBClassifier\n",
    "from sklearn.ensemble import GradientBoostingClassifier \n",
    "\n",
    "\n",
    "\n",
    "from sklearn.model_selection import GridSearchCV\n",
    "from sklearn.model_selection import StratifiedKFold\n",
    "from sklearn.model_selection import KFold\n",
    "from sklearn.model_selection import TimeSeriesSplit\n",
    "\n",
    "from sklearn.model_selection import cross_val_score\n",
    "from sklearn.model_selection import cross_validate\n",
    "\n",
    "import matplotlib\n",
    "matplotlib.use('Agg')\n",
    "from matplotlib import pyplot\n",
    "\n",
    "import os\n",
    "import time\n",
    "from datetime  import datetime"
   ]
  },
  {
   "cell_type": "code",
   "execution_count": 16,
   "metadata": {},
   "outputs": [
    {
     "name": "stdout",
     "output_type": "stream",
     "text": [
      "<class 'pandas.core.frame.DataFrame'>\n",
      "DatetimeIndex: 70896 entries, 2007-01-03 09:45:00 to 2020-06-30 16:45:00\n",
      "Data columns (total 18 columns):\n",
      " #   Column                  Non-Null Count  Dtype  \n",
      "---  ------                  --------------  -----  \n",
      " 0   indy_ma-550             70896 non-null  float64\n",
      " 1   indy_ma-1100            70896 non-null  float64\n",
      " 2   indy_hh-550             70896 non-null  float64\n",
      " 3   indy_ll-550             70896 non-null  float64\n",
      " 4   indy_mid-550            70896 non-null  float64\n",
      " 5   indy_hh2-1100           70896 non-null  float64\n",
      " 6   indy_ll2-1100           70896 non-null  float64\n",
      " 7   indy_mid2-1100          70896 non-null  float64\n",
      " 8   indy_macd110-440        70896 non-null  float64\n",
      " 9   indy_signal110-440-110  70896 non-null  float64\n",
      " 10  indy_hist_macd110-440   70896 non-null  float64\n",
      " 11  indy_rsi25-ma20         70896 non-null  float64\n",
      " 12  indy_6ATRTrail_DC-110   70896 non-null  float64\n",
      " 13  cate_3trend-550_ma110   70896 non-null  int64  \n",
      " 14  cate_2trend-1100_ma220  70896 non-null  int64  \n",
      " 15  cate_rannkHL1100-ma66   70896 non-null  int64  \n",
      " 16  cate_CombineTrend       70896 non-null  int64  \n",
      " 17  LongSignal              70896 non-null  int64  \n",
      "dtypes: float64(13), int64(5)\n",
      "memory usage: 10.3 MB\n"
     ]
    }
   ],
   "source": [
    "strategyName='Long'\n",
    "\n",
    "pahtname=r'D:\\DataSets\\ML_LS\\ML-Long_S50M15_07To2Q20-Train_Norm.csv'\n",
    "\n",
    "filepath= os.path.abspath(pahtname)\n",
    "\n",
    "dataset =pd.read_csv(filepath,index_col=\"datetime\", parse_dates=['datetime'],dayfirst=True)\n",
    "dataset.drop(columns=['open','high','low','close'],inplace=True)\n",
    "\n",
    "dataset.info()\n"
   ]
  },
  {
   "cell_type": "code",
   "execution_count": 17,
   "metadata": {},
   "outputs": [],
   "source": [
    "def CreateData(dfx):\n",
    " labelCol=dfx.columns[len(dfx.columns)-1]\n",
    " \n",
    " X_df_temp = dfx.drop(columns=labelCol)\n",
    " Y_df_temp = dfx[labelCol]\n",
    "\n",
    " Xtemp=X_df_temp.to_numpy()\n",
    " ytemp=Y_df_temp.to_numpy()\n",
    "\n",
    " return X_df_temp,Y_df_temp, Xtemp,ytemp"
   ]
  },
  {
   "cell_type": "code",
   "execution_count": 18,
   "metadata": {
    "scrolled": true
   },
   "outputs": [
    {
     "name": "stdout",
     "output_type": "stream",
     "text": [
      "<class 'pandas.core.frame.DataFrame'>\n",
      "DatetimeIndex: 70896 entries, 2007-01-03 09:45:00 to 2020-06-30 16:45:00\n",
      "Data columns (total 17 columns):\n",
      " #   Column                  Non-Null Count  Dtype  \n",
      "---  ------                  --------------  -----  \n",
      " 0   indy_ma-550             70896 non-null  float64\n",
      " 1   indy_ma-1100            70896 non-null  float64\n",
      " 2   indy_hh-550             70896 non-null  float64\n",
      " 3   indy_ll-550             70896 non-null  float64\n",
      " 4   indy_mid-550            70896 non-null  float64\n",
      " 5   indy_hh2-1100           70896 non-null  float64\n",
      " 6   indy_ll2-1100           70896 non-null  float64\n",
      " 7   indy_mid2-1100          70896 non-null  float64\n",
      " 8   indy_macd110-440        70896 non-null  float64\n",
      " 9   indy_signal110-440-110  70896 non-null  float64\n",
      " 10  indy_hist_macd110-440   70896 non-null  float64\n",
      " 11  indy_rsi25-ma20         70896 non-null  float64\n",
      " 12  indy_6ATRTrail_DC-110   70896 non-null  float64\n",
      " 13  cate_3trend-550_ma110   70896 non-null  int64  \n",
      " 14  cate_2trend-1100_ma220  70896 non-null  int64  \n",
      " 15  cate_rannkHL1100-ma66   70896 non-null  int64  \n",
      " 16  cate_CombineTrend       70896 non-null  int64  \n",
      "dtypes: float64(13), int64(4)\n",
      "memory usage: 9.7 MB\n",
      "None\n"
     ]
    }
   ],
   "source": [
    "#My Train\n",
    "st='01-2007'\n",
    "ed='12-2020'\n",
    "df_train=dataset[st:ed]\n",
    "#df_train.info()\n",
    "X_df,Y_df,X_train,y_train=CreateData( df_train)\n",
    "\n",
    "print(X_df.info())\n"
   ]
  },
  {
   "cell_type": "code",
   "execution_count": 19,
   "metadata": {},
   "outputs": [
    {
     "data": {
      "text/html": [
       "<div>\n",
       "<style scoped>\n",
       "    .dataframe tbody tr th:only-of-type {\n",
       "        vertical-align: middle;\n",
       "    }\n",
       "\n",
       "    .dataframe tbody tr th {\n",
       "        vertical-align: top;\n",
       "    }\n",
       "\n",
       "    .dataframe thead th {\n",
       "        text-align: right;\n",
       "    }\n",
       "</style>\n",
       "<table border=\"1\" class=\"dataframe\">\n",
       "  <thead>\n",
       "    <tr style=\"text-align: right;\">\n",
       "      <th></th>\n",
       "      <th>indy_ma-550</th>\n",
       "      <th>indy_ma-1100</th>\n",
       "      <th>indy_hh-550</th>\n",
       "      <th>indy_ll-550</th>\n",
       "      <th>indy_mid-550</th>\n",
       "      <th>indy_hh2-1100</th>\n",
       "      <th>indy_ll2-1100</th>\n",
       "      <th>indy_mid2-1100</th>\n",
       "      <th>indy_macd110-440</th>\n",
       "      <th>indy_signal110-440-110</th>\n",
       "      <th>indy_hist_macd110-440</th>\n",
       "      <th>indy_rsi25-ma20</th>\n",
       "      <th>indy_6ATRTrail_DC-110</th>\n",
       "      <th>cate_3trend-550_ma110</th>\n",
       "      <th>cate_2trend-1100_ma220</th>\n",
       "      <th>cate_rannkHL1100-ma66</th>\n",
       "      <th>cate_CombineTrend</th>\n",
       "    </tr>\n",
       "    <tr>\n",
       "      <th>datetime</th>\n",
       "      <th></th>\n",
       "      <th></th>\n",
       "      <th></th>\n",
       "      <th></th>\n",
       "      <th></th>\n",
       "      <th></th>\n",
       "      <th></th>\n",
       "      <th></th>\n",
       "      <th></th>\n",
       "      <th></th>\n",
       "      <th></th>\n",
       "      <th></th>\n",
       "      <th></th>\n",
       "      <th></th>\n",
       "      <th></th>\n",
       "      <th></th>\n",
       "      <th></th>\n",
       "    </tr>\n",
       "  </thead>\n",
       "  <tbody>\n",
       "    <tr>\n",
       "      <th>2020-06-30 15:45:00</th>\n",
       "      <td>1.03</td>\n",
       "      <td>1.0</td>\n",
       "      <td>1.11</td>\n",
       "      <td>0.97</td>\n",
       "      <td>0.0</td>\n",
       "      <td>1.11</td>\n",
       "      <td>0.90</td>\n",
       "      <td>0.0</td>\n",
       "      <td>-33.34</td>\n",
       "      <td>-22.94</td>\n",
       "      <td>-10.41</td>\n",
       "      <td>57.53</td>\n",
       "      <td>1.00</td>\n",
       "      <td>2</td>\n",
       "      <td>1</td>\n",
       "      <td>4</td>\n",
       "      <td>3</td>\n",
       "    </tr>\n",
       "    <tr>\n",
       "      <th>2020-06-30 16:00:00</th>\n",
       "      <td>1.03</td>\n",
       "      <td>1.0</td>\n",
       "      <td>1.11</td>\n",
       "      <td>0.97</td>\n",
       "      <td>0.0</td>\n",
       "      <td>1.11</td>\n",
       "      <td>0.90</td>\n",
       "      <td>0.0</td>\n",
       "      <td>-33.44</td>\n",
       "      <td>-23.14</td>\n",
       "      <td>-10.30</td>\n",
       "      <td>57.88</td>\n",
       "      <td>1.00</td>\n",
       "      <td>2</td>\n",
       "      <td>1</td>\n",
       "      <td>4</td>\n",
       "      <td>3</td>\n",
       "    </tr>\n",
       "    <tr>\n",
       "      <th>2020-06-30 16:15:00</th>\n",
       "      <td>1.03</td>\n",
       "      <td>1.0</td>\n",
       "      <td>1.11</td>\n",
       "      <td>0.97</td>\n",
       "      <td>0.0</td>\n",
       "      <td>1.11</td>\n",
       "      <td>0.90</td>\n",
       "      <td>0.0</td>\n",
       "      <td>-33.54</td>\n",
       "      <td>-23.34</td>\n",
       "      <td>-10.20</td>\n",
       "      <td>57.93</td>\n",
       "      <td>1.00</td>\n",
       "      <td>2</td>\n",
       "      <td>1</td>\n",
       "      <td>4</td>\n",
       "      <td>3</td>\n",
       "    </tr>\n",
       "    <tr>\n",
       "      <th>2020-06-30 16:30:00</th>\n",
       "      <td>1.04</td>\n",
       "      <td>1.0</td>\n",
       "      <td>1.11</td>\n",
       "      <td>0.98</td>\n",
       "      <td>0.0</td>\n",
       "      <td>1.11</td>\n",
       "      <td>0.91</td>\n",
       "      <td>0.0</td>\n",
       "      <td>-33.66</td>\n",
       "      <td>-23.54</td>\n",
       "      <td>-10.12</td>\n",
       "      <td>57.28</td>\n",
       "      <td>1.01</td>\n",
       "      <td>2</td>\n",
       "      <td>1</td>\n",
       "      <td>4</td>\n",
       "      <td>3</td>\n",
       "    </tr>\n",
       "    <tr>\n",
       "      <th>2020-06-30 16:45:00</th>\n",
       "      <td>1.04</td>\n",
       "      <td>1.0</td>\n",
       "      <td>1.12</td>\n",
       "      <td>0.98</td>\n",
       "      <td>0.0</td>\n",
       "      <td>1.12</td>\n",
       "      <td>0.91</td>\n",
       "      <td>0.0</td>\n",
       "      <td>-33.78</td>\n",
       "      <td>-23.74</td>\n",
       "      <td>-10.04</td>\n",
       "      <td>56.61</td>\n",
       "      <td>1.01</td>\n",
       "      <td>2</td>\n",
       "      <td>1</td>\n",
       "      <td>4</td>\n",
       "      <td>3</td>\n",
       "    </tr>\n",
       "  </tbody>\n",
       "</table>\n",
       "</div>"
      ],
      "text/plain": [
       "                     indy_ma-550  indy_ma-1100  indy_hh-550  indy_ll-550  \\\n",
       "datetime                                                                   \n",
       "2020-06-30 15:45:00         1.03           1.0         1.11         0.97   \n",
       "2020-06-30 16:00:00         1.03           1.0         1.11         0.97   \n",
       "2020-06-30 16:15:00         1.03           1.0         1.11         0.97   \n",
       "2020-06-30 16:30:00         1.04           1.0         1.11         0.98   \n",
       "2020-06-30 16:45:00         1.04           1.0         1.12         0.98   \n",
       "\n",
       "                     indy_mid-550  indy_hh2-1100  indy_ll2-1100  \\\n",
       "datetime                                                          \n",
       "2020-06-30 15:45:00           0.0           1.11           0.90   \n",
       "2020-06-30 16:00:00           0.0           1.11           0.90   \n",
       "2020-06-30 16:15:00           0.0           1.11           0.90   \n",
       "2020-06-30 16:30:00           0.0           1.11           0.91   \n",
       "2020-06-30 16:45:00           0.0           1.12           0.91   \n",
       "\n",
       "                     indy_mid2-1100  indy_macd110-440  indy_signal110-440-110  \\\n",
       "datetime                                                                        \n",
       "2020-06-30 15:45:00             0.0            -33.34                  -22.94   \n",
       "2020-06-30 16:00:00             0.0            -33.44                  -23.14   \n",
       "2020-06-30 16:15:00             0.0            -33.54                  -23.34   \n",
       "2020-06-30 16:30:00             0.0            -33.66                  -23.54   \n",
       "2020-06-30 16:45:00             0.0            -33.78                  -23.74   \n",
       "\n",
       "                     indy_hist_macd110-440  indy_rsi25-ma20  \\\n",
       "datetime                                                      \n",
       "2020-06-30 15:45:00                 -10.41            57.53   \n",
       "2020-06-30 16:00:00                 -10.30            57.88   \n",
       "2020-06-30 16:15:00                 -10.20            57.93   \n",
       "2020-06-30 16:30:00                 -10.12            57.28   \n",
       "2020-06-30 16:45:00                 -10.04            56.61   \n",
       "\n",
       "                     indy_6ATRTrail_DC-110  cate_3trend-550_ma110  \\\n",
       "datetime                                                            \n",
       "2020-06-30 15:45:00                   1.00                      2   \n",
       "2020-06-30 16:00:00                   1.00                      2   \n",
       "2020-06-30 16:15:00                   1.00                      2   \n",
       "2020-06-30 16:30:00                   1.01                      2   \n",
       "2020-06-30 16:45:00                   1.01                      2   \n",
       "\n",
       "                     cate_2trend-1100_ma220  cate_rannkHL1100-ma66  \\\n",
       "datetime                                                             \n",
       "2020-06-30 15:45:00                       1                      4   \n",
       "2020-06-30 16:00:00                       1                      4   \n",
       "2020-06-30 16:15:00                       1                      4   \n",
       "2020-06-30 16:30:00                       1                      4   \n",
       "2020-06-30 16:45:00                       1                      4   \n",
       "\n",
       "                     cate_CombineTrend  \n",
       "datetime                                \n",
       "2020-06-30 15:45:00                  3  \n",
       "2020-06-30 16:00:00                  3  \n",
       "2020-06-30 16:15:00                  3  \n",
       "2020-06-30 16:30:00                  3  \n",
       "2020-06-30 16:45:00                  3  "
      ]
     },
     "execution_count": 19,
     "metadata": {},
     "output_type": "execute_result"
    }
   ],
   "source": [
    "X_df.tail(5)"
   ]
  },
  {
   "cell_type": "code",
   "execution_count": 20,
   "metadata": {},
   "outputs": [
    {
     "data": {
      "text/plain": [
       "0    41328\n",
       "1    29568\n",
       "Name: LongSignal, dtype: int64"
      ]
     },
     "execution_count": 20,
     "metadata": {},
     "output_type": "execute_result"
    }
   ],
   "source": [
    "Y_df.value_counts()"
   ]
  },
  {
   "cell_type": "markdown",
   "metadata": {},
   "source": [
    "# Single Tune"
   ]
  },
  {
   "cell_type": "code",
   "execution_count": 21,
   "metadata": {},
   "outputs": [],
   "source": [
    "#tuneName='n_estimators'\n",
    "tuneName='max_depth'\n",
    "#tuneName='learning_rate'\n",
    "\n",
    "#scoreX=\"neg_log_loss\"\n",
    "scoreX='accuracy'\n"
   ]
  },
  {
   "cell_type": "markdown",
   "metadata": {},
   "source": [
    "# XGBClassifier change paramter consistently"
   ]
  },
  {
   "cell_type": "code",
   "execution_count": 22,
   "metadata": {},
   "outputs": [],
   "source": [
    "xseed=1992\n",
    "splitN=5\n",
    "option=1\n",
    "if option==1 :\n",
    " kfold =  TimeSeriesSplit(n_splits=splitN,max_train_size=None)\n",
    "else:\n",
    " kfold = StratifiedKFold(n_splits=splitN, shuffle=false, random_state=xseed)"
   ]
  },
  {
   "cell_type": "code",
   "execution_count": 23,
   "metadata": {},
   "outputs": [
    {
     "name": "stdout",
     "output_type": "stream",
     "text": [
      "max_depth\n"
     ]
    },
    {
     "data": {
      "text/plain": [
       "GridSearchCV(cv=TimeSeriesSplit(max_train_size=None, n_splits=5),\n",
       "             estimator=XGBClassifier(base_score=None, booster=None,\n",
       "                                     colsample_bylevel=None,\n",
       "                                     colsample_bynode=None,\n",
       "                                     colsample_bytree=None, gamma=None,\n",
       "                                     gpu_id=None, importance_type='gain',\n",
       "                                     interaction_constraints=None,\n",
       "                                     learning_rate=0.05, max_delta_step=None,\n",
       "                                     max_depth=None, min_child_weight=None,\n",
       "                                     missing=nan, monotone_constraints=None,\n",
       "                                     n_estimators=160, n_jobs=None,\n",
       "                                     num_parallel_tree=None, random_state=None,\n",
       "                                     reg_alpha=None, reg_lambda=None,\n",
       "                                     scale_pos_weight=None, subsample=None,\n",
       "                                     tree_method=None, validate_parameters=None,\n",
       "                                     verbosity=None),\n",
       "             n_jobs=-1, param_grid={'max_depth': [3, 6, 8, 10, 12, 16, 20]},\n",
       "             scoring='accuracy')"
      ]
     },
     "execution_count": 23,
     "metadata": {},
     "output_type": "execute_result"
    }
   ],
   "source": [
    "xDept=8\n",
    "xLr=0.05\n",
    "xEstimators=160\n",
    "\n",
    "print(tuneName)\n",
    "if tuneName=='n_estimators':\n",
    " #paramToTuneList = range(40, 320, 10)\n",
    " paramToTuneList = [40, 80, 120, 160]\n",
    " param_grid = dict(n_estimators=paramToTuneList)\n",
    " model = XGBClassifier(max_depth=xDept,learning_rate=xLr,importance_type='gain')\n",
    "\n",
    "elif tuneName=='max_depth':\n",
    " paramToTuneList = [3, 6, 8, 10,12,16,20]\n",
    " param_grid = dict(max_depth=paramToTuneList)\n",
    " model = XGBClassifier(n_estimators=xEstimators,learning_rate=xLr,importance_type='gain')\n",
    "\n",
    "elif tuneName=='learning_rate':\n",
    " paramToTuneList = [0.001,0.005,0.01,0.05,0.1,0.5,1]\n",
    " param_grid = dict(learning_rate=paramToTuneList)\n",
    " model = XGBClassifier(n_estimators=xEstimators,max_depth=xDept,importance_type='gain')\n",
    "\n",
    "\n",
    "grid_search = GridSearchCV(model, param_grid, scoring=scoreX, n_jobs=-1, cv=kfold)\n",
    "grid_result = grid_search.fit(X_train, y_train)\n",
    "grid_result"
   ]
  },
  {
   "cell_type": "code",
   "execution_count": 24,
   "metadata": {},
   "outputs": [
    {
     "data": {
      "text/plain": [
       "{'mean_fit_time': array([ 8.97445297, 19.36330843, 25.92017274, 31.46965404, 34.26976485,\n",
       "        34.31358342, 28.30049062]),\n",
       " 'std_fit_time': array([ 4.88050714, 11.09951783, 13.19053357, 17.77356175, 19.45715094,\n",
       "        17.99466255, 12.23608985]),\n",
       " 'mean_score_time': array([0.05966644, 0.12088308, 0.15752845, 0.17659845, 0.18135972,\n",
       "        0.1655046 , 0.1296598 ]),\n",
       " 'std_score_time': array([0.00988526, 0.02760326, 0.03583377, 0.0530052 , 0.06036735,\n",
       "        0.044415  , 0.02020915]),\n",
       " 'param_max_depth': masked_array(data=[3, 6, 8, 10, 12, 16, 20],\n",
       "              mask=[False, False, False, False, False, False, False],\n",
       "        fill_value='?',\n",
       "             dtype=object),\n",
       " 'params': [{'max_depth': 3},\n",
       "  {'max_depth': 6},\n",
       "  {'max_depth': 8},\n",
       "  {'max_depth': 10},\n",
       "  {'max_depth': 12},\n",
       "  {'max_depth': 16},\n",
       "  {'max_depth': 20}],\n",
       " 'split0_test_score': array([0.76548747, 0.7560088 , 0.76819567, 0.77361205, 0.77335816,\n",
       "        0.77335816, 0.77335816]),\n",
       " 'split1_test_score': array([0.87593094, 0.88067028, 0.87550779, 0.8700914 , 0.8689912 ,\n",
       "        0.87694651, 0.87906229]),\n",
       " 'split2_test_score': array([0.89911984, 0.90986798, 0.91604604, 0.90741368, 0.90800609,\n",
       "        0.91003724, 0.91062965]),\n",
       " 'split3_test_score': array([0.81110359, 0.84859513, 0.84529452, 0.81812796, 0.81245768,\n",
       "        0.83708531, 0.83564658]),\n",
       " 'split4_test_score': array([0.83031483, 0.81211916, 0.80873392, 0.80924171, 0.80492552,\n",
       "        0.80374069, 0.79917062]),\n",
       " 'mean_test_score': array([0.83639133, 0.84145227, 0.84275559, 0.83569736, 0.83354773,\n",
       "        0.84023358, 0.83957346]),\n",
       " 'std_test_score': array([0.04733286, 0.05372299, 0.05131725, 0.04730613, 0.04834686,\n",
       "        0.04905987, 0.05028047]),\n",
       " 'rank_test_score': array([5, 2, 1, 6, 7, 3, 4])}"
      ]
     },
     "execution_count": 24,
     "metadata": {},
     "output_type": "execute_result"
    }
   ],
   "source": [
    "grid_result.cv_results_"
   ]
  },
  {
   "cell_type": "code",
   "execution_count": 12,
   "metadata": {},
   "outputs": [
    {
     "data": {
      "text/plain": [
       "{'max_depth': [3, 6, 8, 10, 12, 16]}"
      ]
     },
     "execution_count": 12,
     "metadata": {},
     "output_type": "execute_result"
    }
   ],
   "source": [
    "param_grid"
   ]
  },
  {
   "cell_type": "code",
   "execution_count": 13,
   "metadata": {},
   "outputs": [
    {
     "name": "stdout",
     "output_type": "stream",
     "text": [
      "Best: 0.842756 using {'max_depth': 8}\n"
     ]
    }
   ],
   "source": [
    "# summarize results\n",
    "print(\"Best: %f using %s\" % ( grid_result.best_score_, grid_result.best_params_))\n",
    "\n"
   ]
  },
  {
   "cell_type": "code",
   "execution_count": 14,
   "metadata": {
    "scrolled": true
   },
   "outputs": [
    {
     "name": "stdout",
     "output_type": "stream",
     "text": [
      "0.836391 (0.047333) with: {'max_depth': 3}\n",
      "0.841452 (0.053723) with: {'max_depth': 6}\n",
      "0.842756 (0.051317) with: {'max_depth': 8}\n",
      "0.835697 (0.047306) with: {'max_depth': 10}\n",
      "0.833548 (0.048347) with: {'max_depth': 12}\n",
      "0.840234 (0.049060) with: {'max_depth': 16}\n"
     ]
    }
   ],
   "source": [
    "means = grid_result.cv_results_['mean_test_score']\n",
    "stds = grid_result.cv_results_['std_test_score']\n",
    "params = grid_result.cv_results_['params']\n",
    "                                 \n",
    "for mean, stdev, param in zip(means, stds, params):\n",
    "    print(\"%f (%f) with: %r\" % (mean, stdev, param))\n",
    "                                \n",
    "                "
   ]
  },
  {
   "cell_type": "code",
   "execution_count": 31,
   "metadata": {},
   "outputs": [],
   "source": [
    "pyplot.errorbar(paramToTuneList, means, yerr=stds)\n",
    "\n",
    "\n",
    "pyplot.title(f\"XGBoost {tuneName} vs {scoreX} for {strategyName}\")\n",
    "pyplot.xlabel(tuneName)\n",
    "pyplot.ylabel(scoreX)\n",
    "pyplot.savefig(f'{tuneName}{st}To{ed}_{scoreX}-{strategyName}.png')"
   ]
  },
  {
   "cell_type": "code",
   "execution_count": null,
   "metadata": {},
   "outputs": [],
   "source": []
  }
 ],
 "metadata": {
  "kernelspec": {
   "display_name": "Python 3",
   "language": "python",
   "name": "python3"
  },
  "language_info": {
   "codemirror_mode": {
    "name": "ipython",
    "version": 3
   },
   "file_extension": ".py",
   "mimetype": "text/x-python",
   "name": "python",
   "nbconvert_exporter": "python",
   "pygments_lexer": "ipython3",
   "version": "3.7.6"
  }
 },
 "nbformat": 4,
 "nbformat_minor": 2
}
