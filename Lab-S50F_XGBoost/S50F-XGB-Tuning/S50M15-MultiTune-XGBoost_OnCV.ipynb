{
 "cells": [
  {
   "cell_type": "code",
   "execution_count": 1,
   "metadata": {},
   "outputs": [],
   "source": [
    "# XGBoost on Otto dataset, Tune n_estimators\n",
    "import pandas as pd\n",
    "import numpy as np\n",
    "\n",
    "from xgboost import XGBClassifier\n",
    "from lightgbm import LGBMClassifier\n",
    "from sklearn.ensemble import GradientBoostingClassifier \n",
    "\n",
    "\n",
    "\n",
    "from sklearn.model_selection import GridSearchCV\n",
    "from sklearn.model_selection import StratifiedKFold\n",
    "from sklearn.model_selection import KFold\n",
    "from sklearn.model_selection import TimeSeriesSplit\n",
    "\n",
    "\n",
    "from sklearn.model_selection import cross_val_score\n",
    "from sklearn.model_selection import cross_validate\n",
    "from sklearn.metrics import accuracy_score\n",
    "\n",
    "import matplotlib\n",
    "matplotlib.use('Agg')\n",
    "from matplotlib import pyplot\n",
    "\n",
    "import os\n",
    "import time\n",
    "from datetime  import datetime"
   ]
  },
  {
   "cell_type": "code",
   "execution_count": 2,
   "metadata": {},
   "outputs": [
    {
     "name": "stdout",
     "output_type": "stream",
     "text": [
      "<class 'pandas.core.frame.DataFrame'>\n",
      "DatetimeIndex: 75006 entries, 2007-01-03 09:45:00 to 2021-03-31 16:45:00\n",
      "Data columns (total 18 columns):\n",
      " #   Column                  Non-Null Count  Dtype  \n",
      "---  ------                  --------------  -----  \n",
      " 0   indy_ma-550             75006 non-null  float64\n",
      " 1   indy_ma-1100            75006 non-null  float64\n",
      " 2   indy_hh-550             75006 non-null  float64\n",
      " 3   indy_ll-550             75006 non-null  float64\n",
      " 4   indy_mid-550            75006 non-null  float64\n",
      " 5   indy_hh2-1100           75006 non-null  float64\n",
      " 6   indy_ll2-1100           75006 non-null  float64\n",
      " 7   indy_mid2-1100          75006 non-null  float64\n",
      " 8   indy_macd110-440        75006 non-null  float64\n",
      " 9   indy_signal110-440-110  75006 non-null  float64\n",
      " 10  indy_hist_macd110-440   75006 non-null  float64\n",
      " 11  indy_rsi25-ma20         75006 non-null  float64\n",
      " 12  indy_6ATRTrail_DC-110   75006 non-null  float64\n",
      " 13  cate_3trend-550_ma110   75006 non-null  int64  \n",
      " 14  cate_2trend-1100_ma220  75006 non-null  int64  \n",
      " 15  cate_rannkHL1100-ma66   75006 non-null  int64  \n",
      " 16  cate_CombineTrend       75006 non-null  int64  \n",
      " 17  LongSignal              75006 non-null  int64  \n",
      "dtypes: float64(13), int64(5)\n",
      "memory usage: 10.9 MB\n"
     ]
    }
   ],
   "source": [
    "#strategyName='Short'\n",
    "#pahtname=r'D:\\DataSets\\ML_LS\\ML-Short_S50M15_07To2Q20-Train_Norm.csv'\n",
    "\n",
    "\n",
    "pahtname=r'D:\\DataSets\\ML-Long_S50M15_07To1Q21.csv'\n",
    "\n",
    "filepath= os.path.abspath(pahtname)\n",
    "\n",
    "dataset =pd.read_csv(filepath,index_col=\"datetime\", parse_dates=['datetime'],dayfirst=True)\n",
    "dataset.drop(columns=['open','high','low','close'],inplace=True)\n",
    "\n",
    "dataset.info()\n"
   ]
  },
  {
   "cell_type": "code",
   "execution_count": 3,
   "metadata": {},
   "outputs": [],
   "source": [
    "def CreateData(dfx):\n",
    " labelCol=dfx.columns[len(dfx.columns)-1]\n",
    " \n",
    " X_df_temp = dfx.drop(columns=labelCol)\n",
    " Y_df_temp = dfx[labelCol]\n",
    "\n",
    " Xtemp=X_df_temp.to_numpy()\n",
    " ytemp=Y_df_temp.to_numpy()\n",
    "\n",
    " return X_df_temp,Y_df_temp, Xtemp,ytemp"
   ]
  },
  {
   "cell_type": "code",
   "execution_count": 4,
   "metadata": {
    "scrolled": true
   },
   "outputs": [
    {
     "name": "stdout",
     "output_type": "stream",
     "text": [
      "<class 'pandas.core.frame.DataFrame'>\n",
      "DatetimeIndex: 75006 entries, 2007-01-03 09:45:00 to 2021-03-31 16:45:00\n",
      "Data columns (total 17 columns):\n",
      " #   Column                  Non-Null Count  Dtype  \n",
      "---  ------                  --------------  -----  \n",
      " 0   indy_ma-550             75006 non-null  float64\n",
      " 1   indy_ma-1100            75006 non-null  float64\n",
      " 2   indy_hh-550             75006 non-null  float64\n",
      " 3   indy_ll-550             75006 non-null  float64\n",
      " 4   indy_mid-550            75006 non-null  float64\n",
      " 5   indy_hh2-1100           75006 non-null  float64\n",
      " 6   indy_ll2-1100           75006 non-null  float64\n",
      " 7   indy_mid2-1100          75006 non-null  float64\n",
      " 8   indy_macd110-440        75006 non-null  float64\n",
      " 9   indy_signal110-440-110  75006 non-null  float64\n",
      " 10  indy_hist_macd110-440   75006 non-null  float64\n",
      " 11  indy_rsi25-ma20         75006 non-null  float64\n",
      " 12  indy_6ATRTrail_DC-110   75006 non-null  float64\n",
      " 13  cate_3trend-550_ma110   75006 non-null  int64  \n",
      " 14  cate_2trend-1100_ma220  75006 non-null  int64  \n",
      " 15  cate_rannkHL1100-ma66   75006 non-null  int64  \n",
      " 16  cate_CombineTrend       75006 non-null  int64  \n",
      "dtypes: float64(13), int64(4)\n",
      "memory usage: 10.3 MB\n",
      "None\n"
     ]
    }
   ],
   "source": [
    "#My Train\n",
    "st='01-2007'\n",
    "ed='03-2021'\n",
    "df_train=dataset[st:ed]\n",
    "#df_train.info()\n",
    "X_df,Y_df,X_train,y_train=CreateData( df_train)\n",
    "\n",
    "print(X_df.info())\n"
   ]
  },
  {
   "cell_type": "code",
   "execution_count": 5,
   "metadata": {},
   "outputs": [
    {
     "data": {
      "text/html": [
       "<div>\n",
       "<style scoped>\n",
       "    .dataframe tbody tr th:only-of-type {\n",
       "        vertical-align: middle;\n",
       "    }\n",
       "\n",
       "    .dataframe tbody tr th {\n",
       "        vertical-align: top;\n",
       "    }\n",
       "\n",
       "    .dataframe thead th {\n",
       "        text-align: right;\n",
       "    }\n",
       "</style>\n",
       "<table border=\"1\" class=\"dataframe\">\n",
       "  <thead>\n",
       "    <tr style=\"text-align: right;\">\n",
       "      <th></th>\n",
       "      <th>indy_ma-550</th>\n",
       "      <th>indy_ma-1100</th>\n",
       "      <th>indy_hh-550</th>\n",
       "      <th>indy_ll-550</th>\n",
       "      <th>indy_mid-550</th>\n",
       "      <th>indy_hh2-1100</th>\n",
       "      <th>indy_ll2-1100</th>\n",
       "      <th>indy_mid2-1100</th>\n",
       "      <th>indy_macd110-440</th>\n",
       "      <th>indy_signal110-440-110</th>\n",
       "      <th>indy_hist_macd110-440</th>\n",
       "      <th>indy_rsi25-ma20</th>\n",
       "      <th>indy_6ATRTrail_DC-110</th>\n",
       "      <th>cate_3trend-550_ma110</th>\n",
       "      <th>cate_2trend-1100_ma220</th>\n",
       "      <th>cate_rannkHL1100-ma66</th>\n",
       "      <th>cate_CombineTrend</th>\n",
       "    </tr>\n",
       "    <tr>\n",
       "      <th>datetime</th>\n",
       "      <th></th>\n",
       "      <th></th>\n",
       "      <th></th>\n",
       "      <th></th>\n",
       "      <th></th>\n",
       "      <th></th>\n",
       "      <th></th>\n",
       "      <th></th>\n",
       "      <th></th>\n",
       "      <th></th>\n",
       "      <th></th>\n",
       "      <th></th>\n",
       "      <th></th>\n",
       "      <th></th>\n",
       "      <th></th>\n",
       "      <th></th>\n",
       "      <th></th>\n",
       "    </tr>\n",
       "  </thead>\n",
       "  <tbody>\n",
       "    <tr>\n",
       "      <th>2021-03-31 15:45:00</th>\n",
       "      <td>0.99</td>\n",
       "      <td>0.98</td>\n",
       "      <td>1.02</td>\n",
       "      <td>0.95</td>\n",
       "      <td>0.001</td>\n",
       "      <td>1.02</td>\n",
       "      <td>0.94</td>\n",
       "      <td>0.001</td>\n",
       "      <td>2.39</td>\n",
       "      <td>1.18</td>\n",
       "      <td>1.20</td>\n",
       "      <td>47.74</td>\n",
       "      <td>1.0</td>\n",
       "      <td>3</td>\n",
       "      <td>0</td>\n",
       "      <td>3</td>\n",
       "      <td>4</td>\n",
       "    </tr>\n",
       "    <tr>\n",
       "      <th>2021-03-31 16:00:00</th>\n",
       "      <td>0.99</td>\n",
       "      <td>0.98</td>\n",
       "      <td>1.02</td>\n",
       "      <td>0.95</td>\n",
       "      <td>0.001</td>\n",
       "      <td>1.02</td>\n",
       "      <td>0.94</td>\n",
       "      <td>0.001</td>\n",
       "      <td>2.45</td>\n",
       "      <td>1.16</td>\n",
       "      <td>1.29</td>\n",
       "      <td>47.00</td>\n",
       "      <td>1.0</td>\n",
       "      <td>3</td>\n",
       "      <td>0</td>\n",
       "      <td>3</td>\n",
       "      <td>4</td>\n",
       "    </tr>\n",
       "    <tr>\n",
       "      <th>2021-03-31 16:15:00</th>\n",
       "      <td>0.99</td>\n",
       "      <td>0.98</td>\n",
       "      <td>1.02</td>\n",
       "      <td>0.95</td>\n",
       "      <td>0.001</td>\n",
       "      <td>1.02</td>\n",
       "      <td>0.94</td>\n",
       "      <td>0.001</td>\n",
       "      <td>2.53</td>\n",
       "      <td>1.14</td>\n",
       "      <td>1.39</td>\n",
       "      <td>46.28</td>\n",
       "      <td>1.0</td>\n",
       "      <td>3</td>\n",
       "      <td>0</td>\n",
       "      <td>3</td>\n",
       "      <td>4</td>\n",
       "    </tr>\n",
       "    <tr>\n",
       "      <th>2021-03-31 16:30:00</th>\n",
       "      <td>0.99</td>\n",
       "      <td>0.98</td>\n",
       "      <td>1.02</td>\n",
       "      <td>0.95</td>\n",
       "      <td>0.001</td>\n",
       "      <td>1.02</td>\n",
       "      <td>0.94</td>\n",
       "      <td>0.001</td>\n",
       "      <td>2.58</td>\n",
       "      <td>1.12</td>\n",
       "      <td>1.46</td>\n",
       "      <td>46.08</td>\n",
       "      <td>1.0</td>\n",
       "      <td>3</td>\n",
       "      <td>0</td>\n",
       "      <td>3</td>\n",
       "      <td>4</td>\n",
       "    </tr>\n",
       "    <tr>\n",
       "      <th>2021-03-31 16:45:00</th>\n",
       "      <td>0.99</td>\n",
       "      <td>0.98</td>\n",
       "      <td>1.02</td>\n",
       "      <td>0.95</td>\n",
       "      <td>0.001</td>\n",
       "      <td>1.02</td>\n",
       "      <td>0.94</td>\n",
       "      <td>0.001</td>\n",
       "      <td>2.61</td>\n",
       "      <td>1.11</td>\n",
       "      <td>1.51</td>\n",
       "      <td>45.92</td>\n",
       "      <td>1.0</td>\n",
       "      <td>3</td>\n",
       "      <td>0</td>\n",
       "      <td>3</td>\n",
       "      <td>4</td>\n",
       "    </tr>\n",
       "  </tbody>\n",
       "</table>\n",
       "</div>"
      ],
      "text/plain": [
       "                     indy_ma-550  indy_ma-1100  indy_hh-550  indy_ll-550  \\\n",
       "datetime                                                                   \n",
       "2021-03-31 15:45:00         0.99          0.98         1.02         0.95   \n",
       "2021-03-31 16:00:00         0.99          0.98         1.02         0.95   \n",
       "2021-03-31 16:15:00         0.99          0.98         1.02         0.95   \n",
       "2021-03-31 16:30:00         0.99          0.98         1.02         0.95   \n",
       "2021-03-31 16:45:00         0.99          0.98         1.02         0.95   \n",
       "\n",
       "                     indy_mid-550  indy_hh2-1100  indy_ll2-1100  \\\n",
       "datetime                                                          \n",
       "2021-03-31 15:45:00         0.001           1.02           0.94   \n",
       "2021-03-31 16:00:00         0.001           1.02           0.94   \n",
       "2021-03-31 16:15:00         0.001           1.02           0.94   \n",
       "2021-03-31 16:30:00         0.001           1.02           0.94   \n",
       "2021-03-31 16:45:00         0.001           1.02           0.94   \n",
       "\n",
       "                     indy_mid2-1100  indy_macd110-440  indy_signal110-440-110  \\\n",
       "datetime                                                                        \n",
       "2021-03-31 15:45:00           0.001              2.39                    1.18   \n",
       "2021-03-31 16:00:00           0.001              2.45                    1.16   \n",
       "2021-03-31 16:15:00           0.001              2.53                    1.14   \n",
       "2021-03-31 16:30:00           0.001              2.58                    1.12   \n",
       "2021-03-31 16:45:00           0.001              2.61                    1.11   \n",
       "\n",
       "                     indy_hist_macd110-440  indy_rsi25-ma20  \\\n",
       "datetime                                                      \n",
       "2021-03-31 15:45:00                   1.20            47.74   \n",
       "2021-03-31 16:00:00                   1.29            47.00   \n",
       "2021-03-31 16:15:00                   1.39            46.28   \n",
       "2021-03-31 16:30:00                   1.46            46.08   \n",
       "2021-03-31 16:45:00                   1.51            45.92   \n",
       "\n",
       "                     indy_6ATRTrail_DC-110  cate_3trend-550_ma110  \\\n",
       "datetime                                                            \n",
       "2021-03-31 15:45:00                    1.0                      3   \n",
       "2021-03-31 16:00:00                    1.0                      3   \n",
       "2021-03-31 16:15:00                    1.0                      3   \n",
       "2021-03-31 16:30:00                    1.0                      3   \n",
       "2021-03-31 16:45:00                    1.0                      3   \n",
       "\n",
       "                     cate_2trend-1100_ma220  cate_rannkHL1100-ma66  \\\n",
       "datetime                                                             \n",
       "2021-03-31 15:45:00                       0                      3   \n",
       "2021-03-31 16:00:00                       0                      3   \n",
       "2021-03-31 16:15:00                       0                      3   \n",
       "2021-03-31 16:30:00                       0                      3   \n",
       "2021-03-31 16:45:00                       0                      3   \n",
       "\n",
       "                     cate_CombineTrend  \n",
       "datetime                                \n",
       "2021-03-31 15:45:00                  4  \n",
       "2021-03-31 16:00:00                  4  \n",
       "2021-03-31 16:15:00                  4  \n",
       "2021-03-31 16:30:00                  4  \n",
       "2021-03-31 16:45:00                  4  "
      ]
     },
     "execution_count": 5,
     "metadata": {},
     "output_type": "execute_result"
    }
   ],
   "source": [
    "X_df.tail(5)"
   ]
  },
  {
   "cell_type": "code",
   "execution_count": 6,
   "metadata": {},
   "outputs": [
    {
     "data": {
      "text/plain": [
       "datetime\n",
       "2021-03-31 15:45:00    0\n",
       "2021-03-31 16:00:00    0\n",
       "2021-03-31 16:15:00    0\n",
       "2021-03-31 16:30:00    0\n",
       "2021-03-31 16:45:00    0\n",
       "Name: LongSignal, dtype: int64"
      ]
     },
     "execution_count": 6,
     "metadata": {},
     "output_type": "execute_result"
    }
   ],
   "source": [
    "Y_df.tail(5)"
   ]
  },
  {
   "cell_type": "code",
   "execution_count": 7,
   "metadata": {},
   "outputs": [
    {
     "data": {
      "text/plain": [
       "0    44094\n",
       "1    30912\n",
       "Name: LongSignal, dtype: int64"
      ]
     },
     "execution_count": 7,
     "metadata": {},
     "output_type": "execute_result"
    }
   ],
   "source": [
    "Y_df.value_counts()"
   ]
  },
  {
   "cell_type": "markdown",
   "metadata": {},
   "source": [
    "# Multiple Tune  n_estimator and LearningRate"
   ]
  },
  {
   "cell_type": "code",
   "execution_count": 8,
   "metadata": {},
   "outputs": [
    {
     "name": "stdout",
     "output_type": "stream",
     "text": [
      "xgb\n",
      "the number of trees:  [40, 60, 80, 100, 120, 140, 160, 180, 200, 220]\n",
      "learning rate:  [0.001, 0.005, 0.01, 0.05, 0.1, 0.5, 1]\n",
      "depth-tree:  8\n"
     ]
    }
   ],
   "source": [
    "algoName='xgb'\n",
    "\n",
    "#scoreX=\"neg_log_loss\"\n",
    "scoreX='accuracy'\n",
    "\n",
    "xDepth=8\n",
    "\n",
    "splitN=10\n",
    "isShuffle=False  # if True  set random_state=xseed else None\n",
    "\n",
    "#For Actual\n",
    "estimatorList=list(range(40, 240,20))\n",
    "learning_rateList =[0.001,0.005,0.01,0.05,0.1,0.5,1]\n",
    "\n",
    "\n",
    "#For Test\n",
    "# estimatorList=list(range(50, 101,50))\n",
    "# learning_rateList =[0.1,0.5]\n",
    "\n",
    "if algoName=='lgb':\n",
    " nLeafList=[31] \n",
    " nLeafList.extend(range(50,150,50))\n",
    " print(nLeafList)\n",
    "\n",
    "\n",
    "\n",
    "\n",
    "print(algoName)\n",
    "print('the number of trees: ',estimatorList)\n",
    "print('learning rate: ',learning_rateList)\n",
    "print('depth-tree: ', xDepth)\n",
    " "
   ]
  },
  {
   "cell_type": "markdown",
   "metadata": {},
   "source": [
    "# XGBClassifier change paramter consistently"
   ]
  },
  {
   "cell_type": "code",
   "execution_count": 25,
   "metadata": {},
   "outputs": [],
   "source": [
    "if isShuffle==False:\n",
    "    xseed=None\n",
    "else:\n",
    "    xseed=1990\n",
    "\n",
    "option=1\n",
    "if option==1 :\n",
    " kfold =  TimeSeriesSplit(n_splits=splitN,max_train_size=None)\n",
    "elif option==2:\n",
    " kfold = KFold(n_splits=splitN, shuffle=isShuffle, random_state=xseed)\n",
    "else:\n",
    " kfold = StratifiedKFold(n_splits=splitN, shuffle=isShuffle, random_state=xseed)\n",
    "print(kfold)"
   ]
  },
  {
   "cell_type": "code",
   "execution_count": 26,
   "metadata": {},
   "outputs": [
    {
     "name": "stdout",
     "output_type": "stream",
     "text": [
      "{'learning_rate': [0.1, 0.5], 'n_estimators': [50, 100]}\n"
     ]
    },
    {
     "data": {
      "text/plain": [
       "XGBClassifier(base_score=None, booster=None, colsample_bylevel=None,\n",
       "              colsample_bynode=None, colsample_bytree=None, gamma=None,\n",
       "              gpu_id=None, importance_type='gain', interaction_constraints=None,\n",
       "              learning_rate=None, max_delta_step=None, max_depth=8,\n",
       "              min_child_weight=None, missing=nan, monotone_constraints=None,\n",
       "              n_estimators=100, n_jobs=None, num_parallel_tree=None,\n",
       "              random_state=None, reg_alpha=None, reg_lambda=None,\n",
       "              scale_pos_weight=None, subsample=None, tree_method=None,\n",
       "              validate_parameters=None, verbosity=None)"
      ]
     },
     "execution_count": 26,
     "metadata": {},
     "output_type": "execute_result"
    }
   ],
   "source": [
    "if algoName=='xgb':\n",
    " param_grid = dict(learning_rate=learning_rateList, n_estimators=estimatorList)\n",
    " model = XGBClassifier(max_depth=xDepth,importance_type='gain')\n",
    "elif algoName=='lgb':\n",
    " param_grid = dict(learning_rate=learning_rateList, n_estimators=estimatorList,num_leaves=nLeafList)\n",
    " #model=LGBMClassifier(max_depth=mxDepth)\n",
    " model=LGBMClassifier()\n",
    "\n",
    "print(param_grid)\n",
    "model\n"
   ]
  },
  {
   "cell_type": "code",
   "execution_count": 27,
   "metadata": {},
   "outputs": [
    {
     "name": "stdout",
     "output_type": "stream",
     "text": [
      "2021-04-14 00:16:00.561174\n"
     ]
    }
   ],
   "source": [
    "t_Start=time.time()\n",
    "print(datetime.now())"
   ]
  },
  {
   "cell_type": "code",
   "execution_count": 31,
   "metadata": {},
   "outputs": [
    {
     "data": {
      "text/plain": [
       "GridSearchCV(cv=TimeSeriesSplit(max_train_size=None, n_splits=2),\n",
       "             estimator=XGBClassifier(base_score=None, booster=None,\n",
       "                                     colsample_bylevel=None,\n",
       "                                     colsample_bynode=None,\n",
       "                                     colsample_bytree=None, gamma=None,\n",
       "                                     gpu_id=None, importance_type='gain',\n",
       "                                     interaction_constraints=None,\n",
       "                                     learning_rate=None, max_delta_step=None,\n",
       "                                     max_depth=8, min_child_weight=None,\n",
       "                                     missing=nan, monotone_constraints=None,\n",
       "                                     n_estimators=100, n_jobs=None,\n",
       "                                     num_parallel_tree=None, random_state=None,\n",
       "                                     reg_alpha=None, reg_lambda=None,\n",
       "                                     scale_pos_weight=None, subsample=None,\n",
       "                                     tree_method=None, validate_parameters=None,\n",
       "                                     verbosity=None),\n",
       "             n_jobs=-1,\n",
       "             param_grid={'learning_rate': [0.1, 0.5],\n",
       "                         'n_estimators': [50, 100]},\n",
       "             scoring='accuracy')"
      ]
     },
     "execution_count": 31,
     "metadata": {},
     "output_type": "execute_result"
    }
   ],
   "source": [
    "grid_search = GridSearchCV(model, param_grid, scoring=scoreX, n_jobs=-1, cv=kfold)\n",
    "grid_result = grid_search.fit(X_train, y_train)\n",
    "grid_result"
   ]
  },
  {
   "cell_type": "code",
   "execution_count": 32,
   "metadata": {},
   "outputs": [
    {
     "data": {
      "text/plain": [
       "{'mean_fit_time': array([5.48266661, 9.99684858, 5.02076006, 8.30453885]),\n",
       " 'std_fit_time': array([1.74411976, 3.33331323, 1.47370911, 3.1121577 ]),\n",
       " 'mean_score_time': array([0.08890772, 0.13253343, 0.07805192, 0.1326319 ]),\n",
       " 'std_score_time': array([0.00313616, 0.01384771, 0.00771916, 0.03489435]),\n",
       " 'param_learning_rate': masked_array(data=[0.1, 0.1, 0.5, 0.5],\n",
       "              mask=[False, False, False, False],\n",
       "        fill_value='?',\n",
       "             dtype=object),\n",
       " 'param_n_estimators': masked_array(data=[50, 100, 50, 100],\n",
       "              mask=[False, False, False, False],\n",
       "        fill_value='?',\n",
       "             dtype=object),\n",
       " 'params': [{'learning_rate': 0.1, 'n_estimators': 50},\n",
       "  {'learning_rate': 0.1, 'n_estimators': 100},\n",
       "  {'learning_rate': 0.5, 'n_estimators': 50},\n",
       "  {'learning_rate': 0.5, 'n_estimators': 100}],\n",
       " 'split0_test_score': array([0.8687305 , 0.8738101 , 0.85761139, 0.85821134]),\n",
       " 'split1_test_score': array([0.81553476, 0.81769458, 0.82613391, 0.82421406]),\n",
       " 'mean_test_score': array([0.84213263, 0.84575234, 0.84187265, 0.8412127 ]),\n",
       " 'std_test_score': array([0.02659787, 0.02805776, 0.01573874, 0.01699864]),\n",
       " 'rank_test_score': array([2, 1, 3, 4])}"
      ]
     },
     "execution_count": 32,
     "metadata": {},
     "output_type": "execute_result"
    }
   ],
   "source": [
    "grid_result.cv_results_"
   ]
  },
  {
   "cell_type": "code",
   "execution_count": 33,
   "metadata": {},
   "outputs": [
    {
     "name": "stdout",
     "output_type": "stream",
     "text": [
      "2021-04-14 00:17:55.601063\n",
      "Total execute train :  0.03\n"
     ]
    }
   ],
   "source": [
    "print(datetime.now())\n",
    "t_End=time.time()\n",
    "t_elapsed=(t_End-t_Start)/60/60\n",
    "print('Total execute train : ',round(t_elapsed,2))"
   ]
  },
  {
   "cell_type": "markdown",
   "metadata": {},
   "source": [
    "# Summarize best results"
   ]
  },
  {
   "cell_type": "code",
   "execution_count": 34,
   "metadata": {},
   "outputs": [
    {
     "name": "stdout",
     "output_type": "stream",
     "text": [
      "{'learning_rate': [0.1, 0.5], 'n_estimators': [50, 100]}\n",
      "Best: 0.845752 using {'learning_rate': 0.1, 'n_estimators': 100}\n"
     ]
    }
   ],
   "source": [
    "print(param_grid)\n",
    "print(\"Best: %f using %s\" % ( grid_result.best_score_, grid_result.best_params_))\n",
    "\n"
   ]
  },
  {
   "cell_type": "code",
   "execution_count": 35,
   "metadata": {
    "scrolled": true
   },
   "outputs": [
    {
     "name": "stdout",
     "output_type": "stream",
     "text": [
      "0.842133,0.026598,{'learning_rate': 0.1, 'n_estimators': 50}\n",
      "0.845752,0.028058,{'learning_rate': 0.1, 'n_estimators': 100}\n",
      "0.841873,0.015739,{'learning_rate': 0.5, 'n_estimators': 50}\n",
      "0.841213,0.016999,{'learning_rate': 0.5, 'n_estimators': 100}\n"
     ]
    }
   ],
   "source": [
    "means = grid_result.cv_results_['mean_test_score']\n",
    "stds = grid_result.cv_results_['std_test_score']\n",
    "params = grid_result.cv_results_['params']\n",
    "                                 \n",
    "for mean, stdev, param in zip(means, stds, params):\n",
    "    print(\"%f,%f,%r\" % (mean, stdev, param))\n",
    "                                \n",
    "                "
   ]
  },
  {
   "cell_type": "markdown",
   "metadata": {},
   "source": [
    "# Plot Result"
   ]
  },
  {
   "cell_type": "code",
   "execution_count": 36,
   "metadata": {},
   "outputs": [
    {
     "data": {
      "text/plain": [
       "2"
      ]
     },
     "execution_count": 36,
     "metadata": {},
     "output_type": "execute_result"
    }
   ],
   "source": [
    "# scores = np.array(means).reshape(len(learning_rateList), len(estimatorList))\n",
    "# len(scores)"
   ]
  },
  {
   "cell_type": "code",
   "execution_count": 37,
   "metadata": {},
   "outputs": [
    {
     "data": {
      "text/plain": [
       "'140421_0024'"
      ]
     },
     "execution_count": 37,
     "metadata": {},
     "output_type": "execute_result"
    }
   ],
   "source": [
    "# buildtime=datetime.now().strftime('%d%m%y_%H%M')\n",
    "# buildtime"
   ]
  },
  {
   "cell_type": "code",
   "execution_count": 40,
   "metadata": {},
   "outputs": [],
   "source": [
    "# for i, value in enumerate(learning_rateList):\n",
    "#   pyplot.plot(estimatorList, scores[i], label='learning_rate: ' + str(value))\n",
    "# pyplot.legend()\n",
    "# pyplot.xlabel('n_estimators')\n",
    "# pyplot.ylabel(scoreX)\n",
    "# pyplot.savefig(f'nTree_vs_lR_{st}To{ed}_{scoreX}-{algoName}_{buildtime}.png')"
   ]
  },
  {
   "cell_type": "code",
   "execution_count": null,
   "metadata": {},
   "outputs": [],
   "source": []
  },
  {
   "cell_type": "code",
   "execution_count": null,
   "metadata": {},
   "outputs": [],
   "source": []
  }
 ],
 "metadata": {
  "kernelspec": {
   "display_name": "Python 3",
   "language": "python",
   "name": "python3"
  },
  "language_info": {
   "codemirror_mode": {
    "name": "ipython",
    "version": 3
   },
   "file_extension": ".py",
   "mimetype": "text/x-python",
   "name": "python",
   "nbconvert_exporter": "python",
   "pygments_lexer": "ipython3",
   "version": "3.7.8"
  }
 },
 "nbformat": 4,
 "nbformat_minor": 2
}
