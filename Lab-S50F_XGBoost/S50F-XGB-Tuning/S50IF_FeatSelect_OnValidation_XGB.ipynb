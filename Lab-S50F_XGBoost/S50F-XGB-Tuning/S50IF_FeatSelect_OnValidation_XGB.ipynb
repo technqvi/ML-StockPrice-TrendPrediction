{
 "cells": [
  {
   "cell_type": "code",
   "execution_count": 40,
   "metadata": {},
   "outputs": [],
   "source": [
    "import pandas as pd\n",
    "\n",
    "import numpy as np\n",
    "\n",
    "from xgboost import XGBClassifier\n",
    "from lightgbm import LGBMClassifier\n",
    "from sklearn.ensemble import GradientBoostingClassifier \n",
    "\n",
    "from sklearn.model_selection import train_test_split\n",
    "\n",
    "from sklearn.model_selection import StratifiedKFold\n",
    "from sklearn.model_selection import KFold\n",
    "\n",
    "from sklearn.model_selection import cross_val_score\n",
    "from sklearn.model_selection import cross_validate\n",
    "from sklearn.model_selection import TimeSeriesSplit\n",
    "\n",
    "\n",
    "\n",
    "from sklearn.metrics import accuracy_score\n",
    "from sklearn.feature_selection import SelectFromModel\n",
    "\n",
    "\n",
    "\n",
    "from xgboost import plot_importance\n",
    "\n",
    "from matplotlib import pyplot\n",
    "\n",
    "import os\n",
    "\n",
    "import openpyxl\n"
   ]
  },
  {
   "cell_type": "code",
   "execution_count": 41,
   "metadata": {},
   "outputs": [],
   "source": [
    "class display(object):\n",
    "    \"\"\"Display HTML representation of multiple objects\"\"\"\n",
    "    template = \"\"\"<div style=\"float: left; padding: 10px;\">\n",
    "    <p style='font-family:\"Courier New\", Courier, monospace'>{0}</p>{1}\n",
    "    </div>\"\"\"\n",
    "    def __init__(self, *args):\n",
    "        self.args = args\n",
    "        \n",
    "    def _repr_html_(self):\n",
    "        return '\\n'.join(self.template.format(a, eval(a)._repr_html_())\n",
    "                         for a in self.args)\n",
    "    \n",
    "    def __repr__(self):\n",
    "        return '\\n\\n'.join(a + '\\n' + repr(eval(a))\n",
    "                           for a in self.args)"
   ]
  },
  {
   "cell_type": "code",
   "execution_count": 57,
   "metadata": {},
   "outputs": [
    {
     "name": "stdout",
     "output_type": "stream",
     "text": [
      "long\n",
      "parameter model :  100 - 0.05 - 8\n"
     ]
    }
   ],
   "source": [
    "# split data into train and test sets\n",
    "seed =1992\n",
    "\n",
    "strategyName='long'\n",
    "algoName='xgb'\n",
    "print(strategyName)\n",
    "\n",
    "\n",
    "\n",
    "st='01-2007'\n",
    "ed='03-2021'\n",
    "\n",
    "isFullFeatures=True\n",
    "\n",
    "\n",
    "if strategyName=='long':\n",
    " nTree=100\n",
    " learnRate=0.05\n",
    "elif strategyName=='short':\n",
    " nTree=120\n",
    " learnRate=0.005\n",
    "\n",
    "mxDepth=8\n",
    "\n",
    "if algoName=='lgb':\n",
    "  nLeaf=31\n",
    "print('parameter model : ',nTree,'-',learnRate,'-',mxDepth)\n",
    "    \n",
    "    \n",
    "splitN=3\n",
    "option=2 \n",
    "isShuffle=False  # if True  set random_state=xseed else None\n",
    "# 1=time 2=KFold 3=StratifiedKFold"
   ]
  },
  {
   "cell_type": "code",
   "execution_count": 58,
   "metadata": {},
   "outputs": [
    {
     "name": "stdout",
     "output_type": "stream",
     "text": [
      "d:\\DataSets\\ML-Long_S50M15_07To1Q21.csv\n",
      "d:\\DataSets\\xgb_s50f15m_featSelect2021.xlsx\n"
     ]
    }
   ],
   "source": [
    "\n",
    "feat_path=r'd:\\DataSets\\xgb_s50f15m_featSelect2021.xlsx' \n",
    "\n",
    "if strategyName=='long':\n",
    "  pathname=r'd:\\DataSets\\ML-Long_S50M15_07To1Q21.csv'\n",
    "else :\n",
    "  pathname=r'd:\\DataSets\\ML_LS\\ML-Short_S50M15_07To1Q21.csv'\n",
    "\n",
    "print(pathname)\n",
    "print(feat_path)"
   ]
  },
  {
   "cell_type": "code",
   "execution_count": 59,
   "metadata": {},
   "outputs": [
    {
     "name": "stdout",
     "output_type": "stream",
     "text": [
      "XGBClassifier(base_score=None, booster=None, colsample_bylevel=None,\n",
      "              colsample_bynode=None, colsample_bytree=None, gamma=None,\n",
      "              gpu_id=None, importance_type='gain', interaction_constraints=None,\n",
      "              learning_rate=0.05, max_delta_step=None, max_depth=8,\n",
      "              min_child_weight=None, missing=nan, monotone_constraints=None,\n",
      "              n_estimators=100, n_jobs=None, num_parallel_tree=None,\n",
      "              random_state=None, reg_alpha=None, reg_lambda=None,\n",
      "              scale_pos_weight=None, subsample=None, tree_method=None,\n",
      "              validate_parameters=None, verbosity=None)\n"
     ]
    }
   ],
   "source": [
    "if algoName=='xgb':\n",
    " model = XGBClassifier(n_estimators=nTree,max_depth=mxDepth,learning_rate=learnRate,importance_type='gain')\n",
    "elif algoName=='lgb':\n",
    " model=LGBMClassifier(n_estimators=nTree,learning_rate=learnRate,num_leaves=nLeaf)\n",
    " #model=LGBMClassifier(n_estimators=nTree,learning_rate=learnRate,num_leaves=nLeaf,max_depth=mxDepth)\n",
    "else:\n",
    "  model = GradientBoostingClassifier(n_estimators=nTree,max_depth=mxDepth,learning_rate=learnRate)\n",
    "\n",
    "\n",
    "print(model)"
   ]
  },
  {
   "cell_type": "code",
   "execution_count": 60,
   "metadata": {},
   "outputs": [
    {
     "name": "stdout",
     "output_type": "stream",
     "text": [
      "<class 'pandas.core.frame.DataFrame'>\n",
      "DatetimeIndex: 75006 entries, 2007-01-03 09:45:00 to 2021-03-31 16:45:00\n",
      "Data columns (total 22 columns):\n",
      " #   Column                  Non-Null Count  Dtype  \n",
      "---  ------                  --------------  -----  \n",
      " 0   open                    75006 non-null  float64\n",
      " 1   high                    75006 non-null  float64\n",
      " 2   low                     75006 non-null  float64\n",
      " 3   close                   75006 non-null  float64\n",
      " 4   indy_ma-550             75006 non-null  float64\n",
      " 5   indy_ma-1100            75006 non-null  float64\n",
      " 6   indy_hh-550             75006 non-null  float64\n",
      " 7   indy_ll-550             75006 non-null  float64\n",
      " 8   indy_mid-550            75006 non-null  float64\n",
      " 9   indy_hh2-1100           75006 non-null  float64\n",
      " 10  indy_ll2-1100           75006 non-null  float64\n",
      " 11  indy_mid2-1100          75006 non-null  float64\n",
      " 12  indy_macd110-440        75006 non-null  float64\n",
      " 13  indy_signal110-440-110  75006 non-null  float64\n",
      " 14  indy_hist_macd110-440   75006 non-null  float64\n",
      " 15  indy_rsi25-ma20         75006 non-null  float64\n",
      " 16  indy_6ATRTrail_DC-110   75006 non-null  float64\n",
      " 17  cate_3trend-550_ma110   75006 non-null  int64  \n",
      " 18  cate_2trend-1100_ma220  75006 non-null  int64  \n",
      " 19  cate_rannkHL1100-ma66   75006 non-null  int64  \n",
      " 20  cate_CombineTrend       75006 non-null  int64  \n",
      " 21  LongSignal              75006 non-null  int64  \n",
      "dtypes: float64(17), int64(5)\n",
      "memory usage: 13.2 MB\n"
     ]
    }
   ],
   "source": [
    "filepath= os.path.abspath(pathname)\n",
    "\n",
    "dataset =pd.read_csv(filepath,index_col=\"datetime\", parse_dates=['datetime'],dayfirst=True)\n",
    "\n",
    "dataset.info()"
   ]
  },
  {
   "cell_type": "code",
   "execution_count": 61,
   "metadata": {},
   "outputs": [
    {
     "name": "stdout",
     "output_type": "stream",
     "text": [
      "label: LongSignal\n"
     ]
    }
   ],
   "source": [
    "# x[-1] is lable always\n",
    "label=dataset.columns[len(dataset.columns)-1]\n",
    "print('label:',label)"
   ]
  },
  {
   "cell_type": "code",
   "execution_count": 62,
   "metadata": {},
   "outputs": [
    {
     "name": "stdout",
     "output_type": "stream",
     "text": [
      "FullFeatures\n",
      "['open' 'high' 'low' 'close' 'indy_ma-550' 'indy_ma-1100' 'indy_hh-550'\n",
      " 'indy_ll-550' 'indy_mid-550' 'indy_hh2-1100' 'indy_ll2-1100'\n",
      " 'indy_mid2-1100' 'indy_macd110-440' 'indy_signal110-440-110'\n",
      " 'indy_hist_macd110-440' 'indy_rsi25-ma20' 'indy_6ATRTrail_DC-110'\n",
      " 'cate_3trend-550_ma110' 'cate_2trend-1100_ma220' 'cate_rannkHL1100-ma66'\n",
      " 'cate_CombineTrend' 'LongSignal']\n"
     ]
    }
   ],
   "source": [
    "if  isFullFeatures==True:\n",
    "    print(\"FullFeatures\")\n",
    "    select_feat=np.array(dataset.columns )\n",
    "else:\n",
    "    print(\"SelectFeature\")\n",
    "    feat_path=os.path.abspath(feat_path)\n",
    "    #print(os.path.exists(feat_path))\n",
    "    feat_df=pd.read_excel(feat_path,header=None,engine='openpyxl',sheet_name=0)\n",
    "    print('feature selection : ',feat_df)\n",
    "    select_feat=feat_df.loc[:,0].tolist()\n",
    "    select_feat.extend(['open','high','low','close'])\n",
    "    select_feat.append(label)\n",
    "    \n",
    "\n",
    "print(select_feat)"
   ]
  },
  {
   "cell_type": "code",
   "execution_count": 63,
   "metadata": {},
   "outputs": [],
   "source": [
    "def CreateData(dfx):\n",
    "    \n",
    "\n",
    "  \n",
    " labelCol=dfx.columns[len(select_feat)-1]\n",
    " \n",
    " X_df_temp =dfx.drop(columns=['open','high','low','close',labelCol])\n",
    " Y_df_temp = dfx[labelCol]\n",
    "\n",
    " Xtemp=X_df_temp.to_numpy()\n",
    " ytemp=Y_df_temp.to_numpy()\n",
    "\n",
    " return X_df_temp,Y_df_temp, Xtemp,ytemp\n"
   ]
  },
  {
   "cell_type": "code",
   "execution_count": 64,
   "metadata": {},
   "outputs": [
    {
     "name": "stdout",
     "output_type": "stream",
     "text": [
      "<class 'pandas.core.frame.DataFrame'>\n",
      "DatetimeIndex: 75006 entries, 2007-01-03 09:45:00 to 2021-03-31 16:45:00\n",
      "Data columns (total 17 columns):\n",
      " #   Column                  Non-Null Count  Dtype  \n",
      "---  ------                  --------------  -----  \n",
      " 0   indy_ma-550             75006 non-null  float64\n",
      " 1   indy_ma-1100            75006 non-null  float64\n",
      " 2   indy_hh-550             75006 non-null  float64\n",
      " 3   indy_ll-550             75006 non-null  float64\n",
      " 4   indy_mid-550            75006 non-null  float64\n",
      " 5   indy_hh2-1100           75006 non-null  float64\n",
      " 6   indy_ll2-1100           75006 non-null  float64\n",
      " 7   indy_mid2-1100          75006 non-null  float64\n",
      " 8   indy_macd110-440        75006 non-null  float64\n",
      " 9   indy_signal110-440-110  75006 non-null  float64\n",
      " 10  indy_hist_macd110-440   75006 non-null  float64\n",
      " 11  indy_rsi25-ma20         75006 non-null  float64\n",
      " 12  indy_6ATRTrail_DC-110   75006 non-null  float64\n",
      " 13  cate_3trend-550_ma110   75006 non-null  int64  \n",
      " 14  cate_2trend-1100_ma220  75006 non-null  int64  \n",
      " 15  cate_rannkHL1100-ma66   75006 non-null  int64  \n",
      " 16  cate_CombineTrend       75006 non-null  int64  \n",
      "dtypes: float64(13), int64(4)\n",
      "memory usage: 10.3 MB\n",
      "None\n",
      "============================\n"
     ]
    }
   ],
   "source": [
    "df_train=dataset.loc[st:ed,select_feat]\n",
    "#df_train.info()\n",
    "X_df,Y_df,X,y=CreateData( df_train)\n",
    "\n",
    "print(X_df.info())\n",
    "print(\"============================\")\n"
   ]
  },
  {
   "cell_type": "code",
   "execution_count": 65,
   "metadata": {},
   "outputs": [
    {
     "data": {
      "text/html": [
       "<div style=\"float: left; padding: 10px;\">\n",
       "    <p style='font-family:\"Courier New\", Courier, monospace'>X_df.head(3)</p><div>\n",
       "<style scoped>\n",
       "    .dataframe tbody tr th:only-of-type {\n",
       "        vertical-align: middle;\n",
       "    }\n",
       "\n",
       "    .dataframe tbody tr th {\n",
       "        vertical-align: top;\n",
       "    }\n",
       "\n",
       "    .dataframe thead th {\n",
       "        text-align: right;\n",
       "    }\n",
       "</style>\n",
       "<table border=\"1\" class=\"dataframe\">\n",
       "  <thead>\n",
       "    <tr style=\"text-align: right;\">\n",
       "      <th></th>\n",
       "      <th>indy_ma-550</th>\n",
       "      <th>indy_ma-1100</th>\n",
       "      <th>indy_hh-550</th>\n",
       "      <th>indy_ll-550</th>\n",
       "      <th>indy_mid-550</th>\n",
       "      <th>indy_hh2-1100</th>\n",
       "      <th>indy_ll2-1100</th>\n",
       "      <th>indy_mid2-1100</th>\n",
       "      <th>indy_macd110-440</th>\n",
       "      <th>indy_signal110-440-110</th>\n",
       "      <th>indy_hist_macd110-440</th>\n",
       "      <th>indy_rsi25-ma20</th>\n",
       "      <th>indy_6ATRTrail_DC-110</th>\n",
       "      <th>cate_3trend-550_ma110</th>\n",
       "      <th>cate_2trend-1100_ma220</th>\n",
       "      <th>cate_rannkHL1100-ma66</th>\n",
       "      <th>cate_CombineTrend</th>\n",
       "    </tr>\n",
       "    <tr>\n",
       "      <th>datetime</th>\n",
       "      <th></th>\n",
       "      <th></th>\n",
       "      <th></th>\n",
       "      <th></th>\n",
       "      <th></th>\n",
       "      <th></th>\n",
       "      <th></th>\n",
       "      <th></th>\n",
       "      <th></th>\n",
       "      <th></th>\n",
       "      <th></th>\n",
       "      <th></th>\n",
       "      <th></th>\n",
       "      <th></th>\n",
       "      <th></th>\n",
       "      <th></th>\n",
       "      <th></th>\n",
       "    </tr>\n",
       "  </thead>\n",
       "  <tbody>\n",
       "    <tr>\n",
       "      <th>2007-01-03 09:45:00</th>\n",
       "      <td>1.10</td>\n",
       "      <td>1.11</td>\n",
       "      <td>1.15</td>\n",
       "      <td>0.91</td>\n",
       "      <td>0.0022</td>\n",
       "      <td>1.15</td>\n",
       "      <td>0.91</td>\n",
       "      <td>0.0022</td>\n",
       "      <td>-22.50</td>\n",
       "      <td>-27.20</td>\n",
       "      <td>4.70</td>\n",
       "      <td>39.11</td>\n",
       "      <td>1.03</td>\n",
       "      <td>1</td>\n",
       "      <td>0</td>\n",
       "      <td>3</td>\n",
       "      <td>2</td>\n",
       "    </tr>\n",
       "    <tr>\n",
       "      <th>2007-01-03 10:00:00</th>\n",
       "      <td>1.09</td>\n",
       "      <td>1.10</td>\n",
       "      <td>1.14</td>\n",
       "      <td>0.89</td>\n",
       "      <td>0.0022</td>\n",
       "      <td>1.14</td>\n",
       "      <td>0.89</td>\n",
       "      <td>0.0022</td>\n",
       "      <td>-22.50</td>\n",
       "      <td>-27.19</td>\n",
       "      <td>4.68</td>\n",
       "      <td>39.05</td>\n",
       "      <td>1.02</td>\n",
       "      <td>1</td>\n",
       "      <td>0</td>\n",
       "      <td>3</td>\n",
       "      <td>2</td>\n",
       "    </tr>\n",
       "    <tr>\n",
       "      <th>2007-01-03 10:15:00</th>\n",
       "      <td>1.09</td>\n",
       "      <td>1.11</td>\n",
       "      <td>1.15</td>\n",
       "      <td>0.90</td>\n",
       "      <td>0.0022</td>\n",
       "      <td>1.15</td>\n",
       "      <td>0.90</td>\n",
       "      <td>0.0022</td>\n",
       "      <td>-22.53</td>\n",
       "      <td>-27.17</td>\n",
       "      <td>4.64</td>\n",
       "      <td>38.91</td>\n",
       "      <td>1.03</td>\n",
       "      <td>1</td>\n",
       "      <td>0</td>\n",
       "      <td>3</td>\n",
       "      <td>2</td>\n",
       "    </tr>\n",
       "  </tbody>\n",
       "</table>\n",
       "</div>\n",
       "    </div>\n",
       "<div style=\"float: left; padding: 10px;\">\n",
       "    <p style='font-family:\"Courier New\", Courier, monospace'>X_df.tail(3)</p><div>\n",
       "<style scoped>\n",
       "    .dataframe tbody tr th:only-of-type {\n",
       "        vertical-align: middle;\n",
       "    }\n",
       "\n",
       "    .dataframe tbody tr th {\n",
       "        vertical-align: top;\n",
       "    }\n",
       "\n",
       "    .dataframe thead th {\n",
       "        text-align: right;\n",
       "    }\n",
       "</style>\n",
       "<table border=\"1\" class=\"dataframe\">\n",
       "  <thead>\n",
       "    <tr style=\"text-align: right;\">\n",
       "      <th></th>\n",
       "      <th>indy_ma-550</th>\n",
       "      <th>indy_ma-1100</th>\n",
       "      <th>indy_hh-550</th>\n",
       "      <th>indy_ll-550</th>\n",
       "      <th>indy_mid-550</th>\n",
       "      <th>indy_hh2-1100</th>\n",
       "      <th>indy_ll2-1100</th>\n",
       "      <th>indy_mid2-1100</th>\n",
       "      <th>indy_macd110-440</th>\n",
       "      <th>indy_signal110-440-110</th>\n",
       "      <th>indy_hist_macd110-440</th>\n",
       "      <th>indy_rsi25-ma20</th>\n",
       "      <th>indy_6ATRTrail_DC-110</th>\n",
       "      <th>cate_3trend-550_ma110</th>\n",
       "      <th>cate_2trend-1100_ma220</th>\n",
       "      <th>cate_rannkHL1100-ma66</th>\n",
       "      <th>cate_CombineTrend</th>\n",
       "    </tr>\n",
       "    <tr>\n",
       "      <th>datetime</th>\n",
       "      <th></th>\n",
       "      <th></th>\n",
       "      <th></th>\n",
       "      <th></th>\n",
       "      <th></th>\n",
       "      <th></th>\n",
       "      <th></th>\n",
       "      <th></th>\n",
       "      <th></th>\n",
       "      <th></th>\n",
       "      <th></th>\n",
       "      <th></th>\n",
       "      <th></th>\n",
       "      <th></th>\n",
       "      <th></th>\n",
       "      <th></th>\n",
       "      <th></th>\n",
       "    </tr>\n",
       "  </thead>\n",
       "  <tbody>\n",
       "    <tr>\n",
       "      <th>2021-03-31 16:15:00</th>\n",
       "      <td>0.99</td>\n",
       "      <td>0.98</td>\n",
       "      <td>1.02</td>\n",
       "      <td>0.95</td>\n",
       "      <td>0.001</td>\n",
       "      <td>1.02</td>\n",
       "      <td>0.94</td>\n",
       "      <td>0.001</td>\n",
       "      <td>2.53</td>\n",
       "      <td>1.14</td>\n",
       "      <td>1.39</td>\n",
       "      <td>46.28</td>\n",
       "      <td>1.0</td>\n",
       "      <td>3</td>\n",
       "      <td>0</td>\n",
       "      <td>3</td>\n",
       "      <td>4</td>\n",
       "    </tr>\n",
       "    <tr>\n",
       "      <th>2021-03-31 16:30:00</th>\n",
       "      <td>0.99</td>\n",
       "      <td>0.98</td>\n",
       "      <td>1.02</td>\n",
       "      <td>0.95</td>\n",
       "      <td>0.001</td>\n",
       "      <td>1.02</td>\n",
       "      <td>0.94</td>\n",
       "      <td>0.001</td>\n",
       "      <td>2.58</td>\n",
       "      <td>1.12</td>\n",
       "      <td>1.46</td>\n",
       "      <td>46.08</td>\n",
       "      <td>1.0</td>\n",
       "      <td>3</td>\n",
       "      <td>0</td>\n",
       "      <td>3</td>\n",
       "      <td>4</td>\n",
       "    </tr>\n",
       "    <tr>\n",
       "      <th>2021-03-31 16:45:00</th>\n",
       "      <td>0.99</td>\n",
       "      <td>0.98</td>\n",
       "      <td>1.02</td>\n",
       "      <td>0.95</td>\n",
       "      <td>0.001</td>\n",
       "      <td>1.02</td>\n",
       "      <td>0.94</td>\n",
       "      <td>0.001</td>\n",
       "      <td>2.61</td>\n",
       "      <td>1.11</td>\n",
       "      <td>1.51</td>\n",
       "      <td>45.92</td>\n",
       "      <td>1.0</td>\n",
       "      <td>3</td>\n",
       "      <td>0</td>\n",
       "      <td>3</td>\n",
       "      <td>4</td>\n",
       "    </tr>\n",
       "  </tbody>\n",
       "</table>\n",
       "</div>\n",
       "    </div>"
      ],
      "text/plain": [
       "X_df.head(3)\n",
       "                     indy_ma-550  indy_ma-1100  indy_hh-550  indy_ll-550  \\\n",
       "datetime                                                                   \n",
       "2007-01-03 09:45:00         1.10          1.11         1.15         0.91   \n",
       "2007-01-03 10:00:00         1.09          1.10         1.14         0.89   \n",
       "2007-01-03 10:15:00         1.09          1.11         1.15         0.90   \n",
       "\n",
       "                     indy_mid-550  indy_hh2-1100  indy_ll2-1100  \\\n",
       "datetime                                                          \n",
       "2007-01-03 09:45:00        0.0022           1.15           0.91   \n",
       "2007-01-03 10:00:00        0.0022           1.14           0.89   \n",
       "2007-01-03 10:15:00        0.0022           1.15           0.90   \n",
       "\n",
       "                     indy_mid2-1100  indy_macd110-440  indy_signal110-440-110  \\\n",
       "datetime                                                                        \n",
       "2007-01-03 09:45:00          0.0022            -22.50                  -27.20   \n",
       "2007-01-03 10:00:00          0.0022            -22.50                  -27.19   \n",
       "2007-01-03 10:15:00          0.0022            -22.53                  -27.17   \n",
       "\n",
       "                     indy_hist_macd110-440  indy_rsi25-ma20  \\\n",
       "datetime                                                      \n",
       "2007-01-03 09:45:00                   4.70            39.11   \n",
       "2007-01-03 10:00:00                   4.68            39.05   \n",
       "2007-01-03 10:15:00                   4.64            38.91   \n",
       "\n",
       "                     indy_6ATRTrail_DC-110  cate_3trend-550_ma110  \\\n",
       "datetime                                                            \n",
       "2007-01-03 09:45:00                   1.03                      1   \n",
       "2007-01-03 10:00:00                   1.02                      1   \n",
       "2007-01-03 10:15:00                   1.03                      1   \n",
       "\n",
       "                     cate_2trend-1100_ma220  cate_rannkHL1100-ma66  \\\n",
       "datetime                                                             \n",
       "2007-01-03 09:45:00                       0                      3   \n",
       "2007-01-03 10:00:00                       0                      3   \n",
       "2007-01-03 10:15:00                       0                      3   \n",
       "\n",
       "                     cate_CombineTrend  \n",
       "datetime                                \n",
       "2007-01-03 09:45:00                  2  \n",
       "2007-01-03 10:00:00                  2  \n",
       "2007-01-03 10:15:00                  2  \n",
       "\n",
       "X_df.tail(3)\n",
       "                     indy_ma-550  indy_ma-1100  indy_hh-550  indy_ll-550  \\\n",
       "datetime                                                                   \n",
       "2021-03-31 16:15:00         0.99          0.98         1.02         0.95   \n",
       "2021-03-31 16:30:00         0.99          0.98         1.02         0.95   \n",
       "2021-03-31 16:45:00         0.99          0.98         1.02         0.95   \n",
       "\n",
       "                     indy_mid-550  indy_hh2-1100  indy_ll2-1100  \\\n",
       "datetime                                                          \n",
       "2021-03-31 16:15:00         0.001           1.02           0.94   \n",
       "2021-03-31 16:30:00         0.001           1.02           0.94   \n",
       "2021-03-31 16:45:00         0.001           1.02           0.94   \n",
       "\n",
       "                     indy_mid2-1100  indy_macd110-440  indy_signal110-440-110  \\\n",
       "datetime                                                                        \n",
       "2021-03-31 16:15:00           0.001              2.53                    1.14   \n",
       "2021-03-31 16:30:00           0.001              2.58                    1.12   \n",
       "2021-03-31 16:45:00           0.001              2.61                    1.11   \n",
       "\n",
       "                     indy_hist_macd110-440  indy_rsi25-ma20  \\\n",
       "datetime                                                      \n",
       "2021-03-31 16:15:00                   1.39            46.28   \n",
       "2021-03-31 16:30:00                   1.46            46.08   \n",
       "2021-03-31 16:45:00                   1.51            45.92   \n",
       "\n",
       "                     indy_6ATRTrail_DC-110  cate_3trend-550_ma110  \\\n",
       "datetime                                                            \n",
       "2021-03-31 16:15:00                    1.0                      3   \n",
       "2021-03-31 16:30:00                    1.0                      3   \n",
       "2021-03-31 16:45:00                    1.0                      3   \n",
       "\n",
       "                     cate_2trend-1100_ma220  cate_rannkHL1100-ma66  \\\n",
       "datetime                                                             \n",
       "2021-03-31 16:15:00                       0                      3   \n",
       "2021-03-31 16:30:00                       0                      3   \n",
       "2021-03-31 16:45:00                       0                      3   \n",
       "\n",
       "                     cate_CombineTrend  \n",
       "datetime                                \n",
       "2021-03-31 16:15:00                  4  \n",
       "2021-03-31 16:30:00                  4  \n",
       "2021-03-31 16:45:00                  4  "
      ]
     },
     "execution_count": 65,
     "metadata": {},
     "output_type": "execute_result"
    }
   ],
   "source": [
    "display('X_df.head(3)','X_df.tail(3)')"
   ]
  },
  {
   "cell_type": "code",
   "execution_count": 66,
   "metadata": {},
   "outputs": [
    {
     "data": {
      "text/plain": [
       "datetime\n",
       "2021-03-31 15:45:00    0\n",
       "2021-03-31 16:00:00    0\n",
       "2021-03-31 16:15:00    0\n",
       "2021-03-31 16:30:00    0\n",
       "2021-03-31 16:45:00    0\n",
       "Name: LongSignal, dtype: int64"
      ]
     },
     "execution_count": 66,
     "metadata": {},
     "output_type": "execute_result"
    }
   ],
   "source": [
    "\n",
    "Y_df.tail(5)"
   ]
  },
  {
   "cell_type": "code",
   "execution_count": 67,
   "metadata": {},
   "outputs": [
    {
     "data": {
      "text/plain": [
       "0    44094\n",
       "1    30912\n",
       "Name: LongSignal, dtype: int64"
      ]
     },
     "execution_count": 67,
     "metadata": {},
     "output_type": "execute_result"
    }
   ],
   "source": [
    "Y_df.value_counts()\n"
   ]
  },
  {
   "cell_type": "code",
   "execution_count": 68,
   "metadata": {},
   "outputs": [],
   "source": [
    "#Encode label\n",
    "#label_encoder = LabelEncoder()\n",
    "#label_encoder = label_encoder.fit(y)\n",
    "#label_encoded_Y = label_encoder.transform(y)\n",
    "\n",
    "#print(label_encoded_Y.shape)\n",
    "#label_encoded_Y[:10]"
   ]
  },
  {
   "cell_type": "code",
   "execution_count": 69,
   "metadata": {},
   "outputs": [
    {
     "name": "stdout",
     "output_type": "stream",
     "text": [
      "KFold(n_splits=3, random_state=None, shuffle=False)\n"
     ]
    }
   ],
   "source": [
    "\n",
    "\n",
    "if isShuffle==False:\n",
    "    xseed=None\n",
    "else:\n",
    "    xseed=1990\n",
    "\n",
    "\n",
    "if option==1 :\n",
    " kfold =  TimeSeriesSplit(n_splits=splitN,max_train_size=None)\n",
    "elif option==2:\n",
    " kfold = KFold(n_splits=splitN, shuffle=isShuffle, random_state=xseed)\n",
    "else:\n",
    " kfold = StratifiedKFold(n_splits=splitN, shuffle=isShuffle, random_state=xseed)\n",
    "\n",
    "print(kfold)"
   ]
  },
  {
   "cell_type": "code",
   "execution_count": 70,
   "metadata": {},
   "outputs": [],
   "source": [
    "#For TimeSplit\n",
    "if option==1:\n",
    " for train, test in kfold.split(X):\n",
    "    print(\"%s %s\" % (train, test))\n",
    "    \n",
    " df_Xtime=(df_train.reset_index())[['datetime',label]]\n",
    " print('train from ',df_Xtime.loc[0,'datetime'] ,' to test as follows')\n",
    "    \n",
    " for train, test in kfold.split(X_df):\n",
    "     print('test from ',df_Xtime.loc[test[0],'datetime'])  \n"
   ]
  },
  {
   "cell_type": "markdown",
   "metadata": {},
   "source": [
    "# By cross_validate (Full option)"
   ]
  },
  {
   "cell_type": "code",
   "execution_count": 71,
   "metadata": {},
   "outputs": [],
   "source": [
    "#result_cv = cross_validate(model, X, y, cv=kfold, scoring = ['accuracy','roc_auc'], return_estimator =True)\n",
    "result_fullCV = cross_validate(model, X, y, cv=kfold, scoring = ['accuracy'], return_estimator =True)\n"
   ]
  },
  {
   "cell_type": "code",
   "execution_count": 72,
   "metadata": {},
   "outputs": [
    {
     "data": {
      "text/plain": [
       "['estimator', 'fit_time', 'score_time', 'test_accuracy']"
      ]
     },
     "execution_count": 72,
     "metadata": {},
     "output_type": "execute_result"
    }
   ],
   "source": [
    "sorted(result_fullCV.keys())"
   ]
  },
  {
   "cell_type": "code",
   "execution_count": 73,
   "metadata": {},
   "outputs": [],
   "source": [
    "def print_format(f,x):\n",
    "    print('Fold %2d    %4.6f' % (f, x))\n",
    "\n"
   ]
  },
  {
   "cell_type": "code",
   "execution_count": 74,
   "metadata": {},
   "outputs": [
    {
     "name": "stdout",
     "output_type": "stream",
     "text": [
      "By crossValidation Data\n",
      "         Accuracy\n",
      "Fold  1    0.820934\n",
      "Fold  2    0.872610\n",
      "Fold  3    0.811175\n",
      "----------------------------------------\n",
      "Mean       0.834907\n",
      "Std        0.026957\n",
      "Which fold has the highest Acc?\n",
      " 0.8726101911847052\n"
     ]
    }
   ],
   "source": [
    "def print_cv(scores):\n",
    "    fold = [x + 1 for x in range(len(scores['test_accuracy']))]\n",
    "    print('         Accuracy')  \n",
    "    [print_format(f,x) for f,x in zip(fold, scores['test_accuracy'])]\n",
    "                                       \n",
    "    print('-' * 40)\n",
    "    print('Mean       %4.6f' %  (np.mean(scores['test_accuracy'])))  \n",
    "    print('Std        %4.6f' %  (np.std(scores['test_accuracy']  )))\n",
    "\n",
    "\n",
    "print('By crossValidation Data')     \n",
    "print_cv(result_fullCV)  \n",
    "\n",
    "print(\"Which fold has the highest Acc?\\n\",result_fullCV['test_accuracy'].max())"
   ]
  },
  {
   "cell_type": "code",
   "execution_count": 77,
   "metadata": {},
   "outputs": [],
   "source": [
    "feature_importancesList=[]\n",
    "for idx,estimator in enumerate(result_fullCV ['estimator']):\n",
    "    #print(\"Features sorted by their score for estimator {}:\".format(idx))\n",
    "    feature_importances = pd.DataFrame(estimator.feature_importances_,\n",
    "                                       index = X_df.columns,\n",
    "                                        columns=['importance'])#.sort_values('importance', ascending=False)\n",
    "    feature_importancesList.append(feature_importances)\n",
    "    #print(feature_importances)"
   ]
  },
  {
   "cell_type": "code",
   "execution_count": 78,
   "metadata": {},
   "outputs": [
    {
     "data": {
      "text/html": [
       "<div>\n",
       "<style scoped>\n",
       "    .dataframe tbody tr th:only-of-type {\n",
       "        vertical-align: middle;\n",
       "    }\n",
       "\n",
       "    .dataframe tbody tr th {\n",
       "        vertical-align: top;\n",
       "    }\n",
       "\n",
       "    .dataframe thead th {\n",
       "        text-align: right;\n",
       "    }\n",
       "</style>\n",
       "<table border=\"1\" class=\"dataframe\">\n",
       "  <thead>\n",
       "    <tr style=\"text-align: right;\">\n",
       "      <th></th>\n",
       "      <th>impFeat1</th>\n",
       "      <th>impFeat2</th>\n",
       "      <th>impFeat3</th>\n",
       "      <th>SumFeatVal</th>\n",
       "    </tr>\n",
       "  </thead>\n",
       "  <tbody>\n",
       "    <tr>\n",
       "      <th>indy_ma-1100</th>\n",
       "      <td>0.235036</td>\n",
       "      <td>0.502646</td>\n",
       "      <td>0.612798</td>\n",
       "      <td>1.350479</td>\n",
       "    </tr>\n",
       "    <tr>\n",
       "      <th>indy_ma-550</th>\n",
       "      <td>0.410884</td>\n",
       "      <td>0.041852</td>\n",
       "      <td>0.011784</td>\n",
       "      <td>0.464520</td>\n",
       "    </tr>\n",
       "    <tr>\n",
       "      <th>indy_hh2-1100</th>\n",
       "      <td>0.075021</td>\n",
       "      <td>0.067790</td>\n",
       "      <td>0.104075</td>\n",
       "      <td>0.246887</td>\n",
       "    </tr>\n",
       "    <tr>\n",
       "      <th>indy_hh-550</th>\n",
       "      <td>0.022214</td>\n",
       "      <td>0.063748</td>\n",
       "      <td>0.014306</td>\n",
       "      <td>0.100268</td>\n",
       "    </tr>\n",
       "    <tr>\n",
       "      <th>cate_rannkHL1100-ma66</th>\n",
       "      <td>0.028533</td>\n",
       "      <td>0.043410</td>\n",
       "      <td>0.027460</td>\n",
       "      <td>0.099403</td>\n",
       "    </tr>\n",
       "    <tr>\n",
       "      <th>cate_3trend-550_ma110</th>\n",
       "      <td>0.031283</td>\n",
       "      <td>0.040808</td>\n",
       "      <td>0.016010</td>\n",
       "      <td>0.088102</td>\n",
       "    </tr>\n",
       "    <tr>\n",
       "      <th>indy_mid-550</th>\n",
       "      <td>0.025139</td>\n",
       "      <td>0.035106</td>\n",
       "      <td>0.025223</td>\n",
       "      <td>0.085468</td>\n",
       "    </tr>\n",
       "    <tr>\n",
       "      <th>cate_2trend-1100_ma220</th>\n",
       "      <td>0.024838</td>\n",
       "      <td>0.026144</td>\n",
       "      <td>0.032866</td>\n",
       "      <td>0.083848</td>\n",
       "    </tr>\n",
       "    <tr>\n",
       "      <th>indy_mid2-1100</th>\n",
       "      <td>0.024573</td>\n",
       "      <td>0.027417</td>\n",
       "      <td>0.030383</td>\n",
       "      <td>0.082374</td>\n",
       "    </tr>\n",
       "    <tr>\n",
       "      <th>indy_macd110-440</th>\n",
       "      <td>0.026999</td>\n",
       "      <td>0.031060</td>\n",
       "      <td>0.023839</td>\n",
       "      <td>0.081898</td>\n",
       "    </tr>\n",
       "    <tr>\n",
       "      <th>indy_ll2-1100</th>\n",
       "      <td>0.022016</td>\n",
       "      <td>0.016134</td>\n",
       "      <td>0.025557</td>\n",
       "      <td>0.063707</td>\n",
       "    </tr>\n",
       "    <tr>\n",
       "      <th>indy_signal110-440-110</th>\n",
       "      <td>0.016974</td>\n",
       "      <td>0.024307</td>\n",
       "      <td>0.019880</td>\n",
       "      <td>0.061161</td>\n",
       "    </tr>\n",
       "    <tr>\n",
       "      <th>indy_ll-550</th>\n",
       "      <td>0.016215</td>\n",
       "      <td>0.025109</td>\n",
       "      <td>0.009308</td>\n",
       "      <td>0.050631</td>\n",
       "    </tr>\n",
       "    <tr>\n",
       "      <th>indy_hist_macd110-440</th>\n",
       "      <td>0.013521</td>\n",
       "      <td>0.013735</td>\n",
       "      <td>0.015495</td>\n",
       "      <td>0.042751</td>\n",
       "    </tr>\n",
       "    <tr>\n",
       "      <th>indy_6ATRTrail_DC-110</th>\n",
       "      <td>0.013283</td>\n",
       "      <td>0.011388</td>\n",
       "      <td>0.012838</td>\n",
       "      <td>0.037508</td>\n",
       "    </tr>\n",
       "    <tr>\n",
       "      <th>cate_CombineTrend</th>\n",
       "      <td>0.004525</td>\n",
       "      <td>0.020344</td>\n",
       "      <td>0.010347</td>\n",
       "      <td>0.035216</td>\n",
       "    </tr>\n",
       "    <tr>\n",
       "      <th>indy_rsi25-ma20</th>\n",
       "      <td>0.008946</td>\n",
       "      <td>0.009003</td>\n",
       "      <td>0.007830</td>\n",
       "      <td>0.025779</td>\n",
       "    </tr>\n",
       "  </tbody>\n",
       "</table>\n",
       "</div>"
      ],
      "text/plain": [
       "                        impFeat1  impFeat2  impFeat3  SumFeatVal\n",
       "indy_ma-1100            0.235036  0.502646  0.612798    1.350479\n",
       "indy_ma-550             0.410884  0.041852  0.011784    0.464520\n",
       "indy_hh2-1100           0.075021  0.067790  0.104075    0.246887\n",
       "indy_hh-550             0.022214  0.063748  0.014306    0.100268\n",
       "cate_rannkHL1100-ma66   0.028533  0.043410  0.027460    0.099403\n",
       "cate_3trend-550_ma110   0.031283  0.040808  0.016010    0.088102\n",
       "indy_mid-550            0.025139  0.035106  0.025223    0.085468\n",
       "cate_2trend-1100_ma220  0.024838  0.026144  0.032866    0.083848\n",
       "indy_mid2-1100          0.024573  0.027417  0.030383    0.082374\n",
       "indy_macd110-440        0.026999  0.031060  0.023839    0.081898\n",
       "indy_ll2-1100           0.022016  0.016134  0.025557    0.063707\n",
       "indy_signal110-440-110  0.016974  0.024307  0.019880    0.061161\n",
       "indy_ll-550             0.016215  0.025109  0.009308    0.050631\n",
       "indy_hist_macd110-440   0.013521  0.013735  0.015495    0.042751\n",
       "indy_6ATRTrail_DC-110   0.013283  0.011388  0.012838    0.037508\n",
       "cate_CombineTrend       0.004525  0.020344  0.010347    0.035216\n",
       "indy_rsi25-ma20         0.008946  0.009003  0.007830    0.025779"
      ]
     },
     "execution_count": 78,
     "metadata": {},
     "output_type": "execute_result"
    }
   ],
   "source": [
    "for i in range(splitN):\n",
    "    feature_importancesList[i].rename(columns={'importance':f'impFeat{(i+1)}'},inplace=True)\n",
    "\n",
    "df_feature_cv=pd.concat(feature_importancesList,axis=1)\n",
    "\n",
    "df_feature_cv['SumFeatVal']=df_feature_cv.sum(axis=1)\n",
    "\n",
    "df_feature_cv.sort_values(by='SumFeatVal',ascending=False)"
   ]
  },
  {
   "cell_type": "markdown",
   "metadata": {},
   "source": [
    "# By Split Validation and make predictions for test data and evaluate"
   ]
  },
  {
   "cell_type": "code",
   "execution_count": 60,
   "metadata": {},
   "outputs": [
    {
     "name": "stdout",
     "output_type": "stream",
     "text": [
      "By splitValidation Data\n"
     ]
    },
    {
     "data": {
      "text/plain": [
       "XGBClassifier(base_score=0.5, booster='gbtree', colsample_bylevel=1,\n",
       "              colsample_bynode=1, colsample_bytree=1, gamma=0, gpu_id=-1,\n",
       "              importance_type='gain', interaction_constraints='',\n",
       "              learning_rate=0.05, max_delta_step=0, max_depth=8,\n",
       "              min_child_weight=1, missing=nan, monotone_constraints='()',\n",
       "              n_estimators=100, n_jobs=0, num_parallel_tree=1, random_state=0,\n",
       "              reg_alpha=0, reg_lambda=1, scale_pos_weight=1, subsample=1,\n",
       "              tree_method='exact', validate_parameters=1, verbosity=None)"
      ]
     },
     "execution_count": 60,
     "metadata": {},
     "output_type": "execute_result"
    }
   ],
   "source": [
    "print('By splitValidation Data') \n",
    "size_split=0.3\n",
    "\n",
    "X_train, X_test, y_train, y_test = train_test_split(X, y, shuffle=isShuffle,test_size=size_split, random_state=seed)\n",
    "\n",
    "model.fit(X_train,y_train)\n",
    "\n"
   ]
  },
  {
   "cell_type": "code",
   "execution_count": 61,
   "metadata": {},
   "outputs": [
    {
     "name": "stdout",
     "output_type": "stream",
     "text": [
      "Accuracy: 80.67%\n",
      "indy_ma-1100              0.634500\n",
      "indy_hh2-1100             0.098603\n",
      "cate_2trend-1100_ma220    0.029460\n",
      "cate_rannkHL1100-ma66     0.028863\n",
      "indy_mid-550              0.025133\n",
      "indy_mid2-1100            0.023140\n",
      "indy_ll2-1100             0.022149\n",
      "indy_macd110-440          0.021851\n",
      "indy_signal110-440-110    0.021278\n",
      "indy_hh-550               0.017316\n",
      "indy_hist_macd110-440     0.014438\n",
      "cate_3trend-550_ma110     0.013824\n",
      "indy_ll-550               0.012384\n",
      "indy_ma-550               0.012025\n",
      "indy_6ATRTrail_DC-110     0.009698\n",
      "cate_CombineTrend         0.007854\n",
      "indy_rsi25-ma20           0.007484\n",
      "dtype: float32\n"
     ]
    }
   ],
   "source": [
    "\n",
    "y_pred = model.predict(X_test)\n",
    "\n",
    "predictions = [round(value) for value in y_pred]\n",
    "\n",
    "accuracy = accuracy_score(y_test, predictions)\n",
    "\n",
    "print(\"Accuracy: %.2f%%\" % (accuracy * 100.0))\n",
    "\n",
    "\n",
    "feature_series=pd.Series(model.feature_importances_, index=X_df.columns).sort_values(ascending=False)\n",
    "\n",
    "print(feature_series)"
   ]
  },
  {
   "cell_type": "code",
   "execution_count": 62,
   "metadata": {},
   "outputs": [
    {
     "ename": "ImportError",
     "evalue": "You must install graphviz to plot tree",
     "output_type": "error",
     "traceback": [
      "\u001b[1;31m---------------------------------------------------------------------------\u001b[0m",
      "\u001b[1;31mModuleNotFoundError\u001b[0m                       Traceback (most recent call last)",
      "\u001b[1;32mD:\\ProgramData\\Anaconda3\\envs\\ml_base\\lib\\site-packages\\xgboost\\plotting.py\u001b[0m in \u001b[0;36mto_graphviz\u001b[1;34m(booster, fmap, num_trees, rankdir, yes_color, no_color, condition_node_params, leaf_node_params, **kwargs)\u001b[0m\n\u001b[0;32m    169\u001b[0m     \u001b[1;32mtry\u001b[0m\u001b[1;33m:\u001b[0m\u001b[1;33m\u001b[0m\u001b[1;33m\u001b[0m\u001b[0m\n\u001b[1;32m--> 170\u001b[1;33m         \u001b[1;32mfrom\u001b[0m \u001b[0mgraphviz\u001b[0m \u001b[1;32mimport\u001b[0m \u001b[0mSource\u001b[0m\u001b[1;33m\u001b[0m\u001b[1;33m\u001b[0m\u001b[0m\n\u001b[0m\u001b[0;32m    171\u001b[0m     \u001b[1;32mexcept\u001b[0m \u001b[0mImportError\u001b[0m \u001b[1;32mas\u001b[0m \u001b[0me\u001b[0m\u001b[1;33m:\u001b[0m\u001b[1;33m\u001b[0m\u001b[1;33m\u001b[0m\u001b[0m\n",
      "\u001b[1;31mModuleNotFoundError\u001b[0m: No module named 'graphviz'",
      "\nThe above exception was the direct cause of the following exception:\n",
      "\u001b[1;31mImportError\u001b[0m                               Traceback (most recent call last)",
      "\u001b[1;32m<ipython-input-62-07e57b550eea>\u001b[0m in \u001b[0;36m<module>\u001b[1;34m\u001b[0m\n\u001b[0;32m      2\u001b[0m \u001b[1;32mimport\u001b[0m \u001b[0mmatplotlib\u001b[0m\u001b[1;33m.\u001b[0m\u001b[0mpyplot\u001b[0m \u001b[1;32mas\u001b[0m \u001b[0mplt\u001b[0m\u001b[1;33m\u001b[0m\u001b[1;33m\u001b[0m\u001b[0m\n\u001b[0;32m      3\u001b[0m \u001b[1;33m\u001b[0m\u001b[0m\n\u001b[1;32m----> 4\u001b[1;33m \u001b[0mplot_tree\u001b[0m\u001b[1;33m(\u001b[0m\u001b[0mmodel\u001b[0m\u001b[1;33m)\u001b[0m\u001b[1;33m\u001b[0m\u001b[1;33m\u001b[0m\u001b[0m\n\u001b[0m\u001b[0;32m      5\u001b[0m \u001b[0mplt\u001b[0m\u001b[1;33m.\u001b[0m\u001b[0mshow\u001b[0m\u001b[1;33m(\u001b[0m\u001b[1;33m)\u001b[0m\u001b[1;33m\u001b[0m\u001b[1;33m\u001b[0m\u001b[0m\n",
      "\u001b[1;32mD:\\ProgramData\\Anaconda3\\envs\\ml_base\\lib\\site-packages\\xgboost\\plotting.py\u001b[0m in \u001b[0;36mplot_tree\u001b[1;34m(booster, fmap, num_trees, rankdir, ax, **kwargs)\u001b[0m\n\u001b[0;32m    245\u001b[0m \u001b[1;33m\u001b[0m\u001b[0m\n\u001b[0;32m    246\u001b[0m     g = to_graphviz(booster, fmap=fmap, num_trees=num_trees, rankdir=rankdir,\n\u001b[1;32m--> 247\u001b[1;33m                     **kwargs)\n\u001b[0m\u001b[0;32m    248\u001b[0m \u001b[1;33m\u001b[0m\u001b[0m\n\u001b[0;32m    249\u001b[0m     \u001b[0ms\u001b[0m \u001b[1;33m=\u001b[0m \u001b[0mBytesIO\u001b[0m\u001b[1;33m(\u001b[0m\u001b[1;33m)\u001b[0m\u001b[1;33m\u001b[0m\u001b[1;33m\u001b[0m\u001b[0m\n",
      "\u001b[1;32mD:\\ProgramData\\Anaconda3\\envs\\ml_base\\lib\\site-packages\\xgboost\\plotting.py\u001b[0m in \u001b[0;36mto_graphviz\u001b[1;34m(booster, fmap, num_trees, rankdir, yes_color, no_color, condition_node_params, leaf_node_params, **kwargs)\u001b[0m\n\u001b[0;32m    170\u001b[0m         \u001b[1;32mfrom\u001b[0m \u001b[0mgraphviz\u001b[0m \u001b[1;32mimport\u001b[0m \u001b[0mSource\u001b[0m\u001b[1;33m\u001b[0m\u001b[1;33m\u001b[0m\u001b[0m\n\u001b[0;32m    171\u001b[0m     \u001b[1;32mexcept\u001b[0m \u001b[0mImportError\u001b[0m \u001b[1;32mas\u001b[0m \u001b[0me\u001b[0m\u001b[1;33m:\u001b[0m\u001b[1;33m\u001b[0m\u001b[1;33m\u001b[0m\u001b[0m\n\u001b[1;32m--> 172\u001b[1;33m         \u001b[1;32mraise\u001b[0m \u001b[0mImportError\u001b[0m\u001b[1;33m(\u001b[0m\u001b[1;34m'You must install graphviz to plot tree'\u001b[0m\u001b[1;33m)\u001b[0m \u001b[1;32mfrom\u001b[0m \u001b[0me\u001b[0m\u001b[1;33m\u001b[0m\u001b[1;33m\u001b[0m\u001b[0m\n\u001b[0m\u001b[0;32m    173\u001b[0m     \u001b[1;32mif\u001b[0m \u001b[0misinstance\u001b[0m\u001b[1;33m(\u001b[0m\u001b[0mbooster\u001b[0m\u001b[1;33m,\u001b[0m \u001b[0mXGBModel\u001b[0m\u001b[1;33m)\u001b[0m\u001b[1;33m:\u001b[0m\u001b[1;33m\u001b[0m\u001b[1;33m\u001b[0m\u001b[0m\n\u001b[0;32m    174\u001b[0m         \u001b[0mbooster\u001b[0m \u001b[1;33m=\u001b[0m \u001b[0mbooster\u001b[0m\u001b[1;33m.\u001b[0m\u001b[0mget_booster\u001b[0m\u001b[1;33m(\u001b[0m\u001b[1;33m)\u001b[0m\u001b[1;33m\u001b[0m\u001b[1;33m\u001b[0m\u001b[0m\n",
      "\u001b[1;31mImportError\u001b[0m: You must install graphviz to plot tree"
     ]
    },
    {
     "data": {
      "image/png": "[encoded data removed]",
      "text/plain": [
       "<Figure size 432x288 with 1 Axes>"
      ]
     },
     "metadata": {
      "needs_background": "light"
     },
     "output_type": "display_data"
    }
   ],
   "source": [
    "from xgboost import plot_tree\n",
    "import matplotlib.pyplot as plt\n",
    "\n",
    "plot_tree(model)\n",
    "plt.show()"
   ]
  },
  {
   "cell_type": "markdown",
   "metadata": {},
   "source": [
    "\n",
    "#https://stackoverflow.com/questions/53347010/graphviz-throws-errors-calling-view-function\n",
    "#https://github.com/dask/dask-tutorial/issues/86"
   ]
  },
  {
   "cell_type": "code",
   "execution_count": null,
   "metadata": {},
   "outputs": [],
   "source": []
  }
 ],
 "metadata": {
  "anaconda-cloud": {},
  "kernelspec": {
   "display_name": "Python 3",
   "language": "python",
   "name": "python3"
  },
  "language_info": {
   "codemirror_mode": {
    "name": "ipython",
    "version": 3
   },
   "file_extension": ".py",
   "mimetype": "text/x-python",
   "name": "python",
   "nbconvert_exporter": "python",
   "pygments_lexer": "ipython3",
   "version": "3.7.8"
  }
 },
 "nbformat": 4,
 "nbformat_minor": 4
}
