{
 "cells": [
  {
   "cell_type": "code",
   "execution_count": 7,
   "metadata": {},
   "outputs": [],
   "source": [
    "import pandas as pd\n",
    "\n",
    "import numpy as np\n",
    "\n",
    "from xgboost import XGBClassifier\n",
    "from sklearn.ensemble import GradientBoostingClassifier \n",
    "\n",
    "from sklearn.model_selection import train_test_split\n",
    "\n",
    "from sklearn.model_selection import StratifiedKFold\n",
    "from sklearn.model_selection import KFold\n",
    "from sklearn.model_selection import TimeSeriesSplit\n",
    "\n",
    "from sklearn.model_selection import cross_val_score\n",
    "from sklearn.model_selection import cross_validate\n",
    "\n",
    "from sklearn.metrics import accuracy_score\n",
    "from sklearn.feature_selection import SelectFromModel\n",
    "\n",
    "\n",
    "\n",
    "from xgboost import plot_importance\n",
    "\n",
    "from matplotlib import pyplot\n",
    "\n",
    "import os\n"
   ]
  },
  {
   "cell_type": "code",
   "execution_count": 8,
   "metadata": {},
   "outputs": [],
   "source": [
    "#>acc=0.910, est=0.851, cfg={'learning_rate': 0.01, 'n_estimators': 200}\n",
    "#>acc=0.901, est=0.857, cfg={'learning_rate': 0.05, 'n_estimators': 100}\n",
    "#>acc=0.925, est=0.842, cfg={'learning_rate': 0.01, 'n_estimators': 220}\n",
    "n_tree=200\n",
    "max_depth=8\n",
    "learning_rate=0.01\n",
    "model = XGBClassifier(max_depth=max_depth,learning_rate=learning_rate,n_estimators=n_tree,importance_type='gain')\n",
    "#model=GradientBoostingClassifier(max_depth=8,learning_rate=0.05,n_estimators=250)"
   ]
  },
  {
   "cell_type": "markdown",
   "metadata": {},
   "source": [
    "# My Train"
   ]
  },
  {
   "cell_type": "code",
   "execution_count": 9,
   "metadata": {},
   "outputs": [
    {
     "name": "stdout",
     "output_type": "stream",
     "text": [
      "<class 'pandas.core.frame.DataFrame'>\n",
      "DatetimeIndex: 70896 entries, 2007-01-03 09:45:00 to 2020-06-30 16:45:00\n",
      "Data columns (total 18 columns):\n",
      " #   Column                  Non-Null Count  Dtype  \n",
      "---  ------                  --------------  -----  \n",
      " 0   indy_ma-550             70896 non-null  float64\n",
      " 1   indy_ma-1100            70896 non-null  float64\n",
      " 2   indy_hh-550             70896 non-null  float64\n",
      " 3   indy_ll-550             70896 non-null  float64\n",
      " 4   indy_mid-550            70896 non-null  float64\n",
      " 5   indy_hh2-1100           70896 non-null  float64\n",
      " 6   indy_ll2-1100           70896 non-null  float64\n",
      " 7   indy_mid2-1100          70896 non-null  float64\n",
      " 8   indy_macd110-440        70896 non-null  float64\n",
      " 9   indy_signal110-440-110  70896 non-null  float64\n",
      " 10  indy_hist_macd110-440   70896 non-null  float64\n",
      " 11  indy_rsi25-ma20         70896 non-null  float64\n",
      " 12  indy_6ATRTrail_DC-110   70896 non-null  float64\n",
      " 13  cate_3trend-550_ma110   70896 non-null  int64  \n",
      " 14  cate_2trend-1100_ma220  70896 non-null  int64  \n",
      " 15  cate_rannkHL1100-ma66   70896 non-null  int64  \n",
      " 16  cate_CombineTrend       70896 non-null  int64  \n",
      " 17  LongSignal              70896 non-null  int64  \n",
      "dtypes: float64(13), int64(5)\n",
      "memory usage: 10.3 MB\n"
     ]
    }
   ],
   "source": [
    "\n",
    "pahtname=r'D:\\DataSets\\ML_LS\\ML-Long_S50M15_07To2Q20-Train_Norm.csv'\n",
    "#pahtname=r'D:\\DataSets\\ML_LS\\ML-Long_S50M15_07To2Q20-Train.csv'\n",
    "\n",
    "filepath= os.path.abspath(pahtname)\n",
    "\n",
    "dataset =pd.read_csv(filepath,index_col=\"datetime\", parse_dates=['datetime'],dayfirst=True)\n",
    "dataset.drop(columns=['open','high','low','close'],inplace=True)\n",
    "\n",
    "dataset.info()"
   ]
  },
  {
   "cell_type": "code",
   "execution_count": 10,
   "metadata": {},
   "outputs": [],
   "source": [
    "def CreateData(dfx):\n",
    " labelCol=dfx.columns[len(dfx.columns)-1]\n",
    " \n",
    " X_df_temp = dfx.drop(columns=labelCol)\n",
    " Y_df_temp = dfx[labelCol]\n",
    "\n",
    " Xtemp=X_df_temp.to_numpy()\n",
    " ytemp=Y_df_temp.to_numpy()\n",
    "\n",
    " return X_df_temp,Y_df_temp, Xtemp,ytemp"
   ]
  },
  {
   "cell_type": "code",
   "execution_count": 11,
   "metadata": {},
   "outputs": [],
   "source": [
    "manual_split=False"
   ]
  },
  {
   "cell_type": "markdown",
   "metadata": {},
   "source": [
    "# My Train and Test"
   ]
  },
  {
   "cell_type": "code",
   "execution_count": 12,
   "metadata": {},
   "outputs": [],
   "source": [
    "if manual_split==True:\n",
    "\n",
    " st='01-2007'\n",
    " ed='12-2018'\n",
    " df_train=dataset[st:ed]\n",
    " #df_train.info()\n",
    " X_df,Y_df,X_train,y_train=CreateData( df_train)\n",
    "\n",
    " print(X_df.info())\n",
    " \n",
    " st_test='01-2019'\n",
    " ed_test='12-2020'\n",
    " df_test=dataset[st_test:ed_test]\n",
    " XTest_df,YTest_df, X_test,y_test=CreateData( df_test)\n",
    " print(XTest_df.info())\n",
    "    \n",
    "else if manual_split==False:\n",
    " seed = 1992\n",
    "#Using Split\n",
    " IsShuffle=False\n",
    " test_size = 0.3   \n",
    " \n",
    " Xdf,Ydf,X,y=CreateData(dataset)\n",
    "\n",
    " X_train, X_test, y_train, y_test = train_test_split(X, y, test_size=test_size, shuffle=IsShuffle,random_state=seed)\n",
    "\n",
    " print(X_train.shape)\n",
    "\n",
    " print(X_test.shape)\n"
   ]
  },
  {
   "cell_type": "markdown",
   "metadata": {},
   "source": [
    "# n_estimators=epoch"
   ]
  },
  {
   "cell_type": "markdown",
   "metadata": {},
   "source": [
    "# evaluate_validation_set"
   ]
  },
  {
   "cell_type": "markdown",
   "metadata": {},
   "source": [
    "# learning_curves with n_estimators(epoch) and plot "
   ]
  },
  {
   "cell_type": "code",
   "execution_count": 14,
   "metadata": {},
   "outputs": [
    {
     "name": "stdout",
     "output_type": "stream",
     "text": [
      "Accuracy: 82.50%\n"
     ]
    }
   ],
   "source": [
    "\n",
    "#eval_set[0]=train and eval_set[1]=test \n",
    "eval_set = [(X_train, y_train), (X_test, y_test)]\n",
    "\n",
    "\n",
    "\n",
    "#validation_0 for merror and validation_1 for mlogloss\n",
    "model.fit(X_train, y_train, eval_metric=[\"error\", \"logloss\"], eval_set=eval_set,verbose=False)\n",
    "\n",
    "\n",
    "# make predictions for test data\n",
    "y_pred = model.predict(X_test)\n",
    "predictions = [round(value) for value in y_pred]\n",
    "# evaluate predictions\n",
    "accuracy = accuracy_score(y_test, predictions)\n",
    "print(\"Accuracy: %.2f%%\" % (accuracy * 100.0))\n",
    "                                         \n"
   ]
  },
  {
   "cell_type": "code",
   "execution_count": 15,
   "metadata": {},
   "outputs": [
    {
     "data": {
      "image/png": "[encoded data removed]",
      "text/plain": [
       "<Figure size 432x288 with 1 Axes>"
      ]
     },
     "metadata": {
      "needs_background": "light"
     },
     "output_type": "display_data"
    },
    {
     "data": {
      "image/png": "[encoded data removed]",
      "text/plain": [
       "<Figure size 432x288 with 1 Axes>"
      ]
     },
     "metadata": {
      "needs_background": "light"
     },
     "output_type": "display_data"
    }
   ],
   "source": [
    "# retrieve performance metrics\n",
    "results = model.evals_result()\n",
    "epochs = len(results['validation_0']['error'])\n",
    "x_axis = range(0, epochs)\n",
    "# plot log loss\n",
    "fig, ax = pyplot.subplots()\n",
    "ax.plot(x_axis, results['validation_0']['logloss'], label='Train')\n",
    "ax.plot(x_axis, results['validation_1']['logloss'], label='Test')\n",
    "ax.legend()\n",
    "pyplot.ylabel('Log Loss')\n",
    "pyplot.title('XGBoost Log Loss')\n",
    "pyplot.show()\n",
    "# plot classification error\n",
    "fig, ax = pyplot.subplots()\n",
    "ax.plot(x_axis, results['validation_0']['error'], label='Train')\n",
    "ax.plot(x_axis, results['validation_1']['error'], label='Test')\n",
    "ax.legend()\n",
    "pyplot.ylabel('Classification Error')\n",
    "pyplot.title('XGBoost Classification Error')\n",
    "pyplot.show()\n"
   ]
  },
  {
   "cell_type": "code",
   "execution_count": null,
   "metadata": {},
   "outputs": [],
   "source": []
  }
 ],
 "metadata": {
  "kernelspec": {
   "display_name": "Python 3",
   "language": "python",
   "name": "python3"
  },
  "language_info": {
   "codemirror_mode": {
    "name": "ipython",
    "version": 3
   },
   "file_extension": ".py",
   "mimetype": "text/x-python",
   "name": "python",
   "nbconvert_exporter": "python",
   "pygments_lexer": "ipython3",
   "version": "3.7.8"
  }
 },
 "nbformat": 4,
 "nbformat_minor": 2
}
