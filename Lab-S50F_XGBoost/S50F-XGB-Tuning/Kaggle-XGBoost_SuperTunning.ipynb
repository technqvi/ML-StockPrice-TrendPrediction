{
 "cells": [
  {
   "cell_type": "code",
   "execution_count": 36,
   "metadata": {},
   "outputs": [],
   "source": [
    "# This Python 3 environment comes with many helpful analytics libraries installed\n",
    "# It is defined by the kaggle/python docker image: https://github.com/kaggle/docker-python\n",
    "# For example, here's several helpful packages to load in \n",
    "\n",
    "import numpy as np # linear algebra\n",
    "import pandas as pd # data processing, CSV file I/O (e.g. pd.read_csv)\n",
    "\n",
    "# Input data files are available in the \"../input/\" directory.\n",
    "# For example, running this (by clicking run or pressing Shift+Enter) will list the files in the input directory\n",
    "import numpy as np\n",
    "import matplotlib.pyplot as plt\n",
    "import seaborn as sns\n",
    "\n",
    "import numpy as np\n",
    "import pandas as pd\n",
    "import matplotlib.pyplot as plt\n",
    "from matplotlib import cm\n",
    "\n",
    "\n",
    "from sklearn.model_selection import GridSearchCV\n",
    "from sklearn.ensemble import RandomForestClassifier\n",
    "from sklearn.linear_model import LogisticRegression\n",
    "from xgboost import XGBClassifier\n",
    "from sklearn.decomposition import PCA\n",
    "\n",
    "from sklearn.metrics import mean_absolute_error\n",
    "from sklearn.metrics import roc_auc_score\n",
    "\n",
    "\n",
    "import random\n",
    "random.seed(9001)    \n",
    "\n"
   ]
  },
  {
   "cell_type": "markdown",
   "metadata": {},
   "source": [
    "https://www.kaggle.com/saxinou/imbalanced-data-xgboost-tunning"
   ]
  },
  {
   "cell_type": "code",
   "execution_count": 20,
   "metadata": {},
   "outputs": [],
   "source": [
    "def Init_GMM_2(n_ind=1000.0, p=[0.05, 0.95]):\n",
    "    n_fraude=int(n_ind*p[0])\n",
    "    n_ok= int(n_ind - n_fraude)\n",
    "\n",
    "    colonnes=['X0','X1']\n",
    "\n",
    "    mean1 = [0,0] #\n",
    "    cov1 = [[1,3],[0,10]]#\n",
    "    data_fraude=pd.DataFrame(np.random.multivariate_normal(mean1,cov1,int(n_fraude/2)), columns=colonnes)\n",
    "    data_fraude['FRAUDE']=1\n",
    "    \n",
    "    mean3 = [4,0]#\n",
    "    cov3 = [[1,3],[0,10]]#\n",
    "    data_fraude2=pd.DataFrame(np.random.multivariate_normal(mean3,cov3,int(n_fraude/2)), columns=colonnes)\n",
    "    data_fraude2['FRAUDE']=1\n",
    "    \n",
    "    mean2 = [2,2]#\n",
    "    cov2 = [[1,3],[0,10]]#\n",
    "    data_ok=pd.DataFrame(np.random.multivariate_normal(mean2,cov2,n_ok), columns=colonnes)\n",
    "    data_ok['FRAUDE']=0\n",
    "    \n",
    "    data = pd.concat([data_fraude, data_ok, data_fraude2])\n",
    "    data = data.reset_index(drop=True)\n",
    "    \n",
    "    return data, colonnes, 'FRAUDE'\n",
    "\n",
    "\n",
    "def Nuage(X, feature1, feature2, type_i='FRAUDE'):\n",
    "    if type_i not in data.columns:\n",
    "        print(type_i,\" non disponible\")\n",
    "        return\n",
    "    \n",
    "    TF = X[ X[type_i]==1 ]\n",
    "    TO = X[ X[type_i]==0 ]\n",
    "\n",
    "    plot1 = plt.scatter(TF[feature1], TF[feature2], color='b', marker='x', label='Fraude')\n",
    "    plot2 = plt.scatter(TO[feature1], TO[feature2], color='r', marker='.', label='OK')\n",
    "                       \n",
    "    plt.legend(handles = [plot1, plot2], loc='best')\n",
    "    plt.xlabel(feature1)\n",
    "    plt.ylabel(feature2)\n",
    "    plt.title(type_i)\n",
    "    plt.show()"
   ]
  },
  {
   "cell_type": "code",
   "execution_count": 21,
   "metadata": {},
   "outputs": [
    {
     "name": "stdout",
     "output_type": "stream",
     "text": [
      "['X0', 'X1']\n"
     ]
    },
    {
     "name": "stderr",
     "output_type": "stream",
     "text": [
      "D:\\ProgramData\\Anaconda3\\envs\\mybase3.6\\lib\\site-packages\\ipykernel_launcher.py:9: RuntimeWarning: covariance is not symmetric positive-semidefinite.\n",
      "  if __name__ == '__main__':\n",
      "D:\\ProgramData\\Anaconda3\\envs\\mybase3.6\\lib\\site-packages\\ipykernel_launcher.py:14: RuntimeWarning: covariance is not symmetric positive-semidefinite.\n",
      "  \n",
      "D:\\ProgramData\\Anaconda3\\envs\\mybase3.6\\lib\\site-packages\\ipykernel_launcher.py:19: RuntimeWarning: covariance is not symmetric positive-semidefinite.\n"
     ]
    },
    {
     "data": {
      "text/html": [
       "<div>\n",
       "<style scoped>\n",
       "    .dataframe tbody tr th:only-of-type {\n",
       "        vertical-align: middle;\n",
       "    }\n",
       "\n",
       "    .dataframe tbody tr th {\n",
       "        vertical-align: top;\n",
       "    }\n",
       "\n",
       "    .dataframe thead th {\n",
       "        text-align: right;\n",
       "    }\n",
       "</style>\n",
       "<table border=\"1\" class=\"dataframe\">\n",
       "  <thead>\n",
       "    <tr style=\"text-align: right;\">\n",
       "      <th></th>\n",
       "      <th>X0</th>\n",
       "      <th>X1</th>\n",
       "      <th>FRAUDE</th>\n",
       "    </tr>\n",
       "  </thead>\n",
       "  <tbody>\n",
       "    <tr>\n",
       "      <th>0</th>\n",
       "      <td>-1.111683</td>\n",
       "      <td>1.278501</td>\n",
       "      <td>1</td>\n",
       "    </tr>\n",
       "    <tr>\n",
       "      <th>1</th>\n",
       "      <td>1.084833</td>\n",
       "      <td>-3.076667</td>\n",
       "      <td>1</td>\n",
       "    </tr>\n",
       "    <tr>\n",
       "      <th>2</th>\n",
       "      <td>-0.283788</td>\n",
       "      <td>2.824526</td>\n",
       "      <td>1</td>\n",
       "    </tr>\n",
       "    <tr>\n",
       "      <th>3</th>\n",
       "      <td>-0.613392</td>\n",
       "      <td>-4.390576</td>\n",
       "      <td>1</td>\n",
       "    </tr>\n",
       "    <tr>\n",
       "      <th>4</th>\n",
       "      <td>0.600583</td>\n",
       "      <td>-1.011224</td>\n",
       "      <td>1</td>\n",
       "    </tr>\n",
       "  </tbody>\n",
       "</table>\n",
       "</div>"
      ],
      "text/plain": [
       "         X0        X1  FRAUDE\n",
       "0 -1.111683  1.278501       1\n",
       "1  1.084833 -3.076667       1\n",
       "2 -0.283788  2.824526       1\n",
       "3 -0.613392 -4.390576       1\n",
       "4  0.600583 -1.011224       1"
      ]
     },
     "execution_count": 21,
     "metadata": {},
     "output_type": "execute_result"
    }
   ],
   "source": [
    "# Creation de la base\n",
    "data, predictors, target = Init_GMM_2(n_ind=11000)    \n",
    "\n",
    "print(predictors)\n",
    "\n",
    "data[:5]"
   ]
  },
  {
   "cell_type": "code",
   "execution_count": 22,
   "metadata": {},
   "outputs": [
    {
     "data": {
      "image/png": "[encoded data removed]",
      "text/plain": [
       "<Figure size 432x288 with 1 Axes>"
      ]
     },
     "metadata": {
      "needs_background": "light"
     },
     "output_type": "display_data"
    },
    {
     "name": "stdout",
     "output_type": "stream",
     "text": [
      "n_fraudes =  550\n",
      "n_ok =  10450\n"
     ]
    }
   ],
   "source": [
    "# Affichage du nuage de point\n",
    "Nuage(data,'X0','X1', target)\n",
    "\n",
    "# Affichage des caracteristiques de la base\n",
    "n0 = len(data[data[target]==0]) \n",
    "n1 = len(data[data[target]==1])\n",
    "print(\"n_fraudes = \",n1)\n",
    "print(\"n_ok = \",n0)"
   ]
  },
  {
   "cell_type": "code",
   "execution_count": 23,
   "metadata": {},
   "outputs": [],
   "source": [
    "import pandas as pd\n",
    "from sklearn.model_selection import train_test_split\n",
    "from sklearn.preprocessing import Imputer\n",
    "\n",
    "# Create your target and design matrix\n",
    "y = data[target]\n",
    "X = data[predictors]"
   ]
  },
  {
   "cell_type": "code",
   "execution_count": 24,
   "metadata": {},
   "outputs": [
    {
     "name": "stdout",
     "output_type": "stream",
     "text": [
      "Taille des predictor sur le train set :  (8250, 2)\n",
      "Taille de la target sur le train set :  (8250,)\n",
      "Taille des predictor sur le test set :  (2750, 2)\n",
      "Taille de la target sur le test set :  (2750,)\n"
     ]
    },
    {
     "name": "stderr",
     "output_type": "stream",
     "text": [
      "D:\\ProgramData\\Anaconda3\\envs\\mybase3.6\\lib\\site-packages\\ipykernel_launcher.py:2: FutureWarning: Method .as_matrix will be removed in a future version. Use .values instead.\n",
      "  \n"
     ]
    }
   ],
   "source": [
    "# Create train and test set \n",
    "train_X, test_X, train_y, test_y = train_test_split(X.as_matrix(), y.as_matrix(), test_size=0.25)\n",
    "print(\"Taille des predictor sur le train set : \", train_X.shape)\n",
    "print(\"Taille de la target sur le train set : \", train_y.shape)\n",
    "print(\"Taille des predictor sur le test set : \", test_X.shape)\n",
    "print(\"Taille de la target sur le test set : \", test_y.shape)\n",
    "\n"
   ]
  },
  {
   "cell_type": "code",
   "execution_count": 25,
   "metadata": {},
   "outputs": [
    {
     "name": "stderr",
     "output_type": "stream",
     "text": [
      "D:\\ProgramData\\Anaconda3\\envs\\mybase3.6\\lib\\site-packages\\sklearn\\utils\\deprecation.py:66: DeprecationWarning: Class Imputer is deprecated; Imputer was deprecated in version 0.20 and will be removed in 0.22. Import impute.SimpleImputer from sklearn instead.\n",
      "  warnings.warn(msg, category=DeprecationWarning)\n"
     ]
    }
   ],
   "source": [
    "my_imputer = Imputer()\n",
    "train_X = my_imputer.fit_transform(train_X)\n",
    "test_X = my_imputer.transform(test_X)"
   ]
  },
  {
   "cell_type": "markdown",
   "metadata": {},
   "source": [
    "# XGBOOST\n"
   ]
  },
  {
   "cell_type": "code",
   "execution_count": 26,
   "metadata": {},
   "outputs": [
    {
     "name": "stdout",
     "output_type": "stream",
     "text": [
      "[22:43:27] WARNING: src/objective/regression_obj.cu:152: reg:linear is now deprecated in favor of reg:squarederror.\n"
     ]
    },
    {
     "data": {
      "text/plain": [
       "XGBRegressor(base_score=0.5, booster='gbtree', colsample_bylevel=1,\n",
       "             colsample_bynode=1, colsample_bytree=1, gamma=0,\n",
       "             importance_type='gain', learning_rate=0.1, max_delta_step=0,\n",
       "             max_depth=3, min_child_weight=1, missing=None, n_estimators=100,\n",
       "             n_jobs=1, nthread=None, objective='reg:linear', random_state=0,\n",
       "             reg_alpha=0, reg_lambda=1, scale_pos_weight=1, seed=None,\n",
       "             silent=None, subsample=1, verbosity=1)"
      ]
     },
     "execution_count": 26,
     "metadata": {},
     "output_type": "execute_result"
    }
   ],
   "source": [
    "from xgboost import XGBRegressor\n",
    "my_model = XGBRegressor()\n",
    "# Add silent=True to avoid printing out updates with each cycle\n",
    "my_model.fit(train_X, train_y, verbose=False)"
   ]
  },
  {
   "cell_type": "code",
   "execution_count": 27,
   "metadata": {},
   "outputs": [
    {
     "name": "stdout",
     "output_type": "stream",
     "text": [
      "Performance AUC train :  0.9111263207274081\n"
     ]
    },
    {
     "data": {
      "text/plain": [
       "array([0.06277606, 0.00838259, 0.01029161, ..., 0.00838259, 0.12083465,\n",
       "       0.06669769], dtype=float32)"
      ]
     },
     "execution_count": 27,
     "metadata": {},
     "output_type": "execute_result"
    }
   ],
   "source": [
    "# Performance sur le train\n",
    "train_y_pred = my_model.predict(train_X)\n",
    "auc = roc_auc_score(train_y, train_y_pred)\n",
    "print(\"Performance AUC train : \", auc)\n",
    "train_y_pred\n",
    "\n"
   ]
  },
  {
   "cell_type": "code",
   "execution_count": 28,
   "metadata": {},
   "outputs": [
    {
     "name": "stdout",
     "output_type": "stream",
     "text": [
      "Performance AUC test :  0.8805787023308227\n"
     ]
    }
   ],
   "source": [
    "# Performance sur le test\n",
    "test_y_pred = my_model.predict(test_X)\n",
    "auc = roc_auc_score(test_y, test_y_pred)\n",
    "print(\"Performance AUC test : \", auc)"
   ]
  },
  {
   "cell_type": "markdown",
   "metadata": {},
   "source": [
    "# When you observe high training accuracy, but low tests accuracy, it is likely that you encounter overfitting problem.\n",
    "\n",
    "There are in general two ways that you can control overfitting in xgboost :\n",
    "\n",
    "    The first way is to directly control model complexity◦This include max_depth, min_child_weight and gamma\n",
    "    \n",
    "    The second way is to add randomness to make training robust to noise◦This include subsample, colsample_bytree\n",
    "    \n",
    "    You can also reduce stepsize eta, but needs to remember to increase num_round when you do so\n",
    "\n"
   ]
  },
  {
   "cell_type": "code",
   "execution_count": 29,
   "metadata": {},
   "outputs": [
    {
     "name": "stdout",
     "output_type": "stream",
     "text": [
      "[22:47:48] WARNING: src/objective/regression_obj.cu:152: reg:linear is now deprecated in favor of reg:squarederror.\n"
     ]
    },
    {
     "data": {
      "text/plain": [
       "XGBRegressor(base_score=0.5, booster='gbtree', colsample_bylevel=1,\n",
       "             colsample_bynode=1, colsample_bytree=1, gamma=0,\n",
       "             importance_type='gain', learning_rate=0.1, max_delta_step=0,\n",
       "             max_depth=3, min_child_weight=1, missing=None, n_estimators=1000,\n",
       "             n_jobs=1, nthread=None, objective='reg:linear', random_state=0,\n",
       "             reg_alpha=0, reg_lambda=1, scale_pos_weight=1, seed=None,\n",
       "             silent=None, subsample=1, verbosity=1)"
      ]
     },
     "execution_count": 29,
     "metadata": {},
     "output_type": "execute_result"
    }
   ],
   "source": [
    "my_model = XGBRegressor(n_estimators=1000)\n",
    "my_model.fit(train_X, train_y, early_stopping_rounds=2, \n",
    "             eval_set=[(test_X, test_y)], verbose=False)"
   ]
  },
  {
   "cell_type": "code",
   "execution_count": 31,
   "metadata": {},
   "outputs": [
    {
     "name": "stdout",
     "output_type": "stream",
     "text": [
      "Performance AUC@train at n_estimators=1000 :  0.894436468100944\n",
      "Performance @test at n_estimators=1000 :  0.8830017001759484\n"
     ]
    }
   ],
   "source": [
    "# Performance sur le train\n",
    "train_y_pred = my_model.predict(train_X)\n",
    "auc = roc_auc_score(train_y, train_y_pred)\n",
    "print(\"Performance AUC@train at n_estimators=1000 : \", auc)\n",
    "\n",
    "# Performance sur le test\n",
    "test_y_pred = my_model.predict(test_X)\n",
    "auc = roc_auc_score(test_y, test_y_pred)\n",
    "print(\"Performance @test at n_estimators=1000 : \", auc)\n"
   ]
  },
  {
   "cell_type": "markdown",
   "metadata": {},
   "source": [
    "# Step 1 : Fix learning rate and number of estimators for tuning tree-based parameters\n",
    "\n",
    "    max_depth = 5 : This should be between 3-10. I’ve started with 5 but you can choose a different number as well. 4-6 can be good starting points.\n",
    "    \n",
    "    min_child_weight = 1 : A smaller value is chosen because it is a highly imbalanced class problem and leaf nodes can have smaller size groups.\n",
    "    \n",
    "    gamma = 0 : A smaller value like 0.1-0.2 can also be chosen for starting. This will anyways be tuned later.\n",
    "    \n",
    "    subsample, colsample_bytree = 0.8 : This is a commonly used used start value. Typical values range between 0.5-0.9.\n",
    "    \n",
    "    scale_pos_weight = 1: Because of high class imbalance.\n",
    "\n"
   ]
  },
  {
   "cell_type": "code",
   "execution_count": 33,
   "metadata": {},
   "outputs": [
    {
     "name": "stdout",
     "output_type": "stream",
     "text": [
      "Performance train Step 1 :  0.8346435069835723\n",
      "Performance test Step 1 :  0.622808058043216\n"
     ]
    }
   ],
   "source": [
    "# Step 1 : Fix learning rate and number of estimators for tuning tree-based parameters\n",
    "xgb1 = XGBClassifier(\n",
    "    learning_rate =0.1, n_estimators=1000,\n",
    "    max_depth=5, min_child_weight=1, gamma=0,subsample=0.8,colsample_bytree=0.8,\n",
    "    objective= 'binary:logistic', nthread=4,scale_pos_weight=1,seed=27)\n",
    "# modelfit(xgb1, train, train_X)\n",
    "xgb1.fit(train_X, train_y)\n",
    "\n",
    "# Performance sur le train\n",
    "auc = roc_auc_score(train_y, xgb1.predict(train_X))\n",
    "print(\"Performance train Step 1 : \", auc)\n",
    "\n",
    "# Performance sur le test\n",
    "auc = roc_auc_score(test_y, xgb1.predict(test_X))\n",
    "print(\"Performance test Step 1 : \", auc)\n",
    "\n"
   ]
  },
  {
   "cell_type": "markdown",
   "metadata": {},
   "source": [
    "# Step 2: Tune max_depth and min_child_weight\n",
    "\n",
    "Important Note : I’ll be doing some heavy-duty grid searched in this section which can take a long time (depending on your system).\n"
   ]
  },
  {
   "cell_type": "code",
   "execution_count": 38,
   "metadata": {},
   "outputs": [
    {
     "data": {
      "text/plain": [
       "GridSearchCV(cv=5, error_score='raise-deprecating',\n",
       "             estimator=XGBClassifier(base_score=0.5, booster='gbtree',\n",
       "                                     colsample_bylevel=1, colsample_bynode=1,\n",
       "                                     colsample_bytree=0.8, gamma=0,\n",
       "                                     learning_rate=0.1, max_delta_step=0,\n",
       "                                     max_depth=5, min_child_weight=1,\n",
       "                                     missing=None, n_estimators=200, n_jobs=1,\n",
       "                                     nthread=4, objective='binary:logistic',\n",
       "                                     random_state=0, reg_alpha=0, reg_lambda=1,\n",
       "                                     scale_pos_weight=1, seed=27, silent=None,\n",
       "                                     subsample=0.8, verbosity=1),\n",
       "             iid=False, n_jobs=4,\n",
       "             param_grid={'max_depth': range(3, 10, 2),\n",
       "                         'min_child_weight': range(1, 6, 2)},\n",
       "             pre_dispatch='2*n_jobs', refit=True, return_train_score=False,\n",
       "             scoring='roc_auc', verbose=0)"
      ]
     },
     "execution_count": 38,
     "metadata": {},
     "output_type": "execute_result"
    }
   ],
   "source": [
    "param_test1 = {\n",
    "    'max_depth':range(3,10,2),\n",
    "    'min_child_weight':range(1,6,2)\n",
    "}\n",
    "gsearch1 = GridSearchCV(estimator = XGBClassifier( learning_rate =0.1, \n",
    "                                                  #n_estimators=1000, \n",
    "                                                   n_estimators=200, \n",
    "                                                  max_depth=5,\n",
    "                                                  min_child_weight=1,\n",
    "                                                  gamma=0, \n",
    "                                                  subsample=0.8, \n",
    "                                                  colsample_bytree=0.8,\n",
    "                                                  objective= 'binary:logistic', nthread=4, scale_pos_weight=1, seed=27), \n",
    "                        param_grid = param_test1, \n",
    "                        scoring='roc_auc',\n",
    "                        n_jobs=4,\n",
    "                        iid=False, \n",
    "                        cv=5)\n",
    "\n",
    "gsearch1.fit(train_X,train_y)\n"
   ]
  },
  {
   "cell_type": "code",
   "execution_count": 40,
   "metadata": {},
   "outputs": [
    {
     "data": {
      "text/plain": [
       "{'mean_fit_time': array([1.03858781, 1.19205136, 1.2456975 , 1.58038192, 1.63804183,\n",
       "        1.4472724 , 1.90488396, 1.98242836, 1.83677788, 2.14656816,\n",
       "        2.32918682, 2.28939724]),\n",
       " 'std_fit_time': array([0.05125503, 0.07159019, 0.04779018, 0.06063343, 0.08103386,\n",
       "        0.01404607, 0.00948494, 0.05411922, 0.01856233, 0.05018248,\n",
       "        0.30452245, 0.26601325]),\n",
       " 'mean_score_time': array([0.01552725, 0.01249981, 0.01405139, 0.01272545, 0.01472616,\n",
       "        0.01180291, 0.01561532, 0.01592503, 0.01477537, 0.0152514 ,\n",
       "        0.01620092, 0.01420245]),\n",
       " 'std_score_time': array([3.25661147e-03, 6.24990467e-03, 1.43452897e-03, 2.55120411e-03,\n",
       "        1.89652612e-03, 2.13612973e-03, 2.00830542e-05, 3.52489620e-03,\n",
       "        9.98136676e-03, 3.06213782e-04, 7.48927894e-04, 7.45181495e-04]),\n",
       " 'param_max_depth': masked_array(data=[3, 3, 3, 5, 5, 5, 7, 7, 7, 9, 9, 9],\n",
       "              mask=[False, False, False, False, False, False, False, False,\n",
       "                    False, False, False, False],\n",
       "        fill_value='?',\n",
       "             dtype=object),\n",
       " 'param_min_child_weight': masked_array(data=[1, 3, 5, 1, 3, 5, 1, 3, 5, 1, 3, 5],\n",
       "              mask=[False, False, False, False, False, False, False, False,\n",
       "                    False, False, False, False],\n",
       "        fill_value='?',\n",
       "             dtype=object),\n",
       " 'params': [{'max_depth': 3, 'min_child_weight': 1},\n",
       "  {'max_depth': 3, 'min_child_weight': 3},\n",
       "  {'max_depth': 3, 'min_child_weight': 5},\n",
       "  {'max_depth': 5, 'min_child_weight': 1},\n",
       "  {'max_depth': 5, 'min_child_weight': 3},\n",
       "  {'max_depth': 5, 'min_child_weight': 5},\n",
       "  {'max_depth': 7, 'min_child_weight': 1},\n",
       "  {'max_depth': 7, 'min_child_weight': 3},\n",
       "  {'max_depth': 7, 'min_child_weight': 5},\n",
       "  {'max_depth': 9, 'min_child_weight': 1},\n",
       "  {'max_depth': 9, 'min_child_weight': 3},\n",
       "  {'max_depth': 9, 'min_child_weight': 5}],\n",
       " 'split0_test_score': array([0.86358183, 0.86265984, 0.86340468, 0.85329098, 0.85607708,\n",
       "        0.85609318, 0.84265388, 0.8501224 , 0.85196637, 0.84110784,\n",
       "        0.84320144, 0.85122959]),\n",
       " 'split1_test_score': array([0.841611  , 0.84962009, 0.84541814, 0.83065289, 0.84223948,\n",
       "        0.84051519, 0.81956184, 0.83541887, 0.83790056, 0.81519068,\n",
       "        0.83156338, 0.83434723]),\n",
       " 'split2_test_score': array([0.90824598, 0.90709376, 0.90430589, 0.89617997, 0.90296836,\n",
       "        0.90318591, 0.88690989, 0.89444762, 0.89846425, 0.87865908,\n",
       "        0.89003215, 0.89835145]),\n",
       " 'split3_test_score': array([0.89820239, 0.89763031, 0.90262592, 0.8867568 , 0.89097487,\n",
       "        0.89857706, 0.87618142, 0.88413411, 0.89004021, 0.86766874,\n",
       "        0.88050021, 0.88650299]),\n",
       " 'split4_test_score': array([0.83861333, 0.83998841, 0.84359138, 0.8236751 , 0.83038731,\n",
       "        0.83284369, 0.81511858, 0.8240913 , 0.82785748, 0.81039351,\n",
       "        0.82141458, 0.82791461]),\n",
       " 'mean_test_score': array([0.8700509 , 0.87139848, 0.8718692 , 0.85811115, 0.86452942,\n",
       "        0.86624301, 0.84808512, 0.85764286, 0.86124577, 0.84260397,\n",
       "        0.85334235, 0.85966917]),\n",
       " 'std_test_score': array([0.02860198, 0.02645569, 0.02671725, 0.02909584, 0.02796741,\n",
       "        0.0292941 , 0.02907451, 0.02732232, 0.02814327, 0.02727436,\n",
       "        0.02713018, 0.02806119]),\n",
       " 'rank_test_score': array([ 3,  2,  1,  8,  5,  4, 11,  9,  6, 12, 10,  7])}"
      ]
     },
     "execution_count": 40,
     "metadata": {},
     "output_type": "execute_result"
    }
   ],
   "source": [
    "gsearch1.cv_results_"
   ]
  },
  {
   "cell_type": "code",
   "execution_count": 42,
   "metadata": {},
   "outputs": [
    {
     "data": {
      "text/plain": [
       "{'max_depth': 3, 'min_child_weight': 5}"
      ]
     },
     "execution_count": 42,
     "metadata": {},
     "output_type": "execute_result"
    }
   ],
   "source": [
    "gsearch1.best_params_"
   ]
  },
  {
   "cell_type": "code",
   "execution_count": 43,
   "metadata": {},
   "outputs": [
    {
     "data": {
      "text/plain": [
       "0.8718692005927313"
      ]
     },
     "execution_count": 43,
     "metadata": {},
     "output_type": "execute_result"
    }
   ],
   "source": [
    "gsearch1.best_score_"
   ]
  },
  {
   "cell_type": "code",
   "execution_count": 45,
   "metadata": {},
   "outputs": [
    {
     "name": "stdout",
     "output_type": "stream",
     "text": [
      "Performance ROC train After Optimization:  0.6826099486182763\n",
      "Performance ROC test After Optimization:  0.6053120613644901\n"
     ]
    }
   ],
   "source": [
    "# Fix new param with optimal parameter\n",
    "xgb2 = XGBClassifier(\n",
    "    learning_rate =0.1, n_estimators=1000,\n",
    "    gamma=0,subsample=0.8,colsample_bytree=0.8,\n",
    "    objective= 'binary:logistic', nthread=4,scale_pos_weight=1,seed=27,\n",
    "    max_depth = 3,\n",
    "    min_child_weight = 5\n",
    ")\n",
    "# modelfit(xgb1, train, train_X)\n",
    "xgb2.fit(train_X, train_y)\n",
    "\n",
    "# Performance sur le train\n",
    "auc = roc_auc_score(train_y, xgb2.predict(train_X))\n",
    "print(\"Performance ROC train After Optimization: \", auc)\n",
    "\n",
    "# Performance sur le test\n",
    "auc = roc_auc_score(test_y, xgb2.predict(test_X))\n",
    "print(\"Performance ROC test After Optimization: \", auc)\n",
    "\n"
   ]
  },
  {
   "cell_type": "markdown",
   "metadata": {},
   "source": [
    "# Step 3: Tune gamma\n",
    "\n",
    "Now lets tune gamma value using the parameters already tuned above.\n"
   ]
  },
  {
   "cell_type": "code",
   "execution_count": 46,
   "metadata": {},
   "outputs": [
    {
     "data": {
      "text/plain": [
       "({'mean_fit_time': array([1.12939925, 1.15098429, 1.16458631, 0.97273412, 0.86279879]),\n",
       "  'std_fit_time': array([0.02891353, 0.0387104 , 0.03370284, 0.08603822, 0.18064475]),\n",
       "  'mean_score_time': array([0.01392808, 0.01249952, 0.00952587, 0.0092001 , 0.00840044]),\n",
       "  'std_score_time': array([0.00182062, 0.00624976, 0.00537649, 0.00116675, 0.00149627]),\n",
       "  'param_gamma': masked_array(data=[0.0, 0.1, 0.2, 0.3, 0.4],\n",
       "               mask=[False, False, False, False, False],\n",
       "         fill_value='?',\n",
       "              dtype=object),\n",
       "  'params': [{'gamma': 0.0},\n",
       "   {'gamma': 0.1},\n",
       "   {'gamma': 0.2},\n",
       "   {'gamma': 0.3},\n",
       "   {'gamma': 0.4}],\n",
       "  'split0_test_score': array([0.86340468, 0.86433069, 0.86390392, 0.86366235, 0.86362612]),\n",
       "  'split1_test_score': array([0.84541814, 0.84534562, 0.8490319 , 0.84623597, 0.84826644]),\n",
       "  'split2_test_score': array([0.90430589, 0.90292404, 0.90372979, 0.90294821, 0.90504315]),\n",
       "  'split3_test_score': array([0.90262592, 0.90300865, 0.90246074, 0.90210621, 0.90200147]),\n",
       "  'split4_test_score': array([0.84359138, 0.84341184, 0.84263657, 0.84257536, 0.84297116]),\n",
       "  'mean_test_score': array([0.8718692 , 0.87180417, 0.87235258, 0.87150562, 0.87238167]),\n",
       "  'std_test_score': array([0.02671725, 0.02647337, 0.02603577, 0.02631374, 0.02633358]),\n",
       "  'rank_test_score': array([3, 4, 2, 5, 1])},\n",
       " {'gamma': 0.4},\n",
       " 0.8723816664854336)"
      ]
     },
     "execution_count": 46,
     "metadata": {},
     "output_type": "execute_result"
    }
   ],
   "source": [
    "param_test3 = { \n",
    "    'gamma':[i/10.0 for i in range(0,5)] \n",
    "}\n",
    "gsearch3 = GridSearchCV(estimator = XGBClassifier( learning_rate =0.1, \n",
    "                                                  #n_estimators=1000, \n",
    "                                                  n_estimators=200,\n",
    "                                                  max_depth = 3,\n",
    "                                                  min_child_weight = 5,\n",
    "                                                  gamma=0, subsample=0.8, colsample_bytree=0.8,\n",
    "                                                  objective= 'binary:logistic', nthread=4, scale_pos_weight=1,seed=27), \n",
    "                        param_grid = param_test3, \n",
    "                        scoring='roc_auc',\n",
    "                        n_jobs=4,\n",
    "                        iid=False, \n",
    "                        cv=5)\n",
    "\n",
    "gsearch3.fit(train_X,train_y)\n",
    "gsearch3.cv_results_, gsearch3.best_params_, gsearch3.best_score_"
   ]
  },
  {
   "cell_type": "code",
   "execution_count": 47,
   "metadata": {},
   "outputs": [
    {
     "name": "stdout",
     "output_type": "stream",
     "text": [
      "Performance sur le train :  0.6812772674641\n",
      "Performance sur le test :  0.6019141806535792\n"
     ]
    }
   ],
   "source": [
    "# Fix new param with optimal parameter\n",
    "xgb3 = XGBClassifier(\n",
    "    learning_rate =0.1, \n",
    "    n_estimators=1000,\n",
    "    gamma=0.4,\n",
    "    subsample=0.8,colsample_bytree=0.8,\n",
    "    objective= 'binary:logistic', nthread=4,scale_pos_weight=1,seed=27,\n",
    "    max_depth = 3,\n",
    "    min_child_weight = 5\n",
    ")\n",
    "# modelfit(xgb1, train, train_X)\n",
    "xgb3.fit(train_X, train_y)\n",
    "\n",
    "# Performance sur le train\n",
    "auc = roc_auc_score(train_y, xgb3.predict(train_X))\n",
    "print(\"Performance sur le train : \", auc)\n",
    "\n",
    "# Performance sur le test\n",
    "auc = roc_auc_score(test_y, xgb3.predict(test_X))\n",
    "print(\"Performance sur le test : \", auc)"
   ]
  },
  {
   "cell_type": "markdown",
   "metadata": {},
   "source": [
    "# Step 4: Tune subsample and colsample_bytree"
   ]
  },
  {
   "cell_type": "code",
   "execution_count": 52,
   "metadata": {},
   "outputs": [
    {
     "data": {
      "text/plain": [
       "({'mean_fit_time': array([1.19540391, 1.00059576, 0.94639692, 0.98119645, 1.14803534,\n",
       "         1.06490769, 1.05371914, 1.18421798, 1.10738859, 1.1044395 ,\n",
       "         1.05161858, 1.05224309, 1.03071074, 1.04121575, 1.05195832,\n",
       "         1.05625   ]),\n",
       "  'std_fit_time': array([0.08143433, 0.03335445, 0.01493431, 0.01735951, 0.05770982,\n",
       "         0.03816103, 0.04889268, 0.08055446, 0.0140253 , 0.02352481,\n",
       "         0.02001266, 0.0074853 , 0.00905413, 0.01356184, 0.02075198,\n",
       "         0.03061782]),\n",
       "  'mean_score_time': array([0.01320133, 0.01060019, 0.01000142, 0.00959897, 0.00919948,\n",
       "         0.01040039, 0.01357484, 0.00937495, 0.00960126, 0.00660038,\n",
       "         0.00624967, 0.00312481, 0.01430111, 0.00892568, 0.00937529,\n",
       "         0.00937438]),\n",
       "  'std_score_time': array([0.00132909, 0.00102076, 0.00063271, 0.00149596, 0.00160055,\n",
       "         0.00257644, 0.00253092, 0.00765462, 0.00119941, 0.00549951,\n",
       "         0.00765425, 0.00624962, 0.00265028, 0.0050766 , 0.00765489,\n",
       "         0.00765415]),\n",
       "  'param_colsample_bytree': masked_array(data=[0.6, 0.6, 0.6, 0.6, 0.7, 0.7, 0.7, 0.7, 0.8, 0.8, 0.8,\n",
       "                     0.8, 0.9, 0.9, 0.9, 0.9],\n",
       "               mask=[False, False, False, False, False, False, False, False,\n",
       "                     False, False, False, False, False, False, False, False],\n",
       "         fill_value='?',\n",
       "              dtype=object),\n",
       "  'param_subsample': masked_array(data=[0.6, 0.7, 0.8, 0.9, 0.6, 0.7, 0.8, 0.9, 0.6, 0.7, 0.8,\n",
       "                     0.9, 0.6, 0.7, 0.8, 0.9],\n",
       "               mask=[False, False, False, False, False, False, False, False,\n",
       "                     False, False, False, False, False, False, False, False],\n",
       "         fill_value='?',\n",
       "              dtype=object),\n",
       "  'params': [{'colsample_bytree': 0.6, 'subsample': 0.6},\n",
       "   {'colsample_bytree': 0.6, 'subsample': 0.7},\n",
       "   {'colsample_bytree': 0.6, 'subsample': 0.8},\n",
       "   {'colsample_bytree': 0.6, 'subsample': 0.9},\n",
       "   {'colsample_bytree': 0.7, 'subsample': 0.6},\n",
       "   {'colsample_bytree': 0.7, 'subsample': 0.7},\n",
       "   {'colsample_bytree': 0.7, 'subsample': 0.8},\n",
       "   {'colsample_bytree': 0.7, 'subsample': 0.9},\n",
       "   {'colsample_bytree': 0.8, 'subsample': 0.6},\n",
       "   {'colsample_bytree': 0.8, 'subsample': 0.7},\n",
       "   {'colsample_bytree': 0.8, 'subsample': 0.8},\n",
       "   {'colsample_bytree': 0.8, 'subsample': 0.9},\n",
       "   {'colsample_bytree': 0.9, 'subsample': 0.6},\n",
       "   {'colsample_bytree': 0.9, 'subsample': 0.7},\n",
       "   {'colsample_bytree': 0.9, 'subsample': 0.8},\n",
       "   {'colsample_bytree': 0.9, 'subsample': 0.9}],\n",
       "  'split0_test_score': array([0.86688327, 0.86433472, 0.86362612, 0.86577206, 0.86688327,\n",
       "         0.86433472, 0.86362612, 0.86577206, 0.86688327, 0.86433472,\n",
       "         0.86362612, 0.86577206, 0.86688327, 0.86433472, 0.86362612,\n",
       "         0.86577206]),\n",
       "  'split1_test_score': array([0.85068367, 0.84986987, 0.84826644, 0.84833493, 0.85068367,\n",
       "         0.84986987, 0.84826644, 0.84833493, 0.85068367, 0.84986987,\n",
       "         0.84826644, 0.84833493, 0.85068367, 0.84986987, 0.84826644,\n",
       "         0.84833493]),\n",
       "  'split2_test_score': array([0.90448718, 0.90271052, 0.90504315, 0.90271052, 0.90448718,\n",
       "         0.90271052, 0.90504315, 0.90271052, 0.90448718, 0.90271052,\n",
       "         0.90504315, 0.90271052, 0.90448718, 0.90271052, 0.90504315,\n",
       "         0.90271052]),\n",
       "  'split3_test_score': array([0.89878655, 0.90037789, 0.90200147, 0.90235196, 0.89878655,\n",
       "         0.90037789, 0.90200147, 0.90235196, 0.89878655, 0.90037789,\n",
       "         0.90200147, 0.90235196, 0.89878655, 0.90037789, 0.90200147,\n",
       "         0.90235196]),\n",
       "  'split4_test_score': array([0.84637827, 0.84631298, 0.84297116, 0.8423183 , 0.84637827,\n",
       "         0.84631298, 0.84297116, 0.8423183 , 0.84637827, 0.84631298,\n",
       "         0.84297116, 0.8423183 , 0.84637827, 0.84631298, 0.84297116,\n",
       "         0.8423183 ]),\n",
       "  'mean_test_score': array([0.87344379, 0.8727212 , 0.87238167, 0.87229755, 0.87344379,\n",
       "         0.8727212 , 0.87238167, 0.87229755, 0.87344379, 0.8727212 ,\n",
       "         0.87238167, 0.87229755, 0.87344379, 0.8727212 , 0.87238167,\n",
       "         0.87229755]),\n",
       "  'std_test_score': array([0.02408134, 0.02430705, 0.02633358, 0.02586024, 0.02408134,\n",
       "         0.02430705, 0.02633358, 0.02586024, 0.02408134, 0.02430705,\n",
       "         0.02633358, 0.02586024, 0.02408134, 0.02430705, 0.02633358,\n",
       "         0.02586024]),\n",
       "  'rank_test_score': array([ 1,  5,  9, 13,  1,  5,  9, 13,  1,  5,  9, 13,  1,  5,  9, 13])},\n",
       " {'colsample_bytree': 0.6, 'subsample': 0.6},\n",
       " 0.873443789697418)"
      ]
     },
     "execution_count": 52,
     "metadata": {},
     "output_type": "execute_result"
    }
   ],
   "source": [
    "param_test4 = {\n",
    "    'subsample':[i/10.0 for i in range(6,10)],\n",
    "    'colsample_bytree':[i/10.0 for i in range(6,10)]\n",
    "}\n",
    "gsearch4 = GridSearchCV(estimator = XGBClassifier(learning_rate =0.1, \n",
    "                                                  #n_estimators=1000, \n",
    "                                                  n_estimators=200, \n",
    "                                                  max_depth = 3,\n",
    "                                                  min_child_weight = 5,\n",
    "                                                  gamma=0.4, \n",
    "                                                  subsample=0.8, colsample_bytree=0.8,\n",
    "                                                  objective= 'binary:logistic', nthread=4, scale_pos_weight=1,seed=27), \n",
    "                        param_grid = param_test4, \n",
    "                        scoring='roc_auc',\n",
    "                        n_jobs=4,\n",
    "                        iid=False, \n",
    "                        cv=5)\n",
    "\n",
    "gsearch4.fit(train_X,train_y)\n",
    "gsearch4.cv_results_, gsearch4.best_params_, gsearch4.best_score_"
   ]
  },
  {
   "cell_type": "code",
   "execution_count": 53,
   "metadata": {},
   "outputs": [
    {
     "data": {
      "text/plain": [
       "({'mean_fit_time': array([1.00499487, 1.05859666, 1.04959435, 1.04199843, 1.10999298,\n",
       "         1.07119865, 1.00439792, 1.08439655, 0.83799815]),\n",
       "  'std_fit_time': array([0.05426946, 0.05604463, 0.03881841, 0.01224569, 0.01723548,\n",
       "         0.03270331, 0.01227304, 0.03126826, 0.16319055]),\n",
       "  'mean_score_time': array([0.01260409, 0.01200132, 0.01260166, 0.01300063, 0.01020193,\n",
       "         0.0124001 , 0.01060319, 0.01000009, 0.00819864]),\n",
       "  'std_score_time': array([0.00272585, 0.00228006, 0.00048817, 0.00141263, 0.00203819,\n",
       "         0.00257494, 0.00185681, 0.00089538, 0.00172201]),\n",
       "  'param_colsample_bytree': masked_array(data=[0.85, 0.85, 0.85, 0.9, 0.9, 0.9, 0.95, 0.95, 0.95],\n",
       "               mask=[False, False, False, False, False, False, False, False,\n",
       "                     False],\n",
       "         fill_value='?',\n",
       "              dtype=object),\n",
       "  'param_subsample': masked_array(data=[0.55, 0.6, 0.65, 0.55, 0.6, 0.65, 0.55, 0.6, 0.65],\n",
       "               mask=[False, False, False, False, False, False, False, False,\n",
       "                     False],\n",
       "         fill_value='?',\n",
       "              dtype=object),\n",
       "  'params': [{'colsample_bytree': 0.85, 'subsample': 0.55},\n",
       "   {'colsample_bytree': 0.85, 'subsample': 0.6},\n",
       "   {'colsample_bytree': 0.85, 'subsample': 0.65},\n",
       "   {'colsample_bytree': 0.9, 'subsample': 0.55},\n",
       "   {'colsample_bytree': 0.9, 'subsample': 0.6},\n",
       "   {'colsample_bytree': 0.9, 'subsample': 0.65},\n",
       "   {'colsample_bytree': 0.95, 'subsample': 0.55},\n",
       "   {'colsample_bytree': 0.95, 'subsample': 0.6},\n",
       "   {'colsample_bytree': 0.95, 'subsample': 0.65}],\n",
       "  'split0_test_score': array([0.86664976, 0.86609817, 0.86755162, 0.86664976, 0.86609817,\n",
       "         0.86755162, 0.86664976, 0.86609817, 0.86755162]),\n",
       "  'split1_test_score': array([0.84798846, 0.84893118, 0.84726732, 0.84798846, 0.84893118,\n",
       "         0.84726732, 0.84798846, 0.84893118, 0.84726732]),\n",
       "  'split2_test_score': array([0.90325843, 0.904181  , 0.90259772, 0.90325843, 0.904181  ,\n",
       "         0.90259772, 0.90325843, 0.904181  , 0.90259772]),\n",
       "  'split3_test_score': array([0.90194909, 0.90199341, 0.89764642, 0.90194909, 0.90199341,\n",
       "         0.89764642, 0.90194909, 0.90199341, 0.89764642]),\n",
       "  'split4_test_score': array([0.84823483, 0.84598247, 0.84790432, 0.84823483, 0.84598247,\n",
       "         0.84790432, 0.84823483, 0.84598247, 0.84790432]),\n",
       "  'mean_test_score': array([0.87361611, 0.87343725, 0.87259348, 0.87361611, 0.87343725,\n",
       "         0.87259348, 0.87361611, 0.87343725, 0.87259348]),\n",
       "  'std_test_score': array([0.02462089, 0.02517462, 0.02368245, 0.02462089, 0.02517462,\n",
       "         0.02368245, 0.02462089, 0.02517462, 0.02368245]),\n",
       "  'rank_test_score': array([1, 4, 7, 1, 4, 7, 1, 4, 7])},\n",
       " {'colsample_bytree': 0.85, 'subsample': 0.55},\n",
       " 0.8736161142097479)"
      ]
     },
     "execution_count": 53,
     "metadata": {},
     "output_type": "execute_result"
    }
   ],
   "source": [
    "param_test5 = {\n",
    " 'subsample':[i/100.0 for i in range(55,70,5)],\n",
    " 'colsample_bytree':[i/100.0 for i in range(85,100,5)]\n",
    "}\n",
    "gsearch5 = GridSearchCV(estimator = XGBClassifier(learning_rate =0.1, \n",
    "                                                  n_estimators=200, \n",
    "                                                  max_depth = 3,\n",
    "                                                  min_child_weight = 5,\n",
    "                                                  gamma=0.2, \n",
    "                                                  subsample=0.6, \n",
    "                                                  colsample_bytree=0.9,\n",
    "                                                  objective= 'binary:logistic', nthread=4, scale_pos_weight=1,seed=27), \n",
    "                        param_grid = param_test5, \n",
    "                        scoring='roc_auc',\n",
    "                        n_jobs=4,\n",
    "                        iid=False, \n",
    "                        cv=5)\n",
    "\n",
    "gsearch5.fit(train_X,train_y)\n",
    "gsearch5.cv_results_, gsearch5.best_params_, gsearch5.best_score_"
   ]
  },
  {
   "cell_type": "code",
   "execution_count": 54,
   "metadata": {},
   "outputs": [
    {
     "name": "stdout",
     "output_type": "stream",
     "text": [
      "Performance sur le train :  0.6545638756500254\n",
      "Performance sur le test :  0.5974314493011486\n"
     ]
    }
   ],
   "source": [
    "# Fix new param with optimal parameter\n",
    "xgb5 = XGBClassifier(\n",
    "    learning_rate =0.1, \n",
    "    n_estimators=200,\n",
    "    gamma=0.4,\n",
    "    subsample=0.55,\n",
    "    colsample_bytree=0.85,\n",
    "    max_depth = 3,\n",
    "    min_child_weight = 5,\n",
    "    objective= 'binary:logistic', nthread=4,scale_pos_weight=1,seed=27\n",
    ")\n",
    "# modelfit(xgb1, train, train_X)\n",
    "xgb5.fit(train_X, train_y)\n",
    "\n",
    "# Performance sur le train\n",
    "auc = roc_auc_score(train_y, xgb5.predict(train_X))\n",
    "print(\"Performance sur le train : \", auc)\n",
    "\n",
    "# Performance sur le test\n",
    "auc = roc_auc_score(test_y, xgb5.predict(test_X))\n",
    "print(\"Performance sur le test : \", auc)\n"
   ]
  },
  {
   "cell_type": "markdown",
   "metadata": {},
   "source": [
    "# Step 6: Reducing Learning Rate in order to reduce overfit"
   ]
  },
  {
   "cell_type": "code",
   "execution_count": 56,
   "metadata": {},
   "outputs": [
    {
     "data": {
      "text/plain": [
       "({'mean_fit_time': array([1.00139484, 1.025599  , 1.03060117, 0.93377185, 0.95196576,\n",
       "         0.97415404, 1.01277637, 0.96412554]),\n",
       "  'std_fit_time': array([0.01267433, 0.00708894, 0.01051208, 0.04088081, 0.00882806,\n",
       "         0.05149909, 0.04112153, 0.01087235]),\n",
       "  'mean_score_time': array([0.00999961, 0.00899959, 0.00900164, 0.00960102, 0.00820036,\n",
       "         0.01460571, 0.01397581, 0.01172409]),\n",
       "  'std_score_time': array([0.00141445, 0.00167232, 0.00252662, 0.00149644, 0.00483232,\n",
       "         0.00179425, 0.00204579, 0.00296029]),\n",
       "  'param_learning_rate': masked_array(data=[0.005, 0.007, 0.009, 0.011, 0.013, 0.015, 0.017, 0.019],\n",
       "               mask=[False, False, False, False, False, False, False, False],\n",
       "         fill_value='?',\n",
       "              dtype=object),\n",
       "  'params': [{'learning_rate': 0.005},\n",
       "   {'learning_rate': 0.007},\n",
       "   {'learning_rate': 0.009},\n",
       "   {'learning_rate': 0.011},\n",
       "   {'learning_rate': 0.013},\n",
       "   {'learning_rate': 0.015},\n",
       "   {'learning_rate': 0.017},\n",
       "   {'learning_rate': 0.019}],\n",
       "  'split0_test_score': array([0.84384965, 0.84908767, 0.85376204, 0.85763922, 0.86283699,\n",
       "         0.86404081, 0.86751538, 0.86977003]),\n",
       "  'split1_test_score': array([0.8296014 , 0.83323933, 0.83377918, 0.83778372, 0.83835177,\n",
       "         0.83901248, 0.8421992 , 0.84417327]),\n",
       "  'split2_test_score': array([0.88634184, 0.88608804, 0.89043502, 0.89293685, 0.89597451,\n",
       "         0.89835951, 0.90067199, 0.9001684 ]),\n",
       "  'split3_test_score': array([0.86876455, 0.87301888, 0.87798629, 0.88287715, 0.88496805,\n",
       "         0.88659163, 0.89057603, 0.89173227]),\n",
       "  'split4_test_score': array([0.81374757, 0.8187297 , 0.8220348 , 0.82462991, 0.82736376,\n",
       "         0.82917136, 0.83090552, 0.8336312 ]),\n",
       "  'mean_test_score': array([0.848461  , 0.85203272, 0.85559946, 0.85917337, 0.86189902,\n",
       "         0.86343516, 0.86637362, 0.86789503]),\n",
       "  'std_test_score': array([0.02618841, 0.02478362, 0.0257712 , 0.02590353, 0.02623492,\n",
       "         0.02655852, 0.02685452, 0.02588448]),\n",
       "  'rank_test_score': array([8, 7, 6, 5, 4, 3, 2, 1])},\n",
       " {'learning_rate': 0.019},\n",
       " 0.8678950322431469)"
      ]
     },
     "execution_count": 56,
     "metadata": {},
     "output_type": "execute_result"
    }
   ],
   "source": [
    "param_test6 = {\n",
    " 'learning_rate':[i/1000.0 for i in range(5,20,2)]\n",
    "}\n",
    "gsearch6 = GridSearchCV(estimator = XGBClassifier(learning_rate =0.1, \n",
    "                                                  #n_estimators=1000, \n",
    "                                                  n_estimators=200,\n",
    "                                                  gamma=0.4,\n",
    "                                                  subsample=0.55,\n",
    "                                                  colsample_bytree=0.85,\n",
    "                                                  max_depth = 3,\n",
    "                                                  min_child_weight = 5,\n",
    "                                                  objective= 'binary:logistic', nthread=4, scale_pos_weight=1,seed=27), \n",
    "                        param_grid = param_test6, \n",
    "                        scoring='roc_auc',\n",
    "                        n_jobs=4,\n",
    "                        iid=False, \n",
    "                        cv=5)\n",
    "\n",
    "gsearch6.fit(train_X,train_y)\n",
    "gsearch6.cv_results_, gsearch6.best_params_, gsearch6.best_score_"
   ]
  },
  {
   "cell_type": "code",
   "execution_count": 57,
   "metadata": {},
   "outputs": [
    {
     "name": "stdout",
     "output_type": "stream",
     "text": [
      "Performance sur le train :  0.6318485272984793\n",
      "Performance sur le test :  0.5880088171915466\n"
     ]
    }
   ],
   "source": [
    "xgb6 = XGBClassifier(\n",
    "    learning_rate =0.007,\n",
    "    n_estimators=1000,\n",
    "    max_depth = 3,\n",
    "    min_child_weight = 5,\n",
    "    gamma=0.4,\n",
    "    subsample=0.55,\n",
    "    colsample_bytree=0.85,\n",
    "    reg_alpha=0.005,\n",
    "    objective= 'binary:logistic',\n",
    "    nthread=4,\n",
    "    scale_pos_weight=1,\n",
    "    seed=27\n",
    ")\n",
    "# modelfit(xgb1, train, train_X)\n",
    "xgb6.fit(train_X, train_y)\n",
    "\n",
    "# Performance sur le train\n",
    "auc = roc_auc_score(train_y, xgb6.predict(train_X))\n",
    "print(\"Performance sur le train : \", auc)\n",
    "\n",
    "# Performance sur le test\n",
    "auc = roc_auc_score(test_y, xgb6.predict(test_X))\n",
    "print(\"Performance sur le test : \", auc)"
   ]
  },
  {
   "cell_type": "markdown",
   "metadata": {},
   "source": [
    "# Confusion matrix:\n",
    "\n",
    "    True positive (TP): correct positive prediction\n",
    "    \n",
    "    False positive (FP): incorrect positive prediction\n",
    "    \n",
    "    True negative (TN): correct negative prediction\n",
    "    \n",
    "    False negative (FN): incorrect negative prediction\n"
   ]
  },
  {
   "cell_type": "markdown",
   "metadata": {},
   "source": [
    "# Intuitive measures :\n",
    "\n",
    "    Error rate (ERR) is calculated as the number of all incorrect predictions divided by the total number of the dataset. The best error rate is 0.0, whereas the worst is 1.0.\n",
    "    \n",
    "    Accuracy (ACC) is calculated as the number of all correct predictions divided by the total number of the dataset. The best accuracy is 1.0, whereas the worst is 0.0. It can also be calculated by 1 – ERR\n",
    "    \n",
    "    Sensitivity (SN) is calculated as the number of correct positive predictions divided by the total number of positives. It is also called recall (REC) or true positive rate (TPR). The best sensitivity is 1.0, whereas the worst is 0.0.\n",
    "    \n",
    "    Precision (PREC) is calculated as the number of correct positive predictions divided by the total number of positive predictions. It is also called positive predictive value (PPV). The best precision is 1.0, whereas the worst is 0.0.\n"
   ]
  },
  {
   "cell_type": "code",
   "execution_count": 58,
   "metadata": {},
   "outputs": [
    {
     "name": "stdout",
     "output_type": "stream",
     "text": [
      "Error rate  :  0.037696969696969694\n",
      "Accuracy  :  0.9623030303030303\n",
      "Sensitivity  :  0.26649746192893403\n",
      "Specificity  :  0.26649746192893403\n",
      "False positive rate  :  0.00280040733197556\n"
     ]
    }
   ],
   "source": [
    "from sklearn.metrics import confusion_matrix\n",
    "tn, fp, fn, tp = confusion_matrix(train_y, xgb6.predict(train_X)).ravel()\n",
    "# Error rate : \n",
    "err_rate = (fp + fn) / (tp + tn + fn + fp)\n",
    "print(\"Error rate  : \", err_rate)\n",
    "# Accuracy : \n",
    "acc_ = (tp + tn) / (tp + tn + fn + fp)\n",
    "print(\"Accuracy  : \", acc_)\n",
    "# Sensitivity : \n",
    "sens_ = tp / (tp + fn)\n",
    "print(\"Sensitivity  : \", sens_)\n",
    "# Specificity \n",
    "sp_ = tn / (tn + fp)\n",
    "print(\"Specificity  : \", sens_)\n",
    "# False positive rate (FPR)\n",
    "FPR = fp / (tn + fp)\n",
    "print(\"False positive rate  : \", FPR)"
   ]
  },
  {
   "cell_type": "code",
   "execution_count": 59,
   "metadata": {},
   "outputs": [
    {
     "name": "stdout",
     "output_type": "stream",
     "text": [
      "Error rate  on train set :  0.037696969696969694\n",
      "Accuracy  on train set  :  0.9623030303030303\n",
      "Error rate  on test set :  0.04981818181818182\n",
      "Accuracy  on test set  :  0.9501818181818181\n"
     ]
    }
   ],
   "source": [
    "tn, fp, fn, tp = confusion_matrix(train_y, xgb6.predict(train_X)).ravel()\n",
    "# Error rate : \n",
    "err_rate = (fp + fn) / (tp + tn + fn + fp)\n",
    "print(\"Error rate  on train set : \", err_rate)\n",
    "# Accuracy : \n",
    "acc_ = (tp + tn) / (tp + tn + fn + fp)\n",
    "print(\"Accuracy  on train set  : \", acc_)\n",
    "\n",
    "tn, fp, fn, tp = confusion_matrix(test_y, xgb6.predict(test_X)).ravel()\n",
    "# Error rate : \n",
    "err_rate = (fp + fn) / (tp + tn + fn + fp)\n",
    "print(\"Error rate  on test set : \", err_rate)\n",
    "# Accuracy : \n",
    "acc_ = (tp + tn) / (tp + tn + fn + fp)\n",
    "print(\"Accuracy  on test set  : \", acc_)"
   ]
  },
  {
   "cell_type": "code",
   "execution_count": null,
   "metadata": {},
   "outputs": [],
   "source": []
  }
 ],
 "metadata": {
  "kernelspec": {
   "display_name": "Python 3",
   "language": "python",
   "name": "python3"
  },
  "language_info": {
   "codemirror_mode": {
    "name": "ipython",
    "version": 3
   },
   "file_extension": ".py",
   "mimetype": "text/x-python",
   "name": "python",
   "nbconvert_exporter": "python",
   "pygments_lexer": "ipython3",
   "version": "3.6.8"
  }
 },
 "nbformat": 4,
 "nbformat_minor": 2
}
