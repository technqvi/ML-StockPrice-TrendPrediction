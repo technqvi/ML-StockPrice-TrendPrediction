{
 "cells": [
  {
   "cell_type": "code",
   "execution_count": null,
   "metadata": {},
   "outputs": [],
   "source": [
    "import pandas as pd\n",
    "import json\n",
    "import math"
   ]
  },
  {
   "cell_type": "markdown",
   "metadata": {},
   "source": [
    "# get result from "
   ]
  },
  {
   "cell_type": "markdown",
   "metadata": {},
   "source": [
    "http://localhost:8888/notebooks/MyDev/AlgoTradingProject/ML-S50F/Lab-S50F_XGBoost/S50F-XGB-Tuning/S50M15-MultiTune-XGBoost_OnCV.ipynb"
   ]
  },
  {
   "cell_type": "code",
   "execution_count": null,
   "metadata": {},
   "outputs": [],
   "source": [
    "result__path=r'D:\\DataSets\\Feat_Paramater_Selection\\CV_07_1Q21.xlsx'\n",
    "result_sheetname='kflod_10_long'\n",
    "main_col='TuningData'\n",
    "df=pd.read_excel(result__path,header=None,engine='openpyxl',sheet_name=result_sheetname,names=[main_col])\n",
    "df.tail()"
   ]
  },
  {
   "cell_type": "code",
   "execution_count": null,
   "metadata": {},
   "outputs": [],
   "source": [
    "## string_result=0.813186,0.079533,{'learning_rate': 0.005, 'n_estimators': 240}\n",
    "def split_result(item):\n",
    "    data_list=item[main_col].strip().split(',')\n",
    "    #print(data_list)\n",
    "    \n",
    "    acc=round(float(data_list[0])*100,1)\n",
    "    std=round(float(data_list[1])*100,1)\n",
    "    \n",
    "    lr =float((data_list[2]).replace('{','').split(':')[1])\n",
    "    ntree =int((data_list[3]).replace('}','').split(':')[1])\n",
    "    \n",
    "    \n",
    "    #print(f'{acc},{std},{lr},{ntree}')\n",
    "    \n",
    "    item['acc']=acc\n",
    "    item['std']=std\n",
    "    item['learning_rate']=lr\n",
    "    item['n_estimators']=ntree\n",
    "    \n",
    "    \n",
    "    return item\n",
    "\n",
    "    \n",
    "df=(df.apply(split_result,axis=1) ).drop(columns=[main_col])\n",
    "df"
   ]
  },
  {
   "cell_type": "code",
   "execution_count": null,
   "metadata": {},
   "outputs": [],
   "source": [
    "max_acc=df['acc'].max()\n",
    "df_one=df.query('acc==@max_acc')\n",
    "print(df_one)\n",
    "print(\"==================================\")\n",
    "top_acc=math.floor(max_acc)\n",
    "df_top_acc=df.query('acc>=@top_acc').sort_values(by=['learning_rate', 'n_estimators']).head()\n",
    "df_top_acc"
   ]
  },
  {
   "cell_type": "code",
   "execution_count": null,
   "metadata": {},
   "outputs": [],
   "source": []
  }
 ],
 "metadata": {
  "kernelspec": {
   "display_name": "Python 3",
   "language": "python",
   "name": "python3"
  },
  "language_info": {
   "codemirror_mode": {
    "name": "ipython",
    "version": 3
   },
   "file_extension": ".py",
   "mimetype": "text/x-python",
   "name": "python",
   "nbconvert_exporter": "python",
   "pygments_lexer": "ipython3",
   "version": "3.7.8"
  }
 },
 "nbformat": 4,
 "nbformat_minor": 4
}
