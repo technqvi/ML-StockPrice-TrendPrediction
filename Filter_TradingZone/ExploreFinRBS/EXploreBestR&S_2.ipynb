{
 "cells": [
  {
   "cell_type": "code",
   "execution_count": 46,
   "metadata": {},
   "outputs": [],
   "source": [
    "import pandas as pd\n",
    "import numpy as np\n",
    "import math"
   ]
  },
  {
   "cell_type": "code",
   "execution_count": 47,
   "metadata": {},
   "outputs": [
    {
     "data": {
      "text/plain": [
       "119"
      ]
     },
     "execution_count": 47,
     "metadata": {},
     "output_type": "execute_result"
    }
   ],
   "source": [
    "df_PtgDay=pd.read_csv(\"ExploreFinRBS-PTG-Day.csv\",index_col='Date/Time',parse_dates =['Date/Time'],dayfirst=True)\n",
    "df_PtgDay=df_PtgDay.drop( columns='Ticker',inplace=False)\n",
    "\n",
    "df_PtgDay.shape[0]"
   ]
  },
  {
   "cell_type": "code",
   "execution_count": 48,
   "metadata": {},
   "outputs": [
    {
     "data": {
      "text/html": [
       "<div>\n",
       "<style scoped>\n",
       "    .dataframe tbody tr th:only-of-type {\n",
       "        vertical-align: middle;\n",
       "    }\n",
       "\n",
       "    .dataframe tbody tr th {\n",
       "        vertical-align: top;\n",
       "    }\n",
       "\n",
       "    .dataframe thead th {\n",
       "        text-align: right;\n",
       "    }\n",
       "</style>\n",
       "<table border=\"1\" class=\"dataframe\">\n",
       "  <thead>\n",
       "    <tr style=\"text-align: right;\">\n",
       "      <th></th>\n",
       "      <th>open</th>\n",
       "      <th>high</th>\n",
       "      <th>low</th>\n",
       "      <th>close</th>\n",
       "      <th>atr_red</th>\n",
       "      <th>dc_gray_hh</th>\n",
       "      <th>med_gray_hh</th>\n",
       "      <th>dc_gray_ll</th>\n",
       "      <th>med_gray_ll</th>\n",
       "      <th>dc_brown_hh</th>\n",
       "      <th>dc_brown_ll</th>\n",
       "    </tr>\n",
       "    <tr>\n",
       "      <th>Date/Time</th>\n",
       "      <th></th>\n",
       "      <th></th>\n",
       "      <th></th>\n",
       "      <th></th>\n",
       "      <th></th>\n",
       "      <th></th>\n",
       "      <th></th>\n",
       "      <th></th>\n",
       "      <th></th>\n",
       "      <th></th>\n",
       "      <th></th>\n",
       "    </tr>\n",
       "  </thead>\n",
       "  <tbody>\n",
       "    <tr>\n",
       "      <th>2019-05-27</th>\n",
       "      <td>13.8</td>\n",
       "      <td>14.0</td>\n",
       "      <td>13.6</td>\n",
       "      <td>13.9</td>\n",
       "      <td>12.58</td>\n",
       "      <td>14.1</td>\n",
       "      <td>11.00</td>\n",
       "      <td>9.75</td>\n",
       "      <td>9.2</td>\n",
       "      <td>14.1</td>\n",
       "      <td>10.4</td>\n",
       "    </tr>\n",
       "    <tr>\n",
       "      <th>2019-05-28</th>\n",
       "      <td>13.9</td>\n",
       "      <td>14.3</td>\n",
       "      <td>13.9</td>\n",
       "      <td>14.3</td>\n",
       "      <td>12.97</td>\n",
       "      <td>14.1</td>\n",
       "      <td>11.00</td>\n",
       "      <td>9.75</td>\n",
       "      <td>9.2</td>\n",
       "      <td>14.1</td>\n",
       "      <td>10.4</td>\n",
       "    </tr>\n",
       "    <tr>\n",
       "      <th>2019-05-29</th>\n",
       "      <td>14.3</td>\n",
       "      <td>15.2</td>\n",
       "      <td>14.2</td>\n",
       "      <td>15.2</td>\n",
       "      <td>13.83</td>\n",
       "      <td>14.3</td>\n",
       "      <td>11.05</td>\n",
       "      <td>9.75</td>\n",
       "      <td>9.2</td>\n",
       "      <td>14.3</td>\n",
       "      <td>10.4</td>\n",
       "    </tr>\n",
       "    <tr>\n",
       "      <th>2019-05-30</th>\n",
       "      <td>15.3</td>\n",
       "      <td>16.1</td>\n",
       "      <td>15.0</td>\n",
       "      <td>16.1</td>\n",
       "      <td>14.69</td>\n",
       "      <td>15.2</td>\n",
       "      <td>11.15</td>\n",
       "      <td>9.75</td>\n",
       "      <td>9.2</td>\n",
       "      <td>15.2</td>\n",
       "      <td>10.4</td>\n",
       "    </tr>\n",
       "    <tr>\n",
       "      <th>2019-05-31</th>\n",
       "      <td>16.0</td>\n",
       "      <td>16.7</td>\n",
       "      <td>15.9</td>\n",
       "      <td>16.7</td>\n",
       "      <td>15.28</td>\n",
       "      <td>16.1</td>\n",
       "      <td>11.20</td>\n",
       "      <td>9.75</td>\n",
       "      <td>9.2</td>\n",
       "      <td>16.1</td>\n",
       "      <td>10.4</td>\n",
       "    </tr>\n",
       "  </tbody>\n",
       "</table>\n",
       "</div>"
      ],
      "text/plain": [
       "            open  high   low  close  atr_red  dc_gray_hh  med_gray_hh  \\\n",
       "Date/Time                                                               \n",
       "2019-05-27  13.8  14.0  13.6   13.9    12.58        14.1        11.00   \n",
       "2019-05-28  13.9  14.3  13.9   14.3    12.97        14.1        11.00   \n",
       "2019-05-29  14.3  15.2  14.2   15.2    13.83        14.3        11.05   \n",
       "2019-05-30  15.3  16.1  15.0   16.1    14.69        15.2        11.15   \n",
       "2019-05-31  16.0  16.7  15.9   16.7    15.28        16.1        11.20   \n",
       "\n",
       "            dc_gray_ll  med_gray_ll  dc_brown_hh  dc_brown_ll  \n",
       "Date/Time                                                      \n",
       "2019-05-27        9.75          9.2         14.1         10.4  \n",
       "2019-05-28        9.75          9.2         14.1         10.4  \n",
       "2019-05-29        9.75          9.2         14.3         10.4  \n",
       "2019-05-30        9.75          9.2         15.2         10.4  \n",
       "2019-05-31        9.75          9.2         16.1         10.4  "
      ]
     },
     "execution_count": 48,
     "metadata": {},
     "output_type": "execute_result"
    }
   ],
   "source": [
    "df_PtgDay.tail(5)"
   ]
  },
  {
   "cell_type": "code",
   "execution_count": 49,
   "metadata": {},
   "outputs": [
    {
     "data": {
      "text/plain": [
       "Float64Index([ 7.91,  8.03,  8.32,  8.55,  8.66,  8.96,  8.97,  8.98,   9.3,\n",
       "               9.31,  9.45,  9.76,  9.88, 10.46, 10.66, 11.22, 11.31, 12.33,\n",
       "              12.58, 12.97, 13.83, 14.69, 15.28],\n",
       "             dtype='float64', name='atr_red')"
      ]
     },
     "execution_count": 49,
     "metadata": {},
     "output_type": "execute_result"
    }
   ],
   "source": [
    "df_PtgDay_SLine=df_PtgDay[df_PtgDay['close']>df_PtgDay['atr_red']]\n",
    "df_PtgDay_Group_SLine=df_PtgDay_SLint.groupby(['atr_red'])[['atr_red']].count()\n",
    "df_PtgDay_Group_SLine.index"
   ]
  },
  {
   "cell_type": "code",
   "execution_count": 51,
   "metadata": {},
   "outputs": [
    {
     "data": {
      "text/html": [
       "<div>\n",
       "<style scoped>\n",
       "    .dataframe tbody tr th:only-of-type {\n",
       "        vertical-align: middle;\n",
       "    }\n",
       "\n",
       "    .dataframe tbody tr th {\n",
       "        vertical-align: top;\n",
       "    }\n",
       "\n",
       "    .dataframe thead th {\n",
       "        text-align: right;\n",
       "    }\n",
       "</style>\n",
       "<table border=\"1\" class=\"dataframe\">\n",
       "  <thead>\n",
       "    <tr style=\"text-align: right;\">\n",
       "      <th></th>\n",
       "      <th>support_atr_red</th>\n",
       "    </tr>\n",
       "    <tr>\n",
       "      <th>atr_red</th>\n",
       "      <th></th>\n",
       "    </tr>\n",
       "  </thead>\n",
       "  <tbody>\n",
       "    <tr>\n",
       "      <th>8.32</th>\n",
       "      <td>30</td>\n",
       "    </tr>\n",
       "    <tr>\n",
       "      <th>9.31</th>\n",
       "      <td>24</td>\n",
       "    </tr>\n",
       "    <tr>\n",
       "      <th>8.98</th>\n",
       "      <td>23</td>\n",
       "    </tr>\n",
       "    <tr>\n",
       "      <th>9.76</th>\n",
       "      <td>9</td>\n",
       "    </tr>\n",
       "    <tr>\n",
       "      <th>12.33</th>\n",
       "      <td>5</td>\n",
       "    </tr>\n",
       "  </tbody>\n",
       "</table>\n",
       "</div>"
      ],
      "text/plain": [
       "         support_atr_red\n",
       "atr_red                 \n",
       "8.32                  30\n",
       "9.31                  24\n",
       "8.98                  23\n",
       "9.76                   9\n",
       "12.33                  5"
      ]
     },
     "execution_count": 51,
     "metadata": {},
     "output_type": "execute_result"
    }
   ],
   "source": [
    "df_PtgDay_Group_SLine.rename(columns={\"atr_red\":'support_atr_red'},inplace=True)\n",
    "df_PtgDay_Group_SLine.sort_values(by ='support_atr_red',inplace=True,ascending=False )\n",
    "df_PtgDay_Group_SLine.head(5)"
   ]
  },
  {
   "cell_type": "code",
   "execution_count": 52,
   "metadata": {},
   "outputs": [
    {
     "data": {
      "text/html": [
       "<div>\n",
       "<style scoped>\n",
       "    .dataframe tbody tr th:only-of-type {\n",
       "        vertical-align: middle;\n",
       "    }\n",
       "\n",
       "    .dataframe tbody tr th {\n",
       "        vertical-align: top;\n",
       "    }\n",
       "\n",
       "    .dataframe thead th {\n",
       "        text-align: right;\n",
       "    }\n",
       "</style>\n",
       "<table border=\"1\" class=\"dataframe\">\n",
       "  <thead>\n",
       "    <tr style=\"text-align: right;\">\n",
       "      <th></th>\n",
       "      <th>support_atr_red</th>\n",
       "    </tr>\n",
       "    <tr>\n",
       "      <th>atr_red</th>\n",
       "      <th></th>\n",
       "    </tr>\n",
       "  </thead>\n",
       "  <tbody>\n",
       "    <tr>\n",
       "      <th>8.32</th>\n",
       "      <td>30</td>\n",
       "    </tr>\n",
       "    <tr>\n",
       "      <th>9.31</th>\n",
       "      <td>24</td>\n",
       "    </tr>\n",
       "    <tr>\n",
       "      <th>8.98</th>\n",
       "      <td>23</td>\n",
       "    </tr>\n",
       "  </tbody>\n",
       "</table>\n",
       "</div>"
      ],
      "text/plain": [
       "         support_atr_red\n",
       "atr_red                 \n",
       "8.32                  30\n",
       "9.31                  24\n",
       "8.98                  23"
      ]
     },
     "execution_count": 52,
     "metadata": {},
     "output_type": "execute_result"
    }
   ],
   "source": [
    "thirdbest_support=df_PtgDay_Group_SLine.iloc[:3]\n",
    "thirdbest_support"
   ]
  },
  {
   "cell_type": "code",
   "execution_count": null,
   "metadata": {},
   "outputs": [],
   "source": []
  }
 ],
 "metadata": {
  "kernelspec": {
   "display_name": "Python 3 (ipykernel)",
   "language": "python",
   "name": "python3"
  },
  "language_info": {
   "codemirror_mode": {
    "name": "ipython",
    "version": 3
   },
   "file_extension": ".py",
   "mimetype": "text/x-python",
   "name": "python",
   "nbconvert_exporter": "python",
   "pygments_lexer": "ipython3",
   "version": "3.9.16"
  }
 },
 "nbformat": 4,
 "nbformat_minor": 4
}
