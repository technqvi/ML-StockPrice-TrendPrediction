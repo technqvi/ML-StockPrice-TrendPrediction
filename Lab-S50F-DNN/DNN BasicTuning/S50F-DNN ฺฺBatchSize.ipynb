{
 "cells": [
  {
   "cell_type": "markdown",
   "metadata": {},
   "source": [
    "# S50F-DNN ฺฺBatchSize\n",
    "\n",
    "\n",
    "Baseline Neural Network Model Performance"
   ]
  },
  {
   "cell_type": "code",
   "execution_count": 240,
   "metadata": {},
   "outputs": [],
   "source": [
    "xseed=1982\n",
    "\n",
    "from numpy.random import seed\n",
    "seed(xseed)\n",
    "from tensorflow import set_random_seed\n",
    "set_random_seed(xseed)\n",
    "import matplotlib.pyplot as plt"
   ]
  },
  {
   "cell_type": "code",
   "execution_count": 241,
   "metadata": {},
   "outputs": [],
   "source": [
    " # Binary Classification with Sonar Dataset: Baseline\n",
    "import numpy\n",
    "import pandas\n",
    "\n",
    "\n",
    "from keras.models import Sequential\n",
    "from keras.layers import Dense\n",
    "from keras.wrappers.scikit_learn import KerasClassifier\n",
    "\n",
    "\n",
    "\n",
    "from keras.layers import Dropout\n",
    "from keras.regularizers import l2\n",
    "from keras.optimizers import Adam\n",
    "from keras.optimizers import SGD\n",
    "from keras.optimizers import Adadelta\n",
    "from keras.constraints import maxnorm\n",
    "\n",
    "from sklearn.preprocessing import LabelEncoder\n",
    "from sklearn.preprocessing import StandardScaler\n",
    "from sklearn.preprocessing import MinMaxScaler\n",
    "from sklearn.pipeline import Pipeline\n",
    "from sklearn.model_selection import train_test_split\n",
    "\n",
    "from keras.callbacks import LearningRateScheduler\n",
    "\n",
    "import joblib\n",
    "\n",
    "import os\n",
    "from datetime import datetime\n",
    "\n",
    "import matplotlib.pyplot as plt"
   ]
  },
  {
   "cell_type": "code",
   "execution_count": 242,
   "metadata": {},
   "outputs": [
    {
     "name": "stdout",
     "output_type": "stream",
     "text": [
      "D:\\Dev-Trong\\DataSet\\ML-Long_S50M15_07To1Q20-Train.csv\n"
     ]
    }
   ],
   "source": [
    "train_st='2007'\n",
    "train_end='2018'\n",
    "\n",
    "test_st='2019'\n",
    "test_end='2020'\n",
    "\n",
    "strategyName='long'\n",
    "\n",
    "if strategyName=='long' :\n",
    " filename='ML-Long_S50M15_07To1Q20-Train.csv'\n",
    " filepath=os.path.abspath(f'D:\\\\Dev-Trong\\\\DataSet\\\\{filename}')\n",
    "else:\n",
    "  filename='ML-Short_S50M15_07To1Q20-Train_V2.csv'\n",
    "  filepath=os.path.abspath(f'D:\\\\Dev-Trong\\\\DataSet\\\\short_v2\\\\{filename}')\n",
    "\n",
    "print(filepath)\n"
   ]
  },
  {
   "cell_type": "code",
   "execution_count": 243,
   "metadata": {},
   "outputs": [],
   "source": [
    "def CreateData(dfx,labelCol):\n",
    " \n",
    " X_df_temp =dfx.drop(columns=['open','high','low','close',labelCol])\n",
    " Y_df_temp = dfx[labelCol]\n",
    "\n",
    " Xtemp=X_df_temp.to_numpy()\n",
    " ytemp=Y_df_temp.to_numpy()\n",
    "\n",
    " return X_df_temp,Y_df_temp, Xtemp,ytemp"
   ]
  },
  {
   "cell_type": "markdown",
   "metadata": {},
   "source": [
    "# Train Data by WFA"
   ]
  },
  {
   "cell_type": "code",
   "execution_count": 244,
   "metadata": {},
   "outputs": [
    {
     "name": "stdout",
     "output_type": "stream",
     "text": [
      "<class 'pandas.core.frame.DataFrame'>\n",
      "DatetimeIndex: 69679 entries, 2007-01-03 09:45:00 to 2020-03-31 16:45:00\n",
      "Data columns (total 22 columns):\n",
      " #   Column                  Non-Null Count  Dtype  \n",
      "---  ------                  --------------  -----  \n",
      " 0   open                    69679 non-null  float64\n",
      " 1   high                    69679 non-null  float64\n",
      " 2   low                     69679 non-null  float64\n",
      " 3   close                   69679 non-null  float64\n",
      " 4   indy_ma-550             69679 non-null  float64\n",
      " 5   indy_ma-1100            69679 non-null  float64\n",
      " 6   indy_hh-550             69679 non-null  float64\n",
      " 7   indy_ll-550             69679 non-null  float64\n",
      " 8   indy_mid-550            69679 non-null  float64\n",
      " 9   indy_hh2-1100           69679 non-null  float64\n",
      " 10  indy_ll2-1100           69679 non-null  float64\n",
      " 11  indy_mid2-1100          69679 non-null  float64\n",
      " 12  indy_macd110-440        69679 non-null  float64\n",
      " 13  indy_signal110-440-110  69679 non-null  float64\n",
      " 14  indy_hist_macd110-440   69679 non-null  float64\n",
      " 15  indy_rsi25-ma20         69679 non-null  float64\n",
      " 16  indy_6ATRTrail_DC-110   69679 non-null  float64\n",
      " 17  cate_3trend-550_ma110   69679 non-null  int64  \n",
      " 18  cate_2trend-1100_ma220  69679 non-null  int64  \n",
      " 19  cate_rannkHL1100-ma66   69679 non-null  int64  \n",
      " 20  cate_CombineTrend       69679 non-null  int64  \n",
      " 21  LongSignal              69679 non-null  int64  \n",
      "dtypes: float64(17), int64(5)\n",
      "memory usage: 12.2 MB\n",
      "None\n"
     ]
    },
    {
     "data": {
      "text/plain": [
       "(69679, 22)"
      ]
     },
     "execution_count": 244,
     "metadata": {},
     "output_type": "execute_result"
    }
   ],
   "source": [
    "# load dataset\n",
    "\n",
    "dataframe = pandas.read_csv(filepath,index_col=\"datetime\", parse_dates=['datetime'],dayfirst=True)\n",
    "\n",
    "print(dataframe.info())\n",
    "dataframe.shape"
   ]
  },
  {
   "cell_type": "code",
   "execution_count": 245,
   "metadata": {},
   "outputs": [
    {
     "name": "stdout",
     "output_type": "stream",
     "text": [
      "Lable Column:  LongSignal\n"
     ]
    }
   ],
   "source": [
    "labelName=dataframe.columns[-1]\n",
    "print('Lable Column: ',labelName)"
   ]
  },
  {
   "cell_type": "code",
   "execution_count": 246,
   "metadata": {},
   "outputs": [
    {
     "name": "stdout",
     "output_type": "stream",
     "text": [
      "<class 'pandas.core.frame.DataFrame'>\n",
      "DatetimeIndex: 62855 entries, 2007-01-03 09:45:00 to 2018-12-28 16:45:00\n",
      "Data columns (total 22 columns):\n",
      " #   Column                  Non-Null Count  Dtype  \n",
      "---  ------                  --------------  -----  \n",
      " 0   open                    62855 non-null  float64\n",
      " 1   high                    62855 non-null  float64\n",
      " 2   low                     62855 non-null  float64\n",
      " 3   close                   62855 non-null  float64\n",
      " 4   indy_ma-550             62855 non-null  float64\n",
      " 5   indy_ma-1100            62855 non-null  float64\n",
      " 6   indy_hh-550             62855 non-null  float64\n",
      " 7   indy_ll-550             62855 non-null  float64\n",
      " 8   indy_mid-550            62855 non-null  float64\n",
      " 9   indy_hh2-1100           62855 non-null  float64\n",
      " 10  indy_ll2-1100           62855 non-null  float64\n",
      " 11  indy_mid2-1100          62855 non-null  float64\n",
      " 12  indy_macd110-440        62855 non-null  float64\n",
      " 13  indy_signal110-440-110  62855 non-null  float64\n",
      " 14  indy_hist_macd110-440   62855 non-null  float64\n",
      " 15  indy_rsi25-ma20         62855 non-null  float64\n",
      " 16  indy_6ATRTrail_DC-110   62855 non-null  float64\n",
      " 17  cate_3trend-550_ma110   62855 non-null  int64  \n",
      " 18  cate_2trend-1100_ma220  62855 non-null  int64  \n",
      " 19  cate_rannkHL1100-ma66   62855 non-null  int64  \n",
      " 20  cate_CombineTrend       62855 non-null  int64  \n",
      " 21  LongSignal              62855 non-null  int64  \n",
      "dtypes: float64(17), int64(5)\n",
      "memory usage: 11.0 MB\n"
     ]
    }
   ],
   "source": [
    "df=dataframe[train_st:train_end]\n",
    "df.info()"
   ]
  },
  {
   "cell_type": "code",
   "execution_count": 247,
   "metadata": {},
   "outputs": [
    {
     "name": "stdout",
     "output_type": "stream",
     "text": [
      "<class 'pandas.core.frame.DataFrame'>\n",
      "DatetimeIndex: 6824 entries, 2019-01-02 09:45:00 to 2020-03-31 16:45:00\n",
      "Data columns (total 22 columns):\n",
      " #   Column                  Non-Null Count  Dtype  \n",
      "---  ------                  --------------  -----  \n",
      " 0   open                    6824 non-null   float64\n",
      " 1   high                    6824 non-null   float64\n",
      " 2   low                     6824 non-null   float64\n",
      " 3   close                   6824 non-null   float64\n",
      " 4   indy_ma-550             6824 non-null   float64\n",
      " 5   indy_ma-1100            6824 non-null   float64\n",
      " 6   indy_hh-550             6824 non-null   float64\n",
      " 7   indy_ll-550             6824 non-null   float64\n",
      " 8   indy_mid-550            6824 non-null   float64\n",
      " 9   indy_hh2-1100           6824 non-null   float64\n",
      " 10  indy_ll2-1100           6824 non-null   float64\n",
      " 11  indy_mid2-1100          6824 non-null   float64\n",
      " 12  indy_macd110-440        6824 non-null   float64\n",
      " 13  indy_signal110-440-110  6824 non-null   float64\n",
      " 14  indy_hist_macd110-440   6824 non-null   float64\n",
      " 15  indy_rsi25-ma20         6824 non-null   float64\n",
      " 16  indy_6ATRTrail_DC-110   6824 non-null   float64\n",
      " 17  cate_3trend-550_ma110   6824 non-null   int64  \n",
      " 18  cate_2trend-1100_ma220  6824 non-null   int64  \n",
      " 19  cate_rannkHL1100-ma66   6824 non-null   int64  \n",
      " 20  cate_CombineTrend       6824 non-null   int64  \n",
      " 21  LongSignal              6824 non-null   int64  \n",
      "dtypes: float64(17), int64(5)\n",
      "memory usage: 1.2 MB\n"
     ]
    }
   ],
   "source": [
    "df_test=dataframe[test_st:test_end]\n",
    "df_test.info()"
   ]
  },
  {
   "cell_type": "code",
   "execution_count": 248,
   "metadata": {},
   "outputs": [
    {
     "name": "stdout",
     "output_type": "stream",
     "text": [
      "X-Train  (62855, 17)\n",
      "X-Test  (6824, 17)\n",
      "y-Train  (62855,)\n",
      "y-Test  (6824,)\n"
     ]
    }
   ],
   "source": [
    "#X_train,X_test,y_train,y_test=train_test_split(X,y,test_size=0.3,random_state=xseed)\n",
    "\n",
    "X_df,y_df,X_train,y_train=CreateData(df,labelName)\n",
    "Xtest_df,ytest_df,X_test,y_test=CreateData(df_test,labelName)\n",
    "\n",
    "print(\"X-Train \",X_train.shape)\n",
    "\n",
    "print(\"X-Test \",X_test.shape)\n",
    "\n",
    "print(\"y-Train \",y_train.shape)\n",
    "\n",
    "print(\"y-Test \",y_test.shape)"
   ]
  },
  {
   "cell_type": "code",
   "execution_count": 249,
   "metadata": {},
   "outputs": [],
   "source": [
    "#scaler=StandardScaler().fit(X_train)\n",
    "scaler=MinMaxScaler().fit(X_train)\n",
    "\n",
    "Xtrain_scaled=scaler.transform(X_train)\n",
    "Xtest_scaled=scaler.transform(X_test)\n",
    "\n"
   ]
  },
  {
   "cell_type": "markdown",
   "metadata": {},
   "source": [
    "# Model Defination"
   ]
  },
  {
   "cell_type": "code",
   "execution_count": 1,
   "metadata": {},
   "outputs": [
    {
     "name": "stdout",
     "output_type": "stream",
     "text": [
      "epochs= 200\n",
      "batch_size= 32\n"
     ]
    }
   ],
   "source": [
    "\n",
    "h1=17\n",
    "h2=34\n",
    "h3=17\n",
    "\n",
    "xpoch=100\n",
    "\n",
    "xbatch=len(X_train) #batch Gradient Descent  // medium and large LR=0.1 ,0.01\n",
    "#xbatch=1  #stochastic Gradient Descent  // require small LR =0.001\n",
    "#xbatch=32  #Minibatch Gradient Descent   // any LR like  0.01\n",
    "\n",
    "#my_kernelInit='he_uniform'\n",
    "my_kernelInit='normal'\n",
    "#my_kernelInit='glorot_uniform',\n",
    "\n",
    "print(\"epochs=\",xpoch)\n",
    "print(\"batch_size=\",xbatch)\n"
   ]
  },
  {
   "cell_type": "code",
   "execution_count": 2,
   "metadata": {},
   "outputs": [],
   "source": [
    "def modelX():\n",
    "    \n",
    "\n",
    "\n",
    " model = Sequential()  \n",
    "  \n",
    " model.add(Dense(h1, input_dim=X_train.shape[1], kernel_initializer=my_kernelInit,activation='relu' ))\n",
    "\n",
    " model.add(Dense(h2, kernel_initializer=my_kernelInit,activation='relu'))\n",
    "\n",
    " model.add(Dense(h3,kernel_initializer=my_kernelInit,activation='relu'))\n",
    "\n",
    " model.add(Dense(1, kernel_initializer=my_kernelInit, activation='sigmoid'))\n",
    " \n",
    " optz=SGD(lr=0.01,momentum=0.9)\n",
    "\n",
    " model.compile(loss='binary_crossentropy', optimizer=optz, metrics=['accuracy'])\n",
    " \n",
    " return model\n"
   ]
  },
  {
   "cell_type": "code",
   "execution_count": 3,
   "metadata": {},
   "outputs": [
    {
     "ename": "NameError",
     "evalue": "name 'Sequential' is not defined",
     "output_type": "error",
     "traceback": [
      "\u001b[1;31m---------------------------------------------------------------------------\u001b[0m",
      "\u001b[1;31mNameError\u001b[0m                                 Traceback (most recent call last)",
      "\u001b[1;32m<ipython-input-3-3648aa601ed7>\u001b[0m in \u001b[0;36m<module>\u001b[1;34m\u001b[0m\n\u001b[1;32m----> 1\u001b[1;33m \u001b[0mmodel\u001b[0m\u001b[1;33m=\u001b[0m\u001b[0mmodelX\u001b[0m\u001b[1;33m(\u001b[0m\u001b[1;33m)\u001b[0m\u001b[1;33m\u001b[0m\u001b[1;33m\u001b[0m\u001b[0m\n\u001b[0m\u001b[0;32m      2\u001b[0m \u001b[1;33m\u001b[0m\u001b[0m\n\u001b[0;32m      3\u001b[0m \u001b[0mhistory_model\u001b[0m\u001b[1;33m=\u001b[0m\u001b[0mmodel\u001b[0m\u001b[1;33m.\u001b[0m\u001b[0mfit\u001b[0m\u001b[1;33m(\u001b[0m\u001b[0mXtrain_scaled\u001b[0m\u001b[1;33m,\u001b[0m\u001b[0my_train\u001b[0m\u001b[1;33m,\u001b[0m\u001b[0mvalidation_data\u001b[0m\u001b[1;33m=\u001b[0m\u001b[1;33m(\u001b[0m\u001b[0mXtest_scaled\u001b[0m\u001b[1;33m,\u001b[0m\u001b[0my_test\u001b[0m\u001b[1;33m)\u001b[0m\u001b[1;33m,\u001b[0m\u001b[0mepochs\u001b[0m\u001b[1;33m=\u001b[0m\u001b[0mxpoch\u001b[0m\u001b[1;33m,\u001b[0m\u001b[0mbatch_size\u001b[0m\u001b[1;33m=\u001b[0m\u001b[0mxbatch\u001b[0m\u001b[1;33m)\u001b[0m\u001b[1;33m\u001b[0m\u001b[1;33m\u001b[0m\u001b[0m\n",
      "\u001b[1;32m<ipython-input-2-d2b93015d2fa>\u001b[0m in \u001b[0;36mmodelX\u001b[1;34m()\u001b[0m\n\u001b[0;32m      3\u001b[0m \u001b[1;33m\u001b[0m\u001b[0m\n\u001b[0;32m      4\u001b[0m \u001b[1;33m\u001b[0m\u001b[0m\n\u001b[1;32m----> 5\u001b[1;33m  \u001b[0mmodel\u001b[0m \u001b[1;33m=\u001b[0m \u001b[0mSequential\u001b[0m\u001b[1;33m(\u001b[0m\u001b[1;33m)\u001b[0m\u001b[1;33m\u001b[0m\u001b[1;33m\u001b[0m\u001b[0m\n\u001b[0m\u001b[0;32m      6\u001b[0m \u001b[1;33m\u001b[0m\u001b[0m\n\u001b[0;32m      7\u001b[0m  \u001b[0mmodel\u001b[0m\u001b[1;33m.\u001b[0m\u001b[0madd\u001b[0m\u001b[1;33m(\u001b[0m\u001b[0mDense\u001b[0m\u001b[1;33m(\u001b[0m\u001b[0mh1\u001b[0m\u001b[1;33m,\u001b[0m \u001b[0minput_dim\u001b[0m\u001b[1;33m=\u001b[0m\u001b[0mX_train\u001b[0m\u001b[1;33m.\u001b[0m\u001b[0mshape\u001b[0m\u001b[1;33m[\u001b[0m\u001b[1;36m1\u001b[0m\u001b[1;33m]\u001b[0m\u001b[1;33m,\u001b[0m \u001b[0mkernel_initializer\u001b[0m\u001b[1;33m=\u001b[0m\u001b[0mmy_kernelInit\u001b[0m\u001b[1;33m,\u001b[0m\u001b[0mactivation\u001b[0m\u001b[1;33m=\u001b[0m\u001b[1;34m'relu'\u001b[0m \u001b[1;33m)\u001b[0m\u001b[1;33m)\u001b[0m\u001b[1;33m\u001b[0m\u001b[1;33m\u001b[0m\u001b[0m\n",
      "\u001b[1;31mNameError\u001b[0m: name 'Sequential' is not defined"
     ]
    }
   ],
   "source": [
    "\n",
    "model=modelX()\n",
    "\n",
    "history_model=model.fit(Xtrain_scaled,y_train,validation_data=(Xtest_scaled,y_test),epochs=xpoch,batch_size=xbatch)"
   ]
  },
  {
   "cell_type": "code",
   "execution_count": 253,
   "metadata": {},
   "outputs": [
    {
     "name": "stdout",
     "output_type": "stream",
     "text": [
      "62855/62855 [==============================] - 1s 14us/step\n",
      "train %acc 99.43\n",
      "6824/6824 [==============================] - 0s 14us/step\n",
      "test %acc 80.63\n"
     ]
    }
   ],
   "source": [
    "loss_train,acc_train=model.evaluate(Xtrain_scaled,y_train)\n",
    "print( 'train %acc',round( acc_train*100,2))\n",
    "\n",
    "loss_test,acc_test=model.evaluate(Xtest_scaled,y_test)\n",
    "print( 'test %acc',round( acc_test*100,2))\n",
    "\n",
    "\n"
   ]
  },
  {
   "cell_type": "code",
   "execution_count": 254,
   "metadata": {},
   "outputs": [
    {
     "name": "stdout",
     "output_type": "stream",
     "text": [
      "dict_keys(['val_loss', 'val_accuracy', 'loss', 'accuracy'])\n"
     ]
    }
   ],
   "source": [
    "print(history_model.history.keys())"
   ]
  },
  {
   "cell_type": "code",
   "execution_count": 255,
   "metadata": {},
   "outputs": [
    {
     "data": {
      "text/plain": [
       "dict_keys(['val_loss', 'val_accuracy', 'loss', 'accuracy'])"
      ]
     },
     "execution_count": 255,
     "metadata": {},
     "output_type": "execute_result"
    }
   ],
   "source": [
    "history_model.history.keys()"
   ]
  },
  {
   "cell_type": "code",
   "execution_count": 21,
   "metadata": {},
   "outputs": [
    {
     "ename": "NameError",
     "evalue": "name 'history_model' is not defined",
     "output_type": "error",
     "traceback": [
      "\u001b[1;31m---------------------------------------------------------------------------\u001b[0m",
      "\u001b[1;31mNameError\u001b[0m                                 Traceback (most recent call last)",
      "\u001b[1;32m<ipython-input-21-66aa447375f3>\u001b[0m in \u001b[0;36m<module>\u001b[1;34m\u001b[0m\n\u001b[0;32m      6\u001b[0m \u001b[0mplt\u001b[0m\u001b[1;33m.\u001b[0m\u001b[0mtitle\u001b[0m\u001b[1;33m(\u001b[0m\u001b[1;34m\"accuracy\"\u001b[0m\u001b[1;33m)\u001b[0m\u001b[1;33m\u001b[0m\u001b[1;33m\u001b[0m\u001b[0m\n\u001b[0;32m      7\u001b[0m \u001b[1;33m\u001b[0m\u001b[0m\n\u001b[1;32m----> 8\u001b[1;33m \u001b[0mplt\u001b[0m\u001b[1;33m.\u001b[0m\u001b[0mplot\u001b[0m\u001b[1;33m(\u001b[0m\u001b[0mhistory_model\u001b[0m\u001b[1;33m.\u001b[0m\u001b[0mhistory\u001b[0m\u001b[1;33m[\u001b[0m\u001b[1;34m'accuracy'\u001b[0m\u001b[1;33m]\u001b[0m\u001b[1;33m,\u001b[0m\u001b[0mlabel\u001b[0m\u001b[1;33m=\u001b[0m\u001b[1;34m'train'\u001b[0m\u001b[1;33m)\u001b[0m\u001b[1;33m\u001b[0m\u001b[1;33m\u001b[0m\u001b[0m\n\u001b[0m\u001b[0;32m      9\u001b[0m \u001b[0mplt\u001b[0m\u001b[1;33m.\u001b[0m\u001b[0mplot\u001b[0m\u001b[1;33m(\u001b[0m\u001b[0mhistory_model\u001b[0m\u001b[1;33m.\u001b[0m\u001b[0mhistory\u001b[0m\u001b[1;33m[\u001b[0m\u001b[1;34m'val_accuracy'\u001b[0m\u001b[1;33m]\u001b[0m\u001b[1;33m,\u001b[0m\u001b[0mlabel\u001b[0m\u001b[1;33m=\u001b[0m\u001b[1;34m'test'\u001b[0m\u001b[1;33m)\u001b[0m\u001b[1;33m\u001b[0m\u001b[1;33m\u001b[0m\u001b[0m\n\u001b[0;32m     10\u001b[0m \u001b[0mplt\u001b[0m\u001b[1;33m.\u001b[0m\u001b[0mlegend\u001b[0m\u001b[1;33m(\u001b[0m\u001b[1;33m)\u001b[0m\u001b[1;33m\u001b[0m\u001b[1;33m\u001b[0m\u001b[0m\n",
      "\u001b[1;31mNameError\u001b[0m: name 'history_model' is not defined"
     ]
    },
    {
     "data": {
      "image/png": "[encoded data removed]",
      "text/plain": [
       "<Figure size 864x720 with 1 Axes>"
      ]
     },
     "metadata": {
      "needs_background": "light"
     },
     "output_type": "display_data"
    }
   ],
   "source": [
    "# summarize history for accuracy\n",
    "\n",
    "plt.figure(figsize=(12,10))\n",
    "\n",
    "plt.subplot(211)\n",
    "plt.title(\"accuracy\")\n",
    "\n",
    "plt.plot(history_model.history['accuracy'],label='train')\n",
    "plt.plot(history_model.history['val_accuracy'],label='test')\n",
    "plt.legend()\n",
    "\n",
    "plt.subplot(212)\n",
    "plt.title(\"loss\")\n",
    "plt.plot(history_model.history['loss'],label=\"train\")\n",
    "plt.plot(history_model.history['val_loss'],label=\"test\")\n",
    "plt.legend()\n",
    "\n",
    "\n",
    "plt.show()"
   ]
  },
  {
   "cell_type": "markdown",
   "metadata": {},
   "source": [
    "# summarize this as follows:\n",
    "    \n",
    "    Batch Gradient Descent:  Use a relatively larger learning rate and more training epochs.\n",
    "  \n",
    "    Stochastic Gradient Descent:  Use a relatively smaller learning rate and fewer trainingepochs.\n",
    "  "
   ]
  },
  {
   "cell_type": "markdown",
   "metadata": {},
   "source": [
    "The plots show that small batch results generally in rapid learning but a volatile learningprocess with higher variance in the classification accuracy.  Larger batch sizes slow down thelearning process (in terms of the learning curves) but the final stages result in a convergence toa more stable model exemplified by lower variance in classification accuracy."
   ]
  },
  {
   "cell_type": "code",
   "execution_count": null,
   "metadata": {},
   "outputs": [],
   "source": []
  }
 ],
 "metadata": {
  "kernelspec": {
   "display_name": "Python 3",
   "language": "python",
   "name": "python3"
  },
  "language_info": {
   "codemirror_mode": {
    "name": "ipython",
    "version": 3
   },
   "file_extension": ".py",
   "mimetype": "text/x-python",
   "name": "python",
   "nbconvert_exporter": "python",
   "pygments_lexer": "ipython3",
   "version": "3.7.6"
  }
 },
 "nbformat": 4,
 "nbformat_minor": 2
}
