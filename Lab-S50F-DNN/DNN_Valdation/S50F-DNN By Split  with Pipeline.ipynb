{
 "cells": [
  {
   "cell_type": "markdown",
   "metadata": {},
   "source": [
    "# S50F-DNN By Split  with Pipeline\n",
    "\n",
    "\n",
    "Baseline Neural Network Model Performance\n",
    "\n"
   ]
  },
  {
   "cell_type": "code",
   "execution_count": 28,
   "metadata": {},
   "outputs": [],
   "source": [
    "xseed=1982\n",
    "\n",
    "from numpy.random import seed\n",
    "seed(xseed)\n",
    "from tensorflow import set_random_seed\n",
    "set_random_seed(xseed)"
   ]
  },
  {
   "cell_type": "code",
   "execution_count": 29,
   "metadata": {},
   "outputs": [],
   "source": [
    " # Binary Classification with Sonar Dataset: Baseline\n",
    "import numpy\n",
    "import pandas\n",
    "\n",
    "\n",
    "from keras.models import Sequential\n",
    "from keras.layers import Dense\n",
    "from keras.wrappers.scikit_learn import KerasClassifier\n",
    "from keras import models\n",
    "\n",
    "from keras.utils import np_utils\n",
    "\n",
    "\n",
    "\n",
    "from keras.layers import Dropout\n",
    "from keras.regularizers import l2\n",
    "from keras.optimizers import Adam\n",
    "from keras.optimizers import SGD\n",
    "from keras.optimizers import Adadelta\n",
    "from keras.constraints import maxnorm\n",
    "\n",
    "\n",
    "from sklearn.preprocessing import StandardScaler\n",
    "from sklearn.preprocessing import MinMaxScaler\n",
    "from sklearn.pipeline import Pipeline\n",
    "\n",
    "\n",
    "\n",
    "\n",
    "\n",
    "from keras.utils import np_utils\n",
    "\n",
    "from sklearn.model_selection import cross_val_score\n",
    "from sklearn.model_selection import train_test_split\n",
    "from sklearn.preprocessing import LabelEncoder\n",
    "\n",
    "\n",
    "import joblib\n",
    "\n",
    "import os\n",
    "from datetime import datetime"
   ]
  },
  {
   "cell_type": "code",
   "execution_count": 30,
   "metadata": {},
   "outputs": [],
   "source": [
    "st='2007'\n",
    "ed='2018'\n",
    "\n",
    "strategyName='long'\n"
   ]
  },
  {
   "cell_type": "code",
   "execution_count": 31,
   "metadata": {},
   "outputs": [
    {
     "name": "stdout",
     "output_type": "stream",
     "text": [
      "D:\\Dev-Trong\\DataSet\\ML-Long_S50M15_07To1Q20-Train.csv\n"
     ]
    }
   ],
   "source": [
    "filename='ML-Long_S50M15_07To1Q20-Train.csv'\n",
    "filepath=os.path.abspath(f'D:\\Dev-Trong\\DataSet\\/{filename}')\n",
    "print(filepath)\n"
   ]
  },
  {
   "cell_type": "markdown",
   "metadata": {},
   "source": [
    "# Train Data by WFA"
   ]
  },
  {
   "cell_type": "code",
   "execution_count": 32,
   "metadata": {},
   "outputs": [
    {
     "name": "stdout",
     "output_type": "stream",
     "text": [
      "(69679, 18)\n",
      "<class 'pandas.core.frame.DataFrame'>\n",
      "DatetimeIndex: 69679 entries, 2007-01-03 09:45:00 to 2020-03-31 16:45:00\n",
      "Data columns (total 18 columns):\n",
      " #   Column                  Non-Null Count  Dtype  \n",
      "---  ------                  --------------  -----  \n",
      " 0   indy_ma-550             69679 non-null  float64\n",
      " 1   indy_ma-1100            69679 non-null  float64\n",
      " 2   indy_hh-550             69679 non-null  float64\n",
      " 3   indy_ll-550             69679 non-null  float64\n",
      " 4   indy_mid-550            69679 non-null  float64\n",
      " 5   indy_hh2-1100           69679 non-null  float64\n",
      " 6   indy_ll2-1100           69679 non-null  float64\n",
      " 7   indy_mid2-1100          69679 non-null  float64\n",
      " 8   indy_macd110-440        69679 non-null  float64\n",
      " 9   indy_signal110-440-110  69679 non-null  float64\n",
      " 10  indy_hist_macd110-440   69679 non-null  float64\n",
      " 11  indy_rsi25-ma20         69679 non-null  float64\n",
      " 12  indy_6ATRTrail_DC-110   69679 non-null  float64\n",
      " 13  cate_3trend-550_ma110   69679 non-null  int64  \n",
      " 14  cate_2trend-1100_ma220  69679 non-null  int64  \n",
      " 15  cate_rannkHL1100-ma66   69679 non-null  int64  \n",
      " 16  cate_CombineTrend       69679 non-null  int64  \n",
      " 17  LongSignal              69679 non-null  int64  \n",
      "dtypes: float64(13), int64(5)\n",
      "memory usage: 10.1 MB\n"
     ]
    }
   ],
   "source": [
    "# load dataset\n",
    "\n",
    "dataframe = pandas.read_csv(filepath,index_col=\"datetime\", parse_dates=['datetime'],dayfirst=True)\n",
    "\n",
    "dfOHLC=dataframe.loc[:,['open','high','low','close']]\n",
    "dataframe.drop(['open','high','low','close'],axis=1,inplace=True)\n",
    "\n",
    "                                                 \n",
    "print(dataframe.shape)\n",
    "              \n",
    "dataframe.info()"
   ]
  },
  {
   "cell_type": "code",
   "execution_count": 33,
   "metadata": {},
   "outputs": [
    {
     "name": "stdout",
     "output_type": "stream",
     "text": [
      "<class 'pandas.core.frame.DataFrame'>\n",
      "DatetimeIndex: 62855 entries, 2007-01-03 09:45:00 to 2018-12-28 16:45:00\n",
      "Data columns (total 18 columns):\n",
      " #   Column                  Non-Null Count  Dtype  \n",
      "---  ------                  --------------  -----  \n",
      " 0   indy_ma-550             62855 non-null  float64\n",
      " 1   indy_ma-1100            62855 non-null  float64\n",
      " 2   indy_hh-550             62855 non-null  float64\n",
      " 3   indy_ll-550             62855 non-null  float64\n",
      " 4   indy_mid-550            62855 non-null  float64\n",
      " 5   indy_hh2-1100           62855 non-null  float64\n",
      " 6   indy_ll2-1100           62855 non-null  float64\n",
      " 7   indy_mid2-1100          62855 non-null  float64\n",
      " 8   indy_macd110-440        62855 non-null  float64\n",
      " 9   indy_signal110-440-110  62855 non-null  float64\n",
      " 10  indy_hist_macd110-440   62855 non-null  float64\n",
      " 11  indy_rsi25-ma20         62855 non-null  float64\n",
      " 12  indy_6ATRTrail_DC-110   62855 non-null  float64\n",
      " 13  cate_3trend-550_ma110   62855 non-null  int64  \n",
      " 14  cate_2trend-1100_ma220  62855 non-null  int64  \n",
      " 15  cate_rannkHL1100-ma66   62855 non-null  int64  \n",
      " 16  cate_CombineTrend       62855 non-null  int64  \n",
      " 17  LongSignal              62855 non-null  int64  \n",
      "dtypes: float64(13), int64(5)\n",
      "memory usage: 9.1 MB\n"
     ]
    }
   ],
   "source": [
    "df=dataframe[st:ed]\n",
    "df.info()"
   ]
  },
  {
   "cell_type": "code",
   "execution_count": 34,
   "metadata": {},
   "outputs": [
    {
     "data": {
      "text/plain": [
       "'LongSignal'"
      ]
     },
     "execution_count": 34,
     "metadata": {},
     "output_type": "execute_result"
    }
   ],
   "source": [
    "labelName=dataframe.columns[-1]\n",
    "labelName"
   ]
  },
  {
   "cell_type": "code",
   "execution_count": 35,
   "metadata": {},
   "outputs": [
    {
     "name": "stdout",
     "output_type": "stream",
     "text": [
      "(62855, 17)\n",
      "(62855,)\n"
     ]
    }
   ],
   "source": [
    "X_df = df.drop(columns=labelName).astype(float)\n",
    "Y_df = df[labelName]\n",
    "print(X_df.shape)\n",
    "print(Y_df.shape)"
   ]
  },
  {
   "cell_type": "code",
   "execution_count": 36,
   "metadata": {},
   "outputs": [
    {
     "name": "stdout",
     "output_type": "stream",
     "text": [
      "(62855, 17)\n",
      "(62855,)\n"
     ]
    }
   ],
   "source": [
    "# split into input (X) and output (Y) variables\n",
    "X = X_df.to_numpy()\n",
    "y =Y_df.to_numpy()\n",
    "print(X.shape)\n",
    "print(y.shape)"
   ]
  },
  {
   "cell_type": "code",
   "execution_count": 37,
   "metadata": {},
   "outputs": [],
   "source": [
    "h1=17\n",
    "h2=34\n",
    "h3=17\n",
    "\n",
    "xpoch=150\n",
    "xbatch=32\n",
    "#xpoch=10\n"
   ]
  },
  {
   "cell_type": "code",
   "execution_count": 38,
   "metadata": {},
   "outputs": [],
   "source": [
    "def create_dnn_model1():\n",
    "\n",
    "  model = Sequential()  \n",
    "  \n",
    "  model.add(Dense(h1, input_dim=X.shape[1], kernel_initializer='normal', W_regularizer=l2(0.00001),activation='relu' ))\n",
    "  model.add(Dense(h2, kernel_initializer='normal', W_regularizer=l2(0.00001),activation='relu'))\n",
    "  model.add(Dense(h3, kernel_initializer=\"normal\",W_regularizer=l2(0.00001), activation=\"relu\"))\n",
    "  \n",
    "  model.add(Dense(1, kernel_initializer='normal',W_regularizer=l2(0.00001), activation='sigmoid'))\n",
    "  \n",
    "    # Compile model\n",
    "  model.compile(loss='binary_crossentropy', optimizer='adam', metrics=['accuracy'])\n",
    "  return model  \n",
    "\n"
   ]
  },
  {
   "cell_type": "code",
   "execution_count": 39,
   "metadata": {},
   "outputs": [],
   "source": [
    "def create_dnn_model2():\n",
    "    \n",
    "   \n",
    "      \n",
    "    model = Sequential()\n",
    "    \n",
    "    model.add(Dropout(0.2, input_shape=(X.shape[1],)))\n",
    "    \n",
    "    model.add(Dense(h1, kernel_initializer=\"normal\", activation=\"relu\", kernel_constraint=maxnorm(3)))\n",
    "    model.add(Dropout(0.2))\n",
    "    \n",
    "    model.add(Dense(h2, kernel_initializer=\"normal\", activation=\"relu\", kernel_constraint=maxnorm(3)))\n",
    "    model.add(Dropout(0.2))\n",
    "    \n",
    "    model.add(Dense(h3, kernel_initializer=\"normal\", activation=\"relu\", kernel_constraint=maxnorm(3)))\n",
    "    model.add(Dropout(0.2))\n",
    "    \n",
    "    model.add(Dense(1, kernel_initializer=\"normal\", activation=\"sigmoid\"))\n",
    "    \n",
    "    #adam_optimz = Adam(lr=0.05, beta_1=0.9, beta_2=0.999, epsilon=1e-08, decay=0.0)\n",
    "    \n",
    "\n",
    "    learning_rate = 0.01\n",
    "    decay_rate = learning_rate / xpoch\n",
    "    momentum = 0.8\n",
    "    sgd_optimz = SGD(lr=learning_rate, momentum=momentum, decay=decay_rate, nesterov=False)    \n",
    "   \n",
    "    \n",
    "    \n",
    "    model.compile(loss=\"binary_crossentropy\", optimizer=sgd_optimz , metrics=['accuracy'])\n",
    "\n",
    "    \n",
    "    #optimizer = Adam(lr=0.0001, beta_1=0.9, beta_2=0.999, epsilon=1e-08, decay=0.0)\n",
    "    #optimizer = Adam(lr=0.05, beta_1=0.9, beta_2=0.999, epsilon=1e-08, decay=0.0)\n",
    "    #optimizer = SGD(lr=0.001, momentum=0.9, decay=0.01, nesterov=True)\n",
    "    #optimizer = Adadelta(lr=2.0, rho=0.99, epsilon=1e-08, decay=0.0)\n",
    "    \n",
    "    modelSelect=f'model2_LR{learning_rate}_mmt{momentum}'\n",
    "\n",
    "    return model"
   ]
  },
  {
   "cell_type": "code",
   "execution_count": 40,
   "metadata": {},
   "outputs": [],
   "source": [
    "\n",
    "#early_stopping = callbacks.EarlyStopping(monitor='val_loss', patience=1, verbose=0, mode='auto')\n",
    "estimator_steps=[]\n",
    "estimator_steps.append(('standardize', StandardScaler()))\n",
    "#estimator_steps.append(('minmax_range', MinMaxScaler()))\n",
    "\n",
    "estimator_steps.append(('mlp', KerasClassifier(build_fn=create_dnn_model1, epochs=xpoch, batch_size=xbatch)))\n",
    "\n",
    "mypipeline=Pipeline(estimator_steps)"
   ]
  },
  {
   "cell_type": "code",
   "execution_count": 41,
   "metadata": {},
   "outputs": [
    {
     "data": {
      "text/plain": [
       "Pipeline(memory=None,\n",
       "         steps=[('standardize',\n",
       "                 StandardScaler(copy=True, with_mean=True, with_std=True)),\n",
       "                ('mlp',\n",
       "                 <keras.wrappers.scikit_learn.KerasClassifier object at 0x000001C41E11D648>)],\n",
       "         verbose=False)"
      ]
     },
     "execution_count": 41,
     "metadata": {},
     "output_type": "execute_result"
    }
   ],
   "source": [
    "mypipeline"
   ]
  },
  {
   "cell_type": "code",
   "execution_count": 42,
   "metadata": {},
   "outputs": [],
   "source": [
    "\n",
    "X_train,X_test,y_train,y_test=train_test_split(X,y,test_size=0.33,random_state=xseed)"
   ]
  },
  {
   "cell_type": "code",
   "execution_count": 43,
   "metadata": {},
   "outputs": [
    {
     "name": "stdout",
     "output_type": "stream",
     "text": [
      "WARNING:tensorflow:From D:\\ProgramData\\Anaconda3\\lib\\site-packages\\tensorflow\\python\\ops\\nn_impl.py:180: add_dispatch_support.<locals>.wrapper (from tensorflow.python.ops.array_ops) is deprecated and will be removed in a future version.\n",
      "Instructions for updating:\n",
      "Use tf.where in 2.0, which has the same broadcast rule as np.where\n"
     ]
    },
    {
     "name": "stderr",
     "output_type": "stream",
     "text": [
      "D:\\ProgramData\\Anaconda3\\lib\\site-packages\\ipykernel_launcher.py:5: UserWarning: Update your `Dense` call to the Keras 2 API: `Dense(17, input_dim=17, kernel_initializer=\"normal\", activation=\"relu\", kernel_regularizer=<keras.reg...)`\n",
      "  \"\"\"\n",
      "D:\\ProgramData\\Anaconda3\\lib\\site-packages\\ipykernel_launcher.py:6: UserWarning: Update your `Dense` call to the Keras 2 API: `Dense(34, kernel_initializer=\"normal\", activation=\"relu\", kernel_regularizer=<keras.reg...)`\n",
      "  \n",
      "D:\\ProgramData\\Anaconda3\\lib\\site-packages\\ipykernel_launcher.py:7: UserWarning: Update your `Dense` call to the Keras 2 API: `Dense(17, kernel_initializer=\"normal\", activation=\"relu\", kernel_regularizer=<keras.reg...)`\n",
      "  import sys\n",
      "D:\\ProgramData\\Anaconda3\\lib\\site-packages\\ipykernel_launcher.py:9: UserWarning: Update your `Dense` call to the Keras 2 API: `Dense(1, kernel_initializer=\"normal\", activation=\"sigmoid\", kernel_regularizer=<keras.reg...)`\n",
      "  if __name__ == '__main__':\n"
     ]
    },
    {
     "name": "stdout",
     "output_type": "stream",
     "text": [
      "WARNING:tensorflow:From D:\\ProgramData\\Anaconda3\\lib\\site-packages\\keras\\backend\\tensorflow_backend.py:422: The name tf.global_variables is deprecated. Please use tf.compat.v1.global_variables instead.\n",
      "\n",
      "Epoch 1/150\n",
      "42112/42112 [==============================] - 1s 31us/step - loss: 0.3336 - accuracy: 0.8582\n",
      "Epoch 2/150\n",
      "42112/42112 [==============================] - 1s 27us/step - loss: 0.2808 - accuracy: 0.8816\n",
      "Epoch 3/150\n",
      "42112/42112 [==============================] - 1s 26us/step - loss: 0.2595 - accuracy: 0.8908\n",
      "Epoch 4/150\n",
      "42112/42112 [==============================] - 1s 26us/step - loss: 0.2424 - accuracy: 0.8977\n",
      "Epoch 5/150\n",
      "42112/42112 [==============================] - 1s 26us/step - loss: 0.2285 - accuracy: 0.9055\n",
      "Epoch 6/150\n",
      "42112/42112 [==============================] - 1s 26us/step - loss: 0.2136 - accuracy: 0.9120\n",
      "Epoch 7/150\n",
      "42112/42112 [==============================] - 1s 26us/step - loss: 0.2026 - accuracy: 0.9151\n",
      "Epoch 8/150\n",
      "42112/42112 [==============================] - 1s 26us/step - loss: 0.1901 - accuracy: 0.9230\n",
      "Epoch 9/150\n",
      "42112/42112 [==============================] - 1s 27us/step - loss: 0.1811 - accuracy: 0.9279\n",
      "Epoch 10/150\n",
      "42112/42112 [==============================] - 1s 26us/step - loss: 0.1716 - accuracy: 0.9325\n",
      "Epoch 11/150\n",
      "42112/42112 [==============================] - 1s 25us/step - loss: 0.1661 - accuracy: 0.9342\n",
      "Epoch 12/150\n",
      "42112/42112 [==============================] - 1s 27us/step - loss: 0.1586 - accuracy: 0.9365\n",
      "Epoch 13/150\n",
      "42112/42112 [==============================] - 1s 26us/step - loss: 0.1596 - accuracy: 0.9362\n",
      "Epoch 14/150\n",
      "42112/42112 [==============================] - 1s 26us/step - loss: 0.1530 - accuracy: 0.9375\n",
      "Epoch 15/150\n",
      "42112/42112 [==============================] - 1s 26us/step - loss: 0.1510 - accuracy: 0.9393 0s - los\n",
      "Epoch 16/150\n",
      "42112/42112 [==============================] - 1s 25us/step - loss: 0.1457 - accuracy: 0.9405\n",
      "Epoch 17/150\n",
      "42112/42112 [==============================] - 1s 26us/step - loss: 0.1419 - accuracy: 0.9422\n",
      "Epoch 18/150\n",
      "42112/42112 [==============================] - 1s 26us/step - loss: 0.1399 - accuracy: 0.9424\n",
      "Epoch 19/150\n",
      "42112/42112 [==============================] - 1s 26us/step - loss: 0.1386 - accuracy: 0.9430\n",
      "Epoch 20/150\n",
      "42112/42112 [==============================] - 1s 25us/step - loss: 0.1362 - accuracy: 0.9448\n",
      "Epoch 21/150\n",
      "42112/42112 [==============================] - 1s 28us/step - loss: 0.1320 - accuracy: 0.9461\n",
      "Epoch 22/150\n",
      "42112/42112 [==============================] - 1s 28us/step - loss: 0.1288 - accuracy: 0.9492\n",
      "Epoch 23/150\n",
      "42112/42112 [==============================] - 1s 28us/step - loss: 0.1243 - accuracy: 0.9521\n",
      "Epoch 24/150\n",
      "42112/42112 [==============================] - 1s 27us/step - loss: 0.1258 - accuracy: 0.9514\n",
      "Epoch 25/150\n",
      "42112/42112 [==============================] - 1s 28us/step - loss: 0.1242 - accuracy: 0.9521\n",
      "Epoch 26/150\n",
      "42112/42112 [==============================] - 1s 25us/step - loss: 0.1167 - accuracy: 0.9555\n",
      "Epoch 27/150\n",
      "42112/42112 [==============================] - 1s 25us/step - loss: 0.1157 - accuracy: 0.9561 0s - loss: 0.1148 - accuracy\n",
      "Epoch 28/150\n",
      "42112/42112 [==============================] - 1s 26us/step - loss: 0.1184 - accuracy: 0.9543\n",
      "Epoch 29/150\n",
      "42112/42112 [==============================] - 1s 27us/step - loss: 0.1134 - accuracy: 0.9569 0s - loss: 0.1126 - accuracy\n",
      "Epoch 30/150\n",
      "42112/42112 [==============================] - 1s 26us/step - loss: 0.1110 - accuracy: 0.9576\n",
      "Epoch 31/150\n",
      "42112/42112 [==============================] - 1s 27us/step - loss: 0.1094 - accuracy: 0.9591\n",
      "Epoch 32/150\n",
      "42112/42112 [==============================] - 1s 26us/step - loss: 0.1096 - accuracy: 0.9580\n",
      "Epoch 33/150\n",
      "42112/42112 [==============================] - 1s 26us/step - loss: 0.1046 - accuracy: 0.9608\n",
      "Epoch 34/150\n",
      "42112/42112 [==============================] - 1s 26us/step - loss: 0.1035 - accuracy: 0.9618\n",
      "Epoch 35/150\n",
      "42112/42112 [==============================] - 1s 26us/step - loss: 0.1030 - accuracy: 0.9614 0s - loss: 0.1\n",
      "Epoch 36/150\n",
      "42112/42112 [==============================] - 1s 26us/step - loss: 0.1001 - accuracy: 0.9635\n",
      "Epoch 37/150\n",
      "42112/42112 [==============================] - 1s 26us/step - loss: 0.0973 - accuracy: 0.9639\n",
      "Epoch 38/150\n",
      "42112/42112 [==============================] - 1s 26us/step - loss: 0.0954 - accuracy: 0.9652\n",
      "Epoch 39/150\n",
      "42112/42112 [==============================] - 1s 26us/step - loss: 0.0967 - accuracy: 0.9645\n",
      "Epoch 40/150\n",
      "42112/42112 [==============================] - 1s 26us/step - loss: 0.0960 - accuracy: 0.9649\n",
      "Epoch 41/150\n",
      "42112/42112 [==============================] - 1s 25us/step - loss: 0.0930 - accuracy: 0.9662\n",
      "Epoch 42/150\n",
      "42112/42112 [==============================] - 1s 27us/step - loss: 0.0924 - accuracy: 0.9662 0s - loss: 0.0930 - accuracy: 0.\n",
      "Epoch 43/150\n",
      "42112/42112 [==============================] - 1s 26us/step - loss: 0.0920 - accuracy: 0.9667\n",
      "Epoch 44/150\n",
      "42112/42112 [==============================] - 1s 26us/step - loss: 0.0905 - accuracy: 0.9672\n",
      "Epoch 45/150\n",
      "42112/42112 [==============================] - 1s 26us/step - loss: 0.0932 - accuracy: 0.9664\n",
      "Epoch 46/150\n",
      "42112/42112 [==============================] - 1s 26us/step - loss: 0.0875 - accuracy: 0.9680\n",
      "Epoch 47/150\n",
      "42112/42112 [==============================] - 1s 27us/step - loss: 0.0886 - accuracy: 0.9678\n",
      "Epoch 48/150\n",
      "42112/42112 [==============================] - 1s 26us/step - loss: 0.0866 - accuracy: 0.9694\n",
      "Epoch 49/150\n",
      "42112/42112 [==============================] - 1s 26us/step - loss: 0.0861 - accuracy: 0.9695\n",
      "Epoch 50/150\n",
      "42112/42112 [==============================] - 1s 25us/step - loss: 0.0851 - accuracy: 0.9690\n",
      "Epoch 51/150\n",
      "42112/42112 [==============================] - 1s 27us/step - loss: 0.0880 - accuracy: 0.9681\n",
      "Epoch 52/150\n",
      "42112/42112 [==============================] - 1s 27us/step - loss: 0.0829 - accuracy: 0.9697\n",
      "Epoch 53/150\n",
      "42112/42112 [==============================] - 1s 26us/step - loss: 0.0851 - accuracy: 0.9704 0s - loss: 0.0\n",
      "Epoch 54/150\n",
      "42112/42112 [==============================] - 1s 25us/step - loss: 0.0824 - accuracy: 0.9706\n",
      "Epoch 55/150\n",
      "42112/42112 [==============================] - 1s 26us/step - loss: 0.0842 - accuracy: 0.9710\n",
      "Epoch 56/150\n",
      "42112/42112 [==============================] - 1s 28us/step - loss: 0.0832 - accuracy: 0.9707\n",
      "Epoch 57/150\n",
      "42112/42112 [==============================] - 1s 26us/step - loss: 0.0789 - accuracy: 0.9732\n",
      "Epoch 58/150\n",
      "42112/42112 [==============================] - 1s 28us/step - loss: 0.0787 - accuracy: 0.9712\n",
      "Epoch 59/150\n",
      "42112/42112 [==============================] - 1s 26us/step - loss: 0.0778 - accuracy: 0.9729\n",
      "Epoch 60/150\n",
      "42112/42112 [==============================] - 1s 27us/step - loss: 0.0795 - accuracy: 0.9722\n",
      "Epoch 61/150\n",
      "42112/42112 [==============================] - 1s 26us/step - loss: 0.0743 - accuracy: 0.9740\n",
      "Epoch 62/150\n",
      "42112/42112 [==============================] - 1s 26us/step - loss: 0.0781 - accuracy: 0.9722\n",
      "Epoch 63/150\n",
      "42112/42112 [==============================] - 1s 25us/step - loss: 0.0783 - accuracy: 0.9724\n",
      "Epoch 64/150\n",
      "42112/42112 [==============================] - 1s 26us/step - loss: 0.0740 - accuracy: 0.9736\n",
      "Epoch 65/150\n",
      "42112/42112 [==============================] - 1s 28us/step - loss: 0.0753 - accuracy: 0.9741\n",
      "Epoch 66/150\n",
      "42112/42112 [==============================] - 1s 28us/step - loss: 0.0735 - accuracy: 0.9740 0s - loss: 0.0738 - accuracy\n",
      "Epoch 67/150\n",
      "42112/42112 [==============================] - 1s 28us/step - loss: 0.0733 - accuracy: 0.9745\n",
      "Epoch 68/150\n",
      "42112/42112 [==============================] - 1s 28us/step - loss: 0.0754 - accuracy: 0.9736\n",
      "Epoch 69/150\n",
      "42112/42112 [==============================] - 1s 28us/step - loss: 0.0714 - accuracy: 0.9754\n",
      "Epoch 70/150\n",
      "42112/42112 [==============================] - 1s 28us/step - loss: 0.0740 - accuracy: 0.9741\n",
      "Epoch 71/150\n",
      "42112/42112 [==============================] - 1s 29us/step - loss: 0.0724 - accuracy: 0.9747\n",
      "Epoch 72/150\n",
      "42112/42112 [==============================] - 1s 28us/step - loss: 0.0701 - accuracy: 0.9755\n",
      "Epoch 73/150\n",
      "42112/42112 [==============================] - 1s 29us/step - loss: 0.0691 - accuracy: 0.9756\n",
      "Epoch 74/150\n"
     ]
    },
    {
     "name": "stdout",
     "output_type": "stream",
     "text": [
      "42112/42112 [==============================] - 1s 29us/step - loss: 0.0692 - accuracy: 0.9764\n",
      "Epoch 75/150\n",
      "42112/42112 [==============================] - 1s 28us/step - loss: 0.0674 - accuracy: 0.9767\n",
      "Epoch 76/150\n",
      "42112/42112 [==============================] - 1s 28us/step - loss: 0.0692 - accuracy: 0.9759\n",
      "Epoch 77/150\n",
      "42112/42112 [==============================] - 1s 28us/step - loss: 0.0691 - accuracy: 0.9759\n",
      "Epoch 78/150\n",
      "42112/42112 [==============================] - 1s 28us/step - loss: 0.0660 - accuracy: 0.9772\n",
      "Epoch 79/150\n",
      "42112/42112 [==============================] - 1s 28us/step - loss: 0.0651 - accuracy: 0.9773\n",
      "Epoch 80/150\n",
      "42112/42112 [==============================] - 1s 28us/step - loss: 0.0684 - accuracy: 0.9764\n",
      "Epoch 81/150\n",
      "42112/42112 [==============================] - 1s 28us/step - loss: 0.0658 - accuracy: 0.9775\n",
      "Epoch 82/150\n",
      "42112/42112 [==============================] - 1s 28us/step - loss: 0.0659 - accuracy: 0.9772\n",
      "Epoch 83/150\n",
      "42112/42112 [==============================] - 1s 28us/step - loss: 0.0637 - accuracy: 0.9777\n",
      "Epoch 84/150\n",
      "42112/42112 [==============================] - 1s 28us/step - loss: 0.0645 - accuracy: 0.9775\n",
      "Epoch 85/150\n",
      "42112/42112 [==============================] - 1s 28us/step - loss: 0.0652 - accuracy: 0.9778\n",
      "Epoch 86/150\n",
      "42112/42112 [==============================] - 1s 28us/step - loss: 0.0628 - accuracy: 0.9785\n",
      "Epoch 87/150\n",
      "42112/42112 [==============================] - 1s 28us/step - loss: 0.0640 - accuracy: 0.9787\n",
      "Epoch 88/150\n",
      "42112/42112 [==============================] - 1s 30us/step - loss: 0.0647 - accuracy: 0.9774\n",
      "Epoch 89/150\n",
      "42112/42112 [==============================] - 1s 29us/step - loss: 0.0627 - accuracy: 0.9786 \n",
      "Epoch 90/150\n",
      "42112/42112 [==============================] - 1s 29us/step - loss: 0.0587 - accuracy: 0.9796\n",
      "Epoch 91/150\n",
      "42112/42112 [==============================] - 1s 29us/step - loss: 0.0613 - accuracy: 0.9792 0s - loss: 0.0629 -  - ETA: 0s - loss: 0.0604 \n",
      "Epoch 92/150\n",
      "42112/42112 [==============================] - 1s 28us/step - loss: 0.0607 - accuracy: 0.9797\n",
      "Epoch 93/150\n",
      "42112/42112 [==============================] - 1s 28us/step - loss: 0.0587 - accuracy: 0.9806\n",
      "Epoch 94/150\n",
      "42112/42112 [==============================] - 1s 29us/step - loss: 0.0613 - accuracy: 0.9796\n",
      "Epoch 95/150\n",
      "42112/42112 [==============================] - 1s 28us/step - loss: 0.0555 - accuracy: 0.9810\n",
      "Epoch 96/150\n",
      "42112/42112 [==============================] - 1s 28us/step - loss: 0.0586 - accuracy: 0.9806\n",
      "Epoch 97/150\n",
      "42112/42112 [==============================] - 1s 28us/step - loss: 0.0569 - accuracy: 0.9811\n",
      "Epoch 98/150\n",
      "42112/42112 [==============================] - 1s 28us/step - loss: 0.0565 - accuracy: 0.9813 0s - loss: 0.0564 - accuracy: 0.98\n",
      "Epoch 99/150\n",
      "42112/42112 [==============================] - 1s 28us/step - loss: 0.0556 - accuracy: 0.9812\n",
      "Epoch 100/150\n",
      "42112/42112 [==============================] - 1s 28us/step - loss: 0.0552 - accuracy: 0.9822\n",
      "Epoch 101/150\n",
      "42112/42112 [==============================] - 1s 28us/step - loss: 0.0565 - accuracy: 0.9805\n",
      "Epoch 102/150\n",
      "42112/42112 [==============================] - 1s 28us/step - loss: 0.0562 - accuracy: 0.9807\n",
      "Epoch 103/150\n",
      "42112/42112 [==============================] - 1s 28us/step - loss: 0.0540 - accuracy: 0.9818\n",
      "Epoch 104/150\n",
      "42112/42112 [==============================] - 1s 28us/step - loss: 0.0539 - accuracy: 0.9819\n",
      "Epoch 105/150\n",
      "42112/42112 [==============================] - 1s 28us/step - loss: 0.0535 - accuracy: 0.9821\n",
      "Epoch 106/150\n",
      "42112/42112 [==============================] - 1s 28us/step - loss: 0.0540 - accuracy: 0.9817\n",
      "Epoch 107/150\n",
      "42112/42112 [==============================] - 1s 29us/step - loss: 0.0531 - accuracy: 0.9817\n",
      "Epoch 108/150\n",
      "42112/42112 [==============================] - 1s 29us/step - loss: 0.0555 - accuracy: 0.9805\n",
      "Epoch 109/150\n",
      "42112/42112 [==============================] - 1s 28us/step - loss: 0.0535 - accuracy: 0.9822\n",
      "Epoch 110/150\n",
      "42112/42112 [==============================] - 1s 29us/step - loss: 0.0496 - accuracy: 0.9837\n",
      "Epoch 111/150\n",
      "42112/42112 [==============================] - 1s 28us/step - loss: 0.0529 - accuracy: 0.9824\n",
      "Epoch 112/150\n",
      "42112/42112 [==============================] - 1s 28us/step - loss: 0.0523 - accuracy: 0.9823\n",
      "Epoch 113/150\n",
      "42112/42112 [==============================] - 1s 29us/step - loss: 0.0500 - accuracy: 0.9837 0s - loss: 0.0503 - accuracy: 0.\n",
      "Epoch 114/150\n",
      "42112/42112 [==============================] - 1s 28us/step - loss: 0.0512 - accuracy: 0.9834\n",
      "Epoch 115/150\n",
      "42112/42112 [==============================] - 1s 28us/step - loss: 0.0491 - accuracy: 0.9834\n",
      "Epoch 116/150\n",
      "42112/42112 [==============================] - 1s 29us/step - loss: 0.0505 - accuracy: 0.9829\n",
      "Epoch 117/150\n",
      "42112/42112 [==============================] - 1s 28us/step - loss: 0.0533 - accuracy: 0.9825\n",
      "Epoch 118/150\n",
      "42112/42112 [==============================] - 1s 28us/step - loss: 0.0493 - accuracy: 0.9841 0s - loss: 0.0495 - accuracy: 0.98\n",
      "Epoch 119/150\n",
      "42112/42112 [==============================] - 1s 28us/step - loss: 0.0475 - accuracy: 0.9841\n",
      "Epoch 120/150\n",
      "42112/42112 [==============================] - 1s 28us/step - loss: 0.0504 - accuracy: 0.9835\n",
      "Epoch 121/150\n",
      "42112/42112 [==============================] - 1s 29us/step - loss: 0.0470 - accuracy: 0.9848\n",
      "Epoch 122/150\n",
      "42112/42112 [==============================] - 1s 28us/step - loss: 0.0487 - accuracy: 0.9843\n",
      "Epoch 123/150\n",
      "42112/42112 [==============================] - 1s 28us/step - loss: 0.0492 - accuracy: 0.9841\n",
      "Epoch 124/150\n",
      "42112/42112 [==============================] - 1s 28us/step - loss: 0.0468 - accuracy: 0.9852 0s - loss: 0.0479 - accuracy\n",
      "Epoch 125/150\n",
      "42112/42112 [==============================] - 1s 28us/step - loss: 0.0484 - accuracy: 0.9849\n",
      "Epoch 126/150\n",
      "42112/42112 [==============================] - 1s 29us/step - loss: 0.0458 - accuracy: 0.9859\n",
      "Epoch 127/150\n",
      "42112/42112 [==============================] - 1s 29us/step - loss: 0.0451 - accuracy: 0.9860\n",
      "Epoch 128/150\n",
      "42112/42112 [==============================] - 1s 29us/step - loss: 0.0459 - accuracy: 0.9857\n",
      "Epoch 129/150\n",
      "42112/42112 [==============================] - 1s 27us/step - loss: 0.0459 - accuracy: 0.9854\n",
      "Epoch 130/150\n",
      "42112/42112 [==============================] - 1s 28us/step - loss: 0.0443 - accuracy: 0.9866\n",
      "Epoch 131/150\n",
      "42112/42112 [==============================] - 1s 28us/step - loss: 0.0448 - accuracy: 0.9861\n",
      "Epoch 132/150\n",
      "42112/42112 [==============================] - 1s 28us/step - loss: 0.0434 - accuracy: 0.9868\n",
      "Epoch 133/150\n",
      "42112/42112 [==============================] - 1s 29us/step - loss: 0.0445 - accuracy: 0.9858\n",
      "Epoch 134/150\n",
      "42112/42112 [==============================] - 1s 28us/step - loss: 0.0449 - accuracy: 0.9862\n",
      "Epoch 135/150\n",
      "42112/42112 [==============================] - 1s 29us/step - loss: 0.0429 - accuracy: 0.9865\n",
      "Epoch 136/150\n",
      "42112/42112 [==============================] - 1s 28us/step - loss: 0.0453 - accuracy: 0.9863\n",
      "Epoch 137/150\n",
      "42112/42112 [==============================] - 1s 28us/step - loss: 0.0440 - accuracy: 0.9858\n",
      "Epoch 138/150\n",
      "42112/42112 [==============================] - 1s 29us/step - loss: 0.0433 - accuracy: 0.9867 0s -\n",
      "Epoch 139/150\n",
      "42112/42112 [==============================] - 1s 29us/step - loss: 0.0460 - accuracy: 0.9855\n",
      "Epoch 140/150\n",
      "42112/42112 [==============================] - 1s 29us/step - loss: 0.0448 - accuracy: 0.9863\n",
      "Epoch 141/150\n",
      "42112/42112 [==============================] - 1s 29us/step - loss: 0.0436 - accuracy: 0.9867\n",
      "Epoch 142/150\n",
      "42112/42112 [==============================] - 1s 28us/step - loss: 0.0405 - accuracy: 0.9876\n",
      "Epoch 143/150\n",
      "42112/42112 [==============================] - 1s 28us/step - loss: 0.0426 - accuracy: 0.9870\n",
      "Epoch 144/150\n",
      "42112/42112 [==============================] - ETA: 0s - loss: 0.0397 - accuracy: 0.98 - 1s 28us/step - loss: 0.0403 - accuracy: 0.9884\n",
      "Epoch 145/150\n",
      "42112/42112 [==============================] - 1s 28us/step - loss: 0.0445 - accuracy: 0.9869\n",
      "Epoch 146/150\n",
      "42112/42112 [==============================] - 1s 29us/step - loss: 0.0407 - accuracy: 0.9874\n",
      "Epoch 147/150\n",
      "42112/42112 [==============================] - 1s 28us/step - loss: 0.0427 - accuracy: 0.9869\n",
      "Epoch 148/150\n"
     ]
    },
    {
     "name": "stdout",
     "output_type": "stream",
     "text": [
      "42112/42112 [==============================] - 1s 29us/step - loss: 0.0415 - accuracy: 0.9866\n",
      "Epoch 149/150\n",
      "42112/42112 [==============================] - 1s 28us/step - loss: 0.0414 - accuracy: 0.9874\n",
      "Epoch 150/150\n",
      "42112/42112 [==============================] - 1s 28us/step - loss: 0.0417 - accuracy: 0.9879\n"
     ]
    },
    {
     "data": {
      "text/plain": [
       "Pipeline(memory=None,\n",
       "         steps=[('standardize',\n",
       "                 StandardScaler(copy=True, with_mean=True, with_std=True)),\n",
       "                ('mlp',\n",
       "                 <keras.wrappers.scikit_learn.KerasClassifier object at 0x000001C41E11D648>)],\n",
       "         verbose=False)"
      ]
     },
     "execution_count": 43,
     "metadata": {},
     "output_type": "execute_result"
    }
   ],
   "source": [
    "mypipeline.fit(X_train,y_train)"
   ]
  },
  {
   "cell_type": "code",
   "execution_count": 67,
   "metadata": {},
   "outputs": [
    {
     "name": "stdout",
     "output_type": "stream",
     "text": [
      "Accuracy: 99.26%\n"
     ]
    }
   ],
   "source": [
    "from sklearn.metrics import accuracy_score\n",
    "# make predictions for test data and evaluate\n",
    "y_pred = mypipeline.predict(X_test)\n",
    "predictions = [value for value in y_pred]\n",
    "accuracy = accuracy_score(y_test, predictions)\n",
    "print(\"Accuracy: %.2f%%\" % (accuracy * 100.0))"
   ]
  },
  {
   "cell_type": "code",
   "execution_count": 63,
   "metadata": {},
   "outputs": [
    {
     "data": {
      "text/html": [
       "<div>\n",
       "<style scoped>\n",
       "    .dataframe tbody tr th:only-of-type {\n",
       "        vertical-align: middle;\n",
       "    }\n",
       "\n",
       "    .dataframe tbody tr th {\n",
       "        vertical-align: top;\n",
       "    }\n",
       "\n",
       "    .dataframe thead th {\n",
       "        text-align: right;\n",
       "    }\n",
       "</style>\n",
       "<table border=\"1\" class=\"dataframe\">\n",
       "  <thead>\n",
       "    <tr style=\"text-align: right;\">\n",
       "      <th></th>\n",
       "      <th>y_Actual</th>\n",
       "      <th>y_Predicted</th>\n",
       "    </tr>\n",
       "  </thead>\n",
       "  <tbody>\n",
       "    <tr>\n",
       "      <th>17068</th>\n",
       "      <td>1</td>\n",
       "      <td>1</td>\n",
       "    </tr>\n",
       "    <tr>\n",
       "      <th>17069</th>\n",
       "      <td>0</td>\n",
       "      <td>0</td>\n",
       "    </tr>\n",
       "    <tr>\n",
       "      <th>17070</th>\n",
       "      <td>0</td>\n",
       "      <td>0</td>\n",
       "    </tr>\n",
       "    <tr>\n",
       "      <th>17071</th>\n",
       "      <td>0</td>\n",
       "      <td>0</td>\n",
       "    </tr>\n",
       "    <tr>\n",
       "      <th>17072</th>\n",
       "      <td>0</td>\n",
       "      <td>0</td>\n",
       "    </tr>\n",
       "  </tbody>\n",
       "</table>\n",
       "</div>"
      ],
      "text/plain": [
       "       y_Actual  y_Predicted\n",
       "17068         1            1\n",
       "17069         0            0\n",
       "17070         0            0\n",
       "17071         0            0\n",
       "17072         0            0"
      ]
     },
     "execution_count": 63,
     "metadata": {},
     "output_type": "execute_result"
    }
   ],
   "source": [
    "df_predictResult=pandas.DataFrame({'y_Actual':y_test,'y_Predicted':y_pred.ravel()})\n",
    "df_predictResult.tail()"
   ]
  },
  {
   "cell_type": "code",
   "execution_count": 64,
   "metadata": {},
   "outputs": [
    {
     "data": {
      "text/html": [
       "<div>\n",
       "<style scoped>\n",
       "    .dataframe tbody tr th:only-of-type {\n",
       "        vertical-align: middle;\n",
       "    }\n",
       "\n",
       "    .dataframe tbody tr th {\n",
       "        vertical-align: top;\n",
       "    }\n",
       "\n",
       "    .dataframe thead th {\n",
       "        text-align: right;\n",
       "    }\n",
       "</style>\n",
       "<table border=\"1\" class=\"dataframe\">\n",
       "  <thead>\n",
       "    <tr style=\"text-align: right;\">\n",
       "      <th></th>\n",
       "      <th>Acutal_SideWay</th>\n",
       "      <th>Actual_long</th>\n",
       "    </tr>\n",
       "  </thead>\n",
       "  <tbody>\n",
       "    <tr>\n",
       "      <th>Pred_SideWay</th>\n",
       "      <td>10531</td>\n",
       "      <td>31</td>\n",
       "    </tr>\n",
       "    <tr>\n",
       "      <th>Pred_long</th>\n",
       "      <td>96</td>\n",
       "      <td>6415</td>\n",
       "    </tr>\n",
       "  </tbody>\n",
       "</table>\n",
       "</div>"
      ],
      "text/plain": [
       "              Acutal_SideWay  Actual_long\n",
       "Pred_SideWay           10531           31\n",
       "Pred_long                 96         6415"
      ]
     },
     "execution_count": 64,
     "metadata": {},
     "output_type": "execute_result"
    }
   ],
   "source": [
    "from sklearn import metrics\n",
    "pandas.DataFrame(metrics.confusion_matrix(y_test, predictions),columns=['Acutal_SideWay',f'Actual_{strategyName}'],index=['Pred_SideWay',f'Pred_{strategyName}'])"
   ]
  },
  {
   "cell_type": "code",
   "execution_count": 65,
   "metadata": {},
   "outputs": [
    {
     "name": "stdout",
     "output_type": "stream",
     "text": [
      "              precision    recall  f1-score   support\n",
      "\n",
      "           0       0.99      1.00      0.99     10562\n",
      "           1       1.00      0.99      0.99      6511\n",
      "\n",
      "    accuracy                           0.99     17073\n",
      "   macro avg       0.99      0.99      0.99     17073\n",
      "weighted avg       0.99      0.99      0.99     17073\n",
      "\n"
     ]
    }
   ],
   "source": [
    "from sklearn.metrics import classification_report\n",
    "print(classification_report(y_test,y_pred))"
   ]
  },
  {
   "cell_type": "code",
   "execution_count": 66,
   "metadata": {},
   "outputs": [
    {
     "data": {
      "text/plain": [
       "array([[10531,    31],\n",
       "       [   96,  6415]], dtype=int64)"
      ]
     },
     "execution_count": 66,
     "metadata": {},
     "output_type": "execute_result"
    }
   ],
   "source": [
    "from sklearn.metrics import confusion_matrix\n",
    "confusion_matrix(y_test, y_pred)"
   ]
  },
  {
   "cell_type": "code",
   "execution_count": null,
   "metadata": {},
   "outputs": [],
   "source": []
  },
  {
   "cell_type": "code",
   "execution_count": null,
   "metadata": {},
   "outputs": [],
   "source": []
  }
 ],
 "metadata": {
  "kernelspec": {
   "display_name": "Python 3",
   "language": "python",
   "name": "python3"
  },
  "language_info": {
   "codemirror_mode": {
    "name": "ipython",
    "version": 3
   },
   "file_extension": ".py",
   "mimetype": "text/x-python",
   "name": "python",
   "nbconvert_exporter": "python",
   "pygments_lexer": "ipython3",
   "version": "3.7.6"
  }
 },
 "nbformat": 4,
 "nbformat_minor": 2
}
