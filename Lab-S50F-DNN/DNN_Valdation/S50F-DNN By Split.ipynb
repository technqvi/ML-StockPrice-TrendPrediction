{
 "cells": [
  {
   "cell_type": "markdown",
   "metadata": {},
   "source": [
    "# S50F-DNN By Split with Manual Scale\n",
    "\n",
    "\n",
    "Baseline Neural Network Model Performance"
   ]
  },
  {
   "cell_type": "code",
   "execution_count": 278,
   "metadata": {},
   "outputs": [],
   "source": [
    " # Binary Classification with Sonar Dataset: Baseline\n",
    "import numpy\n",
    "import pandas\n",
    "\n",
    "\n",
    "from keras.models import Sequential\n",
    "from keras.layers import Dense\n",
    "\n",
    "\n",
    "\n",
    "\n",
    "from keras.layers import Dropout\n",
    "from keras.regularizers import l2\n",
    "from keras.optimizers import Adam\n",
    "from keras.optimizers import SGD\n",
    "from keras.optimizers import Adadelta\n",
    "from keras.constraints import maxnorm\n",
    "\n",
    "from sklearn.preprocessing import LabelEncoder\n",
    "from sklearn.preprocessing import StandardScaler\n",
    "from sklearn.preprocessing import MinMaxScaler\n",
    "from sklearn.pipeline import Pipeline\n",
    "from sklearn.model_selection import train_test_split\n",
    "\n",
    "import joblib\n",
    "\n",
    "import os\n",
    "from datetime import datetime"
   ]
  },
  {
   "cell_type": "code",
   "execution_count": 279,
   "metadata": {},
   "outputs": [],
   "source": [
    "xseed=7\n"
   ]
  },
  {
   "cell_type": "code",
   "execution_count": 280,
   "metadata": {},
   "outputs": [],
   "source": [
    "st='2007'\n",
    "ed='2018'\n",
    "\n"
   ]
  },
  {
   "cell_type": "code",
   "execution_count": 281,
   "metadata": {},
   "outputs": [
    {
     "name": "stdout",
     "output_type": "stream",
     "text": [
      "D:\\Dev-Trong\\DataSet\\ML-Long_S50M15_07To1Q20-Train.csv\n"
     ]
    }
   ],
   "source": [
    "strategyName='long'\n",
    "filename='ML-Long_S50M15_07To1Q20-Train.csv'\n",
    "filepath=os.path.abspath(f'D:\\Dev-Trong\\DataSet\\/{filename}')\n",
    "print(filepath)\n"
   ]
  },
  {
   "cell_type": "markdown",
   "metadata": {},
   "source": [
    "# Train Data by WFA"
   ]
  },
  {
   "cell_type": "code",
   "execution_count": 282,
   "metadata": {},
   "outputs": [
    {
     "name": "stdout",
     "output_type": "stream",
     "text": [
      "<class 'pandas.core.frame.DataFrame'>\n",
      "DatetimeIndex: 69679 entries, 2007-01-03 09:45:00 to 2020-03-31 16:45:00\n",
      "Data columns (total 18 columns):\n",
      " #   Column                  Non-Null Count  Dtype  \n",
      "---  ------                  --------------  -----  \n",
      " 0   indy_ma-550             69679 non-null  float64\n",
      " 1   indy_ma-1100            69679 non-null  float64\n",
      " 2   indy_hh-550             69679 non-null  float64\n",
      " 3   indy_ll-550             69679 non-null  float64\n",
      " 4   indy_mid-550            69679 non-null  float64\n",
      " 5   indy_hh2-1100           69679 non-null  float64\n",
      " 6   indy_ll2-1100           69679 non-null  float64\n",
      " 7   indy_mid2-1100          69679 non-null  float64\n",
      " 8   indy_macd110-440        69679 non-null  float64\n",
      " 9   indy_signal110-440-110  69679 non-null  float64\n",
      " 10  indy_hist_macd110-440   69679 non-null  float64\n",
      " 11  indy_rsi25-ma20         69679 non-null  float64\n",
      " 12  indy_6ATRTrail_DC-110   69679 non-null  float64\n",
      " 13  cate_3trend-550_ma110   69679 non-null  int64  \n",
      " 14  cate_2trend-1100_ma220  69679 non-null  int64  \n",
      " 15  cate_rannkHL1100-ma66   69679 non-null  int64  \n",
      " 16  cate_CombineTrend       69679 non-null  int64  \n",
      " 17  LongSignal              69679 non-null  int64  \n",
      "dtypes: float64(13), int64(5)\n",
      "memory usage: 10.1 MB\n",
      "None\n"
     ]
    },
    {
     "data": {
      "text/plain": [
       "(69679, 18)"
      ]
     },
     "execution_count": 282,
     "metadata": {},
     "output_type": "execute_result"
    }
   ],
   "source": [
    "# load dataset\n",
    "\n",
    "dataframe = pandas.read_csv(filepath,index_col=\"datetime\", parse_dates=['datetime'],dayfirst=True)\n",
    "dataframe.drop(['open','high','low','close'],axis=1,inplace=True)\n",
    "print(dataframe.info())\n",
    "dataframe.shape"
   ]
  },
  {
   "cell_type": "code",
   "execution_count": 283,
   "metadata": {},
   "outputs": [
    {
     "name": "stdout",
     "output_type": "stream",
     "text": [
      "<class 'pandas.core.frame.DataFrame'>\n",
      "DatetimeIndex: 62855 entries, 2007-01-03 09:45:00 to 2018-12-28 16:45:00\n",
      "Data columns (total 18 columns):\n",
      " #   Column                  Non-Null Count  Dtype  \n",
      "---  ------                  --------------  -----  \n",
      " 0   indy_ma-550             62855 non-null  float64\n",
      " 1   indy_ma-1100            62855 non-null  float64\n",
      " 2   indy_hh-550             62855 non-null  float64\n",
      " 3   indy_ll-550             62855 non-null  float64\n",
      " 4   indy_mid-550            62855 non-null  float64\n",
      " 5   indy_hh2-1100           62855 non-null  float64\n",
      " 6   indy_ll2-1100           62855 non-null  float64\n",
      " 7   indy_mid2-1100          62855 non-null  float64\n",
      " 8   indy_macd110-440        62855 non-null  float64\n",
      " 9   indy_signal110-440-110  62855 non-null  float64\n",
      " 10  indy_hist_macd110-440   62855 non-null  float64\n",
      " 11  indy_rsi25-ma20         62855 non-null  float64\n",
      " 12  indy_6ATRTrail_DC-110   62855 non-null  float64\n",
      " 13  cate_3trend-550_ma110   62855 non-null  int64  \n",
      " 14  cate_2trend-1100_ma220  62855 non-null  int64  \n",
      " 15  cate_rannkHL1100-ma66   62855 non-null  int64  \n",
      " 16  cate_CombineTrend       62855 non-null  int64  \n",
      " 17  LongSignal              62855 non-null  int64  \n",
      "dtypes: float64(13), int64(5)\n",
      "memory usage: 9.1 MB\n"
     ]
    }
   ],
   "source": [
    "df=dataframe[st:ed]\n",
    "df.info()"
   ]
  },
  {
   "cell_type": "code",
   "execution_count": 284,
   "metadata": {},
   "outputs": [
    {
     "data": {
      "text/plain": [
       "'LongSignal'"
      ]
     },
     "execution_count": 284,
     "metadata": {},
     "output_type": "execute_result"
    }
   ],
   "source": [
    "labelName=dataframe.columns[-1]\n",
    "labelName"
   ]
  },
  {
   "cell_type": "code",
   "execution_count": 285,
   "metadata": {},
   "outputs": [
    {
     "name": "stdout",
     "output_type": "stream",
     "text": [
      "(62855, 17)\n",
      "(62855,)\n"
     ]
    }
   ],
   "source": [
    "X_df = df.drop(columns=labelName).astype(float)\n",
    "Y_df = df[labelName]\n",
    "print(X_df.shape)\n",
    "print(Y_df.shape)"
   ]
  },
  {
   "cell_type": "code",
   "execution_count": 286,
   "metadata": {},
   "outputs": [
    {
     "name": "stdout",
     "output_type": "stream",
     "text": [
      "(62855, 17)\n",
      "(62855,)\n",
      "X: [[503.7  508.75 527.   415.   471.   528.2  415.   471.6  -22.5  -27.2\n",
      "    4.7   39.11 473.92   1.     0.     3.     2.  ]\n",
      " [503.62 508.72 527.   415.   471.   528.2  415.   471.6  -22.5  -27.19\n",
      "    4.68  39.05 473.64   1.     0.     3.     2.  ]\n",
      " [503.52 508.68 527.   415.   471.   528.2  415.   471.6  -22.53 -27.17\n",
      "    4.64  38.91 473.48   1.     0.     3.     2.  ]]\n",
      "y: [0 0 0 0 0 0 0 0 0 0]\n"
     ]
    }
   ],
   "source": [
    "# split into input (X) and output (Y) variables\n",
    "X = X_df.to_numpy()\n",
    "y =Y_df.to_numpy()\n",
    "print(X.shape)\n",
    "print(y.shape)\n",
    "print(\"X:\",X[:3])\n",
    "print(\"y:\" , y[:10])"
   ]
  },
  {
   "cell_type": "code",
   "execution_count": 287,
   "metadata": {},
   "outputs": [
    {
     "name": "stdout",
     "output_type": "stream",
     "text": [
      "X-Train  (43998, 17)\n",
      "X-Test  (18857, 17)\n"
     ]
    }
   ],
   "source": [
    "\n",
    "X_train,X_test,y_train,y_test=train_test_split(X,y,test_size=0.3,random_state=xseed)\n",
    "print(\"X-Train \",X_train.shape)\n",
    "print(\"X-Test \",X_test.shape)"
   ]
  },
  {
   "cell_type": "code",
   "execution_count": 288,
   "metadata": {},
   "outputs": [
    {
     "name": "stdout",
     "output_type": "stream",
     "text": [
      "[[ 5.8978e+02  5.9108e+02  6.1490e+02  5.7300e+02  5.9395e+02  6.1910e+02\n",
      "   5.6210e+02  5.9060e+02  1.3660e+01  7.5900e+00  6.0700e+00  5.8400e+01\n",
      "   6.0666e+02  3.0000e+00  1.0000e+00  2.0000e+00  4.0000e+00]\n",
      " [ 9.4192e+02  9.6275e+02  9.8800e+02  9.0040e+02  9.4420e+02  1.0193e+03\n",
      "   9.0040e+02  9.5985e+02 -1.6990e+01 -1.1830e+01 -5.1600e+00  4.4680e+01\n",
      "   9.2041e+02  1.0000e+00  0.0000e+00  3.0000e+00  2.0000e+00]\n",
      " [ 9.2961e+02  9.3551e+02  9.5000e+02  9.0570e+02  9.2785e+02  9.6800e+02\n",
      "   8.3000e+02  8.9900e+02  2.7200e+00 -6.2000e+00  8.9200e+00  6.0360e+01\n",
      "   9.2892e+02  1.0000e+00  0.0000e+00  4.0000e+00  4.0000e+00]]\n"
     ]
    }
   ],
   "source": [
    "print(X_train[:3])"
   ]
  },
  {
   "cell_type": "code",
   "execution_count": 289,
   "metadata": {},
   "outputs": [
    {
     "name": "stdout",
     "output_type": "stream",
     "text": [
      "[[ 5.65020e+02  5.79530e+02  5.96000e+02  5.04000e+02  5.50000e+02\n",
      "   6.48700e+02  5.04000e+02  5.76350e+02  2.09700e+01  1.56700e+01\n",
      "   5.30000e+00  3.51900e+01  5.79930e+02  1.00000e+00  1.00000e+00\n",
      "   4.00000e+00  3.00000e+00]\n",
      " [ 9.88200e+02  1.00113e+03  1.01450e+03  9.60500e+02  9.87500e+02\n",
      "   1.04550e+03  9.60500e+02  1.00300e+03  1.05000e+00 -6.80000e-01\n",
      "   1.74000e+00  5.11200e+01  9.84220e+02  1.00000e+00  0.00000e+00\n",
      "   3.00000e+00  4.00000e+00]\n",
      " [ 4.76920e+02  4.56420e+02  5.15800e+02  4.40600e+02  4.78200e+02\n",
      "   5.15800e+02  3.87200e+02  4.51500e+02  2.44000e+01  2.85900e+01\n",
      "  -4.19000e+00  5.01700e+01  5.04920e+02  3.00000e+00  1.00000e+00\n",
      "   3.00000e+00  4.00000e+00]]\n"
     ]
    }
   ],
   "source": [
    "print(X_test[:3])"
   ]
  },
  {
   "cell_type": "markdown",
   "metadata": {},
   "source": [
    "# scaler=StandardScaler()"
   ]
  },
  {
   "cell_type": "code",
   "execution_count": 290,
   "metadata": {},
   "outputs": [
    {
     "name": "stdout",
     "output_type": "stream",
     "text": [
      "[ 7.97684065e+02  7.95180249e+02  8.32378981e+02  7.56854445e+02\n",
      "  7.94616715e+02  8.45078231e+02  7.36239819e+02  7.90659028e+02\n",
      "  1.45378244e+00  1.49388722e+00 -4.00900041e-02  5.11253552e+01\n",
      "  8.00975276e+02  2.09977726e+00  5.67730351e-01  3.05500250e+00\n",
      "  3.21030501e+00]\n",
      "[5.61594029e+04 5.57365348e+04 5.55667446e+04 5.57720915e+04\n",
      " 5.53860804e+04 5.42784579e+04 5.54866033e+04 5.44267102e+04\n",
      " 3.40621733e+02 3.15403362e+02 6.33973094e+01 8.98520189e+01\n",
      " 5.59216042e+04 8.81494109e-01 2.45412600e-01 5.23407745e-01\n",
      " 6.54553564e-01]\n"
     ]
    }
   ],
   "source": [
    "#scale=MinMaxScaler()\n",
    "\n",
    "scaler= StandardScaler().fit(X_train)\n",
    "print(scaler.mean_)\n",
    "print(scaler.var_)"
   ]
  },
  {
   "cell_type": "code",
   "execution_count": 291,
   "metadata": {},
   "outputs": [
    {
     "name": "stdout",
     "output_type": "stream",
     "text": [
      "(43998, 17)\n",
      "[[-0.87730729 -0.86451703 -0.92259227 -0.77851264 -0.8526583  -0.96995783\n",
      "  -0.73927159 -0.85753551  0.66137067  0.34325734  0.76738304  0.76744608\n",
      "  -0.82170728  0.95882703  0.87258213 -1.45825481  0.97608308]]\n"
     ]
    }
   ],
   "source": [
    "Xtrain_scale=scaler.transform(X_train)\n",
    "print(Xtrain_scale.shape)\n",
    "\n",
    "print(Xtrain_scale[:1])\n"
   ]
  },
  {
   "cell_type": "code",
   "execution_count": 292,
   "metadata": {},
   "outputs": [
    {
     "name": "stdout",
     "output_type": "stream",
     "text": [
      "(18857, 17)\n",
      "[[-0.98178879 -0.91343991 -1.00277011 -1.07068601 -1.03940742 -0.84290687\n",
      "  -0.98592213 -0.91861689  1.0574491   0.79822256  0.67067661 -1.68111657\n",
      "  -0.93474129 -1.17137251  0.87258213  1.30620273 -0.25994234]]\n"
     ]
    }
   ],
   "source": [
    "Xtest_scale=scaler.transform(X_test)\n",
    "print(Xtest_scale.shape)\n",
    "\n",
    "print(Xtest_scale[:1])"
   ]
  },
  {
   "cell_type": "code",
   "execution_count": 293,
   "metadata": {},
   "outputs": [],
   "source": [
    "h1=17\n",
    "h2=34\n",
    "h3=17\n",
    "\n",
    "xpoch=150\n",
    "xbatch=32\n",
    "#xpoch=10"
   ]
  },
  {
   "cell_type": "markdown",
   "metadata": {},
   "source": [
    "# Model Defination"
   ]
  },
  {
   "cell_type": "code",
   "execution_count": 294,
   "metadata": {},
   "outputs": [
    {
     "name": "stderr",
     "output_type": "stream",
     "text": [
      "D:\\ProgramData\\Anaconda3\\lib\\site-packages\\ipykernel_launcher.py:3: UserWarning: Update your `Dense` call to the Keras 2 API: `Dense(17, input_dim=17, kernel_initializer=\"normal\", activation=\"relu\", kernel_regularizer=<keras.reg...)`\n",
      "  This is separate from the ipykernel package so we can avoid doing imports until\n",
      "D:\\ProgramData\\Anaconda3\\lib\\site-packages\\ipykernel_launcher.py:4: UserWarning: Update your `Dense` call to the Keras 2 API: `Dense(34, kernel_initializer=\"normal\", activation=\"relu\", kernel_regularizer=<keras.reg...)`\n",
      "  after removing the cwd from sys.path.\n",
      "D:\\ProgramData\\Anaconda3\\lib\\site-packages\\ipykernel_launcher.py:5: UserWarning: Update your `Dense` call to the Keras 2 API: `Dense(17, kernel_initializer=\"normal\", activation=\"relu\", kernel_regularizer=<keras.reg...)`\n",
      "  \"\"\"\n",
      "D:\\ProgramData\\Anaconda3\\lib\\site-packages\\ipykernel_launcher.py:7: UserWarning: Update your `Dense` call to the Keras 2 API: `Dense(1, kernel_initializer=\"normal\", activation=\"sigmoid\", kernel_regularizer=<keras.reg...)`\n",
      "  import sys\n"
     ]
    }
   ],
   "source": [
    "\n",
    "\n",
    "model = Sequential()  \n",
    "  \n",
    "model.add(Dense(h1, input_dim=X.shape[1], kernel_initializer='normal', W_regularizer=l2(0.00001),activation='relu' ))\n",
    "model.add(Dense(h2, kernel_initializer='normal', W_regularizer=l2(0.00001),activation='relu'))\n",
    "model.add(Dense(h3, kernel_initializer=\"normal\",W_regularizer=l2(0.00001), activation=\"relu\"))\n",
    "  \n",
    "model.add(Dense(1, kernel_initializer='normal',W_regularizer=l2(0.00001), activation='sigmoid'))\n",
    "  \n",
    "    # Compile model\n",
    "model.compile(loss='binary_crossentropy', optimizer='adam', metrics=['accuracy'])\n",
    "\n"
   ]
  },
  {
   "cell_type": "code",
   "execution_count": 295,
   "metadata": {},
   "outputs": [
    {
     "name": "stdout",
     "output_type": "stream",
     "text": [
      "Epoch 1/150\n",
      "43998/43998 [==============================] - 2s 40us/step - loss: 0.3331 - accuracy: 0.8524\n",
      "Epoch 2/150\n",
      "43998/43998 [==============================] - 1s 34us/step - loss: 0.2791 - accuracy: 0.8807 0s - loss: 0.2794 - accuracy: \n",
      "Epoch 3/150\n",
      "43998/43998 [==============================] - 2s 35us/step - loss: 0.2567 - accuracy: 0.8914\n",
      "Epoch 4/150\n",
      "43998/43998 [==============================] - 2s 37us/step - loss: 0.2404 - accuracy: 0.8994\n",
      "Epoch 5/150\n",
      "43998/43998 [==============================] - 2s 39us/step - loss: 0.2265 - accuracy: 0.9065\n",
      "Epoch 6/150\n",
      "43998/43998 [==============================] - 2s 40us/step - loss: 0.2143 - accuracy: 0.9125\n",
      "Epoch 7/150\n",
      "43998/43998 [==============================] - 1s 34us/step - loss: 0.2042 - accuracy: 0.9178 0s - loss: 0.2044 - accuracy: 0.91\n",
      "Epoch 8/150\n",
      "43998/43998 [==============================] - 1s 33us/step - loss: 0.1967 - accuracy: 0.9223\n",
      "Epoch 9/150\n",
      "43998/43998 [==============================] - 2s 35us/step - loss: 0.1885 - accuracy: 0.9264\n",
      "Epoch 10/150\n",
      "43998/43998 [==============================] - 1s 33us/step - loss: 0.1842 - accuracy: 0.9291\n",
      "Epoch 11/150\n",
      "43998/43998 [==============================] - 1s 34us/step - loss: 0.1785 - accuracy: 0.9316 0s - loss: 0.1791 \n",
      "Epoch 12/150\n",
      "43998/43998 [==============================] - 2s 34us/step - loss: 0.1710 - accuracy: 0.9341\n",
      "Epoch 13/150\n",
      "43998/43998 [==============================] - 2s 36us/step - loss: 0.1600 - accuracy: 0.9382\n",
      "Epoch 14/150\n",
      "43998/43998 [==============================] - ETA: 0s - loss: 0.1496 - accuracy: 0.94 - ETA: 0s - loss: 0.1489 - accuracy: 0.94 - 1s 33us/step - loss: 0.1488 - accuracy: 0.9428\n",
      "Epoch 15/150\n",
      "43998/43998 [==============================] - 1s 34us/step - loss: 0.1433 - accuracy: 0.9434 1s - ETA: 0s - loss: 0.1433 - accuracy\n",
      "Epoch 16/150\n",
      "43998/43998 [==============================] - 1s 34us/step - loss: 0.1358 - accuracy: 0.9460\n",
      "Epoch 17/150\n",
      "43998/43998 [==============================] - 2s 37us/step - loss: 0.1320 - accuracy: 0.9485\n",
      "Epoch 18/150\n",
      "43998/43998 [==============================] - 1s 34us/step - loss: 0.1256 - accuracy: 0.9518\n",
      "Epoch 19/150\n",
      "43998/43998 [==============================] - 1s 33us/step - loss: 0.1228 - accuracy: 0.9524\n",
      "Epoch 20/150\n",
      "43998/43998 [==============================] - 1s 33us/step - loss: 0.1183 - accuracy: 0.9551\n",
      "Epoch 21/150\n",
      "43998/43998 [==============================] - 2s 36us/step - loss: 0.1138 - accuracy: 0.9556\n",
      "Epoch 22/150\n",
      "43998/43998 [==============================] - 2s 39us/step - loss: 0.1106 - accuracy: 0.9565\n",
      "Epoch 23/150\n",
      "43998/43998 [==============================] - 2s 39us/step - loss: 0.1088 - accuracy: 0.9584\n",
      "Epoch 24/150\n",
      "43998/43998 [==============================] - ETA: 0s - loss: 0.1068 - accuracy: 0.95 - 2s 38us/step - loss: 0.1067 - accuracy: 0.9588\n",
      "Epoch 25/150\n",
      "43998/43998 [==============================] - 2s 38us/step - loss: 0.1029 - accuracy: 0.9608\n",
      "Epoch 26/150\n",
      "43998/43998 [==============================] - 2s 38us/step - loss: 0.1039 - accuracy: 0.9598\n",
      "Epoch 27/150\n",
      "43998/43998 [==============================] - 2s 37us/step - loss: 0.0996 - accuracy: 0.9616\n",
      "Epoch 28/150\n",
      "43998/43998 [==============================] - 2s 37us/step - loss: 0.0939 - accuracy: 0.9655\n",
      "Epoch 29/150\n",
      "43998/43998 [==============================] - 2s 37us/step - loss: 0.0935 - accuracy: 0.9652\n",
      "Epoch 30/150\n",
      "43998/43998 [==============================] - 2s 38us/step - loss: 0.0918 - accuracy: 0.9655\n",
      "Epoch 31/150\n",
      "43998/43998 [==============================] - 2s 38us/step - loss: 0.0902 - accuracy: 0.9660\n",
      "Epoch 32/150\n",
      "43998/43998 [==============================] - 2s 38us/step - loss: 0.0897 - accuracy: 0.9664\n",
      "Epoch 33/150\n",
      "43998/43998 [==============================] - 2s 38us/step - loss: 0.0871 - accuracy: 0.9686\n",
      "Epoch 34/150\n",
      "43998/43998 [==============================] - 2s 38us/step - loss: 0.0859 - accuracy: 0.9681\n",
      "Epoch 35/150\n",
      "43998/43998 [==============================] - 2s 38us/step - loss: 0.0815 - accuracy: 0.9698\n",
      "Epoch 36/150\n",
      "43998/43998 [==============================] - 2s 41us/step - loss: 0.0817 - accuracy: 0.9697\n",
      "Epoch 37/150\n",
      "43998/43998 [==============================] - 2s 37us/step - loss: 0.0800 - accuracy: 0.9711\n",
      "Epoch 38/150\n",
      "43998/43998 [==============================] - 2s 41us/step - loss: 0.0775 - accuracy: 0.9723\n",
      "Epoch 39/150\n",
      "43998/43998 [==============================] - 2s 37us/step - loss: 0.0802 - accuracy: 0.9709\n",
      "Epoch 40/150\n",
      "43998/43998 [==============================] - 2s 37us/step - loss: 0.0751 - accuracy: 0.9732\n",
      "Epoch 41/150\n",
      "43998/43998 [==============================] - 2s 35us/step - loss: 0.0756 - accuracy: 0.9728\n",
      "Epoch 42/150\n",
      "43998/43998 [==============================] - 2s 35us/step - loss: 0.0759 - accuracy: 0.9723\n",
      "Epoch 43/150\n",
      "43998/43998 [==============================] - 2s 35us/step - loss: 0.0740 - accuracy: 0.9735\n",
      "Epoch 44/150\n",
      "43998/43998 [==============================] - 2s 35us/step - loss: 0.0718 - accuracy: 0.9739\n",
      "Epoch 45/150\n",
      "43998/43998 [==============================] - 2s 37us/step - loss: 0.0720 - accuracy: 0.9739\n",
      "Epoch 46/150\n",
      "43998/43998 [==============================] - 2s 37us/step - loss: 0.0694 - accuracy: 0.9745\n",
      "Epoch 47/150\n",
      "43998/43998 [==============================] - 2s 37us/step - loss: 0.0674 - accuracy: 0.9762\n",
      "Epoch 48/150\n",
      "43998/43998 [==============================] - 2s 38us/step - loss: 0.0695 - accuracy: 0.9750\n",
      "Epoch 49/150\n",
      "43998/43998 [==============================] - 2s 37us/step - loss: 0.0672 - accuracy: 0.9763\n",
      "Epoch 50/150\n",
      "43998/43998 [==============================] - 2s 38us/step - loss: 0.0682 - accuracy: 0.9756\n",
      "Epoch 51/150\n",
      "43998/43998 [==============================] - 2s 36us/step - loss: 0.0654 - accuracy: 0.9774\n",
      "Epoch 52/150\n",
      "43998/43998 [==============================] - 2s 38us/step - loss: 0.0658 - accuracy: 0.9758\n",
      "Epoch 53/150\n",
      "43998/43998 [==============================] - 2s 39us/step - loss: 0.0630 - accuracy: 0.9781\n",
      "Epoch 54/150\n",
      "43998/43998 [==============================] - 2s 37us/step - loss: 0.0657 - accuracy: 0.9760\n",
      "Epoch 55/150\n",
      "43998/43998 [==============================] - 2s 40us/step - loss: 0.0623 - accuracy: 0.9776\n",
      "Epoch 56/150\n",
      "43998/43998 [==============================] - 2s 39us/step - loss: 0.0614 - accuracy: 0.9779\n",
      "Epoch 57/150\n",
      "43998/43998 [==============================] - 2s 39us/step - loss: 0.0628 - accuracy: 0.9780\n",
      "Epoch 58/150\n",
      "43998/43998 [==============================] - 2s 39us/step - loss: 0.0614 - accuracy: 0.9781\n",
      "Epoch 59/150\n",
      "43998/43998 [==============================] - 2s 40us/step - loss: 0.0594 - accuracy: 0.9787\n",
      "Epoch 60/150\n",
      "43998/43998 [==============================] - 2s 40us/step - loss: 0.0579 - accuracy: 0.9794\n",
      "Epoch 61/150\n",
      "43998/43998 [==============================] - 2s 44us/step - loss: 0.0592 - accuracy: 0.9790\n",
      "Epoch 62/150\n",
      "43998/43998 [==============================] - 2s 43us/step - loss: 0.0579 - accuracy: 0.9788\n",
      "Epoch 63/150\n",
      "43998/43998 [==============================] - 2s 41us/step - loss: 0.0541 - accuracy: 0.9810\n",
      "Epoch 64/150\n",
      "43998/43998 [==============================] - 2s 43us/step - loss: 0.0558 - accuracy: 0.9805\n",
      "Epoch 65/150\n",
      "43998/43998 [==============================] - 2s 42us/step - loss: 0.0562 - accuracy: 0.9805\n",
      "Epoch 66/150\n",
      "43998/43998 [==============================] - 2s 49us/step - loss: 0.0562 - accuracy: 0.9804\n",
      "Epoch 67/150\n",
      "43998/43998 [==============================] - 2s 52us/step - loss: 0.0567 - accuracy: 0.9801\n",
      "Epoch 68/150\n",
      "43998/43998 [==============================] - 2s 44us/step - loss: 0.0516 - accuracy: 0.9826\n",
      "Epoch 69/150\n",
      "43998/43998 [==============================] - 2s 56us/step - loss: 0.0534 - accuracy: 0.9814\n",
      "Epoch 70/150\n",
      "43998/43998 [==============================] - 2s 43us/step - loss: 0.0561 - accuracy: 0.9808\n",
      "Epoch 71/150\n",
      "43998/43998 [==============================] - 2s 45us/step - loss: 0.0537 - accuracy: 0.9810\n",
      "Epoch 72/150\n",
      "43998/43998 [==============================] - 2s 44us/step - loss: 0.0513 - accuracy: 0.9823\n",
      "Epoch 73/150\n",
      "43998/43998 [==============================] - 2s 42us/step - loss: 0.0513 - accuracy: 0.9824\n",
      "Epoch 74/150\n",
      "43998/43998 [==============================] - 2s 41us/step - loss: 0.0508 - accuracy: 0.9827\n",
      "Epoch 75/150\n"
     ]
    },
    {
     "name": "stdout",
     "output_type": "stream",
     "text": [
      "43998/43998 [==============================] - 2s 44us/step - loss: 0.0490 - accuracy: 0.9831\n",
      "Epoch 76/150\n",
      "43998/43998 [==============================] - 2s 42us/step - loss: 0.0538 - accuracy: 0.9816\n",
      "Epoch 77/150\n",
      "43998/43998 [==============================] - 2s 43us/step - loss: 0.0505 - accuracy: 0.9825\n",
      "Epoch 78/150\n",
      "43998/43998 [==============================] - 2s 46us/step - loss: 0.0488 - accuracy: 0.9829\n",
      "Epoch 79/150\n",
      "43998/43998 [==============================] - 2s 43us/step - loss: 0.0486 - accuracy: 0.9831\n",
      "Epoch 80/150\n",
      "43998/43998 [==============================] - 2s 43us/step - loss: 0.0472 - accuracy: 0.9844\n",
      "Epoch 81/150\n",
      "43998/43998 [==============================] - 2s 44us/step - loss: 0.0497 - accuracy: 0.9826\n",
      "Epoch 82/150\n",
      "43998/43998 [==============================] - 2s 42us/step - loss: 0.0462 - accuracy: 0.9847\n",
      "Epoch 83/150\n",
      "43998/43998 [==============================] - 2s 48us/step - loss: 0.0485 - accuracy: 0.9834\n",
      "Epoch 84/150\n",
      "43998/43998 [==============================] - 2s 41us/step - loss: 0.0433 - accuracy: 0.9852\n",
      "Epoch 85/150\n",
      "43998/43998 [==============================] - 2s 43us/step - loss: 0.0452 - accuracy: 0.9847\n",
      "Epoch 86/150\n",
      "43998/43998 [==============================] - 2s 43us/step - loss: 0.0460 - accuracy: 0.9841\n",
      "Epoch 87/150\n",
      "43998/43998 [==============================] - 2s 43us/step - loss: 0.0457 - accuracy: 0.9846\n",
      "Epoch 88/150\n",
      "43998/43998 [==============================] - 2s 50us/step - loss: 0.0452 - accuracy: 0.9842\n",
      "Epoch 89/150\n",
      "43998/43998 [==============================] - 2s 49us/step - loss: 0.0440 - accuracy: 0.9849\n",
      "Epoch 90/150\n",
      "43998/43998 [==============================] - 2s 41us/step - loss: 0.0442 - accuracy: 0.9856\n",
      "Epoch 91/150\n",
      "43998/43998 [==============================] - 2s 42us/step - loss: 0.0443 - accuracy: 0.9840\n",
      "Epoch 92/150\n",
      "43998/43998 [==============================] - 2s 40us/step - loss: 0.0433 - accuracy: 0.9853\n",
      "Epoch 93/150\n",
      "43998/43998 [==============================] - 2s 43us/step - loss: 0.0426 - accuracy: 0.9858\n",
      "Epoch 94/150\n",
      "43998/43998 [==============================] - 2s 43us/step - loss: 0.0424 - accuracy: 0.9861\n",
      "Epoch 95/150\n",
      "43998/43998 [==============================] - 2s 44us/step - loss: 0.0427 - accuracy: 0.9857\n",
      "Epoch 96/150\n",
      "43998/43998 [==============================] - 2s 42us/step - loss: 0.0413 - accuracy: 0.9864\n",
      "Epoch 97/150\n",
      "43998/43998 [==============================] - 2s 41us/step - loss: 0.0428 - accuracy: 0.9861\n",
      "Epoch 98/150\n",
      "43998/43998 [==============================] - 2s 42us/step - loss: 0.0406 - accuracy: 0.9863\n",
      "Epoch 99/150\n",
      "43998/43998 [==============================] - 2s 42us/step - loss: 0.0420 - accuracy: 0.9862\n",
      "Epoch 100/150\n",
      "43998/43998 [==============================] - 2s 42us/step - loss: 0.0387 - accuracy: 0.9873\n",
      "Epoch 101/150\n",
      "43998/43998 [==============================] - 2s 42us/step - loss: 0.0426 - accuracy: 0.9860\n",
      "Epoch 102/150\n",
      "43998/43998 [==============================] - 2s 43us/step - loss: 0.0425 - accuracy: 0.9856\n",
      "Epoch 103/150\n",
      "43998/43998 [==============================] - 2s 44us/step - loss: 0.0416 - accuracy: 0.9861\n",
      "Epoch 104/150\n",
      "43998/43998 [==============================] - 2s 44us/step - loss: 0.0402 - accuracy: 0.9868\n",
      "Epoch 105/150\n",
      "43998/43998 [==============================] - 2s 46us/step - loss: 0.0384 - accuracy: 0.9872\n",
      "Epoch 106/150\n",
      "43998/43998 [==============================] - 2s 51us/step - loss: 0.0398 - accuracy: 0.9874\n",
      "Epoch 107/150\n",
      "43998/43998 [==============================] - 2s 48us/step - loss: 0.0424 - accuracy: 0.9855\n",
      "Epoch 108/150\n",
      "43998/43998 [==============================] - 2s 48us/step - loss: 0.0368 - accuracy: 0.9876\n",
      "Epoch 109/150\n",
      "43998/43998 [==============================] - 2s 42us/step - loss: 0.0389 - accuracy: 0.9872\n",
      "Epoch 110/150\n",
      "43998/43998 [==============================] - 2s 42us/step - loss: 0.0395 - accuracy: 0.9869\n",
      "Epoch 111/150\n",
      "43998/43998 [==============================] - 2s 42us/step - loss: 0.0367 - accuracy: 0.9885\n",
      "Epoch 112/150\n",
      "43998/43998 [==============================] - 2s 45us/step - loss: 0.0360 - accuracy: 0.9884\n",
      "Epoch 113/150\n",
      "43998/43998 [==============================] - 2s 46us/step - loss: 0.0380 - accuracy: 0.9873\n",
      "Epoch 114/150\n",
      "43998/43998 [==============================] - 2s 45us/step - loss: 0.0376 - accuracy: 0.9872\n",
      "Epoch 115/150\n",
      "43998/43998 [==============================] - 2s 43us/step - loss: 0.0384 - accuracy: 0.9875\n",
      "Epoch 116/150\n",
      "43998/43998 [==============================] - 2s 45us/step - loss: 0.0371 - accuracy: 0.9886\n",
      "Epoch 117/150\n",
      "43998/43998 [==============================] - 2s 53us/step - loss: 0.0377 - accuracy: 0.9881\n",
      "Epoch 118/150\n",
      "43998/43998 [==============================] - 2s 45us/step - loss: 0.0385 - accuracy: 0.9871\n",
      "Epoch 119/150\n",
      "43998/43998 [==============================] - 2s 48us/step - loss: 0.0379 - accuracy: 0.9880\n",
      "Epoch 120/150\n",
      "43998/43998 [==============================] - 2s 47us/step - loss: 0.0358 - accuracy: 0.9890\n",
      "Epoch 121/150\n",
      "43998/43998 [==============================] - 2s 46us/step - loss: 0.0377 - accuracy: 0.9878\n",
      "Epoch 122/150\n",
      "43998/43998 [==============================] - 2s 44us/step - loss: 0.0361 - accuracy: 0.9884\n",
      "Epoch 123/150\n",
      "43998/43998 [==============================] - 2s 46us/step - loss: 0.0332 - accuracy: 0.9895\n",
      "Epoch 124/150\n",
      "43998/43998 [==============================] - 2s 44us/step - loss: 0.0386 - accuracy: 0.9877\n",
      "Epoch 125/150\n",
      "43998/43998 [==============================] - 2s 44us/step - loss: 0.0361 - accuracy: 0.9882\n",
      "Epoch 126/150\n",
      "43998/43998 [==============================] - 2s 43us/step - loss: 0.0358 - accuracy: 0.9882\n",
      "Epoch 127/150\n",
      "43998/43998 [==============================] - 2s 44us/step - loss: 0.0343 - accuracy: 0.9891\n",
      "Epoch 128/150\n",
      "43998/43998 [==============================] - 2s 44us/step - loss: 0.0371 - accuracy: 0.9880\n",
      "Epoch 129/150\n",
      "43998/43998 [==============================] - 2s 45us/step - loss: 0.0344 - accuracy: 0.9889\n",
      "Epoch 130/150\n",
      "43998/43998 [==============================] - 2s 45us/step - loss: 0.0364 - accuracy: 0.9886\n",
      "Epoch 131/150\n",
      "43998/43998 [==============================] - 2s 44us/step - loss: 0.0352 - accuracy: 0.9881\n",
      "Epoch 132/150\n",
      "43998/43998 [==============================] - 2s 46us/step - loss: 0.0325 - accuracy: 0.9901\n",
      "Epoch 133/150\n",
      "43998/43998 [==============================] - 2s 47us/step - loss: 0.0370 - accuracy: 0.9878\n",
      "Epoch 134/150\n",
      "43998/43998 [==============================] - 2s 44us/step - loss: 0.0355 - accuracy: 0.9887\n",
      "Epoch 135/150\n",
      "43998/43998 [==============================] - 2s 44us/step - loss: 0.0330 - accuracy: 0.9894\n",
      "Epoch 136/150\n",
      "43998/43998 [==============================] - 2s 44us/step - loss: 0.0340 - accuracy: 0.9896\n",
      "Epoch 137/150\n",
      "43998/43998 [==============================] - 2s 45us/step - loss: 0.0348 - accuracy: 0.9889\n",
      "Epoch 138/150\n",
      "43998/43998 [==============================] - 2s 43us/step - loss: 0.0329 - accuracy: 0.9898\n",
      "Epoch 139/150\n",
      "43998/43998 [==============================] - 2s 47us/step - loss: 0.0319 - accuracy: 0.9899\n",
      "Epoch 140/150\n",
      "43998/43998 [==============================] - 2s 47us/step - loss: 0.0333 - accuracy: 0.9895\n",
      "Epoch 141/150\n",
      "43998/43998 [==============================] - 2s 44us/step - loss: 0.0341 - accuracy: 0.9895\n",
      "Epoch 142/150\n",
      "43998/43998 [==============================] - 2s 45us/step - loss: 0.0339 - accuracy: 0.9894\n",
      "Epoch 143/150\n",
      "43998/43998 [==============================] - 2s 48us/step - loss: 0.0331 - accuracy: 0.9895\n",
      "Epoch 144/150\n",
      "43998/43998 [==============================] - 2s 43us/step - loss: 0.0329 - accuracy: 0.9895\n",
      "Epoch 145/150\n",
      "43998/43998 [==============================] - 2s 48us/step - loss: 0.0349 - accuracy: 0.9892\n",
      "Epoch 146/150\n",
      "43998/43998 [==============================] - 2s 45us/step - loss: 0.0309 - accuracy: 0.9908\n",
      "Epoch 147/150\n",
      "43998/43998 [==============================] - 2s 47us/step - loss: 0.0344 - accuracy: 0.9893\n",
      "Epoch 148/150\n",
      "43998/43998 [==============================] - 2s 44us/step - loss: 0.0309 - accuracy: 0.9902\n",
      "Epoch 149/150\n",
      "43998/43998 [==============================] - 2s 44us/step - loss: 0.0319 - accuracy: 0.9904\n",
      "Epoch 150/150\n",
      "43998/43998 [==============================] - 2s 44us/step - loss: 0.0324 - accuracy: 0.9896\n"
     ]
    },
    {
     "data": {
      "text/plain": [
       "<keras.callbacks.callbacks.History at 0x1a1159c1b48>"
      ]
     },
     "execution_count": 295,
     "metadata": {},
     "output_type": "execute_result"
    }
   ],
   "source": [
    "model.fit(Xtrain_scale,y_train,epochs=xpoch,batch_size=xbatch)\n"
   ]
  },
  {
   "cell_type": "code",
   "execution_count": 299,
   "metadata": {},
   "outputs": [
    {
     "name": "stdout",
     "output_type": "stream",
     "text": [
      "Accuracy: 98.81%\n"
     ]
    }
   ],
   "source": [
    "from sklearn.metrics import accuracy_score\n",
    "# make predictions for test data and evaluate\n",
    "y_pred = model.predict_classes(Xtest_scale)\n",
    "predictions = [value for value in y_pred]\n",
    "accuracy = accuracy_score(y_test, predictions)\n",
    "print(\"Accuracy: %.2f%%\" % (accuracy * 100.0))"
   ]
  },
  {
   "cell_type": "code",
   "execution_count": 300,
   "metadata": {},
   "outputs": [
    {
     "data": {
      "text/html": [
       "<div>\n",
       "<style scoped>\n",
       "    .dataframe tbody tr th:only-of-type {\n",
       "        vertical-align: middle;\n",
       "    }\n",
       "\n",
       "    .dataframe tbody tr th {\n",
       "        vertical-align: top;\n",
       "    }\n",
       "\n",
       "    .dataframe thead th {\n",
       "        text-align: right;\n",
       "    }\n",
       "</style>\n",
       "<table border=\"1\" class=\"dataframe\">\n",
       "  <thead>\n",
       "    <tr style=\"text-align: right;\">\n",
       "      <th></th>\n",
       "      <th>Acutal_SideWay</th>\n",
       "      <th>Actual_long</th>\n",
       "    </tr>\n",
       "  </thead>\n",
       "  <tbody>\n",
       "    <tr>\n",
       "      <th>Pred_SideWay</th>\n",
       "      <td>11660</td>\n",
       "      <td>81</td>\n",
       "    </tr>\n",
       "    <tr>\n",
       "      <th>Pred_long</th>\n",
       "      <td>143</td>\n",
       "      <td>6973</td>\n",
       "    </tr>\n",
       "  </tbody>\n",
       "</table>\n",
       "</div>"
      ],
      "text/plain": [
       "              Acutal_SideWay  Actual_long\n",
       "Pred_SideWay           11660           81\n",
       "Pred_long                143         6973"
      ]
     },
     "execution_count": 300,
     "metadata": {},
     "output_type": "execute_result"
    }
   ],
   "source": [
    "from sklearn import metrics\n",
    "pandas.DataFrame(metrics.confusion_matrix(y_test, predictions),columns=['Acutal_SideWay',f'Actual_{strategyName}'],index=['Pred_SideWay',f'Pred_{strategyName}'])"
   ]
  },
  {
   "cell_type": "code",
   "execution_count": 301,
   "metadata": {},
   "outputs": [
    {
     "name": "stdout",
     "output_type": "stream",
     "text": [
      "              precision    recall  f1-score   support\n",
      "\n",
      "           0       0.99      0.99      0.99     11741\n",
      "           1       0.99      0.98      0.98      7116\n",
      "\n",
      "    accuracy                           0.99     18857\n",
      "   macro avg       0.99      0.99      0.99     18857\n",
      "weighted avg       0.99      0.99      0.99     18857\n",
      "\n"
     ]
    }
   ],
   "source": [
    "from sklearn.metrics import classification_report\n",
    "print(classification_report(y_test,y_pred))"
   ]
  },
  {
   "cell_type": "code",
   "execution_count": null,
   "metadata": {},
   "outputs": [],
   "source": []
  },
  {
   "cell_type": "code",
   "execution_count": null,
   "metadata": {},
   "outputs": [],
   "source": []
  },
  {
   "cell_type": "code",
   "execution_count": null,
   "metadata": {},
   "outputs": [],
   "source": []
  }
 ],
 "metadata": {
  "kernelspec": {
   "display_name": "Python 3",
   "language": "python",
   "name": "python3"
  },
  "language_info": {
   "codemirror_mode": {
    "name": "ipython",
    "version": 3
   },
   "file_extension": ".py",
   "mimetype": "text/x-python",
   "name": "python",
   "nbconvert_exporter": "python",
   "pygments_lexer": "ipython3",
   "version": "3.7.6"
  }
 },
 "nbformat": 4,
 "nbformat_minor": 2
}
