{
 "cells": [
  {
   "cell_type": "code",
   "execution_count": 159,
   "metadata": {},
   "outputs": [],
   "source": [
    "xseed=1990\n",
    "\n",
    "from numpy.random import seed\n",
    "\n",
    "seed(xseed)\n",
    "\n",
    "from tensorflow import set_random_seed\n",
    "\n",
    "set_random_seed(xseed)"
   ]
  },
  {
   "cell_type": "code",
   "execution_count": 160,
   "metadata": {},
   "outputs": [],
   "source": [
    "# model averaging ensemble and a study of ensemble size on test accuracy\n",
    "from sklearn.datasets import make_blobs\n",
    "\n",
    "from keras.utils import to_categorical\n",
    "from keras.models import Sequential\n",
    "from keras.layers import Dense\n",
    "\n",
    "from keras.layers import Dropout\n",
    "from keras.regularizers import l2\n",
    "from keras.optimizers import Adam\n",
    "from keras.constraints import maxnorm\n",
    "\n",
    "from sklearn.preprocessing import StandardScaler\n",
    "from sklearn.preprocessing import MinMaxScaler\n",
    "\n",
    "from sklearn.metrics import accuracy_score\n",
    "\n",
    "from matplotlib import pyplot\n",
    "\n",
    "from numpy import array\n",
    "from numpy import argmax\n",
    "import numpy\n",
    "import pandas\n",
    "\n",
    "import os\n",
    "from datetime import datetime\n",
    "import time"
   ]
  },
  {
   "cell_type": "code",
   "execution_count": 161,
   "metadata": {},
   "outputs": [],
   "source": [
    "def CreateData(dfx,labelCol):\n",
    " \n",
    " X_df_temp =dfx.drop(columns=['open','high','low','close',labelCol])\n",
    " Y_df_temp = dfx[labelCol]\n",
    "\n",
    " Xtemp=X_df_temp.to_numpy()\n",
    " ytemp=Y_df_temp.to_numpy()\n",
    "\n",
    " return X_df_temp,Y_df_temp, Xtemp,ytemp"
   ]
  },
  {
   "cell_type": "code",
   "execution_count": 162,
   "metadata": {},
   "outputs": [],
   "source": [
    "st='2007'\n",
    "ed='2015'\n",
    "\n",
    "test_st='2016'\n",
    "test_ed='2020'\n",
    "\n",
    "strategyName='long'"
   ]
  },
  {
   "cell_type": "code",
   "execution_count": 163,
   "metadata": {},
   "outputs": [],
   "source": [
    "filename='ML-Long_S50M15_07ToNow-Train.csv'\n",
    "filename_test='ML-Long_S50M15_07ToNow-Train.csv'\n",
    "\n",
    "filepath=os.path.abspath(f'D:\\DataSets\\{filename}')\n",
    "filepath_test=os.path.abspath(f'D:\\DataSets\\{filename}')"
   ]
  },
  {
   "cell_type": "code",
   "execution_count": 164,
   "metadata": {},
   "outputs": [
    {
     "name": "stdout",
     "output_type": "stream",
     "text": [
      "<class 'pandas.core.frame.DataFrame'>\n",
      "DatetimeIndex: 70693 entries, 2007-01-03 09:45:00 to 2020-06-10 16:45:00\n",
      "Data columns (total 22 columns):\n",
      " #   Column                  Non-Null Count  Dtype  \n",
      "---  ------                  --------------  -----  \n",
      " 0   open                    70693 non-null  float64\n",
      " 1   high                    70693 non-null  float64\n",
      " 2   low                     70693 non-null  float64\n",
      " 3   close                   70693 non-null  float64\n",
      " 4   indy_ma-550             70693 non-null  float64\n",
      " 5   indy_ma-1100            70693 non-null  float64\n",
      " 6   indy_hh-550             70693 non-null  float64\n",
      " 7   indy_ll-550             70693 non-null  float64\n",
      " 8   indy_mid-550            70693 non-null  float64\n",
      " 9   indy_hh2-1100           70693 non-null  float64\n",
      " 10  indy_ll2-1100           70693 non-null  float64\n",
      " 11  indy_mid2-1100          70693 non-null  float64\n",
      " 12  indy_macd110-440        70693 non-null  float64\n",
      " 13  indy_signal110-440-110  70693 non-null  float64\n",
      " 14  indy_hist_macd110-440   70693 non-null  float64\n",
      " 15  indy_rsi25-ma20         70693 non-null  float64\n",
      " 16  indy_6ATRTrail_DC-110   70693 non-null  float64\n",
      " 17  cate_3trend-550_ma110   70693 non-null  int64  \n",
      " 18  cate_2trend-1100_ma220  70693 non-null  int64  \n",
      " 19  cate_rannkHL1100-ma66   70693 non-null  int64  \n",
      " 20  cate_CombineTrend       70693 non-null  int64  \n",
      " 21  LongSignal              70693 non-null  int64  \n",
      "dtypes: float64(17), int64(5)\n",
      "memory usage: 12.4 MB\n"
     ]
    }
   ],
   "source": [
    "##### load dataset\n",
    "\n",
    "dataframe = pandas.read_csv(filepath,index_col=\"datetime\", parse_dates=['datetime'],dayfirst=True)\n",
    "\n",
    "dataframe.info()\n"
   ]
  },
  {
   "cell_type": "code",
   "execution_count": 165,
   "metadata": {},
   "outputs": [
    {
     "data": {
      "text/plain": [
       "'LongSignal'"
      ]
     },
     "execution_count": 165,
     "metadata": {},
     "output_type": "execute_result"
    }
   ],
   "source": [
    "labelName=dataframe.columns[-1]\n",
    "labelName"
   ]
  },
  {
   "cell_type": "markdown",
   "metadata": {},
   "source": [
    "# Training Data"
   ]
  },
  {
   "cell_type": "code",
   "execution_count": 166,
   "metadata": {},
   "outputs": [
    {
     "name": "stdout",
     "output_type": "stream",
     "text": [
      "<class 'pandas.core.frame.DataFrame'>\n",
      "DatetimeIndex: 46535 entries, 2007-01-03 09:45:00 to 2015-12-30 16:45:00\n",
      "Data columns (total 22 columns):\n",
      " #   Column                  Non-Null Count  Dtype  \n",
      "---  ------                  --------------  -----  \n",
      " 0   open                    46535 non-null  float64\n",
      " 1   high                    46535 non-null  float64\n",
      " 2   low                     46535 non-null  float64\n",
      " 3   close                   46535 non-null  float64\n",
      " 4   indy_ma-550             46535 non-null  float64\n",
      " 5   indy_ma-1100            46535 non-null  float64\n",
      " 6   indy_hh-550             46535 non-null  float64\n",
      " 7   indy_ll-550             46535 non-null  float64\n",
      " 8   indy_mid-550            46535 non-null  float64\n",
      " 9   indy_hh2-1100           46535 non-null  float64\n",
      " 10  indy_ll2-1100           46535 non-null  float64\n",
      " 11  indy_mid2-1100          46535 non-null  float64\n",
      " 12  indy_macd110-440        46535 non-null  float64\n",
      " 13  indy_signal110-440-110  46535 non-null  float64\n",
      " 14  indy_hist_macd110-440   46535 non-null  float64\n",
      " 15  indy_rsi25-ma20         46535 non-null  float64\n",
      " 16  indy_6ATRTrail_DC-110   46535 non-null  float64\n",
      " 17  cate_3trend-550_ma110   46535 non-null  int64  \n",
      " 18  cate_2trend-1100_ma220  46535 non-null  int64  \n",
      " 19  cate_rannkHL1100-ma66   46535 non-null  int64  \n",
      " 20  cate_CombineTrend       46535 non-null  int64  \n",
      " 21  LongSignal              46535 non-null  int64  \n",
      "dtypes: float64(17), int64(5)\n",
      "memory usage: 8.2 MB\n"
     ]
    }
   ],
   "source": [
    "df=dataframe[st:ed]\n",
    "df.info()"
   ]
  },
  {
   "cell_type": "markdown",
   "metadata": {},
   "source": [
    "# Testing Data"
   ]
  },
  {
   "cell_type": "code",
   "execution_count": 167,
   "metadata": {},
   "outputs": [
    {
     "name": "stdout",
     "output_type": "stream",
     "text": [
      "<class 'pandas.core.frame.DataFrame'>\n",
      "DatetimeIndex: 24158 entries, 2016-01-04 09:45:00 to 2020-06-10 16:45:00\n",
      "Data columns (total 22 columns):\n",
      " #   Column                  Non-Null Count  Dtype  \n",
      "---  ------                  --------------  -----  \n",
      " 0   open                    24158 non-null  float64\n",
      " 1   high                    24158 non-null  float64\n",
      " 2   low                     24158 non-null  float64\n",
      " 3   close                   24158 non-null  float64\n",
      " 4   indy_ma-550             24158 non-null  float64\n",
      " 5   indy_ma-1100            24158 non-null  float64\n",
      " 6   indy_hh-550             24158 non-null  float64\n",
      " 7   indy_ll-550             24158 non-null  float64\n",
      " 8   indy_mid-550            24158 non-null  float64\n",
      " 9   indy_hh2-1100           24158 non-null  float64\n",
      " 10  indy_ll2-1100           24158 non-null  float64\n",
      " 11  indy_mid2-1100          24158 non-null  float64\n",
      " 12  indy_macd110-440        24158 non-null  float64\n",
      " 13  indy_signal110-440-110  24158 non-null  float64\n",
      " 14  indy_hist_macd110-440   24158 non-null  float64\n",
      " 15  indy_rsi25-ma20         24158 non-null  float64\n",
      " 16  indy_6ATRTrail_DC-110   24158 non-null  float64\n",
      " 17  cate_3trend-550_ma110   24158 non-null  int64  \n",
      " 18  cate_2trend-1100_ma220  24158 non-null  int64  \n",
      " 19  cate_rannkHL1100-ma66   24158 non-null  int64  \n",
      " 20  cate_CombineTrend       24158 non-null  int64  \n",
      " 21  LongSignal              24158 non-null  int64  \n",
      "dtypes: float64(17), int64(5)\n",
      "memory usage: 4.2 MB\n"
     ]
    }
   ],
   "source": [
    "dataframe_test = pandas.read_csv(filepath_test,index_col=\"datetime\", parse_dates=['datetime'],dayfirst=True)\n",
    "df_test=dataframe_test[test_st:test_ed]\n",
    "df_test.info()"
   ]
  },
  {
   "cell_type": "code",
   "execution_count": 168,
   "metadata": {},
   "outputs": [],
   "source": [
    "X_df,y_df,X_train,y_train=CreateData(df,labelName)\n",
    "Xtest_df,ytest_df,X_test,y_test=CreateData(df_test,labelName)\n",
    "\n",
    "scaler=MinMaxScaler().fit(X_train)\n",
    "\n",
    "Xtrain_scaled=scaler.transform(X_train)\n",
    "Xtest_scaled=scaler.transform(X_test)\n",
    "\n"
   ]
  },
  {
   "cell_type": "code",
   "execution_count": 169,
   "metadata": {},
   "outputs": [
    {
     "name": "stdout",
     "output_type": "stream",
     "text": [
      "Input-N = 17\n",
      "Epochs= 110\n",
      "Batch_size= 32\n"
     ]
    }
   ],
   "source": [
    "h1=17\n",
    "h2=17\n",
    "h3=0\n",
    "\n",
    "input_n=X_train.shape[1]\n",
    "\n",
    "xpoch=110  #105\n",
    "#xpoch=10\n",
    "\n",
    "#Epoch 00107: early stopping\n",
    "xbatch=32\n",
    "\n",
    "kernelInit='he_uniform'\n",
    "#kernelInit='he_normal'\n",
    "\n",
    "print(\"Input-N =\",input_n)\n",
    "print('Epochs=',xpoch)\n",
    "print('Batch_size=',xbatch)"
   ]
  },
  {
   "cell_type": "code",
   "execution_count": 170,
   "metadata": {},
   "outputs": [],
   "source": [
    "def BaseModel(trainX, trainy):\n",
    "\n",
    " model = Sequential()  \n",
    "  \n",
    " model.add(Dense(h1, input_dim=input_n,activation='relu' ))\n",
    " model.add(Dense(h2,activation='relu'))\n",
    " \n",
    " #model.add(Dense(1, activation='sigmoid'))\n",
    " #model.compile(loss='binary_crossentropy', optimizer='adam', metrics=['accuracy'])\n",
    "    \n",
    " model.add(Dense(2, activation='softmax'))\n",
    " model.compile(loss='categorical_crossentropy', optimizer='adam', metrics=['accuracy'])\n",
    "    \n",
    " model.fit(trainX, trainy, epochs=xpoch,batch_size=xbatch)\n",
    "\n",
    " return model"
   ]
  },
  {
   "cell_type": "code",
   "execution_count": 171,
   "metadata": {},
   "outputs": [],
   "source": [
    "def ModelByAllTuning(trainX, trainy):\n",
    "    model_x=Sequential()\n",
    "    \n",
    "    param_dropout=0.02\n",
    "    vaMaxNorm_WC=4\n",
    "    \n",
    "    #l2_val=0.01 #0.865 vs 0.851\n",
    "    l2_val=0.001 #0.93 vs 0.84\n",
    "    \n",
    "     #input\n",
    "    model_x.add(Dropout(param_dropout, input_shape=(input_n,)))\n",
    "    \n",
    "    #layer#1\n",
    "    model_x.add(Dense(h1,activation=\"relu\", kernel_constraint=maxnorm(vaMaxNorm_WC),kernel_regularizer=l2(l2_val)))\n",
    "    #model_x.add(Dense(h1, kernel_initializer=kernelInit,activation=\"relu\", kernel_constraint=maxnorm(vaMaxNorm_WC),kernel_regularizer=l2(l2_val)))\n",
    "    model_x.add(Dropout(param_dropout))\n",
    "    \n",
    "    #layer#2\n",
    "    model_x.add(Dense(h2, activation=\"relu\", kernel_constraint=maxnorm(vaMaxNorm_WC),kernel_regularizer=l2(l2_val)))\n",
    "    #model_x.add(Dense(h2,kernel_initializer=kernelInit, activation=\"relu\", kernel_constraint=maxnorm(vaMaxNorm_WC),kernel_regularizer=l2(l2_val)))\n",
    "    model_x.add(Dropout(param_dropout))\n",
    "\n",
    "    model_x.add(Dense(2, activation='softmax'))\n",
    "    model_x.compile(loss='categorical_crossentropy', optimizer='adam', metrics=['accuracy'])\n",
    "\n",
    "    model_x.fit(trainX, trainy, epochs=xpoch,batch_size=xbatch)\n",
    "    \n",
    "    return model_x"
   ]
  },
  {
   "cell_type": "code",
   "execution_count": 172,
   "metadata": {},
   "outputs": [],
   "source": [
    "# make an ensemble prediction for multi-class classification\n",
    "def ensemble_predictions(members, testX):\n",
    " \n",
    " # make predictions\n",
    " yhats = [model.predict(testX) for model in members]\n",
    " \n",
    " #for yhat in yhats:\n",
    "    #print(yhat[:5])\n",
    "\n",
    " yhats = array(yhats)\n",
    "\n",
    " #print('sum across ensemble members')\n",
    " summed = numpy.sum(yhats, axis=0)\n",
    " #print(summed)\n",
    "\n",
    " #print('argmax across classes')\n",
    " result = argmax(summed, axis=1)\n",
    " #print(result)\n",
    "\n",
    " return result\n"
   ]
  },
  {
   "cell_type": "code",
   "execution_count": 173,
   "metadata": {},
   "outputs": [],
   "source": [
    "def evaluate_n_members(members, n_members, testX, testy):\n",
    " # select a subset of members\n",
    " subset = members[:n_members]\n",
    " #print(len(subset))\n",
    " # make prediction\n",
    " yhat = ensemble_predictions(subset, testX)\n",
    " # calculate accuracy\n",
    " return accuracy_score(testy, yhat)\n"
   ]
  },
  {
   "cell_type": "code",
   "execution_count": 174,
   "metadata": {},
   "outputs": [
    {
     "name": "stdout",
     "output_type": "stream",
     "text": [
      "X-Train  (46535, 17)\n",
      "X-Test  (24158, 17)\n",
      "y-Train  (46535, 2)\n",
      "y-Test  (24158,)\n"
     ]
    }
   ],
   "source": [
    "y_train=to_categorical(y_train)\n",
    "\n",
    "print(\"X-Train \",Xtrain_scaled.shape)\n",
    "print(\"X-Test \",Xtest_scaled.shape)\n",
    "print(\"y-Train \",y_train.shape)\n",
    "print(\"y-Test \",y_test.shape)"
   ]
  },
  {
   "cell_type": "code",
   "execution_count": 175,
   "metadata": {},
   "outputs": [
    {
     "name": "stdout",
     "output_type": "stream",
     "text": [
      "[[503.7  508.75 527.   415.   471.   528.2  415.   471.6  -22.5  -27.2\n",
      "    4.7   39.11 473.92   1.     0.     3.     2.  ]\n",
      " [503.62 508.72 527.   415.   471.   528.2  415.   471.6  -22.5  -27.19\n",
      "    4.68  39.05 473.64   1.     0.     3.     2.  ]\n",
      " [503.52 508.68 527.   415.   471.   528.2  415.   471.6  -22.53 -27.17\n",
      "    4.64  38.91 473.48   1.     0.     3.     2.  ]]\n",
      "[[0.28007567 0.28688057 0.27881228 0.20506942 0.23529412 0.27549082\n",
      "  0.2141527  0.23873934 0.33778556 0.29452815 0.5491141  0.30943089\n",
      "  0.26097673 0.         0.         0.66666667 0.33333333]\n",
      " [0.27997272 0.28684081 0.27881228 0.20506942 0.23529412 0.27549082\n",
      "  0.2141527  0.23873934 0.33778556 0.29460745 0.54883062 0.30845528\n",
      "  0.26063843 0.         0.         0.66666667 0.33333333]\n",
      " [0.27984402 0.2867878  0.27881228 0.20506942 0.23529412 0.27549082\n",
      "  0.2141527  0.23873934 0.3375666  0.29476606 0.54826364 0.30617886\n",
      "  0.26044511 0.         0.         0.66666667 0.33333333]]\n",
      "[[1. 0.]\n",
      " [1. 0.]\n",
      " [1. 0.]]\n"
     ]
    }
   ],
   "source": [
    "print(X_train[:3])\n",
    "print(Xtrain_scaled[:3])\n",
    "\n",
    "print(y_train[:3])"
   ]
  },
  {
   "cell_type": "code",
   "execution_count": 176,
   "metadata": {},
   "outputs": [],
   "source": [
    "t_Start=time.time()\n"
   ]
  },
  {
   "cell_type": "code",
   "execution_count": 177,
   "metadata": {},
   "outputs": [
    {
     "name": "stdout",
     "output_type": "stream",
     "text": [
      "Epoch 1/110\n",
      "46535/46535 [==============================] - 2s 36us/step - loss: 0.3911 - accuracy: 0.8369\n",
      "Epoch 2/110\n",
      "46535/46535 [==============================] - 1s 30us/step - loss: 0.3363 - accuracy: 0.8605\n",
      "Epoch 3/110\n",
      "46535/46535 [==============================] - 2s 34us/step - loss: 0.3281 - accuracy: 0.8651 0s\n",
      "Epoch 4/110\n",
      "46535/46535 [==============================] - 2s 34us/step - loss: 0.3225 - accuracy: 0.8666\n",
      "Epoch 5/110\n",
      "46535/46535 [==============================] - 2s 32us/step - loss: 0.3145 - accuracy: 0.8701\n",
      "Epoch 6/110\n",
      "46535/46535 [==============================] - 1s 31us/step - loss: 0.3101 - accuracy: 0.8718\n",
      "Epoch 7/110\n",
      "46535/46535 [==============================] - 1s 30us/step - loss: 0.3061 - accuracy: 0.8741\n",
      "Epoch 8/110\n",
      "46535/46535 [==============================] - 1s 31us/step - loss: 0.2998 - accuracy: 0.8797\n",
      "Epoch 9/110\n",
      "46535/46535 [==============================] - 2s 39us/step - loss: 0.2975 - accuracy: 0.8803\n",
      "Epoch 10/110\n",
      "46535/46535 [==============================] - 2s 39us/step - loss: 0.2919 - accuracy: 0.8836\n",
      "Epoch 11/110\n",
      "46535/46535 [==============================] - 2s 41us/step - loss: 0.2907 - accuracy: 0.8835\n",
      "Epoch 12/110\n",
      "46535/46535 [==============================] - 2s 38us/step - loss: 0.2851 - accuracy: 0.8864 0s -\n",
      "Epoch 13/110\n",
      "46535/46535 [==============================] - 2s 38us/step - loss: 0.2844 - accuracy: 0.8863\n",
      "Epoch 14/110\n",
      "46535/46535 [==============================] - 2s 38us/step - loss: 0.2804 - accuracy: 0.8872\n",
      "Epoch 15/110\n",
      "46535/46535 [==============================] - 2s 39us/step - loss: 0.2795 - accuracy: 0.8887\n",
      "Epoch 16/110\n",
      "46535/46535 [==============================] - 2s 51us/step - loss: 0.2737 - accuracy: 0.8915\n",
      "Epoch 17/110\n",
      "46535/46535 [==============================] - 2s 40us/step - loss: 0.2680 - accuracy: 0.8936\n",
      "Epoch 18/110\n",
      "46535/46535 [==============================] - 2s 45us/step - loss: 0.2706 - accuracy: 0.8924\n",
      "Epoch 19/110\n",
      "46535/46535 [==============================] - 2s 38us/step - loss: 0.2692 - accuracy: 0.8933\n",
      "Epoch 20/110\n",
      "46535/46535 [==============================] - 2s 36us/step - loss: 0.2689 - accuracy: 0.8929\n",
      "Epoch 21/110\n",
      "46535/46535 [==============================] - 2s 38us/step - loss: 0.2668 - accuracy: 0.8949\n",
      "Epoch 22/110\n",
      "46535/46535 [==============================] - 2s 36us/step - loss: 0.2644 - accuracy: 0.8973\n",
      "Epoch 23/110\n",
      "46535/46535 [==============================] - 2s 40us/step - loss: 0.2611 - accuracy: 0.8975\n",
      "Epoch 24/110\n",
      "46535/46535 [==============================] - 2s 37us/step - loss: 0.2605 - accuracy: 0.8981\n",
      "Epoch 25/110\n",
      "46535/46535 [==============================] - 2s 45us/step - loss: 0.2581 - accuracy: 0.8993\n",
      "Epoch 26/110\n",
      "46535/46535 [==============================] - 2s 40us/step - loss: 0.2571 - accuracy: 0.8998\n",
      "Epoch 27/110\n",
      "46535/46535 [==============================] - 2s 43us/step - loss: 0.2577 - accuracy: 0.8987\n",
      "Epoch 28/110\n",
      "46535/46535 [==============================] - 2s 44us/step - loss: 0.2587 - accuracy: 0.8998\n",
      "Epoch 29/110\n",
      " 6880/46535 [===>..........................] - ETA: 1s - loss: 0.2565 - accuracy: 0.8999"
     ]
    },
    {
     "ename": "KeyboardInterrupt",
     "evalue": "",
     "output_type": "error",
     "traceback": [
      "\u001b[1;31m---------------------------------------------------------------------------\u001b[0m",
      "\u001b[1;31mKeyboardInterrupt\u001b[0m                         Traceback (most recent call last)",
      "\u001b[1;32m<ipython-input-177-b4103e503f99>\u001b[0m in \u001b[0;36m<module>\u001b[1;34m\u001b[0m\n\u001b[0;32m      4\u001b[0m \u001b[0mn_members\u001b[0m \u001b[1;33m=\u001b[0m \u001b[1;36m10\u001b[0m\u001b[1;33m\u001b[0m\u001b[1;33m\u001b[0m\u001b[0m\n\u001b[0;32m      5\u001b[0m \u001b[1;31m#members = [my_fit_model(Xtrain_scaled, y_train) for _ in range(n_members)]\u001b[0m\u001b[1;33m\u001b[0m\u001b[1;33m\u001b[0m\u001b[1;33m\u001b[0m\u001b[0m\n\u001b[1;32m----> 6\u001b[1;33m \u001b[0mmembers\u001b[0m \u001b[1;33m=\u001b[0m \u001b[1;33m[\u001b[0m\u001b[0mModelByAllTuning\u001b[0m\u001b[1;33m(\u001b[0m\u001b[0mXtrain_scaled\u001b[0m\u001b[1;33m,\u001b[0m \u001b[0my_train\u001b[0m\u001b[1;33m)\u001b[0m \u001b[1;32mfor\u001b[0m \u001b[0m_\u001b[0m \u001b[1;32min\u001b[0m \u001b[0mrange\u001b[0m\u001b[1;33m(\u001b[0m\u001b[0mn_members\u001b[0m\u001b[1;33m)\u001b[0m\u001b[1;33m]\u001b[0m\u001b[1;33m\u001b[0m\u001b[1;33m\u001b[0m\u001b[0m\n\u001b[0m",
      "\u001b[1;32m<ipython-input-177-b4103e503f99>\u001b[0m in \u001b[0;36m<listcomp>\u001b[1;34m(.0)\u001b[0m\n\u001b[0;32m      4\u001b[0m \u001b[0mn_members\u001b[0m \u001b[1;33m=\u001b[0m \u001b[1;36m10\u001b[0m\u001b[1;33m\u001b[0m\u001b[1;33m\u001b[0m\u001b[0m\n\u001b[0;32m      5\u001b[0m \u001b[1;31m#members = [my_fit_model(Xtrain_scaled, y_train) for _ in range(n_members)]\u001b[0m\u001b[1;33m\u001b[0m\u001b[1;33m\u001b[0m\u001b[1;33m\u001b[0m\u001b[0m\n\u001b[1;32m----> 6\u001b[1;33m \u001b[0mmembers\u001b[0m \u001b[1;33m=\u001b[0m \u001b[1;33m[\u001b[0m\u001b[0mModelByAllTuning\u001b[0m\u001b[1;33m(\u001b[0m\u001b[0mXtrain_scaled\u001b[0m\u001b[1;33m,\u001b[0m \u001b[0my_train\u001b[0m\u001b[1;33m)\u001b[0m \u001b[1;32mfor\u001b[0m \u001b[0m_\u001b[0m \u001b[1;32min\u001b[0m \u001b[0mrange\u001b[0m\u001b[1;33m(\u001b[0m\u001b[0mn_members\u001b[0m\u001b[1;33m)\u001b[0m\u001b[1;33m]\u001b[0m\u001b[1;33m\u001b[0m\u001b[1;33m\u001b[0m\u001b[0m\n\u001b[0m",
      "\u001b[1;32m<ipython-input-171-f46266d9e4c3>\u001b[0m in \u001b[0;36mModelByAllTuning\u001b[1;34m(trainX, trainy)\u001b[0m\n\u001b[0;32m     24\u001b[0m     \u001b[0mmodel_x\u001b[0m\u001b[1;33m.\u001b[0m\u001b[0mcompile\u001b[0m\u001b[1;33m(\u001b[0m\u001b[0mloss\u001b[0m\u001b[1;33m=\u001b[0m\u001b[1;34m'categorical_crossentropy'\u001b[0m\u001b[1;33m,\u001b[0m \u001b[0moptimizer\u001b[0m\u001b[1;33m=\u001b[0m\u001b[1;34m'adam'\u001b[0m\u001b[1;33m,\u001b[0m \u001b[0mmetrics\u001b[0m\u001b[1;33m=\u001b[0m\u001b[1;33m[\u001b[0m\u001b[1;34m'accuracy'\u001b[0m\u001b[1;33m]\u001b[0m\u001b[1;33m)\u001b[0m\u001b[1;33m\u001b[0m\u001b[1;33m\u001b[0m\u001b[0m\n\u001b[0;32m     25\u001b[0m \u001b[1;33m\u001b[0m\u001b[0m\n\u001b[1;32m---> 26\u001b[1;33m     \u001b[0mmodel_x\u001b[0m\u001b[1;33m.\u001b[0m\u001b[0mfit\u001b[0m\u001b[1;33m(\u001b[0m\u001b[0mtrainX\u001b[0m\u001b[1;33m,\u001b[0m \u001b[0mtrainy\u001b[0m\u001b[1;33m,\u001b[0m \u001b[0mepochs\u001b[0m\u001b[1;33m=\u001b[0m\u001b[0mxpoch\u001b[0m\u001b[1;33m,\u001b[0m\u001b[0mbatch_size\u001b[0m\u001b[1;33m=\u001b[0m\u001b[0mxbatch\u001b[0m\u001b[1;33m)\u001b[0m\u001b[1;33m\u001b[0m\u001b[1;33m\u001b[0m\u001b[0m\n\u001b[0m\u001b[0;32m     27\u001b[0m \u001b[1;33m\u001b[0m\u001b[0m\n\u001b[0;32m     28\u001b[0m     \u001b[1;32mreturn\u001b[0m \u001b[0mmodel_x\u001b[0m\u001b[1;33m\u001b[0m\u001b[1;33m\u001b[0m\u001b[0m\n",
      "\u001b[1;32mC:\\ProgramData\\Anaconda3\\lib\\site-packages\\keras\\engine\\training.py\u001b[0m in \u001b[0;36mfit\u001b[1;34m(self, x, y, batch_size, epochs, verbose, callbacks, validation_split, validation_data, shuffle, class_weight, sample_weight, initial_epoch, steps_per_epoch, validation_steps, validation_freq, max_queue_size, workers, use_multiprocessing, **kwargs)\u001b[0m\n\u001b[0;32m   1237\u001b[0m                                         \u001b[0msteps_per_epoch\u001b[0m\u001b[1;33m=\u001b[0m\u001b[0msteps_per_epoch\u001b[0m\u001b[1;33m,\u001b[0m\u001b[1;33m\u001b[0m\u001b[1;33m\u001b[0m\u001b[0m\n\u001b[0;32m   1238\u001b[0m                                         \u001b[0mvalidation_steps\u001b[0m\u001b[1;33m=\u001b[0m\u001b[0mvalidation_steps\u001b[0m\u001b[1;33m,\u001b[0m\u001b[1;33m\u001b[0m\u001b[1;33m\u001b[0m\u001b[0m\n\u001b[1;32m-> 1239\u001b[1;33m                                         validation_freq=validation_freq)\n\u001b[0m\u001b[0;32m   1240\u001b[0m \u001b[1;33m\u001b[0m\u001b[0m\n\u001b[0;32m   1241\u001b[0m     def evaluate(self,\n",
      "\u001b[1;32mC:\\ProgramData\\Anaconda3\\lib\\site-packages\\keras\\engine\\training_arrays.py\u001b[0m in \u001b[0;36mfit_loop\u001b[1;34m(model, fit_function, fit_inputs, out_labels, batch_size, epochs, verbose, callbacks, val_function, val_inputs, shuffle, initial_epoch, steps_per_epoch, validation_steps, validation_freq)\u001b[0m\n\u001b[0;32m    199\u001b[0m                     \u001b[0mbatch_logs\u001b[0m\u001b[1;33m[\u001b[0m\u001b[0ml\u001b[0m\u001b[1;33m]\u001b[0m \u001b[1;33m=\u001b[0m \u001b[0mo\u001b[0m\u001b[1;33m\u001b[0m\u001b[1;33m\u001b[0m\u001b[0m\n\u001b[0;32m    200\u001b[0m \u001b[1;33m\u001b[0m\u001b[0m\n\u001b[1;32m--> 201\u001b[1;33m                 \u001b[0mcallbacks\u001b[0m\u001b[1;33m.\u001b[0m\u001b[0m_call_batch_hook\u001b[0m\u001b[1;33m(\u001b[0m\u001b[1;34m'train'\u001b[0m\u001b[1;33m,\u001b[0m \u001b[1;34m'end'\u001b[0m\u001b[1;33m,\u001b[0m \u001b[0mbatch_index\u001b[0m\u001b[1;33m,\u001b[0m \u001b[0mbatch_logs\u001b[0m\u001b[1;33m)\u001b[0m\u001b[1;33m\u001b[0m\u001b[1;33m\u001b[0m\u001b[0m\n\u001b[0m\u001b[0;32m    202\u001b[0m                 \u001b[1;32mif\u001b[0m \u001b[0mcallbacks\u001b[0m\u001b[1;33m.\u001b[0m\u001b[0mmodel\u001b[0m\u001b[1;33m.\u001b[0m\u001b[0mstop_training\u001b[0m\u001b[1;33m:\u001b[0m\u001b[1;33m\u001b[0m\u001b[1;33m\u001b[0m\u001b[0m\n\u001b[0;32m    203\u001b[0m                     \u001b[1;32mbreak\u001b[0m\u001b[1;33m\u001b[0m\u001b[1;33m\u001b[0m\u001b[0m\n",
      "\u001b[1;32mC:\\ProgramData\\Anaconda3\\lib\\site-packages\\keras\\callbacks\\callbacks.py\u001b[0m in \u001b[0;36m_call_batch_hook\u001b[1;34m(self, mode, hook, batch, logs)\u001b[0m\n\u001b[0;32m     86\u001b[0m         \u001b[0mself\u001b[0m\u001b[1;33m.\u001b[0m\u001b[0m_delta_ts\u001b[0m\u001b[1;33m[\u001b[0m\u001b[0mhook_name\u001b[0m\u001b[1;33m]\u001b[0m\u001b[1;33m.\u001b[0m\u001b[0mappend\u001b[0m\u001b[1;33m(\u001b[0m\u001b[0mtime\u001b[0m\u001b[1;33m.\u001b[0m\u001b[0mtime\u001b[0m\u001b[1;33m(\u001b[0m\u001b[1;33m)\u001b[0m \u001b[1;33m-\u001b[0m \u001b[0mt_before_callbacks\u001b[0m\u001b[1;33m)\u001b[0m\u001b[1;33m\u001b[0m\u001b[1;33m\u001b[0m\u001b[0m\n\u001b[0;32m     87\u001b[0m \u001b[1;33m\u001b[0m\u001b[0m\n\u001b[1;32m---> 88\u001b[1;33m         \u001b[0mdelta_t_median\u001b[0m \u001b[1;33m=\u001b[0m \u001b[0mnp\u001b[0m\u001b[1;33m.\u001b[0m\u001b[0mmedian\u001b[0m\u001b[1;33m(\u001b[0m\u001b[0mself\u001b[0m\u001b[1;33m.\u001b[0m\u001b[0m_delta_ts\u001b[0m\u001b[1;33m[\u001b[0m\u001b[0mhook_name\u001b[0m\u001b[1;33m]\u001b[0m\u001b[1;33m)\u001b[0m\u001b[1;33m\u001b[0m\u001b[1;33m\u001b[0m\u001b[0m\n\u001b[0m\u001b[0;32m     89\u001b[0m         if (self._delta_t_batch > 0. and\n\u001b[0;32m     90\u001b[0m            \u001b[0mdelta_t_median\u001b[0m \u001b[1;33m>\u001b[0m \u001b[1;36m0.95\u001b[0m \u001b[1;33m*\u001b[0m \u001b[0mself\u001b[0m\u001b[1;33m.\u001b[0m\u001b[0m_delta_t_batch\u001b[0m \u001b[1;32mand\u001b[0m\u001b[1;33m\u001b[0m\u001b[1;33m\u001b[0m\u001b[0m\n",
      "\u001b[1;32m<__array_function__ internals>\u001b[0m in \u001b[0;36mmedian\u001b[1;34m(*args, **kwargs)\u001b[0m\n",
      "\u001b[1;32mC:\\ProgramData\\Anaconda3\\lib\\site-packages\\numpy\\lib\\function_base.py\u001b[0m in \u001b[0;36mmedian\u001b[1;34m(a, axis, out, overwrite_input, keepdims)\u001b[0m\n\u001b[0;32m   3493\u001b[0m     \"\"\"\n\u001b[0;32m   3494\u001b[0m     r, k = _ureduce(a, func=_median, axis=axis, out=out,\n\u001b[1;32m-> 3495\u001b[1;33m                     overwrite_input=overwrite_input)\n\u001b[0m\u001b[0;32m   3496\u001b[0m     \u001b[1;32mif\u001b[0m \u001b[0mkeepdims\u001b[0m\u001b[1;33m:\u001b[0m\u001b[1;33m\u001b[0m\u001b[1;33m\u001b[0m\u001b[0m\n\u001b[0;32m   3497\u001b[0m         \u001b[1;32mreturn\u001b[0m \u001b[0mr\u001b[0m\u001b[1;33m.\u001b[0m\u001b[0mreshape\u001b[0m\u001b[1;33m(\u001b[0m\u001b[0mk\u001b[0m\u001b[1;33m)\u001b[0m\u001b[1;33m\u001b[0m\u001b[1;33m\u001b[0m\u001b[0m\n",
      "\u001b[1;32mC:\\ProgramData\\Anaconda3\\lib\\site-packages\\numpy\\lib\\function_base.py\u001b[0m in \u001b[0;36m_ureduce\u001b[1;34m(a, func, **kwargs)\u001b[0m\n\u001b[0;32m   3401\u001b[0m         \u001b[0mkeepdim\u001b[0m \u001b[1;33m=\u001b[0m \u001b[1;33m(\u001b[0m\u001b[1;36m1\u001b[0m\u001b[1;33m,\u001b[0m\u001b[1;33m)\u001b[0m \u001b[1;33m*\u001b[0m \u001b[0ma\u001b[0m\u001b[1;33m.\u001b[0m\u001b[0mndim\u001b[0m\u001b[1;33m\u001b[0m\u001b[1;33m\u001b[0m\u001b[0m\n\u001b[0;32m   3402\u001b[0m \u001b[1;33m\u001b[0m\u001b[0m\n\u001b[1;32m-> 3403\u001b[1;33m     \u001b[0mr\u001b[0m \u001b[1;33m=\u001b[0m \u001b[0mfunc\u001b[0m\u001b[1;33m(\u001b[0m\u001b[0ma\u001b[0m\u001b[1;33m,\u001b[0m \u001b[1;33m**\u001b[0m\u001b[0mkwargs\u001b[0m\u001b[1;33m)\u001b[0m\u001b[1;33m\u001b[0m\u001b[1;33m\u001b[0m\u001b[0m\n\u001b[0m\u001b[0;32m   3404\u001b[0m     \u001b[1;32mreturn\u001b[0m \u001b[0mr\u001b[0m\u001b[1;33m,\u001b[0m \u001b[0mkeepdim\u001b[0m\u001b[1;33m\u001b[0m\u001b[1;33m\u001b[0m\u001b[0m\n\u001b[0;32m   3405\u001b[0m \u001b[1;33m\u001b[0m\u001b[0m\n",
      "\u001b[1;32mC:\\ProgramData\\Anaconda3\\lib\\site-packages\\numpy\\lib\\function_base.py\u001b[0m in \u001b[0;36m_median\u001b[1;34m(a, axis, out, overwrite_input)\u001b[0m\n\u001b[0;32m   3526\u001b[0m             \u001b[0mpart\u001b[0m \u001b[1;33m=\u001b[0m \u001b[0ma\u001b[0m\u001b[1;33m\u001b[0m\u001b[1;33m\u001b[0m\u001b[0m\n\u001b[0;32m   3527\u001b[0m     \u001b[1;32melse\u001b[0m\u001b[1;33m:\u001b[0m\u001b[1;33m\u001b[0m\u001b[1;33m\u001b[0m\u001b[0m\n\u001b[1;32m-> 3528\u001b[1;33m         \u001b[0mpart\u001b[0m \u001b[1;33m=\u001b[0m \u001b[0mpartition\u001b[0m\u001b[1;33m(\u001b[0m\u001b[0ma\u001b[0m\u001b[1;33m,\u001b[0m \u001b[0mkth\u001b[0m\u001b[1;33m,\u001b[0m \u001b[0maxis\u001b[0m\u001b[1;33m=\u001b[0m\u001b[0maxis\u001b[0m\u001b[1;33m)\u001b[0m\u001b[1;33m\u001b[0m\u001b[1;33m\u001b[0m\u001b[0m\n\u001b[0m\u001b[0;32m   3529\u001b[0m \u001b[1;33m\u001b[0m\u001b[0m\n\u001b[0;32m   3530\u001b[0m     \u001b[1;32mif\u001b[0m \u001b[0mpart\u001b[0m\u001b[1;33m.\u001b[0m\u001b[0mshape\u001b[0m \u001b[1;33m==\u001b[0m \u001b[1;33m(\u001b[0m\u001b[1;33m)\u001b[0m\u001b[1;33m:\u001b[0m\u001b[1;33m\u001b[0m\u001b[1;33m\u001b[0m\u001b[0m\n",
      "\u001b[1;32m<__array_function__ internals>\u001b[0m in \u001b[0;36mpartition\u001b[1;34m(*args, **kwargs)\u001b[0m\n",
      "\u001b[1;32mC:\\ProgramData\\Anaconda3\\lib\\site-packages\\numpy\\core\\fromnumeric.py\u001b[0m in \u001b[0;36mpartition\u001b[1;34m(a, kth, axis, kind, order)\u001b[0m\n\u001b[0;32m    744\u001b[0m     \u001b[1;32melse\u001b[0m\u001b[1;33m:\u001b[0m\u001b[1;33m\u001b[0m\u001b[1;33m\u001b[0m\u001b[0m\n\u001b[0;32m    745\u001b[0m         \u001b[0ma\u001b[0m \u001b[1;33m=\u001b[0m \u001b[0masanyarray\u001b[0m\u001b[1;33m(\u001b[0m\u001b[0ma\u001b[0m\u001b[1;33m)\u001b[0m\u001b[1;33m.\u001b[0m\u001b[0mcopy\u001b[0m\u001b[1;33m(\u001b[0m\u001b[0morder\u001b[0m\u001b[1;33m=\u001b[0m\u001b[1;34m\"K\"\u001b[0m\u001b[1;33m)\u001b[0m\u001b[1;33m\u001b[0m\u001b[1;33m\u001b[0m\u001b[0m\n\u001b[1;32m--> 746\u001b[1;33m     \u001b[0ma\u001b[0m\u001b[1;33m.\u001b[0m\u001b[0mpartition\u001b[0m\u001b[1;33m(\u001b[0m\u001b[0mkth\u001b[0m\u001b[1;33m,\u001b[0m \u001b[0maxis\u001b[0m\u001b[1;33m=\u001b[0m\u001b[0maxis\u001b[0m\u001b[1;33m,\u001b[0m \u001b[0mkind\u001b[0m\u001b[1;33m=\u001b[0m\u001b[0mkind\u001b[0m\u001b[1;33m,\u001b[0m \u001b[0morder\u001b[0m\u001b[1;33m=\u001b[0m\u001b[0morder\u001b[0m\u001b[1;33m)\u001b[0m\u001b[1;33m\u001b[0m\u001b[1;33m\u001b[0m\u001b[0m\n\u001b[0m\u001b[0;32m    747\u001b[0m     \u001b[1;32mreturn\u001b[0m \u001b[0ma\u001b[0m\u001b[1;33m\u001b[0m\u001b[1;33m\u001b[0m\u001b[0m\n\u001b[0;32m    748\u001b[0m \u001b[1;33m\u001b[0m\u001b[0m\n",
      "\u001b[1;31mKeyboardInterrupt\u001b[0m: "
     ]
    }
   ],
   "source": [
    "# fit all models\n",
    "\n",
    "\n",
    "n_members = 10\n",
    "#members = [my_fit_model(Xtrain_scaled, y_train) for _ in range(n_members)]\n",
    "members = [ModelByAllTuning(Xtrain_scaled, y_train) for _ in range(n_members)]"
   ]
  },
  {
   "cell_type": "code",
   "execution_count": null,
   "metadata": {},
   "outputs": [],
   "source": [
    "t_End=time.time()\n",
    "t_elapsed=(t_End-t_Start)/60/60\n",
    "print('Total execute train : ',round(t_elapsed,2))"
   ]
  },
  {
   "cell_type": "markdown",
   "metadata": {},
   "source": [
    "# evaluate different numbers of ensembles with accuracy_score"
   ]
  },
  {
   "cell_type": "code",
   "execution_count": 158,
   "metadata": {},
   "outputs": [
    {
     "name": "stdout",
     "output_type": "stream",
     "text": [
      "1# Single 0.733 vs Essemble 0.733\n",
      "2# Single 0.793 vs Essemble 0.767\n",
      "3# Single 0.783 vs Essemble 0.780\n",
      "4# Single 0.821 vs Essemble 0.791\n",
      "5# Single 0.749 vs Essemble 0.788\n",
      "6# Single 0.793 vs Essemble 0.783\n",
      "7# Single 0.780 vs Essemble 0.785\n",
      "8# Single 0.810 vs Essemble 0.787\n",
      "9# Single 0.810 vs Essemble 0.788\n",
      "10# Single 0.801 vs Essemble 0.788\n",
      "=======================================================\n",
      "Summarize average accuracy of a single final model\n",
      "Single Accuracy 0.787 (0.026)\n",
      "Essemble Accuracy 0.779 (0.016)\n"
     ]
    }
   ],
   "source": [
    "\n",
    "scores = list()\n",
    "single_scores=list()\n",
    "for i in range(1, n_members+1):\n",
    " score = evaluate_n_members(members, i, Xtest_scaled, y_test)\n",
    " scores.append(score)\n",
    "    \n",
    " y_test_eval = to_categorical(y_test)    \n",
    " _,signle_score=members[i-1].evaluate(Xtest_scaled, y_test_eval, verbose=0)\n",
    " single_scores.append(signle_score)  \n",
    " \n",
    " print(f\"{i}# Single {signle_score:.3f} vs Essemble {score:.3f}\")\n",
    "\n",
    "   \n",
    "print(\"=======================================================\")\n",
    "print(\"Summarize average accuracy of a single final model\")\n",
    "print('Single Accuracy %.3f (%.3f)' % (numpy.mean(single_scores), numpy.std(single_scores)))\n",
    "print('Essemble Accuracy %.3f (%.3f)' % (numpy.mean(scores), numpy.std(scores)))"
   ]
  },
  {
   "cell_type": "code",
   "execution_count": 137,
   "metadata": {},
   "outputs": [
    {
     "data": {
      "image/png": "[encoded data removed]",
      "text/plain": [
       "<Figure size 432x288 with 1 Axes>"
      ]
     },
     "metadata": {
      "needs_background": "light"
     },
     "output_type": "display_data"
    }
   ],
   "source": [
    "# plot score vs number of ensemble members\n",
    "x_axis = [i for i in range(1, n_members+1)]\n",
    "pyplot.plot(x_axis, single_scores, marker='o', linestyle='None')\n",
    "pyplot.plot(x_axis, scores, marker='o')\n",
    "pyplot.show()"
   ]
  },
  {
   "cell_type": "code",
   "execution_count": null,
   "metadata": {},
   "outputs": [],
   "source": []
  }
 ],
 "metadata": {
  "kernelspec": {
   "display_name": "Python 3",
   "language": "python",
   "name": "python3"
  },
  "language_info": {
   "codemirror_mode": {
    "name": "ipython",
    "version": 3
   },
   "file_extension": ".py",
   "mimetype": "text/x-python",
   "name": "python",
   "nbconvert_exporter": "python",
   "pygments_lexer": "ipython3",
   "version": "3.7.6"
  }
 },
 "nbformat": 4,
 "nbformat_minor": 4
}
