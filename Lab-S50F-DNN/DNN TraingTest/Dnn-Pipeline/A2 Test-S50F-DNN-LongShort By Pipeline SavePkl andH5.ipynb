{
 "cells": [
  {
   "cell_type": "markdown",
   "metadata": {},
   "source": [
    "https://gist.github.com/MaxHalford/9bfaa8daf8b4bc17a7fb7ba58c880675"
   ]
  },
  {
   "cell_type": "code",
   "execution_count": 151,
   "metadata": {},
   "outputs": [],
   "source": [
    " # Binary Classification with Sonar Dataset: Baseline\n",
    "import numpy as np\n",
    "import pandas as pd\n",
    "\n",
    "import os\n",
    "\n",
    "from keras import models\n",
    "\n",
    "import joblib\n",
    "\n",
    "from sklearn.metrics import accuracy_score"
   ]
  },
  {
   "cell_type": "code",
   "execution_count": 152,
   "metadata": {},
   "outputs": [],
   "source": [
    "result_path=os.path.abspath(r'D:\\PythonJupyter\\MyDev\\FinPythonLab\\ML-S50F\\ML-S50F\\Lab-S5-F-DNN\\results')\n",
    "\n",
    "ml_path=os.path.abspath(r'D:\\PythonJupyter\\MyDev\\FinPythonLab\\ML-S50F\\ML-S50F\\Lab-S5-F-DNN\\models')\n",
    "\n",
    "#pkl_file=r'\\long_dnn_17x34x17_tn2007-2018_ts2019_130520_1812_pipeline.pkl'\n",
    "#h5model_file=r'\\long_dnn_17x34x17_tn2007-2018_ts2019_130520_1812_model.h5'\n",
    "\n",
    "h5model_file=r'\\long_MLP-Pipeline_17x34x17_epo150_btch32__tn2007-2018_ts2019_180520_1944_model.h5'\n",
    "pkl_file=r'\\long_MLP-Pipeline_17x34x17_epo150_btch32__tn2007-2018_ts2019_180520_1944_pipeline.pkl'\n"
   ]
  },
  {
   "cell_type": "code",
   "execution_count": 153,
   "metadata": {},
   "outputs": [
    {
     "name": "stdout",
     "output_type": "stream",
     "text": [
      "D:\\Dev-Trong\\DataSet\\ML-Long_S50M15_07To1Q20-Train.csv\n"
     ]
    }
   ],
   "source": [
    "filename='ML-Long_S50M15_07To1Q20-Train.csv'\n",
    "filepath=os.path.abspath(f'D:\\Dev-Trong\\DataSet\\/{filename}')\n",
    "print(filepath)"
   ]
  },
  {
   "cell_type": "code",
   "execution_count": 154,
   "metadata": {},
   "outputs": [
    {
     "name": "stdout",
     "output_type": "stream",
     "text": [
      "<class 'pandas.core.frame.DataFrame'>\n",
      "DatetimeIndex: 69679 entries, 2007-01-03 09:45:00 to 2020-03-31 16:45:00\n",
      "Data columns (total 18 columns):\n",
      " #   Column                  Non-Null Count  Dtype  \n",
      "---  ------                  --------------  -----  \n",
      " 0   indy_ma-550             69679 non-null  float64\n",
      " 1   indy_ma-1100            69679 non-null  float64\n",
      " 2   indy_hh-550             69679 non-null  float64\n",
      " 3   indy_ll-550             69679 non-null  float64\n",
      " 4   indy_mid-550            69679 non-null  float64\n",
      " 5   indy_hh2-1100           69679 non-null  float64\n",
      " 6   indy_ll2-1100           69679 non-null  float64\n",
      " 7   indy_mid2-1100          69679 non-null  float64\n",
      " 8   indy_macd110-440        69679 non-null  float64\n",
      " 9   indy_signal110-440-110  69679 non-null  float64\n",
      " 10  indy_hist_macd110-440   69679 non-null  float64\n",
      " 11  indy_rsi25-ma20         69679 non-null  float64\n",
      " 12  indy_6ATRTrail_DC-110   69679 non-null  float64\n",
      " 13  cate_3trend-550_ma110   69679 non-null  int64  \n",
      " 14  cate_2trend-1100_ma220  69679 non-null  int64  \n",
      " 15  cate_rannkHL1100-ma66   69679 non-null  int64  \n",
      " 16  cate_CombineTrend       69679 non-null  int64  \n",
      " 17  LongSignal              69679 non-null  int64  \n",
      "dtypes: float64(13), int64(5)\n",
      "memory usage: 10.1 MB\n",
      "None\n"
     ]
    },
    {
     "data": {
      "text/plain": [
       "(69679, 18)"
      ]
     },
     "execution_count": 154,
     "metadata": {},
     "output_type": "execute_result"
    }
   ],
   "source": [
    "dataframe = pd.read_csv(filepath,index_col=\"datetime\", parse_dates=['datetime'],dayfirst=True)\n",
    "dataframe.drop(['open','high','low','close'],axis=1,inplace=True)\n",
    "print(dataframe.info())\n",
    "dataframe.shape"
   ]
  },
  {
   "cell_type": "code",
   "execution_count": 155,
   "metadata": {},
   "outputs": [
    {
     "name": "stdout",
     "output_type": "stream",
     "text": [
      "<class 'pandas.core.frame.DataFrame'>\n",
      "DatetimeIndex: 6824 entries, 2019-01-02 09:45:00 to 2020-03-31 16:45:00\n",
      "Data columns (total 18 columns):\n",
      " #   Column                  Non-Null Count  Dtype  \n",
      "---  ------                  --------------  -----  \n",
      " 0   indy_ma-550             6824 non-null   float64\n",
      " 1   indy_ma-1100            6824 non-null   float64\n",
      " 2   indy_hh-550             6824 non-null   float64\n",
      " 3   indy_ll-550             6824 non-null   float64\n",
      " 4   indy_mid-550            6824 non-null   float64\n",
      " 5   indy_hh2-1100           6824 non-null   float64\n",
      " 6   indy_ll2-1100           6824 non-null   float64\n",
      " 7   indy_mid2-1100          6824 non-null   float64\n",
      " 8   indy_macd110-440        6824 non-null   float64\n",
      " 9   indy_signal110-440-110  6824 non-null   float64\n",
      " 10  indy_hist_macd110-440   6824 non-null   float64\n",
      " 11  indy_rsi25-ma20         6824 non-null   float64\n",
      " 12  indy_6ATRTrail_DC-110   6824 non-null   float64\n",
      " 13  cate_3trend-550_ma110   6824 non-null   int64  \n",
      " 14  cate_2trend-1100_ma220  6824 non-null   int64  \n",
      " 15  cate_rannkHL1100-ma66   6824 non-null   int64  \n",
      " 16  cate_CombineTrend       6824 non-null   int64  \n",
      " 17  LongSignal              6824 non-null   int64  \n",
      "dtypes: float64(13), int64(5)\n",
      "memory usage: 1012.9 KB\n"
     ]
    }
   ],
   "source": [
    "df=dataframe['01-2019':'12-2020']\n",
    "df.info()"
   ]
  },
  {
   "cell_type": "code",
   "execution_count": 156,
   "metadata": {},
   "outputs": [
    {
     "data": {
      "text/plain": [
       "'LongSignal'"
      ]
     },
     "execution_count": 156,
     "metadata": {},
     "output_type": "execute_result"
    }
   ],
   "source": [
    "labelName=df.columns[-1]\n",
    "labelName"
   ]
  },
  {
   "cell_type": "code",
   "execution_count": 157,
   "metadata": {},
   "outputs": [],
   "source": [
    "\n",
    "X_df = df.drop(columns=labelName).astype(float)\n",
    "Y_df = df[labelName]"
   ]
  },
  {
   "cell_type": "code",
   "execution_count": 158,
   "metadata": {},
   "outputs": [
    {
     "data": {
      "text/html": [
       "<div>\n",
       "<style scoped>\n",
       "    .dataframe tbody tr th:only-of-type {\n",
       "        vertical-align: middle;\n",
       "    }\n",
       "\n",
       "    .dataframe tbody tr th {\n",
       "        vertical-align: top;\n",
       "    }\n",
       "\n",
       "    .dataframe thead th {\n",
       "        text-align: right;\n",
       "    }\n",
       "</style>\n",
       "<table border=\"1\" class=\"dataframe\">\n",
       "  <thead>\n",
       "    <tr style=\"text-align: right;\">\n",
       "      <th></th>\n",
       "      <th>indy_ma-550</th>\n",
       "      <th>indy_ma-1100</th>\n",
       "      <th>indy_hh-550</th>\n",
       "      <th>indy_ll-550</th>\n",
       "      <th>indy_mid-550</th>\n",
       "      <th>indy_hh2-1100</th>\n",
       "      <th>indy_ll2-1100</th>\n",
       "      <th>indy_mid2-1100</th>\n",
       "      <th>indy_macd110-440</th>\n",
       "      <th>indy_signal110-440-110</th>\n",
       "      <th>indy_hist_macd110-440</th>\n",
       "      <th>indy_rsi25-ma20</th>\n",
       "      <th>indy_6ATRTrail_DC-110</th>\n",
       "      <th>cate_3trend-550_ma110</th>\n",
       "      <th>cate_2trend-1100_ma220</th>\n",
       "      <th>cate_rannkHL1100-ma66</th>\n",
       "      <th>cate_CombineTrend</th>\n",
       "    </tr>\n",
       "    <tr>\n",
       "      <th>datetime</th>\n",
       "      <th></th>\n",
       "      <th></th>\n",
       "      <th></th>\n",
       "      <th></th>\n",
       "      <th></th>\n",
       "      <th></th>\n",
       "      <th></th>\n",
       "      <th></th>\n",
       "      <th></th>\n",
       "      <th></th>\n",
       "      <th></th>\n",
       "      <th></th>\n",
       "      <th></th>\n",
       "      <th></th>\n",
       "      <th></th>\n",
       "      <th></th>\n",
       "      <th></th>\n",
       "    </tr>\n",
       "  </thead>\n",
       "  <tbody>\n",
       "    <tr>\n",
       "      <th>2019-01-02 09:45:00</th>\n",
       "      <td>1076.48</td>\n",
       "      <td>1085.09</td>\n",
       "      <td>1123.2</td>\n",
       "      <td>1022.6</td>\n",
       "      <td>1072.9</td>\n",
       "      <td>1125.0</td>\n",
       "      <td>1022.6</td>\n",
       "      <td>1073.8</td>\n",
       "      <td>-29.84</td>\n",
       "      <td>-24.72</td>\n",
       "      <td>-5.12</td>\n",
       "      <td>45.39</td>\n",
       "      <td>1049.31</td>\n",
       "      <td>1.0</td>\n",
       "      <td>0.0</td>\n",
       "      <td>3.0</td>\n",
       "      <td>2.0</td>\n",
       "    </tr>\n",
       "    <tr>\n",
       "      <th>2019-01-02 10:00:00</th>\n",
       "      <td>1076.41</td>\n",
       "      <td>1085.02</td>\n",
       "      <td>1123.2</td>\n",
       "      <td>1022.6</td>\n",
       "      <td>1072.9</td>\n",
       "      <td>1124.6</td>\n",
       "      <td>1022.6</td>\n",
       "      <td>1073.6</td>\n",
       "      <td>-29.91</td>\n",
       "      <td>-24.80</td>\n",
       "      <td>-5.11</td>\n",
       "      <td>45.98</td>\n",
       "      <td>1049.19</td>\n",
       "      <td>1.0</td>\n",
       "      <td>0.0</td>\n",
       "      <td>3.0</td>\n",
       "      <td>2.0</td>\n",
       "    </tr>\n",
       "    <tr>\n",
       "      <th>2019-01-02 10:15:00</th>\n",
       "      <td>1076.35</td>\n",
       "      <td>1084.94</td>\n",
       "      <td>1123.2</td>\n",
       "      <td>1022.6</td>\n",
       "      <td>1072.9</td>\n",
       "      <td>1124.0</td>\n",
       "      <td>1022.6</td>\n",
       "      <td>1073.3</td>\n",
       "      <td>-29.97</td>\n",
       "      <td>-24.88</td>\n",
       "      <td>-5.09</td>\n",
       "      <td>46.57</td>\n",
       "      <td>1049.23</td>\n",
       "      <td>1.0</td>\n",
       "      <td>0.0</td>\n",
       "      <td>3.0</td>\n",
       "      <td>2.0</td>\n",
       "    </tr>\n",
       "  </tbody>\n",
       "</table>\n",
       "</div>"
      ],
      "text/plain": [
       "                     indy_ma-550  indy_ma-1100  indy_hh-550  indy_ll-550  \\\n",
       "datetime                                                                   \n",
       "2019-01-02 09:45:00      1076.48       1085.09       1123.2       1022.6   \n",
       "2019-01-02 10:00:00      1076.41       1085.02       1123.2       1022.6   \n",
       "2019-01-02 10:15:00      1076.35       1084.94       1123.2       1022.6   \n",
       "\n",
       "                     indy_mid-550  indy_hh2-1100  indy_ll2-1100  \\\n",
       "datetime                                                          \n",
       "2019-01-02 09:45:00        1072.9         1125.0         1022.6   \n",
       "2019-01-02 10:00:00        1072.9         1124.6         1022.6   \n",
       "2019-01-02 10:15:00        1072.9         1124.0         1022.6   \n",
       "\n",
       "                     indy_mid2-1100  indy_macd110-440  indy_signal110-440-110  \\\n",
       "datetime                                                                        \n",
       "2019-01-02 09:45:00          1073.8            -29.84                  -24.72   \n",
       "2019-01-02 10:00:00          1073.6            -29.91                  -24.80   \n",
       "2019-01-02 10:15:00          1073.3            -29.97                  -24.88   \n",
       "\n",
       "                     indy_hist_macd110-440  indy_rsi25-ma20  \\\n",
       "datetime                                                      \n",
       "2019-01-02 09:45:00                  -5.12            45.39   \n",
       "2019-01-02 10:00:00                  -5.11            45.98   \n",
       "2019-01-02 10:15:00                  -5.09            46.57   \n",
       "\n",
       "                     indy_6ATRTrail_DC-110  cate_3trend-550_ma110  \\\n",
       "datetime                                                            \n",
       "2019-01-02 09:45:00                1049.31                    1.0   \n",
       "2019-01-02 10:00:00                1049.19                    1.0   \n",
       "2019-01-02 10:15:00                1049.23                    1.0   \n",
       "\n",
       "                     cate_2trend-1100_ma220  cate_rannkHL1100-ma66  \\\n",
       "datetime                                                             \n",
       "2019-01-02 09:45:00                     0.0                    3.0   \n",
       "2019-01-02 10:00:00                     0.0                    3.0   \n",
       "2019-01-02 10:15:00                     0.0                    3.0   \n",
       "\n",
       "                     cate_CombineTrend  \n",
       "datetime                                \n",
       "2019-01-02 09:45:00                2.0  \n",
       "2019-01-02 10:00:00                2.0  \n",
       "2019-01-02 10:15:00                2.0  "
      ]
     },
     "execution_count": 158,
     "metadata": {},
     "output_type": "execute_result"
    }
   ],
   "source": [
    "X_df.head(3)"
   ]
  },
  {
   "cell_type": "code",
   "execution_count": 159,
   "metadata": {},
   "outputs": [
    {
     "data": {
      "text/plain": [
       "datetime\n",
       "2019-01-02 09:45:00    0\n",
       "2019-01-02 10:00:00    0\n",
       "2019-01-02 10:15:00    0\n",
       "Name: LongSignal, dtype: int64"
      ]
     },
     "execution_count": 159,
     "metadata": {},
     "output_type": "execute_result"
    }
   ],
   "source": [
    "Y_df.head(3)"
   ]
  },
  {
   "cell_type": "code",
   "execution_count": 160,
   "metadata": {},
   "outputs": [
    {
     "name": "stdout",
     "output_type": "stream",
     "text": [
      "(6824, 17)\n",
      "(6824,)\n"
     ]
    }
   ],
   "source": [
    "# split into input (X) and output (Y) variables\n",
    "X = X_df.to_numpy()\n",
    "y =Y_df.to_numpy()\n",
    "print(X.shape)\n",
    "print(y.shape)"
   ]
  },
  {
   "cell_type": "code",
   "execution_count": 161,
   "metadata": {},
   "outputs": [
    {
     "name": "stdout",
     "output_type": "stream",
     "text": [
      "D:\\PythonJupyter\\MyDev\\FinPythonLab\\ML-S50F\\ML-S50F\\Lab-S5-F-DNN\\models\\long_MLP-Pipeline_17x34x17_epo150_btch32__tn2007-2018_ts2019_180520_1944_pipeline.pkl True\n",
      "D:\\PythonJupyter\\MyDev\\FinPythonLab\\ML-S50F\\ML-S50F\\Lab-S5-F-DNN\\models\\long_MLP-Pipeline_17x34x17_epo150_btch32__tn2007-2018_ts2019_180520_1944_model.h5 True\n"
     ]
    }
   ],
   "source": [
    "\n",
    "pkl_path=f'{ml_path}{pkl_file}'\n",
    "print(f'{pkl_path}',os.path.exists(pkl_path))\n",
    "      \n",
    "h5model_path=f'{ml_path}{h5model_file}'\n",
    "print(f'{h5model_path}',os.path.exists(h5model_path))\n",
    "\n"
   ]
  },
  {
   "cell_type": "code",
   "execution_count": 162,
   "metadata": {},
   "outputs": [
    {
     "name": "stdout",
     "output_type": "stream",
     "text": [
      "Before Adding MLP  Pipeline(memory=None,\n",
      "         steps=[('standardize',\n",
      "                 StandardScaler(copy=True, with_mean=True, with_std=True))],\n",
      "         verbose=False)\n"
     ]
    }
   ],
   "source": [
    "\n",
    "pipe = joblib.load(pkl_path)\n",
    "print('Before Adding MLP ',pipe)\n"
   ]
  },
  {
   "cell_type": "code",
   "execution_count": 163,
   "metadata": {},
   "outputs": [
    {
     "name": "stdout",
     "output_type": "stream",
     "text": [
      "MLP  <keras.engine.sequential.Sequential object at 0x0000025A56601708>\n"
     ]
    }
   ],
   "source": [
    "\n",
    "model = models.load_model(h5model_path)\n",
    "print('MLP ',model)\n",
    "\n"
   ]
  },
  {
   "cell_type": "code",
   "execution_count": 164,
   "metadata": {},
   "outputs": [
    {
     "name": "stdout",
     "output_type": "stream",
     "text": [
      "After Added MLP  Pipeline(memory=None,\n",
      "         steps=[('standardize',\n",
      "                 StandardScaler(copy=True, with_mean=True, with_std=True)),\n",
      "                ('mlp',\n",
      "                 <keras.engine.sequential.Sequential object at 0x0000025A56601708>)],\n",
      "         verbose=False)\n"
     ]
    }
   ],
   "source": [
    "\n",
    "\n",
    "pipe.steps.append(('mlp', model))\n",
    "print('After Added MLP ',pipe)"
   ]
  },
  {
   "cell_type": "code",
   "execution_count": 165,
   "metadata": {},
   "outputs": [],
   "source": [
    "pred = pipe.predict_proba(X)[:, 0]\n",
    "\n"
   ]
  },
  {
   "cell_type": "code",
   "execution_count": 166,
   "metadata": {},
   "outputs": [],
   "source": [
    "prediction_df = pd.DataFrame(data={\n",
    "    'acutal_y': y.astype(int),\n",
    "    'predictProb_y': pred\n",
    "}, index=X_df.index)\n"
   ]
  },
  {
   "cell_type": "code",
   "execution_count": 167,
   "metadata": {},
   "outputs": [
    {
     "data": {
      "text/html": [
       "<div>\n",
       "<style scoped>\n",
       "    .dataframe tbody tr th:only-of-type {\n",
       "        vertical-align: middle;\n",
       "    }\n",
       "\n",
       "    .dataframe tbody tr th {\n",
       "        vertical-align: top;\n",
       "    }\n",
       "\n",
       "    .dataframe thead th {\n",
       "        text-align: right;\n",
       "    }\n",
       "</style>\n",
       "<table border=\"1\" class=\"dataframe\">\n",
       "  <thead>\n",
       "    <tr style=\"text-align: right;\">\n",
       "      <th></th>\n",
       "      <th>acutal_y</th>\n",
       "      <th>predictProb_y</th>\n",
       "      <th>predict_y</th>\n",
       "    </tr>\n",
       "    <tr>\n",
       "      <th>datetime</th>\n",
       "      <th></th>\n",
       "      <th></th>\n",
       "      <th></th>\n",
       "    </tr>\n",
       "  </thead>\n",
       "  <tbody>\n",
       "    <tr>\n",
       "      <th>2019-02-26 12:00:00</th>\n",
       "      <td>1</td>\n",
       "      <td>0.748519</td>\n",
       "      <td>1</td>\n",
       "    </tr>\n",
       "    <tr>\n",
       "      <th>2019-01-02 15:45:00</th>\n",
       "      <td>0</td>\n",
       "      <td>0.001591</td>\n",
       "      <td>0</td>\n",
       "    </tr>\n",
       "    <tr>\n",
       "      <th>2019-11-29 16:30:00</th>\n",
       "      <td>0</td>\n",
       "      <td>0.008262</td>\n",
       "      <td>0</td>\n",
       "    </tr>\n",
       "    <tr>\n",
       "      <th>2019-05-29 14:30:00</th>\n",
       "      <td>0</td>\n",
       "      <td>0.025337</td>\n",
       "      <td>0</td>\n",
       "    </tr>\n",
       "    <tr>\n",
       "      <th>2019-12-12 16:30:00</th>\n",
       "      <td>0</td>\n",
       "      <td>0.017651</td>\n",
       "      <td>0</td>\n",
       "    </tr>\n",
       "    <tr>\n",
       "      <th>2019-08-06 12:15:00</th>\n",
       "      <td>0</td>\n",
       "      <td>0.000258</td>\n",
       "      <td>0</td>\n",
       "    </tr>\n",
       "    <tr>\n",
       "      <th>2019-12-16 09:45:00</th>\n",
       "      <td>0</td>\n",
       "      <td>0.029941</td>\n",
       "      <td>0</td>\n",
       "    </tr>\n",
       "    <tr>\n",
       "      <th>2019-12-20 16:30:00</th>\n",
       "      <td>0</td>\n",
       "      <td>0.073687</td>\n",
       "      <td>0</td>\n",
       "    </tr>\n",
       "    <tr>\n",
       "      <th>2019-09-03 09:45:00</th>\n",
       "      <td>1</td>\n",
       "      <td>0.240793</td>\n",
       "      <td>0</td>\n",
       "    </tr>\n",
       "    <tr>\n",
       "      <th>2019-04-19 12:15:00</th>\n",
       "      <td>1</td>\n",
       "      <td>0.907284</td>\n",
       "      <td>1</td>\n",
       "    </tr>\n",
       "  </tbody>\n",
       "</table>\n",
       "</div>"
      ],
      "text/plain": [
       "                     acutal_y  predictProb_y  predict_y\n",
       "datetime                                               \n",
       "2019-02-26 12:00:00         1       0.748519          1\n",
       "2019-01-02 15:45:00         0       0.001591          0\n",
       "2019-11-29 16:30:00         0       0.008262          0\n",
       "2019-05-29 14:30:00         0       0.025337          0\n",
       "2019-12-12 16:30:00         0       0.017651          0\n",
       "2019-08-06 12:15:00         0       0.000258          0\n",
       "2019-12-16 09:45:00         0       0.029941          0\n",
       "2019-12-20 16:30:00         0       0.073687          0\n",
       "2019-09-03 09:45:00         1       0.240793          0\n",
       "2019-04-19 12:15:00         1       0.907284          1"
      ]
     },
     "execution_count": 167,
     "metadata": {},
     "output_type": "execute_result"
    }
   ],
   "source": [
    "prediction_df['predict_y']=np.where(prediction_df['predictProb_y']>=0.5,1,0)\n",
    "prediction_df.sample(10)"
   ]
  },
  {
   "cell_type": "code",
   "execution_count": 168,
   "metadata": {},
   "outputs": [
    {
     "data": {
      "text/plain": [
       "86.71"
      ]
     },
     "execution_count": 168,
     "metadata": {},
     "output_type": "execute_result"
    }
   ],
   "source": [
    "from sklearn.metrics import accuracy_score\n",
    "\n",
    "round(accuracy_score(prediction_df.acutal_y, prediction_df.predict_y,normalize=True)*100,2)"
   ]
  },
  {
   "cell_type": "code",
   "execution_count": 169,
   "metadata": {},
   "outputs": [
    {
     "data": {
      "text/plain": [
       "86.71"
      ]
     },
     "execution_count": 169,
     "metadata": {},
     "output_type": "execute_result"
    }
   ],
   "source": [
    "df_accurary=prediction_df.query('acutal_y==predict_y')\n",
    "round((df_accurary.shape[0]/prediction_df.shape[0])*100,2)"
   ]
  },
  {
   "cell_type": "code",
   "execution_count": 170,
   "metadata": {},
   "outputs": [
    {
     "data": {
      "text/plain": [
       "'D:\\\\PythonJupyter\\\\MyDev\\\\FinPythonLab\\\\ML-S50F\\\\ML-S50F\\\\Lab-S5-F-DNN\\\\results\\\\long_MLP-Pipeline_17x34x17_epo150_btch32__tn2007-2018_ts2019_180520_1944_resultA2.csv'"
      ]
     },
     "execution_count": 170,
     "metadata": {},
     "output_type": "execute_result"
    }
   ],
   "source": [
    "\n",
    "\n",
    "resultfile=h5model_file.replace('model.h5','resultA2')\n",
    "resultfile=f'{resultfile}.csv'\n",
    "\n",
    "result_path=f'{result_path}{resultfile}'\n",
    "result_path"
   ]
  },
  {
   "cell_type": "code",
   "execution_count": 171,
   "metadata": {},
   "outputs": [],
   "source": [
    "prediction_df.to_csv(result_path)"
   ]
  },
  {
   "cell_type": "code",
   "execution_count": null,
   "metadata": {},
   "outputs": [],
   "source": []
  },
  {
   "cell_type": "code",
   "execution_count": null,
   "metadata": {},
   "outputs": [],
   "source": []
  }
 ],
 "metadata": {
  "kernelspec": {
   "display_name": "Python 3",
   "language": "python",
   "name": "python3"
  },
  "language_info": {
   "codemirror_mode": {
    "name": "ipython",
    "version": 3
   },
   "file_extension": ".py",
   "mimetype": "text/x-python",
   "name": "python",
   "nbconvert_exporter": "python",
   "pygments_lexer": "ipython3",
   "version": "3.7.6"
  }
 },
 "nbformat": 4,
 "nbformat_minor": 4
}
