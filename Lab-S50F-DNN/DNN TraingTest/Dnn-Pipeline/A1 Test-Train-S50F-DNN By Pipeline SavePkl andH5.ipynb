{
 "cells": [
  {
   "cell_type": "markdown",
   "metadata": {},
   "source": [
    "# All Test-Train-S50F-DNN  with PipeLine\n",
    "\n",
    "\n",
    "Baseline Neural Network Model Performance\n",
    "\n",
    "https://gist.github.com/MaxHalford/9bfaa8daf8b4bc17a7fb7ba58c880675"
   ]
  },
  {
   "cell_type": "code",
   "execution_count": 99,
   "metadata": {},
   "outputs": [],
   "source": [
    "xseed=8\n",
    "\n",
    "from numpy.random import seed\n",
    "seed(xseed)\n",
    "from tensorflow import set_random_seed\n",
    "set_random_seed(xseed)"
   ]
  },
  {
   "cell_type": "code",
   "execution_count": 100,
   "metadata": {},
   "outputs": [],
   "source": [
    " # Binary Classification with Sonar Dataset: Baseline\n",
    "import numpy\n",
    "import pandas\n",
    "\n",
    "from keras.models import Sequential\n",
    "from keras.layers import Dense\n",
    "from keras.wrappers.scikit_learn import KerasClassifier\n",
    "from keras import models\n",
    "\n",
    "from keras.utils import np_utils\n",
    "\n",
    "from keras.layers import Dropout\n",
    "from keras.regularizers import l2\n",
    "from keras.optimizers import Adam\n",
    "from keras.optimizers import SGD\n",
    "from keras.optimizers import Adadelta\n",
    "from keras.constraints import maxnorm\n",
    "\n",
    "\n",
    "from sklearn.preprocessing import StandardScaler\n",
    "from sklearn.preprocessing import MinMaxScaler\n",
    "from sklearn.pipeline import Pipeline\n",
    "\n",
    "import joblib\n",
    "\n",
    "from keras.utils import to_categorical\n",
    "\n",
    "import os\n",
    "from datetime import datetime"
   ]
  },
  {
   "cell_type": "code",
   "execution_count": 101,
   "metadata": {},
   "outputs": [],
   "source": [
    "def CreateData(dfx,labelCol):\n",
    " \n",
    " X_df_temp =dfx.drop(columns=['open','high','low','close',labelCol])\n",
    " Y_df_temp = dfx[labelCol]\n",
    "\n",
    " Xtemp=X_df_temp.to_numpy()\n",
    " ytemp=Y_df_temp.to_numpy()\n",
    "\n",
    " return X_df_temp,Y_df_temp, Xtemp,ytemp"
   ]
  },
  {
   "cell_type": "code",
   "execution_count": 102,
   "metadata": {},
   "outputs": [],
   "source": [
    "result_path=os.path.abspath(r'D:\\JupyterCode\\ML-S50F\\Lab-S5-F-DNN\\results')\n",
    "ml_path=os.path.abspath(r'D:\\JupyterCode\\ML-S50F\\Lab-S5-F-DNN\\models')"
   ]
  },
  {
   "cell_type": "code",
   "execution_count": 103,
   "metadata": {},
   "outputs": [],
   "source": [
    "st='2007'\n",
    "ed='2018'\n",
    "\n",
    "test_st='2019'\n",
    "test_ed='2020'\n",
    "\n",
    "\n",
    "strategyName='long'"
   ]
  },
  {
   "cell_type": "code",
   "execution_count": 104,
   "metadata": {},
   "outputs": [
    {
     "name": "stdout",
     "output_type": "stream",
     "text": [
      "D:\\DataSets\\ML-Long_S50M15_07ToNow-Train.csv\n"
     ]
    }
   ],
   "source": [
    "filename='ML-Long_S50M15_07ToNow-Train.csv'\n",
    "filepath=os.path.abspath(f'D:\\DataSets\\/{filename}')\n",
    "print(filepath)\n"
   ]
  },
  {
   "cell_type": "markdown",
   "metadata": {},
   "source": [
    "# Train Data "
   ]
  },
  {
   "cell_type": "code",
   "execution_count": 105,
   "metadata": {},
   "outputs": [
    {
     "name": "stdout",
     "output_type": "stream",
     "text": [
      "(70693, 22)\n",
      "<class 'pandas.core.frame.DataFrame'>\n",
      "DatetimeIndex: 70693 entries, 2007-01-03 09:45:00 to 2020-06-10 16:45:00\n",
      "Data columns (total 22 columns):\n",
      " #   Column                  Non-Null Count  Dtype  \n",
      "---  ------                  --------------  -----  \n",
      " 0   open                    70693 non-null  float64\n",
      " 1   high                    70693 non-null  float64\n",
      " 2   low                     70693 non-null  float64\n",
      " 3   close                   70693 non-null  float64\n",
      " 4   indy_ma-550             70693 non-null  float64\n",
      " 5   indy_ma-1100            70693 non-null  float64\n",
      " 6   indy_hh-550             70693 non-null  float64\n",
      " 7   indy_ll-550             70693 non-null  float64\n",
      " 8   indy_mid-550            70693 non-null  float64\n",
      " 9   indy_hh2-1100           70693 non-null  float64\n",
      " 10  indy_ll2-1100           70693 non-null  float64\n",
      " 11  indy_mid2-1100          70693 non-null  float64\n",
      " 12  indy_macd110-440        70693 non-null  float64\n",
      " 13  indy_signal110-440-110  70693 non-null  float64\n",
      " 14  indy_hist_macd110-440   70693 non-null  float64\n",
      " 15  indy_rsi25-ma20         70693 non-null  float64\n",
      " 16  indy_6ATRTrail_DC-110   70693 non-null  float64\n",
      " 17  cate_3trend-550_ma110   70693 non-null  int64  \n",
      " 18  cate_2trend-1100_ma220  70693 non-null  int64  \n",
      " 19  cate_rannkHL1100-ma66   70693 non-null  int64  \n",
      " 20  cate_CombineTrend       70693 non-null  int64  \n",
      " 21  LongSignal              70693 non-null  int64  \n",
      "dtypes: float64(17), int64(5)\n",
      "memory usage: 12.4 MB\n"
     ]
    }
   ],
   "source": [
    "# load dataset\n",
    "\n",
    "dataframe = pandas.read_csv(filepath,index_col=\"datetime\", parse_dates=['datetime'],dayfirst=True)\n",
    "                                                 \n",
    "print(dataframe.shape)\n",
    "\n",
    "                     \n",
    "dataframe.info()"
   ]
  },
  {
   "cell_type": "code",
   "execution_count": 106,
   "metadata": {},
   "outputs": [
    {
     "name": "stdout",
     "output_type": "stream",
     "text": [
      "<class 'pandas.core.frame.DataFrame'>\n",
      "DatetimeIndex: 62855 entries, 2007-01-03 09:45:00 to 2018-12-28 16:45:00\n",
      "Data columns (total 22 columns):\n",
      " #   Column                  Non-Null Count  Dtype  \n",
      "---  ------                  --------------  -----  \n",
      " 0   open                    62855 non-null  float64\n",
      " 1   high                    62855 non-null  float64\n",
      " 2   low                     62855 non-null  float64\n",
      " 3   close                   62855 non-null  float64\n",
      " 4   indy_ma-550             62855 non-null  float64\n",
      " 5   indy_ma-1100            62855 non-null  float64\n",
      " 6   indy_hh-550             62855 non-null  float64\n",
      " 7   indy_ll-550             62855 non-null  float64\n",
      " 8   indy_mid-550            62855 non-null  float64\n",
      " 9   indy_hh2-1100           62855 non-null  float64\n",
      " 10  indy_ll2-1100           62855 non-null  float64\n",
      " 11  indy_mid2-1100          62855 non-null  float64\n",
      " 12  indy_macd110-440        62855 non-null  float64\n",
      " 13  indy_signal110-440-110  62855 non-null  float64\n",
      " 14  indy_hist_macd110-440   62855 non-null  float64\n",
      " 15  indy_rsi25-ma20         62855 non-null  float64\n",
      " 16  indy_6ATRTrail_DC-110   62855 non-null  float64\n",
      " 17  cate_3trend-550_ma110   62855 non-null  int64  \n",
      " 18  cate_2trend-1100_ma220  62855 non-null  int64  \n",
      " 19  cate_rannkHL1100-ma66   62855 non-null  int64  \n",
      " 20  cate_CombineTrend       62855 non-null  int64  \n",
      " 21  LongSignal              62855 non-null  int64  \n",
      "dtypes: float64(17), int64(5)\n",
      "memory usage: 11.0 MB\n"
     ]
    }
   ],
   "source": [
    "df=dataframe[st:ed]\n",
    "\n",
    "df.info()"
   ]
  },
  {
   "cell_type": "code",
   "execution_count": 107,
   "metadata": {},
   "outputs": [
    {
     "data": {
      "text/plain": [
       "'LongSignal'"
      ]
     },
     "execution_count": 107,
     "metadata": {},
     "output_type": "execute_result"
    }
   ],
   "source": [
    "labelName=dataframe.columns[-1]\n",
    "labelName"
   ]
  },
  {
   "cell_type": "code",
   "execution_count": 108,
   "metadata": {},
   "outputs": [],
   "source": [
    "X_df,y_df,X_train,y_train=CreateData(df,labelName)\n"
   ]
  },
  {
   "cell_type": "code",
   "execution_count": 109,
   "metadata": {},
   "outputs": [
    {
     "data": {
      "text/html": [
       "<div>\n",
       "<style scoped>\n",
       "    .dataframe tbody tr th:only-of-type {\n",
       "        vertical-align: middle;\n",
       "    }\n",
       "\n",
       "    .dataframe tbody tr th {\n",
       "        vertical-align: top;\n",
       "    }\n",
       "\n",
       "    .dataframe thead th {\n",
       "        text-align: right;\n",
       "    }\n",
       "</style>\n",
       "<table border=\"1\" class=\"dataframe\">\n",
       "  <thead>\n",
       "    <tr style=\"text-align: right;\">\n",
       "      <th></th>\n",
       "      <th>indy_ma-550</th>\n",
       "      <th>indy_ma-1100</th>\n",
       "      <th>indy_hh-550</th>\n",
       "      <th>indy_ll-550</th>\n",
       "      <th>indy_mid-550</th>\n",
       "      <th>indy_hh2-1100</th>\n",
       "      <th>indy_ll2-1100</th>\n",
       "      <th>indy_mid2-1100</th>\n",
       "      <th>indy_macd110-440</th>\n",
       "      <th>indy_signal110-440-110</th>\n",
       "      <th>indy_hist_macd110-440</th>\n",
       "      <th>indy_rsi25-ma20</th>\n",
       "      <th>indy_6ATRTrail_DC-110</th>\n",
       "      <th>cate_3trend-550_ma110</th>\n",
       "      <th>cate_2trend-1100_ma220</th>\n",
       "      <th>cate_rannkHL1100-ma66</th>\n",
       "      <th>cate_CombineTrend</th>\n",
       "    </tr>\n",
       "    <tr>\n",
       "      <th>datetime</th>\n",
       "      <th></th>\n",
       "      <th></th>\n",
       "      <th></th>\n",
       "      <th></th>\n",
       "      <th></th>\n",
       "      <th></th>\n",
       "      <th></th>\n",
       "      <th></th>\n",
       "      <th></th>\n",
       "      <th></th>\n",
       "      <th></th>\n",
       "      <th></th>\n",
       "      <th></th>\n",
       "      <th></th>\n",
       "      <th></th>\n",
       "      <th></th>\n",
       "      <th></th>\n",
       "    </tr>\n",
       "  </thead>\n",
       "  <tbody>\n",
       "    <tr>\n",
       "      <th>2018-12-28 16:15:00</th>\n",
       "      <td>1076.66</td>\n",
       "      <td>1085.30</td>\n",
       "      <td>1123.2</td>\n",
       "      <td>1022.6</td>\n",
       "      <td>1072.9</td>\n",
       "      <td>1125.0</td>\n",
       "      <td>1022.6</td>\n",
       "      <td>1073.8</td>\n",
       "      <td>-29.61</td>\n",
       "      <td>-24.48</td>\n",
       "      <td>-5.13</td>\n",
       "      <td>43.43</td>\n",
       "      <td>1051.53</td>\n",
       "      <td>1</td>\n",
       "      <td>0</td>\n",
       "      <td>3</td>\n",
       "      <td>2</td>\n",
       "    </tr>\n",
       "    <tr>\n",
       "      <th>2018-12-28 16:30:00</th>\n",
       "      <td>1076.60</td>\n",
       "      <td>1085.23</td>\n",
       "      <td>1123.2</td>\n",
       "      <td>1022.6</td>\n",
       "      <td>1072.9</td>\n",
       "      <td>1125.0</td>\n",
       "      <td>1022.6</td>\n",
       "      <td>1073.8</td>\n",
       "      <td>-29.75</td>\n",
       "      <td>-24.56</td>\n",
       "      <td>-5.19</td>\n",
       "      <td>43.98</td>\n",
       "      <td>1050.89</td>\n",
       "      <td>1</td>\n",
       "      <td>0</td>\n",
       "      <td>3</td>\n",
       "      <td>2</td>\n",
       "    </tr>\n",
       "    <tr>\n",
       "      <th>2018-12-28 16:45:00</th>\n",
       "      <td>1076.53</td>\n",
       "      <td>1085.16</td>\n",
       "      <td>1123.2</td>\n",
       "      <td>1022.6</td>\n",
       "      <td>1072.9</td>\n",
       "      <td>1125.0</td>\n",
       "      <td>1022.6</td>\n",
       "      <td>1073.8</td>\n",
       "      <td>-29.81</td>\n",
       "      <td>-24.64</td>\n",
       "      <td>-5.17</td>\n",
       "      <td>44.65</td>\n",
       "      <td>1049.59</td>\n",
       "      <td>1</td>\n",
       "      <td>0</td>\n",
       "      <td>3</td>\n",
       "      <td>2</td>\n",
       "    </tr>\n",
       "  </tbody>\n",
       "</table>\n",
       "</div>"
      ],
      "text/plain": [
       "                     indy_ma-550  indy_ma-1100  indy_hh-550  indy_ll-550  \\\n",
       "datetime                                                                   \n",
       "2018-12-28 16:15:00      1076.66       1085.30       1123.2       1022.6   \n",
       "2018-12-28 16:30:00      1076.60       1085.23       1123.2       1022.6   \n",
       "2018-12-28 16:45:00      1076.53       1085.16       1123.2       1022.6   \n",
       "\n",
       "                     indy_mid-550  indy_hh2-1100  indy_ll2-1100  \\\n",
       "datetime                                                          \n",
       "2018-12-28 16:15:00        1072.9         1125.0         1022.6   \n",
       "2018-12-28 16:30:00        1072.9         1125.0         1022.6   \n",
       "2018-12-28 16:45:00        1072.9         1125.0         1022.6   \n",
       "\n",
       "                     indy_mid2-1100  indy_macd110-440  indy_signal110-440-110  \\\n",
       "datetime                                                                        \n",
       "2018-12-28 16:15:00          1073.8            -29.61                  -24.48   \n",
       "2018-12-28 16:30:00          1073.8            -29.75                  -24.56   \n",
       "2018-12-28 16:45:00          1073.8            -29.81                  -24.64   \n",
       "\n",
       "                     indy_hist_macd110-440  indy_rsi25-ma20  \\\n",
       "datetime                                                      \n",
       "2018-12-28 16:15:00                  -5.13            43.43   \n",
       "2018-12-28 16:30:00                  -5.19            43.98   \n",
       "2018-12-28 16:45:00                  -5.17            44.65   \n",
       "\n",
       "                     indy_6ATRTrail_DC-110  cate_3trend-550_ma110  \\\n",
       "datetime                                                            \n",
       "2018-12-28 16:15:00                1051.53                      1   \n",
       "2018-12-28 16:30:00                1050.89                      1   \n",
       "2018-12-28 16:45:00                1049.59                      1   \n",
       "\n",
       "                     cate_2trend-1100_ma220  cate_rannkHL1100-ma66  \\\n",
       "datetime                                                             \n",
       "2018-12-28 16:15:00                       0                      3   \n",
       "2018-12-28 16:30:00                       0                      3   \n",
       "2018-12-28 16:45:00                       0                      3   \n",
       "\n",
       "                     cate_CombineTrend  \n",
       "datetime                                \n",
       "2018-12-28 16:15:00                  2  \n",
       "2018-12-28 16:30:00                  2  \n",
       "2018-12-28 16:45:00                  2  "
      ]
     },
     "execution_count": 109,
     "metadata": {},
     "output_type": "execute_result"
    }
   ],
   "source": [
    "X_df.tail(3)"
   ]
  },
  {
   "cell_type": "code",
   "execution_count": 110,
   "metadata": {},
   "outputs": [
    {
     "data": {
      "text/plain": [
       "datetime\n",
       "2018-12-28 16:15:00    0\n",
       "2018-12-28 16:30:00    0\n",
       "2018-12-28 16:45:00    0\n",
       "Name: LongSignal, dtype: int64"
      ]
     },
     "execution_count": 110,
     "metadata": {},
     "output_type": "execute_result"
    }
   ],
   "source": [
    "y_df.tail(3)"
   ]
  },
  {
   "cell_type": "markdown",
   "metadata": {},
   "source": [
    "# Test Data"
   ]
  },
  {
   "cell_type": "code",
   "execution_count": 111,
   "metadata": {},
   "outputs": [
    {
     "name": "stdout",
     "output_type": "stream",
     "text": [
      "<class 'pandas.core.frame.DataFrame'>\n",
      "DatetimeIndex: 7838 entries, 2019-01-02 09:45:00 to 2020-06-10 16:45:00\n",
      "Data columns (total 22 columns):\n",
      " #   Column                  Non-Null Count  Dtype  \n",
      "---  ------                  --------------  -----  \n",
      " 0   open                    7838 non-null   float64\n",
      " 1   high                    7838 non-null   float64\n",
      " 2   low                     7838 non-null   float64\n",
      " 3   close                   7838 non-null   float64\n",
      " 4   indy_ma-550             7838 non-null   float64\n",
      " 5   indy_ma-1100            7838 non-null   float64\n",
      " 6   indy_hh-550             7838 non-null   float64\n",
      " 7   indy_ll-550             7838 non-null   float64\n",
      " 8   indy_mid-550            7838 non-null   float64\n",
      " 9   indy_hh2-1100           7838 non-null   float64\n",
      " 10  indy_ll2-1100           7838 non-null   float64\n",
      " 11  indy_mid2-1100          7838 non-null   float64\n",
      " 12  indy_macd110-440        7838 non-null   float64\n",
      " 13  indy_signal110-440-110  7838 non-null   float64\n",
      " 14  indy_hist_macd110-440   7838 non-null   float64\n",
      " 15  indy_rsi25-ma20         7838 non-null   float64\n",
      " 16  indy_6ATRTrail_DC-110   7838 non-null   float64\n",
      " 17  cate_3trend-550_ma110   7838 non-null   int64  \n",
      " 18  cate_2trend-1100_ma220  7838 non-null   int64  \n",
      " 19  cate_rannkHL1100-ma66   7838 non-null   int64  \n",
      " 20  cate_CombineTrend       7838 non-null   int64  \n",
      " 21  LongSignal              7838 non-null   int64  \n",
      "dtypes: float64(17), int64(5)\n",
      "memory usage: 1.4 MB\n"
     ]
    }
   ],
   "source": [
    "#filename_test=filename\n",
    "'''\n",
    "filename_test='ML-Long_S50M15_19ToNow-Train_Demo.csv'\n",
    "filepath_test=os.path.abspath(f'D:\\Dev-Trong\\DataSet\\{filename_test}')\n",
    "print(filepath)\n",
    "dataframe_test = pandas.read_csv(filepath_test,index_col=\"datetime\", parse_dates=['datetime'],dayfirst=True)\n",
    "df_test=dataframe_test[test_st:test_ed]\n",
    "'''\n",
    "\n",
    "df_test=dataframe[test_st:test_ed]\n",
    "\n",
    "df_test.info()"
   ]
  },
  {
   "cell_type": "code",
   "execution_count": 112,
   "metadata": {},
   "outputs": [],
   "source": [
    "dfOHLC=df_test.loc[:,['open','high','low','close']]"
   ]
  },
  {
   "cell_type": "code",
   "execution_count": 113,
   "metadata": {},
   "outputs": [],
   "source": [
    "Xtest_df,ytest_df,X_test,y_test=CreateData(df_test,labelName)"
   ]
  },
  {
   "cell_type": "code",
   "execution_count": 114,
   "metadata": {},
   "outputs": [
    {
     "data": {
      "text/html": [
       "<div>\n",
       "<style scoped>\n",
       "    .dataframe tbody tr th:only-of-type {\n",
       "        vertical-align: middle;\n",
       "    }\n",
       "\n",
       "    .dataframe tbody tr th {\n",
       "        vertical-align: top;\n",
       "    }\n",
       "\n",
       "    .dataframe thead th {\n",
       "        text-align: right;\n",
       "    }\n",
       "</style>\n",
       "<table border=\"1\" class=\"dataframe\">\n",
       "  <thead>\n",
       "    <tr style=\"text-align: right;\">\n",
       "      <th></th>\n",
       "      <th>indy_ma-550</th>\n",
       "      <th>indy_ma-1100</th>\n",
       "      <th>indy_hh-550</th>\n",
       "      <th>indy_ll-550</th>\n",
       "      <th>indy_mid-550</th>\n",
       "      <th>indy_hh2-1100</th>\n",
       "      <th>indy_ll2-1100</th>\n",
       "      <th>indy_mid2-1100</th>\n",
       "      <th>indy_macd110-440</th>\n",
       "      <th>indy_signal110-440-110</th>\n",
       "      <th>indy_hist_macd110-440</th>\n",
       "      <th>indy_rsi25-ma20</th>\n",
       "      <th>indy_6ATRTrail_DC-110</th>\n",
       "      <th>cate_3trend-550_ma110</th>\n",
       "      <th>cate_2trend-1100_ma220</th>\n",
       "      <th>cate_rannkHL1100-ma66</th>\n",
       "      <th>cate_CombineTrend</th>\n",
       "    </tr>\n",
       "    <tr>\n",
       "      <th>datetime</th>\n",
       "      <th></th>\n",
       "      <th></th>\n",
       "      <th></th>\n",
       "      <th></th>\n",
       "      <th></th>\n",
       "      <th></th>\n",
       "      <th></th>\n",
       "      <th></th>\n",
       "      <th></th>\n",
       "      <th></th>\n",
       "      <th></th>\n",
       "      <th></th>\n",
       "      <th></th>\n",
       "      <th></th>\n",
       "      <th></th>\n",
       "      <th></th>\n",
       "      <th></th>\n",
       "    </tr>\n",
       "  </thead>\n",
       "  <tbody>\n",
       "    <tr>\n",
       "      <th>2020-06-10 15:45:00</th>\n",
       "      <td>887.42</td>\n",
       "      <td>847.35</td>\n",
       "      <td>977.9</td>\n",
       "      <td>834.2</td>\n",
       "      <td>906.05</td>\n",
       "      <td>977.9</td>\n",
       "      <td>715.3</td>\n",
       "      <td>846.6</td>\n",
       "      <td>56.29</td>\n",
       "      <td>40.88</td>\n",
       "      <td>15.40</td>\n",
       "      <td>45.45</td>\n",
       "      <td>952.83</td>\n",
       "      <td>3</td>\n",
       "      <td>1</td>\n",
       "      <td>4</td>\n",
       "      <td>4</td>\n",
       "    </tr>\n",
       "    <tr>\n",
       "      <th>2020-06-10 16:00:00</th>\n",
       "      <td>887.55</td>\n",
       "      <td>847.54</td>\n",
       "      <td>977.9</td>\n",
       "      <td>834.2</td>\n",
       "      <td>906.05</td>\n",
       "      <td>977.9</td>\n",
       "      <td>715.3</td>\n",
       "      <td>846.6</td>\n",
       "      <td>56.36</td>\n",
       "      <td>41.18</td>\n",
       "      <td>15.18</td>\n",
       "      <td>45.81</td>\n",
       "      <td>952.77</td>\n",
       "      <td>3</td>\n",
       "      <td>1</td>\n",
       "      <td>4</td>\n",
       "      <td>4</td>\n",
       "    </tr>\n",
       "    <tr>\n",
       "      <th>2020-06-10 16:15:00</th>\n",
       "      <td>887.68</td>\n",
       "      <td>847.74</td>\n",
       "      <td>977.9</td>\n",
       "      <td>834.2</td>\n",
       "      <td>906.05</td>\n",
       "      <td>977.9</td>\n",
       "      <td>715.3</td>\n",
       "      <td>846.6</td>\n",
       "      <td>56.43</td>\n",
       "      <td>41.48</td>\n",
       "      <td>14.95</td>\n",
       "      <td>46.25</td>\n",
       "      <td>952.82</td>\n",
       "      <td>3</td>\n",
       "      <td>1</td>\n",
       "      <td>4</td>\n",
       "      <td>4</td>\n",
       "    </tr>\n",
       "    <tr>\n",
       "      <th>2020-06-10 16:30:00</th>\n",
       "      <td>887.85</td>\n",
       "      <td>847.94</td>\n",
       "      <td>977.9</td>\n",
       "      <td>834.2</td>\n",
       "      <td>906.05</td>\n",
       "      <td>977.9</td>\n",
       "      <td>715.3</td>\n",
       "      <td>846.6</td>\n",
       "      <td>56.54</td>\n",
       "      <td>41.78</td>\n",
       "      <td>14.76</td>\n",
       "      <td>46.64</td>\n",
       "      <td>952.65</td>\n",
       "      <td>3</td>\n",
       "      <td>1</td>\n",
       "      <td>4</td>\n",
       "      <td>4</td>\n",
       "    </tr>\n",
       "    <tr>\n",
       "      <th>2020-06-10 16:45:00</th>\n",
       "      <td>888.02</td>\n",
       "      <td>848.15</td>\n",
       "      <td>977.9</td>\n",
       "      <td>834.2</td>\n",
       "      <td>906.05</td>\n",
       "      <td>977.9</td>\n",
       "      <td>715.3</td>\n",
       "      <td>846.6</td>\n",
       "      <td>56.64</td>\n",
       "      <td>42.07</td>\n",
       "      <td>14.57</td>\n",
       "      <td>47.13</td>\n",
       "      <td>952.71</td>\n",
       "      <td>3</td>\n",
       "      <td>1</td>\n",
       "      <td>4</td>\n",
       "      <td>4</td>\n",
       "    </tr>\n",
       "  </tbody>\n",
       "</table>\n",
       "</div>"
      ],
      "text/plain": [
       "                     indy_ma-550  indy_ma-1100  indy_hh-550  indy_ll-550  \\\n",
       "datetime                                                                   \n",
       "2020-06-10 15:45:00       887.42        847.35        977.9        834.2   \n",
       "2020-06-10 16:00:00       887.55        847.54        977.9        834.2   \n",
       "2020-06-10 16:15:00       887.68        847.74        977.9        834.2   \n",
       "2020-06-10 16:30:00       887.85        847.94        977.9        834.2   \n",
       "2020-06-10 16:45:00       888.02        848.15        977.9        834.2   \n",
       "\n",
       "                     indy_mid-550  indy_hh2-1100  indy_ll2-1100  \\\n",
       "datetime                                                          \n",
       "2020-06-10 15:45:00        906.05          977.9          715.3   \n",
       "2020-06-10 16:00:00        906.05          977.9          715.3   \n",
       "2020-06-10 16:15:00        906.05          977.9          715.3   \n",
       "2020-06-10 16:30:00        906.05          977.9          715.3   \n",
       "2020-06-10 16:45:00        906.05          977.9          715.3   \n",
       "\n",
       "                     indy_mid2-1100  indy_macd110-440  indy_signal110-440-110  \\\n",
       "datetime                                                                        \n",
       "2020-06-10 15:45:00           846.6             56.29                   40.88   \n",
       "2020-06-10 16:00:00           846.6             56.36                   41.18   \n",
       "2020-06-10 16:15:00           846.6             56.43                   41.48   \n",
       "2020-06-10 16:30:00           846.6             56.54                   41.78   \n",
       "2020-06-10 16:45:00           846.6             56.64                   42.07   \n",
       "\n",
       "                     indy_hist_macd110-440  indy_rsi25-ma20  \\\n",
       "datetime                                                      \n",
       "2020-06-10 15:45:00                  15.40            45.45   \n",
       "2020-06-10 16:00:00                  15.18            45.81   \n",
       "2020-06-10 16:15:00                  14.95            46.25   \n",
       "2020-06-10 16:30:00                  14.76            46.64   \n",
       "2020-06-10 16:45:00                  14.57            47.13   \n",
       "\n",
       "                     indy_6ATRTrail_DC-110  cate_3trend-550_ma110  \\\n",
       "datetime                                                            \n",
       "2020-06-10 15:45:00                 952.83                      3   \n",
       "2020-06-10 16:00:00                 952.77                      3   \n",
       "2020-06-10 16:15:00                 952.82                      3   \n",
       "2020-06-10 16:30:00                 952.65                      3   \n",
       "2020-06-10 16:45:00                 952.71                      3   \n",
       "\n",
       "                     cate_2trend-1100_ma220  cate_rannkHL1100-ma66  \\\n",
       "datetime                                                             \n",
       "2020-06-10 15:45:00                       1                      4   \n",
       "2020-06-10 16:00:00                       1                      4   \n",
       "2020-06-10 16:15:00                       1                      4   \n",
       "2020-06-10 16:30:00                       1                      4   \n",
       "2020-06-10 16:45:00                       1                      4   \n",
       "\n",
       "                     cate_CombineTrend  \n",
       "datetime                                \n",
       "2020-06-10 15:45:00                  4  \n",
       "2020-06-10 16:00:00                  4  \n",
       "2020-06-10 16:15:00                  4  \n",
       "2020-06-10 16:30:00                  4  \n",
       "2020-06-10 16:45:00                  4  "
      ]
     },
     "execution_count": 114,
     "metadata": {},
     "output_type": "execute_result"
    }
   ],
   "source": [
    "Xtest_df.tail(5)"
   ]
  },
  {
   "cell_type": "code",
   "execution_count": 115,
   "metadata": {},
   "outputs": [
    {
     "data": {
      "text/plain": [
       "datetime\n",
       "2020-06-10 15:45:00    1\n",
       "2020-06-10 16:00:00    1\n",
       "2020-06-10 16:15:00    1\n",
       "2020-06-10 16:30:00    1\n",
       "2020-06-10 16:45:00    1\n",
       "Name: LongSignal, dtype: int64"
      ]
     },
     "execution_count": 115,
     "metadata": {},
     "output_type": "execute_result"
    }
   ],
   "source": [
    "\n",
    "ytest_df.tail(5)"
   ]
  },
  {
   "cell_type": "code",
   "execution_count": 116,
   "metadata": {},
   "outputs": [
    {
     "name": "stdout",
     "output_type": "stream",
     "text": [
      "(62855, 17)\n",
      "(62855, 2)\n",
      "(7838, 17)\n",
      "(7838, 2)\n"
     ]
    }
   ],
   "source": [
    "#for categorical_crossentropy and softmax\n",
    "y_train=to_categorical(y_train)\n",
    "y_test=to_categorical(y_test)\n",
    "\n",
    "\n",
    "print(X_train.shape)\n",
    "print(y_train.shape)\n",
    "print(X_test.shape)\n",
    "print(y_test.shape)"
   ]
  },
  {
   "cell_type": "markdown",
   "metadata": {},
   "source": [
    "# Model Creation"
   ]
  },
  {
   "cell_type": "code",
   "execution_count": 119,
   "metadata": {},
   "outputs": [
    {
     "name": "stdout",
     "output_type": "stream",
     "text": [
      "Input-N = 17\n",
      "Epochs= 105\n",
      "Batch_size= 32\n",
      "Patience from epochs 52\n",
      "17x17x0_epo105_btch32\n"
     ]
    }
   ],
   "source": [
    "h1=17\n",
    "h2=17\n",
    "h3=0\n",
    "\n",
    "input_n=X_train.shape[1]\n",
    "\n",
    "xpoch=105\n",
    "\n",
    "#Epoch 00107: early stopping\n",
    "xbatch=32\n",
    "\n",
    "kernelInit='he_uniform'\n",
    "#kernelInit='he_normal'\n",
    "#kernel_initializer=\"glorot_uniform\"  #default\n",
    "\n",
    "patience_from_epoch=round( xpoch*0.5)\n",
    "\n",
    "print(\"Input-N =\",input_n)\n",
    "print('Epochs=',xpoch)\n",
    "print('Batch_size=',xbatch)\n",
    "print('Patience from epochs',patience_from_epoch )\n",
    "\n",
    "modelSelect=''\n",
    "\n",
    "modelHD_Title=f'{h1}x{h2}x{h3}_epo{xpoch}_btch{xbatch}'\n",
    "print(modelHD_Title)"
   ]
  },
  {
   "cell_type": "code",
   "execution_count": 120,
   "metadata": {},
   "outputs": [],
   "source": [
    "def ModelByAllTuning():\n",
    "    model_x=Sequential()\n",
    "    \n",
    "    param_dropout=0.02\n",
    "    vaMaxNorm_WC=4\n",
    "    \n",
    "    l2_val=0.00100000\n",
    "    \n",
    "     #input\n",
    "    model_x.add(Dropout(param_dropout, input_shape=(input_n,)))\n",
    "    \n",
    "    #layer#1\n",
    "    model_x.add(Dense(h1,activation=\"relu\", kernel_constraint=maxnorm(vaMaxNorm_WC),kernel_regularizer=l2(l2_val)))\n",
    "    #model_x.add(Dense(h1, kernel_initializer=kernelInit,activation=\"relu\", kernel_constraint=maxnorm(vaMaxNorm_WC),kernel_regularizer=l2(l2_val)))\n",
    "    model_x.add(Dropout(param_dropout))\n",
    "    \n",
    "    #layer#2\n",
    "    model_x.add(Dense(h2, activation=\"relu\", kernel_constraint=maxnorm(vaMaxNorm_WC),kernel_regularizer=l2(l2_val)))\n",
    "    #model_x.add(Dense(h2,kernel_initializer=kernelInit, activation=\"relu\", kernel_constraint=maxnorm(vaMaxNorm_WC),kernel_regularizer=l2(l2_val)))\n",
    "    model_x.add(Dropout(param_dropout))\n",
    "    \n",
    "    if y_train.ndim==2: # Convert to multil classification\n",
    "     print(\"# Convert to multil classification\")\n",
    "     model_x.add(Dense(2, activation='softmax'))\n",
    "     model_x.compile(loss='categorical_crossentropy', optimizer='adam', metrics=['accuracy'])\n",
    "    else :\n",
    "     model_x.add(Dense(1, activation=\"sigmoid\"))  \n",
    "     model_x.compile(loss='binary_crossentropy', optimizer='adam', metrics=['accuracy'])\n",
    "    \n",
    "\n",
    "    \n",
    "    return model_x"
   ]
  },
  {
   "cell_type": "code",
   "execution_count": 121,
   "metadata": {},
   "outputs": [],
   "source": [
    "\n",
    "#es = EarlyStopping(monitor='val_loss', mode='min', verbose=1, patience=patience_from_epoch)\n",
    "\n",
    "estimator_steps=[]\n",
    "\n",
    "#estimator_steps.append(('standardize', StandardScaler()))\n",
    "estimator_steps.append(('minmax_range', MinMaxScaler()))\n",
    "\n",
    "modelHD_Title=f'{modelHD_Title}_modeAllTunine'\n",
    "estimator_steps.append(('mlp', KerasClassifier(build_fn=ModelByAllTuning, epochs=xpoch, batch_size=xbatch)))\n",
    "\n",
    "#estimator_steps.append(('mlp', KerasClassifier(build_fn=ModelByAllTuning, epochs=xpoch, batch_size=xbatch,callbacks=[es])))\n",
    "\n",
    "\n",
    "mypipeline=Pipeline(estimator_steps)"
   ]
  },
  {
   "cell_type": "code",
   "execution_count": 122,
   "metadata": {},
   "outputs": [
    {
     "data": {
      "text/plain": [
       "Pipeline(memory=None,\n",
       "         steps=[('minmax_range', MinMaxScaler(copy=True, feature_range=(0, 1))),\n",
       "                ('mlp',\n",
       "                 <keras.wrappers.scikit_learn.KerasClassifier object at 0x00000234ED9AE348>)],\n",
       "         verbose=False)"
      ]
     },
     "execution_count": 122,
     "metadata": {},
     "output_type": "execute_result"
    }
   ],
   "source": [
    "mypipeline"
   ]
  },
  {
   "cell_type": "code",
   "execution_count": 123,
   "metadata": {},
   "outputs": [
    {
     "name": "stdout",
     "output_type": "stream",
     "text": [
      "# Convert to multil classification\n",
      "WARNING:tensorflow:From C:\\ProgramData\\Anaconda3\\lib\\site-packages\\keras\\backend\\tensorflow_backend.py:422: The name tf.global_variables is deprecated. Please use tf.compat.v1.global_variables instead.\n",
      "\n",
      "Epoch 1/105\n",
      "62855/62855 [==============================] - 2s 24us/step - loss: 0.4244 - accuracy: 0.8194\n",
      "Epoch 2/105\n",
      "62855/62855 [==============================] - 1s 22us/step - loss: 0.3830 - accuracy: 0.8363\n",
      "Epoch 3/105\n",
      "62855/62855 [==============================] - 1s 22us/step - loss: 0.3711 - accuracy: 0.8420\n",
      "Epoch 4/105\n",
      "62855/62855 [==============================] - 1s 23us/step - loss: 0.3656 - accuracy: 0.8433\n",
      "Epoch 5/105\n",
      "62855/62855 [==============================] - 2s 31us/step - loss: 0.3556 - accuracy: 0.8505\n",
      "Epoch 6/105\n",
      "62855/62855 [==============================] - 2s 34us/step - loss: 0.3499 - accuracy: 0.8529\n",
      "Epoch 7/105\n",
      "62855/62855 [==============================] - 2s 35us/step - loss: 0.3439 - accuracy: 0.8571\n",
      "Epoch 8/105\n",
      "62855/62855 [==============================] - 3s 40us/step - loss: 0.3376 - accuracy: 0.8612\n",
      "Epoch 9/105\n",
      "62855/62855 [==============================] - 2s 36us/step - loss: 0.3359 - accuracy: 0.8624\n",
      "Epoch 10/105\n",
      "62855/62855 [==============================] - 2s 36us/step - loss: 0.3338 - accuracy: 0.8629\n",
      "Epoch 11/105\n",
      "62855/62855 [==============================] - 2s 34us/step - loss: 0.3294 - accuracy: 0.8634\n",
      "Epoch 12/105\n",
      "62855/62855 [==============================] - 2s 33us/step - loss: 0.3278 - accuracy: 0.8664\n",
      "Epoch 13/105\n",
      "62855/62855 [==============================] - 2s 33us/step - loss: 0.3278 - accuracy: 0.8655\n",
      "Epoch 14/105\n",
      "62855/62855 [==============================] - 2s 33us/step - loss: 0.3229 - accuracy: 0.8689\n",
      "Epoch 15/105\n",
      "62855/62855 [==============================] - 2s 38us/step - loss: 0.3226 - accuracy: 0.8686\n",
      "Epoch 16/105\n",
      "62855/62855 [==============================] - 3s 42us/step - loss: 0.3207 - accuracy: 0.8691\n",
      "Epoch 17/105\n",
      "62855/62855 [==============================] - 2s 38us/step - loss: 0.3177 - accuracy: 0.8713\n",
      "Epoch 18/105\n",
      "62855/62855 [==============================] - 2s 33us/step - loss: 0.3147 - accuracy: 0.8722\n",
      "Epoch 19/105\n",
      "62855/62855 [==============================] - 2s 31us/step - loss: 0.3160 - accuracy: 0.8719\n",
      "Epoch 20/105\n",
      "62855/62855 [==============================] - 2s 32us/step - loss: 0.3120 - accuracy: 0.8739\n",
      "Epoch 21/105\n",
      "62855/62855 [==============================] - 2s 35us/step - loss: 0.3126 - accuracy: 0.8743\n",
      "Epoch 22/105\n",
      "62855/62855 [==============================] - 2s 38us/step - loss: 0.3097 - accuracy: 0.8758\n",
      "Epoch 23/105\n",
      "62855/62855 [==============================] - 2s 38us/step - loss: 0.3078 - accuracy: 0.8759\n",
      "Epoch 24/105\n",
      "62855/62855 [==============================] - 2s 34us/step - loss: 0.3077 - accuracy: 0.8748\n",
      "Epoch 25/105\n",
      "62855/62855 [==============================] - 3s 51us/step - loss: 0.3070 - accuracy: 0.8760\n",
      "Epoch 26/105\n",
      "62855/62855 [==============================] - 5s 74us/step - loss: 0.3051 - accuracy: 0.8773\n",
      "Epoch 27/105\n",
      "62855/62855 [==============================] - 2s 34us/step - loss: 0.3069 - accuracy: 0.8759\n",
      "Epoch 28/105\n",
      "62855/62855 [==============================] - 3s 43us/step - loss: 0.3044 - accuracy: 0.8784\n",
      "Epoch 29/105\n",
      "62855/62855 [==============================] - 2s 36us/step - loss: 0.3014 - accuracy: 0.8783\n",
      "Epoch 30/105\n",
      "62855/62855 [==============================] - 2s 33us/step - loss: 0.3036 - accuracy: 0.8774\n",
      "Epoch 31/105\n",
      "62855/62855 [==============================] - 2s 29us/step - loss: 0.2994 - accuracy: 0.8811\n",
      "Epoch 32/105\n",
      "62855/62855 [==============================] - 2s 31us/step - loss: 0.3011 - accuracy: 0.8784\n",
      "Epoch 33/105\n",
      "62855/62855 [==============================] - 2s 30us/step - loss: 0.2990 - accuracy: 0.8802\n",
      "Epoch 34/105\n",
      "62855/62855 [==============================] - 2s 28us/step - loss: 0.2983 - accuracy: 0.8808\n",
      "Epoch 35/105\n",
      "62855/62855 [==============================] - 2s 27us/step - loss: 0.2986 - accuracy: 0.8813\n",
      "Epoch 36/105\n",
      "62855/62855 [==============================] - 2s 34us/step - loss: 0.2957 - accuracy: 0.8818\n",
      "Epoch 37/105\n",
      "62855/62855 [==============================] - 2s 28us/step - loss: 0.2937 - accuracy: 0.8829\n",
      "Epoch 38/105\n",
      "62855/62855 [==============================] - 2s 29us/step - loss: 0.2940 - accuracy: 0.8823\n",
      "Epoch 39/105\n",
      "62855/62855 [==============================] - 2s 28us/step - loss: 0.2928 - accuracy: 0.8825\n",
      "Epoch 40/105\n",
      "62855/62855 [==============================] - 2s 27us/step - loss: 0.2914 - accuracy: 0.8841\n",
      "Epoch 41/105\n",
      "62855/62855 [==============================] - 2s 27us/step - loss: 0.2900 - accuracy: 0.8843\n",
      "Epoch 42/105\n",
      "62855/62855 [==============================] - 2s 29us/step - loss: 0.2893 - accuracy: 0.8846\n",
      "Epoch 43/105\n",
      "62855/62855 [==============================] - 2s 29us/step - loss: 0.2911 - accuracy: 0.8828\n",
      "Epoch 44/105\n",
      "62855/62855 [==============================] - 2s 35us/step - loss: 0.2918 - accuracy: 0.8829\n",
      "Epoch 45/105\n",
      "62855/62855 [==============================] - 2s 33us/step - loss: 0.2910 - accuracy: 0.8839\n",
      "Epoch 46/105\n",
      "62855/62855 [==============================] - 2s 33us/step - loss: 0.2894 - accuracy: 0.8853\n",
      "Epoch 47/105\n",
      "62855/62855 [==============================] - 2s 33us/step - loss: 0.2894 - accuracy: 0.8841\n",
      "Epoch 48/105\n",
      "62855/62855 [==============================] - 2s 35us/step - loss: 0.2883 - accuracy: 0.8848\n",
      "Epoch 49/105\n",
      "62855/62855 [==============================] - 2s 30us/step - loss: 0.2884 - accuracy: 0.8854\n",
      "Epoch 50/105\n",
      "62855/62855 [==============================] - 2s 33us/step - loss: 0.2888 - accuracy: 0.8848\n",
      "Epoch 51/105\n",
      "62855/62855 [==============================] - 2s 34us/step - loss: 0.2868 - accuracy: 0.8860\n",
      "Epoch 52/105\n",
      "62855/62855 [==============================] - 2s 31us/step - loss: 0.2843 - accuracy: 0.8884\n",
      "Epoch 53/105\n",
      "62855/62855 [==============================] - 2s 33us/step - loss: 0.2836 - accuracy: 0.8882\n",
      "Epoch 54/105\n",
      "62855/62855 [==============================] - 2s 30us/step - loss: 0.2861 - accuracy: 0.8872\n",
      "Epoch 55/105\n",
      "62855/62855 [==============================] - 2s 31us/step - loss: 0.2841 - accuracy: 0.8870\n",
      "Epoch 56/105\n",
      "62855/62855 [==============================] - 2s 33us/step - loss: 0.2821 - accuracy: 0.8892\n",
      "Epoch 57/105\n",
      "62855/62855 [==============================] - 2s 28us/step - loss: 0.2808 - accuracy: 0.8896\n",
      "Epoch 58/105\n",
      "62855/62855 [==============================] - 2s 29us/step - loss: 0.2805 - accuracy: 0.8884\n",
      "Epoch 59/105\n",
      "62855/62855 [==============================] - 2s 28us/step - loss: 0.2794 - accuracy: 0.8901\n",
      "Epoch 60/105\n",
      "62855/62855 [==============================] - 2s 32us/step - loss: 0.2781 - accuracy: 0.8901\n",
      "Epoch 61/105\n",
      "62855/62855 [==============================] - 3s 44us/step - loss: 0.2794 - accuracy: 0.8898\n",
      "Epoch 62/105\n",
      "62855/62855 [==============================] - 2s 30us/step - loss: 0.2795 - accuracy: 0.8904\n",
      "Epoch 63/105\n",
      "62855/62855 [==============================] - 2s 30us/step - loss: 0.2771 - accuracy: 0.8921\n",
      "Epoch 64/105\n",
      "62855/62855 [==============================] - 2s 28us/step - loss: 0.2776 - accuracy: 0.8912\n",
      "Epoch 65/105\n",
      "62855/62855 [==============================] - 2s 30us/step - loss: 0.2759 - accuracy: 0.8919\n",
      "Epoch 66/105\n",
      "62855/62855 [==============================] - 2s 32us/step - loss: 0.2766 - accuracy: 0.8906\n",
      "Epoch 67/105\n",
      "62855/62855 [==============================] - 2s 30us/step - loss: 0.2781 - accuracy: 0.8912\n",
      "Epoch 68/105\n",
      "62855/62855 [==============================] - 3s 41us/step - loss: 0.2757 - accuracy: 0.8926\n",
      "Epoch 69/105\n",
      "62855/62855 [==============================] - 4s 66us/step - loss: 0.2770 - accuracy: 0.8918\n",
      "Epoch 70/105\n",
      "62855/62855 [==============================] - 3s 50us/step - loss: 0.2737 - accuracy: 0.8928\n",
      "Epoch 71/105\n",
      "62855/62855 [==============================] - 3s 42us/step - loss: 0.2757 - accuracy: 0.8939\n",
      "Epoch 72/105\n",
      "62855/62855 [==============================] - 2s 36us/step - loss: 0.2726 - accuracy: 0.8937 0s - loss: 0.2737 - accu\n",
      "Epoch 73/105\n",
      "62855/62855 [==============================] - 2s 33us/step - loss: 0.2729 - accuracy: 0.8934\n",
      "Epoch 74/105\n",
      "62855/62855 [==============================] - 3s 52us/step - loss: 0.2733 - accuracy: 0.8948\n",
      "Epoch 75/105\n"
     ]
    },
    {
     "name": "stdout",
     "output_type": "stream",
     "text": [
      "62855/62855 [==============================] - 2s 38us/step - loss: 0.2724 - accuracy: 0.8939\n",
      "Epoch 76/105\n",
      "62855/62855 [==============================] - 2s 38us/step - loss: 0.2741 - accuracy: 0.8936\n",
      "Epoch 77/105\n",
      "62855/62855 [==============================] - 2s 36us/step - loss: 0.2709 - accuracy: 0.8962\n",
      "Epoch 78/105\n",
      "62855/62855 [==============================] - 2s 39us/step - loss: 0.2718 - accuracy: 0.8946 0s - loss: 0.2720 - ac\n",
      "Epoch 79/105\n",
      "62855/62855 [==============================] - 2s 37us/step - loss: 0.2699 - accuracy: 0.8949\n",
      "Epoch 80/105\n",
      "62855/62855 [==============================] - 2s 32us/step - loss: 0.2729 - accuracy: 0.8939\n",
      "Epoch 81/105\n",
      "62855/62855 [==============================] - 2s 34us/step - loss: 0.2698 - accuracy: 0.8967\n",
      "Epoch 82/105\n",
      "62855/62855 [==============================] - 2s 31us/step - loss: 0.2719 - accuracy: 0.8951\n",
      "Epoch 83/105\n",
      "62855/62855 [==============================] - 2s 31us/step - loss: 0.2700 - accuracy: 0.8962\n",
      "Epoch 84/105\n",
      "62855/62855 [==============================] - 2s 30us/step - loss: 0.2710 - accuracy: 0.8959\n",
      "Epoch 85/105\n",
      "62855/62855 [==============================] - 2s 29us/step - loss: 0.2727 - accuracy: 0.8936\n",
      "Epoch 86/105\n",
      "62855/62855 [==============================] - 2s 29us/step - loss: 0.2707 - accuracy: 0.8949\n",
      "Epoch 87/105\n",
      "62855/62855 [==============================] - 2s 32us/step - loss: 0.2684 - accuracy: 0.8962\n",
      "Epoch 88/105\n",
      "62855/62855 [==============================] - 2s 33us/step - loss: 0.2682 - accuracy: 0.8966\n",
      "Epoch 89/105\n",
      "62855/62855 [==============================] - 2s 36us/step - loss: 0.2684 - accuracy: 0.8974\n",
      "Epoch 90/105\n",
      "62855/62855 [==============================] - 2s 39us/step - loss: 0.2681 - accuracy: 0.8973\n",
      "Epoch 91/105\n",
      "62855/62855 [==============================] - 2s 37us/step - loss: 0.2675 - accuracy: 0.8967\n",
      "Epoch 92/105\n",
      "62855/62855 [==============================] - 2s 32us/step - loss: 0.2692 - accuracy: 0.8960\n",
      "Epoch 93/105\n",
      "62855/62855 [==============================] - 2s 32us/step - loss: 0.2677 - accuracy: 0.8962\n",
      "Epoch 94/105\n",
      "62855/62855 [==============================] - 2s 32us/step - loss: 0.2680 - accuracy: 0.8955\n",
      "Epoch 95/105\n",
      "62855/62855 [==============================] - 2s 29us/step - loss: 0.2667 - accuracy: 0.8968\n",
      "Epoch 96/105\n",
      "62855/62855 [==============================] - 2s 31us/step - loss: 0.2672 - accuracy: 0.8958\n",
      "Epoch 97/105\n",
      "62855/62855 [==============================] - 2s 30us/step - loss: 0.2673 - accuracy: 0.8971\n",
      "Epoch 98/105\n",
      "62855/62855 [==============================] - 2s 32us/step - loss: 0.2688 - accuracy: 0.8959\n",
      "Epoch 99/105\n",
      "62855/62855 [==============================] - 2s 32us/step - loss: 0.2679 - accuracy: 0.8973\n",
      "Epoch 100/105\n",
      "62855/62855 [==============================] - 2s 32us/step - loss: 0.2664 - accuracy: 0.8964\n",
      "Epoch 101/105\n",
      "62855/62855 [==============================] - 2s 33us/step - loss: 0.2643 - accuracy: 0.8984\n",
      "Epoch 102/105\n",
      "62855/62855 [==============================] - 2s 29us/step - loss: 0.2679 - accuracy: 0.8963\n",
      "Epoch 103/105\n",
      "62855/62855 [==============================] - 2s 27us/step - loss: 0.2666 - accuracy: 0.8969\n",
      "Epoch 104/105\n",
      "62855/62855 [==============================] - 2s 32us/step - loss: 0.2679 - accuracy: 0.8971\n",
      "Epoch 105/105\n",
      "62855/62855 [==============================] - 2s 33us/step - loss: 0.2681 - accuracy: 0.8960\n"
     ]
    },
    {
     "data": {
      "text/plain": [
       "Pipeline(memory=None,\n",
       "         steps=[('minmax_range', MinMaxScaler(copy=True, feature_range=(0, 1))),\n",
       "                ('mlp',\n",
       "                 <keras.wrappers.scikit_learn.KerasClassifier object at 0x00000234ED9AE348>)],\n",
       "         verbose=False)"
      ]
     },
     "execution_count": 123,
     "metadata": {},
     "output_type": "execute_result"
    }
   ],
   "source": [
    "mypipeline.fit(X_train,y_train)"
   ]
  },
  {
   "cell_type": "code",
   "execution_count": 124,
   "metadata": {},
   "outputs": [],
   "source": [
    "from sklearn.metrics import accuracy_score"
   ]
  },
  {
   "cell_type": "code",
   "execution_count": 125,
   "metadata": {},
   "outputs": [
    {
     "data": {
      "text/plain": [
       "Pipeline(memory=None,\n",
       "         steps=[('minmax_range', MinMaxScaler(copy=True, feature_range=(0, 1))),\n",
       "                ('mlp',\n",
       "                 <keras.wrappers.scikit_learn.KerasClassifier object at 0x00000234ED9AE348>)],\n",
       "         verbose=False)"
      ]
     },
     "execution_count": 125,
     "metadata": {},
     "output_type": "execute_result"
    }
   ],
   "source": [
    "mypipeline"
   ]
  },
  {
   "cell_type": "code",
   "execution_count": 127,
   "metadata": {},
   "outputs": [],
   "source": [
    "yPredicted =mypipeline.predict(X_test)\n",
    "predictions = [value for value in yPredicted]\n"
   ]
  },
  {
   "cell_type": "code",
   "execution_count": 128,
   "metadata": {},
   "outputs": [
    {
     "name": "stdout",
     "output_type": "stream",
     "text": [
      "[0, 0, 0, 0, 0, 0, 0, 0, 0, 0]\n"
     ]
    }
   ],
   "source": [
    "if y_train.ndim==2:\n",
    " y_test = [numpy.argmax(y, axis=None, out=None) for y in y_test]\n",
    " print(y_test[:10])"
   ]
  },
  {
   "cell_type": "code",
   "execution_count": 129,
   "metadata": {},
   "outputs": [
    {
     "name": "stdout",
     "output_type": "stream",
     "text": [
      "Accuracy: 80.80%\n"
     ]
    }
   ],
   "source": [
    "# evaluate predictions\n",
    "accuracy = accuracy_score(y_test, predictions)\n",
    "print(\"Accuracy: %.2f%%\" % (accuracy * 100.0))"
   ]
  },
  {
   "cell_type": "code",
   "execution_count": 130,
   "metadata": {},
   "outputs": [
    {
     "data": {
      "text/html": [
       "<div>\n",
       "<style scoped>\n",
       "    .dataframe tbody tr th:only-of-type {\n",
       "        vertical-align: middle;\n",
       "    }\n",
       "\n",
       "    .dataframe tbody tr th {\n",
       "        vertical-align: top;\n",
       "    }\n",
       "\n",
       "    .dataframe thead th {\n",
       "        text-align: right;\n",
       "    }\n",
       "</style>\n",
       "<table border=\"1\" class=\"dataframe\">\n",
       "  <thead>\n",
       "    <tr style=\"text-align: right;\">\n",
       "      <th></th>\n",
       "      <th>y_Actual</th>\n",
       "      <th>y_Predicted</th>\n",
       "    </tr>\n",
       "    <tr>\n",
       "      <th>datetime</th>\n",
       "      <th></th>\n",
       "      <th></th>\n",
       "    </tr>\n",
       "  </thead>\n",
       "  <tbody>\n",
       "    <tr>\n",
       "      <th>2020-06-10 15:45:00</th>\n",
       "      <td>1</td>\n",
       "      <td>1</td>\n",
       "    </tr>\n",
       "    <tr>\n",
       "      <th>2020-06-10 16:00:00</th>\n",
       "      <td>1</td>\n",
       "      <td>1</td>\n",
       "    </tr>\n",
       "    <tr>\n",
       "      <th>2020-06-10 16:15:00</th>\n",
       "      <td>1</td>\n",
       "      <td>1</td>\n",
       "    </tr>\n",
       "    <tr>\n",
       "      <th>2020-06-10 16:30:00</th>\n",
       "      <td>1</td>\n",
       "      <td>1</td>\n",
       "    </tr>\n",
       "    <tr>\n",
       "      <th>2020-06-10 16:45:00</th>\n",
       "      <td>1</td>\n",
       "      <td>1</td>\n",
       "    </tr>\n",
       "  </tbody>\n",
       "</table>\n",
       "</div>"
      ],
      "text/plain": [
       "                     y_Actual  y_Predicted\n",
       "datetime                                  \n",
       "2020-06-10 15:45:00         1            1\n",
       "2020-06-10 16:00:00         1            1\n",
       "2020-06-10 16:15:00         1            1\n",
       "2020-06-10 16:30:00         1            1\n",
       "2020-06-10 16:45:00         1            1"
      ]
     },
     "execution_count": 130,
     "metadata": {},
     "output_type": "execute_result"
    }
   ],
   "source": [
    "df_predictResult=pandas.DataFrame({'y_Actual':y_test,'y_Predicted':yPredicted.ravel()},index=df_test.index)\n",
    "df_predictResult.tail(5)"
   ]
  },
  {
   "cell_type": "code",
   "execution_count": 131,
   "metadata": {},
   "outputs": [
    {
     "name": "stdout",
     "output_type": "stream",
     "text": [
      "(7838, 2)\n"
     ]
    },
    {
     "data": {
      "text/plain": [
       "array([[9.9980897e-01, 1.9109686e-04],\n",
       "       [9.9980932e-01, 1.9070132e-04],\n",
       "       [9.9980956e-01, 1.9048979e-04],\n",
       "       [9.9980980e-01, 1.9021153e-04],\n",
       "       [9.9981040e-01, 1.8964491e-04]], dtype=float32)"
      ]
     },
     "execution_count": 131,
     "metadata": {},
     "output_type": "execute_result"
    }
   ],
   "source": [
    "yPredicted_prob = mypipeline.predict_proba(X_test)\n",
    "print(yPredicted_prob.shape)\n",
    "yPredicted_prob[:5]\n"
   ]
  },
  {
   "cell_type": "code",
   "execution_count": 132,
   "metadata": {},
   "outputs": [
    {
     "name": "stdout",
     "output_type": "stream",
     "text": [
      "(7838, 2)\n"
     ]
    },
    {
     "data": {
      "text/html": [
       "<div>\n",
       "<style scoped>\n",
       "    .dataframe tbody tr th:only-of-type {\n",
       "        vertical-align: middle;\n",
       "    }\n",
       "\n",
       "    .dataframe tbody tr th {\n",
       "        vertical-align: top;\n",
       "    }\n",
       "\n",
       "    .dataframe thead th {\n",
       "        text-align: right;\n",
       "    }\n",
       "</style>\n",
       "<table border=\"1\" class=\"dataframe\">\n",
       "  <thead>\n",
       "    <tr style=\"text-align: right;\">\n",
       "      <th></th>\n",
       "      <th>Prob0</th>\n",
       "      <th>Prob_1</th>\n",
       "    </tr>\n",
       "    <tr>\n",
       "      <th>datetime</th>\n",
       "      <th></th>\n",
       "      <th></th>\n",
       "    </tr>\n",
       "  </thead>\n",
       "  <tbody>\n",
       "    <tr>\n",
       "      <th>2020-06-10 15:45:00</th>\n",
       "      <td>0.223</td>\n",
       "      <td>0.777</td>\n",
       "    </tr>\n",
       "    <tr>\n",
       "      <th>2020-06-10 16:00:00</th>\n",
       "      <td>0.228</td>\n",
       "      <td>0.772</td>\n",
       "    </tr>\n",
       "    <tr>\n",
       "      <th>2020-06-10 16:15:00</th>\n",
       "      <td>0.234</td>\n",
       "      <td>0.766</td>\n",
       "    </tr>\n",
       "    <tr>\n",
       "      <th>2020-06-10 16:30:00</th>\n",
       "      <td>0.239</td>\n",
       "      <td>0.761</td>\n",
       "    </tr>\n",
       "    <tr>\n",
       "      <th>2020-06-10 16:45:00</th>\n",
       "      <td>0.244</td>\n",
       "      <td>0.756</td>\n",
       "    </tr>\n",
       "  </tbody>\n",
       "</table>\n",
       "</div>"
      ],
      "text/plain": [
       "                     Prob0  Prob_1\n",
       "datetime                          \n",
       "2020-06-10 15:45:00  0.223   0.777\n",
       "2020-06-10 16:00:00  0.228   0.772\n",
       "2020-06-10 16:15:00  0.234   0.766\n",
       "2020-06-10 16:30:00  0.239   0.761\n",
       "2020-06-10 16:45:00  0.244   0.756"
      ]
     },
     "execution_count": 132,
     "metadata": {},
     "output_type": "execute_result"
    }
   ],
   "source": [
    "df_predictProb=pandas.DataFrame(data=yPredicted_prob,columns=['Prob0','Prob_1'],index=df_test.index)\n",
    "print(df_predictProb.shape)\n",
    "df_predictProb.round(3).tail()\n"
   ]
  },
  {
   "cell_type": "code",
   "execution_count": 133,
   "metadata": {},
   "outputs": [
    {
     "data": {
      "text/html": [
       "<div>\n",
       "<style scoped>\n",
       "    .dataframe tbody tr th:only-of-type {\n",
       "        vertical-align: middle;\n",
       "    }\n",
       "\n",
       "    .dataframe tbody tr th {\n",
       "        vertical-align: top;\n",
       "    }\n",
       "\n",
       "    .dataframe thead th {\n",
       "        text-align: right;\n",
       "    }\n",
       "</style>\n",
       "<table border=\"1\" class=\"dataframe\">\n",
       "  <thead>\n",
       "    <tr style=\"text-align: right;\">\n",
       "      <th></th>\n",
       "      <th>open</th>\n",
       "      <th>high</th>\n",
       "      <th>low</th>\n",
       "      <th>close</th>\n",
       "      <th>y_Actual</th>\n",
       "      <th>y_Predicted</th>\n",
       "      <th>Prob0</th>\n",
       "      <th>Prob_1</th>\n",
       "    </tr>\n",
       "    <tr>\n",
       "      <th>datetime</th>\n",
       "      <th></th>\n",
       "      <th></th>\n",
       "      <th></th>\n",
       "      <th></th>\n",
       "      <th></th>\n",
       "      <th></th>\n",
       "      <th></th>\n",
       "      <th></th>\n",
       "    </tr>\n",
       "  </thead>\n",
       "  <tbody>\n",
       "    <tr>\n",
       "      <th>2019-01-02 09:45:00</th>\n",
       "      <td>1039.0</td>\n",
       "      <td>1046.4</td>\n",
       "      <td>1038.2</td>\n",
       "      <td>1044.3</td>\n",
       "      <td>0</td>\n",
       "      <td>0</td>\n",
       "      <td>0.999809</td>\n",
       "      <td>0.000191</td>\n",
       "    </tr>\n",
       "    <tr>\n",
       "      <th>2019-01-02 10:00:00</th>\n",
       "      <td>1044.4</td>\n",
       "      <td>1045.0</td>\n",
       "      <td>1039.7</td>\n",
       "      <td>1041.7</td>\n",
       "      <td>0</td>\n",
       "      <td>0</td>\n",
       "      <td>0.999809</td>\n",
       "      <td>0.000191</td>\n",
       "    </tr>\n",
       "    <tr>\n",
       "      <th>2019-01-02 10:15:00</th>\n",
       "      <td>1041.7</td>\n",
       "      <td>1044.1</td>\n",
       "      <td>1041.6</td>\n",
       "      <td>1043.0</td>\n",
       "      <td>0</td>\n",
       "      <td>0</td>\n",
       "      <td>0.999810</td>\n",
       "      <td>0.000190</td>\n",
       "    </tr>\n",
       "    <tr>\n",
       "      <th>2019-01-02 10:30:00</th>\n",
       "      <td>1042.9</td>\n",
       "      <td>1047.0</td>\n",
       "      <td>1042.6</td>\n",
       "      <td>1045.0</td>\n",
       "      <td>0</td>\n",
       "      <td>0</td>\n",
       "      <td>0.999810</td>\n",
       "      <td>0.000190</td>\n",
       "    </tr>\n",
       "    <tr>\n",
       "      <th>2019-01-02 10:45:00</th>\n",
       "      <td>1045.3</td>\n",
       "      <td>1045.8</td>\n",
       "      <td>1043.7</td>\n",
       "      <td>1044.5</td>\n",
       "      <td>0</td>\n",
       "      <td>0</td>\n",
       "      <td>0.999810</td>\n",
       "      <td>0.000190</td>\n",
       "    </tr>\n",
       "  </tbody>\n",
       "</table>\n",
       "</div>"
      ],
      "text/plain": [
       "                       open    high     low   close  y_Actual  y_Predicted  \\\n",
       "datetime                                                                     \n",
       "2019-01-02 09:45:00  1039.0  1046.4  1038.2  1044.3         0            0   \n",
       "2019-01-02 10:00:00  1044.4  1045.0  1039.7  1041.7         0            0   \n",
       "2019-01-02 10:15:00  1041.7  1044.1  1041.6  1043.0         0            0   \n",
       "2019-01-02 10:30:00  1042.9  1047.0  1042.6  1045.0         0            0   \n",
       "2019-01-02 10:45:00  1045.3  1045.8  1043.7  1044.5         0            0   \n",
       "\n",
       "                        Prob0    Prob_1  \n",
       "datetime                                 \n",
       "2019-01-02 09:45:00  0.999809  0.000191  \n",
       "2019-01-02 10:00:00  0.999809  0.000191  \n",
       "2019-01-02 10:15:00  0.999810  0.000190  \n",
       "2019-01-02 10:30:00  0.999810  0.000190  \n",
       "2019-01-02 10:45:00  0.999810  0.000190  "
      ]
     },
     "execution_count": 133,
     "metadata": {},
     "output_type": "execute_result"
    }
   ],
   "source": [
    "df_predictAll=pandas.concat([dfOHLC,df_predictResult,df_predictProb],axis=1)\n",
    "df_predictAll.head()"
   ]
  },
  {
   "cell_type": "code",
   "execution_count": 134,
   "metadata": {},
   "outputs": [
    {
     "data": {
      "text/html": [
       "<div>\n",
       "<style scoped>\n",
       "    .dataframe tbody tr th:only-of-type {\n",
       "        vertical-align: middle;\n",
       "    }\n",
       "\n",
       "    .dataframe tbody tr th {\n",
       "        vertical-align: top;\n",
       "    }\n",
       "\n",
       "    .dataframe thead th {\n",
       "        text-align: right;\n",
       "    }\n",
       "</style>\n",
       "<table border=\"1\" class=\"dataframe\">\n",
       "  <thead>\n",
       "    <tr style=\"text-align: right;\">\n",
       "      <th></th>\n",
       "      <th>Acutal_SideWay</th>\n",
       "      <th>Actual_long</th>\n",
       "    </tr>\n",
       "  </thead>\n",
       "  <tbody>\n",
       "    <tr>\n",
       "      <th>Pred_SideWay</th>\n",
       "      <td>4446</td>\n",
       "      <td>203</td>\n",
       "    </tr>\n",
       "    <tr>\n",
       "      <th>Pred_long</th>\n",
       "      <td>1302</td>\n",
       "      <td>1887</td>\n",
       "    </tr>\n",
       "  </tbody>\n",
       "</table>\n",
       "</div>"
      ],
      "text/plain": [
       "              Acutal_SideWay  Actual_long\n",
       "Pred_SideWay            4446          203\n",
       "Pred_long               1302         1887"
      ]
     },
     "execution_count": 134,
     "metadata": {},
     "output_type": "execute_result"
    }
   ],
   "source": [
    "from sklearn import metrics\n",
    "pandas.DataFrame(metrics.confusion_matrix(y_test, predictions),columns=['Acutal_SideWay',f'Actual_{strategyName}'],index=['Pred_SideWay',f'Pred_{strategyName}'])"
   ]
  },
  {
   "cell_type": "code",
   "execution_count": 135,
   "metadata": {},
   "outputs": [
    {
     "name": "stdout",
     "output_type": "stream",
     "text": [
      "              precision    recall  f1-score   support\n",
      "\n",
      "           0       0.77      0.96      0.86      4649\n",
      "           1       0.90      0.59      0.71      3189\n",
      "\n",
      "    accuracy                           0.81      7838\n",
      "   macro avg       0.84      0.77      0.79      7838\n",
      "weighted avg       0.83      0.81      0.80      7838\n",
      "\n"
     ]
    }
   ],
   "source": [
    "from sklearn.metrics import classification_report\n",
    "print(classification_report(y_test,yPredicted))"
   ]
  },
  {
   "cell_type": "code",
   "execution_count": 136,
   "metadata": {},
   "outputs": [
    {
     "name": "stdout",
     "output_type": "stream",
     "text": [
      "D:\\JupyterCode\\ML-S50F\\Lab-S5-F-DNN\\results\\long_MLP-Pipeline_17x17x0_epo105_btch32_modeAllTunine_tn2007-2018_ts2019-2020_030720_1631_resultA1.csv\n"
     ]
    }
   ],
   "source": [
    "\n",
    "\n",
    "buildtime=datetime.now().strftime('%d%m%y_%H%M')\n",
    "\n",
    "result_filename=f'{result_path}\\\\{strategyName}_MLP-Pipeline_{modelHD_Title}_tn{st}-{ed}_ts{test_st}-{test_ed}_{buildtime}_resultA1.csv'\n",
    "\n",
    "print(result_filename)\n",
    "\n"
   ]
  },
  {
   "cell_type": "code",
   "execution_count": 137,
   "metadata": {},
   "outputs": [],
   "source": [
    "df_predictAll.to_csv(result_filename)"
   ]
  },
  {
   "cell_type": "markdown",
   "metadata": {},
   "source": [
    "# Save Model"
   ]
  },
  {
   "cell_type": "code",
   "execution_count": 138,
   "metadata": {},
   "outputs": [
    {
     "name": "stdout",
     "output_type": "stream",
     "text": [
      "D:\\JupyterCode\\ML-S50F\\Lab-S5-F-DNN\\models\\A1_long_MLP-Pipeline_17x17x0_epo105_btch32_modeAllTunine_tn2007-2018_ts2019_030720_1631\n"
     ]
    }
   ],
   "source": [
    "\n",
    "\n",
    "model_filename=f'{ml_path}\\\\A1_{strategyName}_MLP-Pipeline_{modelHD_Title}_tn{st}-{ed}_ts{test_st}_{buildtime}'\n",
    "\n",
    "print(model_filename)"
   ]
  },
  {
   "cell_type": "code",
   "execution_count": 139,
   "metadata": {},
   "outputs": [
    {
     "name": "stdout",
     "output_type": "stream",
     "text": [
      "<keras.wrappers.scikit_learn.KerasClassifier object at 0x00000234ED9AE348>\n",
      "<keras.engine.sequential.Sequential object at 0x00000234F11FF388>\n"
     ]
    }
   ],
   "source": [
    "\n",
    "model_step = mypipeline.steps.pop(-1)[1]\n",
    "\n",
    "print(model_step)\n",
    "\n",
    "print(model_step.model)"
   ]
  },
  {
   "cell_type": "code",
   "execution_count": 140,
   "metadata": {},
   "outputs": [
    {
     "name": "stdout",
     "output_type": "stream",
     "text": [
      "Pipeline(memory=None,\n",
      "         steps=[('minmax_range',\n",
      "                 MinMaxScaler(copy=True, feature_range=(0, 1)))],\n",
      "         verbose=False)\n"
     ]
    }
   ],
   "source": [
    "print(mypipeline)"
   ]
  },
  {
   "cell_type": "code",
   "execution_count": 141,
   "metadata": {},
   "outputs": [
    {
     "data": {
      "text/plain": [
       "['D:\\\\JupyterCode\\\\ML-S50F\\\\Lab-S5-F-DNN\\\\models\\\\A1_long_MLP-Pipeline_17x17x0_epo105_btch32_modeAllTunine_tn2007-2018_ts2019_030720_1631_pipeline.pkl']"
      ]
     },
     "execution_count": 141,
     "metadata": {},
     "output_type": "execute_result"
    }
   ],
   "source": [
    "\n",
    "joblib.dump(mypipeline, f'{model_filename}_pipeline.pkl')\n"
   ]
  },
  {
   "cell_type": "code",
   "execution_count": 142,
   "metadata": {},
   "outputs": [],
   "source": [
    "models.save_model(model_step.model,f'{model_filename}_model.h5')"
   ]
  },
  {
   "cell_type": "code",
   "execution_count": null,
   "metadata": {},
   "outputs": [],
   "source": []
  },
  {
   "cell_type": "code",
   "execution_count": null,
   "metadata": {},
   "outputs": [],
   "source": []
  },
  {
   "cell_type": "code",
   "execution_count": null,
   "metadata": {},
   "outputs": [],
   "source": []
  },
  {
   "cell_type": "code",
   "execution_count": null,
   "metadata": {},
   "outputs": [],
   "source": []
  }
 ],
 "metadata": {
  "kernelspec": {
   "display_name": "Python 3",
   "language": "python",
   "name": "python3"
  },
  "language_info": {
   "codemirror_mode": {
    "name": "ipython",
    "version": 3
   },
   "file_extension": ".py",
   "mimetype": "text/x-python",
   "name": "python",
   "nbconvert_exporter": "python",
   "pygments_lexer": "ipython3",
   "version": "3.7.6"
  }
 },
 "nbformat": 4,
 "nbformat_minor": 2
}
