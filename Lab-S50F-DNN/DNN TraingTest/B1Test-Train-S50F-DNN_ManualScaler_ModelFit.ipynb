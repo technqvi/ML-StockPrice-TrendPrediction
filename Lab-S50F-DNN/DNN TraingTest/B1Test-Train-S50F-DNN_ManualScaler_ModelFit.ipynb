{
 "cells": [
  {
   "cell_type": "markdown",
   "metadata": {},
   "source": [
    "# B1 All Test-Train-S50F-DNN  with Manual Scale&ModelFit\n",
    "\n",
    "\n",
    "Baseline Neural Network Model Performance"
   ]
  },
  {
   "cell_type": "code",
   "execution_count": 69,
   "metadata": {},
   "outputs": [],
   "source": [
    "xseed=7\n",
    "\n",
    "from numpy.random import seed\n",
    "seed(xseed)\n",
    "from tensorflow import set_random_seed\n",
    "set_random_seed(xseed)"
   ]
  },
  {
   "cell_type": "code",
   "execution_count": 70,
   "metadata": {},
   "outputs": [],
   "source": [
    " # Binary Classification with Sonar Dataset: Baseline\n",
    "import numpy\n",
    "import pandas\n",
    "\n",
    "\n",
    "from keras.models import Sequential\n",
    "from keras.layers import Dense\n",
    "from keras.wrappers.scikit_learn import KerasClassifier\n",
    "from keras.callbacks import EarlyStopping\n",
    "\n",
    "from keras.utils import to_categorical\n",
    "\n",
    "\n",
    "from keras.layers import Dropout\n",
    "from keras.regularizers import l2\n",
    "from keras.optimizers import Adam\n",
    "from keras.optimizers import SGD\n",
    "from keras.optimizers import Adadelta\n",
    "from keras.constraints import maxnorm\n",
    "\n",
    "from sklearn.preprocessing import LabelEncoder\n",
    "from sklearn.preprocessing import StandardScaler\n",
    "from sklearn.preprocessing import MinMaxScaler\n",
    "from sklearn.pipeline import Pipeline\n",
    "\n",
    "import joblib\n",
    "\n",
    "import os\n",
    "from datetime import datetime\n",
    "\n",
    "import matplotlib.pyplot as pyplot\n",
    "\n",
    "from sklearn.metrics import accuracy_score\n",
    "\n",
    "import tensorflow \n",
    "import keras"
   ]
  },
  {
   "cell_type": "code",
   "execution_count": 71,
   "metadata": {},
   "outputs": [
    {
     "name": "stdout",
     "output_type": "stream",
     "text": [
      "1.14.0\n",
      "2.3.1\n"
     ]
    }
   ],
   "source": [
    "print(tensorflow.__version__)\n",
    "print(keras.__version__)"
   ]
  },
  {
   "cell_type": "code",
   "execution_count": 72,
   "metadata": {},
   "outputs": [],
   "source": [
    "class display(object):\n",
    "    \"\"\"Display HTML representation of multiple objects\"\"\"\n",
    "    template = \"\"\"<div style=\"float: left; padding: 10px;\">\n",
    "    <p style='font-family:\"Courier New\", Courier, monospace'>{0}</p>{1}\n",
    "    </div>\"\"\"\n",
    "    def __init__(self, *args):\n",
    "        self.args = args\n",
    "        \n",
    "    def _repr_html_(self):\n",
    "        return '\\n'.join(self.template.format(a, eval(a)._repr_html_())\n",
    "                         for a in self.args)\n",
    "    \n",
    "    def __repr__(self):\n",
    "        return '\\n\\n'.join(a + '\\n' + repr(eval(a))\n",
    "                           for a in self.args)"
   ]
  },
  {
   "cell_type": "code",
   "execution_count": 73,
   "metadata": {},
   "outputs": [],
   "source": [
    "result_path=os.path.abspath(r'D:\\JupyterCode\\MyDev\\AlgoTradingProject\\ML-S50F\\Lab-S5-F-DNN\\results')\n",
    "model_path=os.path.abspath(r'D:\\JupyterCode\\MyDev\\AlgoTradingProject\\ML-S50F\\Lab-S5-F-DNN\\models')"
   ]
  },
  {
   "cell_type": "code",
   "execution_count": 74,
   "metadata": {},
   "outputs": [],
   "source": [
    "st='2007'\n",
    "ed='2018'\n",
    "\n",
    "test_st='2019'\n",
    "test_ed='2020'\n",
    "\n",
    "strategyName='long'"
   ]
  },
  {
   "cell_type": "markdown",
   "metadata": {},
   "source": [
    "# Load  Data"
   ]
  },
  {
   "cell_type": "code",
   "execution_count": 75,
   "metadata": {},
   "outputs": [
    {
     "name": "stdout",
     "output_type": "stream",
     "text": [
      "D:\\DataSets\\ML_LS\\Version\\ML-Long_S50M15_07To2Q20-Train_Ori.csv\n"
     ]
    }
   ],
   "source": [
    "filename='ML-Long_S50M15_07To2Q20-Train_Ori.csv'\n",
    "filepath=os.path.abspath(f'D:\\\\DataSets\\\\ML_LS\\\\Version\\\\{filename}')\n",
    "print(filepath)\n"
   ]
  },
  {
   "cell_type": "code",
   "execution_count": 76,
   "metadata": {},
   "outputs": [],
   "source": [
    "def CreateData(dfx,labelCol):\n",
    " \n",
    " X_df_temp =dfx.drop(columns=['open','high','low','close',labelCol])\n",
    " Y_df_temp = dfx[labelCol]\n",
    "\n",
    " Xtemp=X_df_temp.to_numpy()\n",
    " ytemp=Y_df_temp.to_numpy()\n",
    "\n",
    " return X_df_temp,Y_df_temp, Xtemp,ytemp"
   ]
  },
  {
   "cell_type": "code",
   "execution_count": 77,
   "metadata": {},
   "outputs": [],
   "source": [
    "def PlotModelEvaluation(histModel): \n",
    " pyplot.figure(figsize=(12,8))\n",
    "\n",
    " # plot loss learning curves\n",
    " pyplot.subplot(211)\n",
    " pyplot.title('Cross-Entropy Loss', pad=-40)\n",
    " pyplot.plot(histModel.history['loss'], label='train')\n",
    " pyplot.plot(histModel.history['val_loss'], label='test')\n",
    " pyplot.legend()\n",
    "\n",
    "# plot accuracy learning curves\n",
    " pyplot.subplot(212)\n",
    " pyplot.title('Accuracy', pad=-40)\n",
    " pyplot.plot(histModel.history['accuracy'], label='train')\n",
    " pyplot.plot(histModel.history['val_accuracy'], label='test')\n",
    " pyplot.legend()\n",
    "\n",
    " pyplot.show()"
   ]
  },
  {
   "cell_type": "markdown",
   "metadata": {},
   "source": [
    "# Load All Data"
   ]
  },
  {
   "cell_type": "code",
   "execution_count": 78,
   "metadata": {},
   "outputs": [
    {
     "name": "stdout",
     "output_type": "stream",
     "text": [
      "<class 'pandas.core.frame.DataFrame'>\n",
      "DatetimeIndex: 70896 entries, 2007-01-03 09:45:00 to 2020-06-30 16:45:00\n",
      "Data columns (total 22 columns):\n",
      " #   Column                  Non-Null Count  Dtype  \n",
      "---  ------                  --------------  -----  \n",
      " 0   open                    70896 non-null  float64\n",
      " 1   high                    70896 non-null  float64\n",
      " 2   low                     70896 non-null  float64\n",
      " 3   close                   70896 non-null  float64\n",
      " 4   indy_ma-550             70896 non-null  float64\n",
      " 5   indy_ma-1100            70896 non-null  float64\n",
      " 6   indy_hh-550             70896 non-null  float64\n",
      " 7   indy_ll-550             70896 non-null  float64\n",
      " 8   indy_mid-550            70896 non-null  float64\n",
      " 9   indy_hh2-1100           70896 non-null  float64\n",
      " 10  indy_ll2-1100           70896 non-null  float64\n",
      " 11  indy_mid2-1100          70896 non-null  float64\n",
      " 12  indy_macd110-440        70896 non-null  float64\n",
      " 13  indy_signal110-440-110  70896 non-null  float64\n",
      " 14  indy_hist_macd110-440   70896 non-null  float64\n",
      " 15  indy_rsi25-ma20         70896 non-null  float64\n",
      " 16  indy_6ATRTrail_DC-110   70896 non-null  float64\n",
      " 17  cate_3trend-550_ma110   70896 non-null  int64  \n",
      " 18  cate_2trend-1100_ma220  70896 non-null  int64  \n",
      " 19  cate_rannkHL1100-ma66   70896 non-null  int64  \n",
      " 20  cate_CombineTrend       70896 non-null  int64  \n",
      " 21  LongSignal              70896 non-null  int64  \n",
      "dtypes: float64(17), int64(5)\n",
      "memory usage: 12.4 MB\n",
      "None\n"
     ]
    },
    {
     "data": {
      "text/plain": [
       "(70896, 22)"
      ]
     },
     "execution_count": 78,
     "metadata": {},
     "output_type": "execute_result"
    }
   ],
   "source": [
    "# load dataset\n",
    "\n",
    "dataframe = pandas.read_csv(filepath,index_col=\"datetime\", parse_dates=['datetime'],dayfirst=True)\n",
    "\n",
    "print(dataframe.info())\n",
    "dataframe.shape"
   ]
  },
  {
   "cell_type": "code",
   "execution_count": 79,
   "metadata": {},
   "outputs": [
    {
     "data": {
      "text/plain": [
       "'LongSignal'"
      ]
     },
     "execution_count": 79,
     "metadata": {},
     "output_type": "execute_result"
    }
   ],
   "source": [
    "labelName=dataframe.columns[-1]\n",
    "labelName"
   ]
  },
  {
   "cell_type": "markdown",
   "metadata": {},
   "source": [
    "# Train Data"
   ]
  },
  {
   "cell_type": "code",
   "execution_count": 80,
   "metadata": {},
   "outputs": [
    {
     "name": "stdout",
     "output_type": "stream",
     "text": [
      "<class 'pandas.core.frame.DataFrame'>\n",
      "DatetimeIndex: 62755 entries, 2007-01-03 09:45:00 to 2018-12-28 16:45:00\n",
      "Data columns (total 22 columns):\n",
      " #   Column                  Non-Null Count  Dtype  \n",
      "---  ------                  --------------  -----  \n",
      " 0   open                    62755 non-null  float64\n",
      " 1   high                    62755 non-null  float64\n",
      " 2   low                     62755 non-null  float64\n",
      " 3   close                   62755 non-null  float64\n",
      " 4   indy_ma-550             62755 non-null  float64\n",
      " 5   indy_ma-1100            62755 non-null  float64\n",
      " 6   indy_hh-550             62755 non-null  float64\n",
      " 7   indy_ll-550             62755 non-null  float64\n",
      " 8   indy_mid-550            62755 non-null  float64\n",
      " 9   indy_hh2-1100           62755 non-null  float64\n",
      " 10  indy_ll2-1100           62755 non-null  float64\n",
      " 11  indy_mid2-1100          62755 non-null  float64\n",
      " 12  indy_macd110-440        62755 non-null  float64\n",
      " 13  indy_signal110-440-110  62755 non-null  float64\n",
      " 14  indy_hist_macd110-440   62755 non-null  float64\n",
      " 15  indy_rsi25-ma20         62755 non-null  float64\n",
      " 16  indy_6ATRTrail_DC-110   62755 non-null  float64\n",
      " 17  cate_3trend-550_ma110   62755 non-null  int64  \n",
      " 18  cate_2trend-1100_ma220  62755 non-null  int64  \n",
      " 19  cate_rannkHL1100-ma66   62755 non-null  int64  \n",
      " 20  cate_CombineTrend       62755 non-null  int64  \n",
      " 21  LongSignal              62755 non-null  int64  \n",
      "dtypes: float64(17), int64(5)\n",
      "memory usage: 11.0 MB\n"
     ]
    }
   ],
   "source": [
    "df=dataframe[st:ed]\n",
    "df.info()"
   ]
  },
  {
   "cell_type": "markdown",
   "metadata": {},
   "source": [
    "# Test Data"
   ]
  },
  {
   "cell_type": "code",
   "execution_count": 81,
   "metadata": {},
   "outputs": [
    {
     "name": "stdout",
     "output_type": "stream",
     "text": [
      "<class 'pandas.core.frame.DataFrame'>\n",
      "DatetimeIndex: 8141 entries, 2019-01-02 09:45:00 to 2020-06-30 16:45:00\n",
      "Data columns (total 22 columns):\n",
      " #   Column                  Non-Null Count  Dtype  \n",
      "---  ------                  --------------  -----  \n",
      " 0   open                    8141 non-null   float64\n",
      " 1   high                    8141 non-null   float64\n",
      " 2   low                     8141 non-null   float64\n",
      " 3   close                   8141 non-null   float64\n",
      " 4   indy_ma-550             8141 non-null   float64\n",
      " 5   indy_ma-1100            8141 non-null   float64\n",
      " 6   indy_hh-550             8141 non-null   float64\n",
      " 7   indy_ll-550             8141 non-null   float64\n",
      " 8   indy_mid-550            8141 non-null   float64\n",
      " 9   indy_hh2-1100           8141 non-null   float64\n",
      " 10  indy_ll2-1100           8141 non-null   float64\n",
      " 11  indy_mid2-1100          8141 non-null   float64\n",
      " 12  indy_macd110-440        8141 non-null   float64\n",
      " 13  indy_signal110-440-110  8141 non-null   float64\n",
      " 14  indy_hist_macd110-440   8141 non-null   float64\n",
      " 15  indy_rsi25-ma20         8141 non-null   float64\n",
      " 16  indy_6ATRTrail_DC-110   8141 non-null   float64\n",
      " 17  cate_3trend-550_ma110   8141 non-null   int64  \n",
      " 18  cate_2trend-1100_ma220  8141 non-null   int64  \n",
      " 19  cate_rannkHL1100-ma66   8141 non-null   int64  \n",
      " 20  cate_CombineTrend       8141 non-null   int64  \n",
      " 21  LongSignal              8141 non-null   int64  \n",
      "dtypes: float64(17), int64(5)\n",
      "memory usage: 1.4 MB\n"
     ]
    }
   ],
   "source": [
    "'''\n",
    "dataframe_test = pandas.read_csv(filepath_test,index_col=\"datetime\", parse_dates=['datetime'],dayfirst=True)\n",
    "df_test=dataframe_test[test_st:test_ed]\n",
    "'''\n",
    "df_test=dataframe[test_st:test_ed]\n",
    "df_test.info()"
   ]
  },
  {
   "cell_type": "code",
   "execution_count": 82,
   "metadata": {},
   "outputs": [],
   "source": [
    "dfOHLC=df_test.loc[:,['open','high','low','close']]"
   ]
  },
  {
   "cell_type": "markdown",
   "metadata": {},
   "source": [
    "# Create Train Test Data for ML"
   ]
  },
  {
   "cell_type": "code",
   "execution_count": 83,
   "metadata": {},
   "outputs": [],
   "source": [
    "X_df,y_df,X_train,y_train=CreateData(df,labelName)\n",
    "Xtest_df,ytest_df,X_test,y_test=CreateData(df_test,labelName)"
   ]
  },
  {
   "cell_type": "code",
   "execution_count": 84,
   "metadata": {},
   "outputs": [
    {
     "name": "stdout",
     "output_type": "stream",
     "text": [
      "datetime\n",
      "2018-12-28 16:15:00    0\n",
      "2018-12-28 16:30:00    0\n",
      "2018-12-28 16:45:00    0\n",
      "Name: LongSignal, dtype: int64\n",
      "datetime\n",
      "2020-06-30 16:15:00    0\n",
      "2020-06-30 16:30:00    0\n",
      "2020-06-30 16:45:00    0\n",
      "Name: LongSignal, dtype: int64\n",
      "++++++++++++++++++++++++++++++++++++++++++++++++++++++\n",
      "[0 0 0 0 0 0 0 0 0 0]\n",
      "[0 0 0 0 0 0 0 0 0 0]\n",
      "++++++++++++++++++++++++++++++++++++++++++++++++++++++\n"
     ]
    },
    {
     "data": {
      "text/html": [
       "<div style=\"float: left; padding: 10px;\">\n",
       "    <p style='font-family:\"Courier New\", Courier, monospace'>X_df.tail(3)</p><div>\n",
       "<style scoped>\n",
       "    .dataframe tbody tr th:only-of-type {\n",
       "        vertical-align: middle;\n",
       "    }\n",
       "\n",
       "    .dataframe tbody tr th {\n",
       "        vertical-align: top;\n",
       "    }\n",
       "\n",
       "    .dataframe thead th {\n",
       "        text-align: right;\n",
       "    }\n",
       "</style>\n",
       "<table border=\"1\" class=\"dataframe\">\n",
       "  <thead>\n",
       "    <tr style=\"text-align: right;\">\n",
       "      <th></th>\n",
       "      <th>indy_ma-550</th>\n",
       "      <th>indy_ma-1100</th>\n",
       "      <th>indy_hh-550</th>\n",
       "      <th>indy_ll-550</th>\n",
       "      <th>indy_mid-550</th>\n",
       "      <th>indy_hh2-1100</th>\n",
       "      <th>indy_ll2-1100</th>\n",
       "      <th>indy_mid2-1100</th>\n",
       "      <th>indy_macd110-440</th>\n",
       "      <th>indy_signal110-440-110</th>\n",
       "      <th>indy_hist_macd110-440</th>\n",
       "      <th>indy_rsi25-ma20</th>\n",
       "      <th>indy_6ATRTrail_DC-110</th>\n",
       "      <th>cate_3trend-550_ma110</th>\n",
       "      <th>cate_2trend-1100_ma220</th>\n",
       "      <th>cate_rannkHL1100-ma66</th>\n",
       "      <th>cate_CombineTrend</th>\n",
       "    </tr>\n",
       "    <tr>\n",
       "      <th>datetime</th>\n",
       "      <th></th>\n",
       "      <th></th>\n",
       "      <th></th>\n",
       "      <th></th>\n",
       "      <th></th>\n",
       "      <th></th>\n",
       "      <th></th>\n",
       "      <th></th>\n",
       "      <th></th>\n",
       "      <th></th>\n",
       "      <th></th>\n",
       "      <th></th>\n",
       "      <th></th>\n",
       "      <th></th>\n",
       "      <th></th>\n",
       "      <th></th>\n",
       "      <th></th>\n",
       "    </tr>\n",
       "  </thead>\n",
       "  <tbody>\n",
       "    <tr>\n",
       "      <th>2018-12-28 16:15:00</th>\n",
       "      <td>1076.66</td>\n",
       "      <td>1085.30</td>\n",
       "      <td>1123.2</td>\n",
       "      <td>1022.6</td>\n",
       "      <td>1072.9</td>\n",
       "      <td>1125.0</td>\n",
       "      <td>1022.6</td>\n",
       "      <td>1073.8</td>\n",
       "      <td>-29.61</td>\n",
       "      <td>-24.48</td>\n",
       "      <td>-5.13</td>\n",
       "      <td>43.43</td>\n",
       "      <td>1051.53</td>\n",
       "      <td>1</td>\n",
       "      <td>0</td>\n",
       "      <td>3</td>\n",
       "      <td>2</td>\n",
       "    </tr>\n",
       "    <tr>\n",
       "      <th>2018-12-28 16:30:00</th>\n",
       "      <td>1076.60</td>\n",
       "      <td>1085.23</td>\n",
       "      <td>1123.2</td>\n",
       "      <td>1022.6</td>\n",
       "      <td>1072.9</td>\n",
       "      <td>1125.0</td>\n",
       "      <td>1022.6</td>\n",
       "      <td>1073.8</td>\n",
       "      <td>-29.75</td>\n",
       "      <td>-24.56</td>\n",
       "      <td>-5.19</td>\n",
       "      <td>43.98</td>\n",
       "      <td>1050.89</td>\n",
       "      <td>1</td>\n",
       "      <td>0</td>\n",
       "      <td>3</td>\n",
       "      <td>2</td>\n",
       "    </tr>\n",
       "    <tr>\n",
       "      <th>2018-12-28 16:45:00</th>\n",
       "      <td>1076.53</td>\n",
       "      <td>1085.16</td>\n",
       "      <td>1123.2</td>\n",
       "      <td>1022.6</td>\n",
       "      <td>1072.9</td>\n",
       "      <td>1125.0</td>\n",
       "      <td>1022.6</td>\n",
       "      <td>1073.8</td>\n",
       "      <td>-29.81</td>\n",
       "      <td>-24.64</td>\n",
       "      <td>-5.17</td>\n",
       "      <td>44.65</td>\n",
       "      <td>1049.59</td>\n",
       "      <td>1</td>\n",
       "      <td>0</td>\n",
       "      <td>3</td>\n",
       "      <td>2</td>\n",
       "    </tr>\n",
       "  </tbody>\n",
       "</table>\n",
       "</div>\n",
       "    </div>\n",
       "<div style=\"float: left; padding: 10px;\">\n",
       "    <p style='font-family:\"Courier New\", Courier, monospace'>Xtest_df.tail(3)</p><div>\n",
       "<style scoped>\n",
       "    .dataframe tbody tr th:only-of-type {\n",
       "        vertical-align: middle;\n",
       "    }\n",
       "\n",
       "    .dataframe tbody tr th {\n",
       "        vertical-align: top;\n",
       "    }\n",
       "\n",
       "    .dataframe thead th {\n",
       "        text-align: right;\n",
       "    }\n",
       "</style>\n",
       "<table border=\"1\" class=\"dataframe\">\n",
       "  <thead>\n",
       "    <tr style=\"text-align: right;\">\n",
       "      <th></th>\n",
       "      <th>indy_ma-550</th>\n",
       "      <th>indy_ma-1100</th>\n",
       "      <th>indy_hh-550</th>\n",
       "      <th>indy_ll-550</th>\n",
       "      <th>indy_mid-550</th>\n",
       "      <th>indy_hh2-1100</th>\n",
       "      <th>indy_ll2-1100</th>\n",
       "      <th>indy_mid2-1100</th>\n",
       "      <th>indy_macd110-440</th>\n",
       "      <th>indy_signal110-440-110</th>\n",
       "      <th>indy_hist_macd110-440</th>\n",
       "      <th>indy_rsi25-ma20</th>\n",
       "      <th>indy_6ATRTrail_DC-110</th>\n",
       "      <th>cate_3trend-550_ma110</th>\n",
       "      <th>cate_2trend-1100_ma220</th>\n",
       "      <th>cate_rannkHL1100-ma66</th>\n",
       "      <th>cate_CombineTrend</th>\n",
       "    </tr>\n",
       "    <tr>\n",
       "      <th>datetime</th>\n",
       "      <th></th>\n",
       "      <th></th>\n",
       "      <th></th>\n",
       "      <th></th>\n",
       "      <th></th>\n",
       "      <th></th>\n",
       "      <th></th>\n",
       "      <th></th>\n",
       "      <th></th>\n",
       "      <th></th>\n",
       "      <th></th>\n",
       "      <th></th>\n",
       "      <th></th>\n",
       "      <th></th>\n",
       "      <th></th>\n",
       "      <th></th>\n",
       "      <th></th>\n",
       "    </tr>\n",
       "  </thead>\n",
       "  <tbody>\n",
       "    <tr>\n",
       "      <th>2020-06-30 16:15:00</th>\n",
       "      <td>908.09</td>\n",
       "      <td>880.38</td>\n",
       "      <td>977.9</td>\n",
       "      <td>855.5</td>\n",
       "      <td>916.7</td>\n",
       "      <td>977.9</td>\n",
       "      <td>796.5</td>\n",
       "      <td>887.2</td>\n",
       "      <td>-33.54</td>\n",
       "      <td>-23.34</td>\n",
       "      <td>-10.20</td>\n",
       "      <td>57.93</td>\n",
       "      <td>882.16</td>\n",
       "      <td>2</td>\n",
       "      <td>1</td>\n",
       "      <td>4</td>\n",
       "      <td>3</td>\n",
       "    </tr>\n",
       "    <tr>\n",
       "      <th>2020-06-30 16:30:00</th>\n",
       "      <td>908.09</td>\n",
       "      <td>880.43</td>\n",
       "      <td>977.9</td>\n",
       "      <td>855.5</td>\n",
       "      <td>916.7</td>\n",
       "      <td>977.9</td>\n",
       "      <td>796.5</td>\n",
       "      <td>887.2</td>\n",
       "      <td>-33.66</td>\n",
       "      <td>-23.54</td>\n",
       "      <td>-10.12</td>\n",
       "      <td>57.28</td>\n",
       "      <td>882.04</td>\n",
       "      <td>2</td>\n",
       "      <td>1</td>\n",
       "      <td>4</td>\n",
       "      <td>3</td>\n",
       "    </tr>\n",
       "    <tr>\n",
       "      <th>2020-06-30 16:45:00</th>\n",
       "      <td>908.07</td>\n",
       "      <td>880.49</td>\n",
       "      <td>977.9</td>\n",
       "      <td>855.5</td>\n",
       "      <td>916.7</td>\n",
       "      <td>977.9</td>\n",
       "      <td>796.5</td>\n",
       "      <td>887.2</td>\n",
       "      <td>-33.78</td>\n",
       "      <td>-23.74</td>\n",
       "      <td>-10.04</td>\n",
       "      <td>56.61</td>\n",
       "      <td>882.15</td>\n",
       "      <td>2</td>\n",
       "      <td>1</td>\n",
       "      <td>4</td>\n",
       "      <td>3</td>\n",
       "    </tr>\n",
       "  </tbody>\n",
       "</table>\n",
       "</div>\n",
       "    </div>"
      ],
      "text/plain": [
       "X_df.tail(3)\n",
       "                     indy_ma-550  indy_ma-1100  indy_hh-550  indy_ll-550  \\\n",
       "datetime                                                                   \n",
       "2018-12-28 16:15:00      1076.66       1085.30       1123.2       1022.6   \n",
       "2018-12-28 16:30:00      1076.60       1085.23       1123.2       1022.6   \n",
       "2018-12-28 16:45:00      1076.53       1085.16       1123.2       1022.6   \n",
       "\n",
       "                     indy_mid-550  indy_hh2-1100  indy_ll2-1100  \\\n",
       "datetime                                                          \n",
       "2018-12-28 16:15:00        1072.9         1125.0         1022.6   \n",
       "2018-12-28 16:30:00        1072.9         1125.0         1022.6   \n",
       "2018-12-28 16:45:00        1072.9         1125.0         1022.6   \n",
       "\n",
       "                     indy_mid2-1100  indy_macd110-440  indy_signal110-440-110  \\\n",
       "datetime                                                                        \n",
       "2018-12-28 16:15:00          1073.8            -29.61                  -24.48   \n",
       "2018-12-28 16:30:00          1073.8            -29.75                  -24.56   \n",
       "2018-12-28 16:45:00          1073.8            -29.81                  -24.64   \n",
       "\n",
       "                     indy_hist_macd110-440  indy_rsi25-ma20  \\\n",
       "datetime                                                      \n",
       "2018-12-28 16:15:00                  -5.13            43.43   \n",
       "2018-12-28 16:30:00                  -5.19            43.98   \n",
       "2018-12-28 16:45:00                  -5.17            44.65   \n",
       "\n",
       "                     indy_6ATRTrail_DC-110  cate_3trend-550_ma110  \\\n",
       "datetime                                                            \n",
       "2018-12-28 16:15:00                1051.53                      1   \n",
       "2018-12-28 16:30:00                1050.89                      1   \n",
       "2018-12-28 16:45:00                1049.59                      1   \n",
       "\n",
       "                     cate_2trend-1100_ma220  cate_rannkHL1100-ma66  \\\n",
       "datetime                                                             \n",
       "2018-12-28 16:15:00                       0                      3   \n",
       "2018-12-28 16:30:00                       0                      3   \n",
       "2018-12-28 16:45:00                       0                      3   \n",
       "\n",
       "                     cate_CombineTrend  \n",
       "datetime                                \n",
       "2018-12-28 16:15:00                  2  \n",
       "2018-12-28 16:30:00                  2  \n",
       "2018-12-28 16:45:00                  2  \n",
       "\n",
       "Xtest_df.tail(3)\n",
       "                     indy_ma-550  indy_ma-1100  indy_hh-550  indy_ll-550  \\\n",
       "datetime                                                                   \n",
       "2020-06-30 16:15:00       908.09        880.38        977.9        855.5   \n",
       "2020-06-30 16:30:00       908.09        880.43        977.9        855.5   \n",
       "2020-06-30 16:45:00       908.07        880.49        977.9        855.5   \n",
       "\n",
       "                     indy_mid-550  indy_hh2-1100  indy_ll2-1100  \\\n",
       "datetime                                                          \n",
       "2020-06-30 16:15:00         916.7          977.9          796.5   \n",
       "2020-06-30 16:30:00         916.7          977.9          796.5   \n",
       "2020-06-30 16:45:00         916.7          977.9          796.5   \n",
       "\n",
       "                     indy_mid2-1100  indy_macd110-440  indy_signal110-440-110  \\\n",
       "datetime                                                                        \n",
       "2020-06-30 16:15:00           887.2            -33.54                  -23.34   \n",
       "2020-06-30 16:30:00           887.2            -33.66                  -23.54   \n",
       "2020-06-30 16:45:00           887.2            -33.78                  -23.74   \n",
       "\n",
       "                     indy_hist_macd110-440  indy_rsi25-ma20  \\\n",
       "datetime                                                      \n",
       "2020-06-30 16:15:00                 -10.20            57.93   \n",
       "2020-06-30 16:30:00                 -10.12            57.28   \n",
       "2020-06-30 16:45:00                 -10.04            56.61   \n",
       "\n",
       "                     indy_6ATRTrail_DC-110  cate_3trend-550_ma110  \\\n",
       "datetime                                                            \n",
       "2020-06-30 16:15:00                 882.16                      2   \n",
       "2020-06-30 16:30:00                 882.04                      2   \n",
       "2020-06-30 16:45:00                 882.15                      2   \n",
       "\n",
       "                     cate_2trend-1100_ma220  cate_rannkHL1100-ma66  \\\n",
       "datetime                                                             \n",
       "2020-06-30 16:15:00                       1                      4   \n",
       "2020-06-30 16:30:00                       1                      4   \n",
       "2020-06-30 16:45:00                       1                      4   \n",
       "\n",
       "                     cate_CombineTrend  \n",
       "datetime                                \n",
       "2020-06-30 16:15:00                  3  \n",
       "2020-06-30 16:30:00                  3  \n",
       "2020-06-30 16:45:00                  3  "
      ]
     },
     "execution_count": 84,
     "metadata": {},
     "output_type": "execute_result"
    }
   ],
   "source": [
    "print(y_df.tail(3))\n",
    "print(ytest_df.tail(3))\n",
    "\n",
    "print(\"++++++++++++++++++++++++++++++++++++++++++++++++++++++\")\n",
    "\n",
    "print(y_train[:10])\n",
    "print(y_test[:10])\n",
    "\n",
    "print(\"++++++++++++++++++++++++++++++++++++++++++++++++++++++\")\n",
    "display('X_df.tail(3)','Xtest_df.tail(3)')"
   ]
  },
  {
   "cell_type": "markdown",
   "metadata": {},
   "source": [
    "# Scale Data"
   ]
  },
  {
   "cell_type": "code",
   "execution_count": 85,
   "metadata": {},
   "outputs": [
    {
     "name": "stdout",
     "output_type": "stream",
     "text": [
      "[1.18559e+03 1.17934e+03 1.22190e+03 1.16270e+03 1.19230e+03 1.22190e+03\n",
      " 1.13400e+03 1.17795e+03 6.82300e+01 6.17600e+01 3.65100e+01 8.19100e+01\n",
      " 1.20909e+03 3.00000e+00 1.00000e+00 4.00000e+00 4.00000e+00]\n",
      "[286.07 292.29 305.4  254.   289.8  310.7  254.   292.45 -68.78 -64.34\n",
      " -34.04  20.08 257.92   1.     0.     1.     1.  ]\n",
      "++++++++++++++++++++++++++++++++++++++++++++++++++++++\n",
      "After scaled train \n",
      " [[0.24194015 0.24402232 0.24178942 0.17717619 0.20077562 0.23869622\n",
      "  0.18295455 0.20231508 0.33778556 0.29452815 0.5491141  0.3077794\n",
      "  0.22708874 0.         0.         0.66666667 0.33333333]\n",
      " [0.24185121 0.2439885  0.24178942 0.17717619 0.20077562 0.23869622\n",
      "  0.18295455 0.20231508 0.33778556 0.29460745 0.54883062 0.30680899\n",
      "  0.22679437 0.         0.         0.66666667 0.33333333]]\n",
      "After scaled test \n",
      " [[ 1.07648e+03  1.08509e+03  1.12320e+03  1.02260e+03  1.07290e+03\n",
      "   1.12500e+03  1.02260e+03  1.07380e+03 -2.98400e+01 -2.47200e+01\n",
      "  -5.12000e+00  4.53900e+01  1.04931e+03  1.00000e+00  0.00000e+00\n",
      "   3.00000e+00  2.00000e+00]\n",
      " [ 1.07641e+03  1.08502e+03  1.12320e+03  1.02260e+03  1.07290e+03\n",
      "   1.12460e+03  1.02260e+03  1.07360e+03 -2.99100e+01 -2.48000e+01\n",
      "  -5.11000e+00  4.59800e+01  1.04919e+03  1.00000e+00  0.00000e+00\n",
      "   3.00000e+00  2.00000e+00]]\n"
     ]
    }
   ],
   "source": [
    "#scaler=StandardScaler().fit(X_train)\n",
    "#print(scaler.mean_)\n",
    "#print(scaler.var_)\n",
    "\n",
    "\n",
    "scaler=MinMaxScaler().fit(X_train)\n",
    "print(scaler.data_max_)\n",
    "print(scaler.data_min_)\n",
    "\n",
    "\n",
    "Xtrain_scaled=scaler.transform(X_train)\n",
    "Xtest_scaled=scaler.transform(X_test)\n",
    "\n",
    "print(\"++++++++++++++++++++++++++++++++++++++++++++++++++++++\")\n",
    "print(\"After scaled train \\n\",Xtrain_scaled[:2])\n",
    "print(\"After scaled test \\n\",X_test[:2])\n"
   ]
  },
  {
   "cell_type": "code",
   "execution_count": 86,
   "metadata": {},
   "outputs": [
    {
     "name": "stdout",
     "output_type": "stream",
     "text": [
      "X-Train  (62755, 17)\n",
      "X-Test  (8141, 17)\n",
      "y-Train  (62755, 2)\n",
      "y-Test  (8141, 2)\n"
     ]
    }
   ],
   "source": [
    "#for categorical_crossentropy and softmax\n",
    "y_train=to_categorical(y_train)\n",
    "y_test=to_categorical(y_test)\n",
    "\n",
    "print(\"X-Train \",Xtrain_scaled.shape)\n",
    "\n",
    "print(\"X-Test \",Xtest_scaled.shape)\n",
    "\n",
    "print(\"y-Train \",y_train.shape)\n",
    "\n",
    "print(\"y-Test \",y_test.shape)"
   ]
  },
  {
   "cell_type": "code",
   "execution_count": 87,
   "metadata": {},
   "outputs": [
    {
     "name": "stdout",
     "output_type": "stream",
     "text": [
      "[[503.7  508.75 527.   415.   471.   528.2  415.   471.6  -22.5  -27.2\n",
      "    4.7   39.11 473.92   1.     0.     3.     2.  ]\n",
      " [503.62 508.72 527.   415.   471.   528.2  415.   471.6  -22.5  -27.19\n",
      "    4.68  39.05 473.64   1.     0.     3.     2.  ]\n",
      " [503.52 508.68 527.   415.   471.   528.2  415.   471.6  -22.53 -27.17\n",
      "    4.64  38.91 473.48   1.     0.     3.     2.  ]]\n",
      "[[0.24194015 0.24402232 0.24178942 0.17717619 0.20077562 0.23869622\n",
      "  0.18295455 0.20231508 0.33778556 0.29452815 0.5491141  0.3077794\n",
      "  0.22708874 0.         0.         0.66666667 0.33333333]\n",
      " [0.24185121 0.2439885  0.24178942 0.17717619 0.20077562 0.23869622\n",
      "  0.18295455 0.20231508 0.33778556 0.29460745 0.54883062 0.30680899\n",
      "  0.22679437 0.         0.         0.66666667 0.33333333]\n",
      " [0.24174004 0.24394341 0.24178942 0.17717619 0.20077562 0.23869622\n",
      "  0.18295455 0.20231508 0.3375666  0.29476606 0.54826364 0.30454472\n",
      "  0.22662616 0.         0.         0.66666667 0.33333333]]\n",
      "[[1. 0.]\n",
      " [1. 0.]\n",
      " [1. 0.]\n",
      " [1. 0.]\n",
      " [1. 0.]]\n"
     ]
    }
   ],
   "source": [
    "print(X_train[:3])\n",
    "print(Xtrain_scaled[:3])\n",
    "\n",
    "print(y_train[:5])"
   ]
  },
  {
   "cell_type": "markdown",
   "metadata": {},
   "source": [
    "# Model Configuration &Definition "
   ]
  },
  {
   "cell_type": "code",
   "execution_count": 88,
   "metadata": {},
   "outputs": [
    {
     "name": "stdout",
     "output_type": "stream",
     "text": [
      "Input-N = 17\n",
      "Epochs= 110\n",
      "Batch_size= 32\n",
      "Patience from epochs 55\n",
      "17x17x0_epo110_btch32\n"
     ]
    }
   ],
   "source": [
    "h1=17\n",
    "h2=17\n",
    "h3=0\n",
    "\n",
    "input_n=X_train.shape[1]\n",
    "\n",
    "\n",
    "#105\n",
    "xpoch=110\n",
    "\n",
    "#Epoch 107: early stopping\n",
    "xbatch=32\n",
    "\n",
    "#kernelInit='he_uniform'\n",
    "#kernelInit='he_normal'\n",
    "#kernel_initializer=\"glorot_uniform\"  #default\n",
    "\n",
    "patience_from_epoch=round( xpoch*0.5)\n",
    "\n",
    "print(\"Input-N =\",input_n)\n",
    "print('Epochs=',xpoch)\n",
    "print('Batch_size=',xbatch)\n",
    "print('Patience from epochs',patience_from_epoch )\n",
    "\n",
    "modelSelect=''\n",
    "\n",
    "modelHD_Title=f'{h1}x{h2}x{h3}_epo{xpoch}_btch{xbatch}'\n",
    "print(modelHD_Title)"
   ]
  },
  {
   "cell_type": "code",
   "execution_count": 89,
   "metadata": {},
   "outputs": [],
   "source": [
    "es = EarlyStopping(monitor='val_loss', mode='min', verbose=1, patience=patience_from_epoch)\n"
   ]
  },
  {
   "cell_type": "code",
   "execution_count": 90,
   "metadata": {},
   "outputs": [],
   "source": [
    "def ModelBased():\n",
    "\n",
    " xmodel = Sequential()  \n",
    "  \n",
    " xmodel.add(Dense(h1, input_dim=input_n,activation='relu' ))\n",
    " xmodel.add(Dense(h2,activation='relu'))\n",
    " #xmodel.add(Dense(h3,activation='relu'))\n",
    " \n",
    " xmodel.add(Dense(1, activation='sigmoid'))\n",
    "  \n",
    "\n",
    " xmodel.compile(loss='binary_crossentropy', optimizer='adam', metrics=['accuracy'])\n",
    "\n",
    " return xmodel\n"
   ]
  },
  {
   "cell_type": "code",
   "execution_count": 91,
   "metadata": {},
   "outputs": [],
   "source": [
    "#Classical ฺฺGeneralization\n",
    "\n",
    "def ModelByRegularL2():\n",
    "    \n",
    "    l2_val=0.00100000\n",
    "    model_tuneL2 = Sequential() \n",
    "    \n",
    "    model_tuneL2.add(Dense(h1, input_dim=input_n ,activation='relu',kernel_regularizer=l2(l2_val) ))   \n",
    "    model_tuneL2.add(Dense(h2, activation='relu',kernel_regularizer=l2(l2_val)))\n",
    "    #model_tuneL2.add(Dense(h3, activation='relu',kernel_regularizer=l2(l2_val)))\n",
    "    \n",
    "    model_tuneL2.add(Dense(1, activation='sigmoid'))\n",
    "  \n",
    "\n",
    "    model_tuneL2.compile(loss='binary_crossentropy', optimizer='adam', metrics=['accuracy'])\n",
    "    \n",
    "    return model_tuneL2"
   ]
  },
  {
   "cell_type": "code",
   "execution_count": 92,
   "metadata": {},
   "outputs": [],
   "source": [
    "#Modern ฺฺGeneralization\n",
    "def ModelByWConstr_Dropout():\n",
    "        \n",
    "    dropoutModel = Sequential()\n",
    "    \n",
    "    param_dropout=0.02\n",
    "    vaMaxNorm_WC=4\n",
    "    \n",
    "    #input\n",
    "    dropoutModel.add(Dropout(param_dropout, input_shape=(input_n,)))\n",
    "    \n",
    "    #layer#1\n",
    "    dropoutModel.add(Dense(h1, activation=\"relu\", kernel_constraint=maxnorm(vaMaxNorm_WC)))\n",
    "    dropoutModel.add(Dropout(param_dropout))\n",
    "    \n",
    "    #layer#2\n",
    "    dropoutModel.add(Dense(h2, activation=\"relu\", kernel_constraint=maxnorm(vaMaxNorm_WC)))\n",
    "    dropoutModel.add(Dropout(param_dropout))\n",
    "    \n",
    "\n",
    "    dropoutModel.add(Dense(1, activation=\"sigmoid\"))\n",
    "    \n",
    "    dropoutModel.compile(loss='binary_crossentropy', optimizer='adam', metrics=['accuracy'])\n",
    "    \n",
    "    return dropoutModel"
   ]
  },
  {
   "cell_type": "code",
   "execution_count": 93,
   "metadata": {},
   "outputs": [],
   "source": [
    "def ModelByAllTuning():\n",
    "    model_x=Sequential()\n",
    "    \n",
    "    param_dropout=0.02\n",
    "    vaMaxNorm_WC=4\n",
    "    \n",
    "     #l2_val=0.01 #0.865 vs 0.851\n",
    "    l2_val=0.00100000 #0.93 vs 0.84\n",
    "    \n",
    "     #input\n",
    "    model_x.add(Dropout(param_dropout, input_shape=(input_n,)))\n",
    "    \n",
    "    #layer#1\n",
    "    model_x.add(Dense(h1,activation=\"relu\", kernel_constraint=maxnorm(vaMaxNorm_WC),kernel_regularizer=l2(l2_val)))\n",
    "    #model_x.add(Dense(h1, kernel_initializer=kernelInit,activation=\"relu\", kernel_constraint=maxnorm(vaMaxNorm_WC),kernel_regularizer=l2(l2_val)))\n",
    "    model_x.add(Dropout(param_dropout))\n",
    "    \n",
    "    #layer#2\n",
    "    model_x.add(Dense(h2, activation=\"relu\", kernel_constraint=maxnorm(vaMaxNorm_WC),kernel_regularizer=l2(l2_val)))\n",
    "    #model_x.add(Dense(h2,kernel_initializer=kernelInit, activation=\"relu\", kernel_constraint=maxnorm(vaMaxNorm_WC),kernel_regularizer=l2(l2_val)))\n",
    "    model_x.add(Dropout(param_dropout))\n",
    "    \n",
    "    if y_train.ndim==2: # Convert to multil classification\n",
    "     print(\"# Convert to multil classification\")\n",
    "     model_x.add(Dense(2, activation='softmax'))\n",
    "     model_x.compile(loss='categorical_crossentropy', optimizer='adam', metrics=['accuracy'])\n",
    "    else :\n",
    "     model_x.add(Dense(1, activation=\"sigmoid\"))  \n",
    "     model_x.compile(loss='binary_crossentropy', optimizer='adam', metrics=['accuracy'])\n",
    "    \n",
    "\n",
    "    \n",
    "    return model_x"
   ]
  },
  {
   "cell_type": "markdown",
   "metadata": {},
   "source": [
    "# Fit , Evaluate and Plot Result"
   ]
  },
  {
   "cell_type": "code",
   "execution_count": 94,
   "metadata": {},
   "outputs": [],
   "source": [
    "isEarlyStop=False"
   ]
  },
  {
   "cell_type": "code",
   "execution_count": 95,
   "metadata": {},
   "outputs": [
    {
     "name": "stdout",
     "output_type": "stream",
     "text": [
      "# Convert to multil classification\n",
      "Train on 62755 samples, validate on 8141 samples\n",
      "Epoch 1/110\n",
      "62755/62755 [==============================] - 2s 25us/step - loss: 0.4259 - accuracy: 0.8182 - val_loss: 0.5498 - val_accuracy: 0.7325\n",
      "Epoch 2/110\n",
      "62755/62755 [==============================] - 1s 23us/step - loss: 0.3776 - accuracy: 0.8398 - val_loss: 0.5226 - val_accuracy: 0.7343\n",
      "Epoch 3/110\n",
      "62755/62755 [==============================] - 2s 25us/step - loss: 0.3701 - accuracy: 0.8439 - val_loss: 0.4791 - val_accuracy: 0.7642\n",
      "Epoch 4/110\n",
      "62755/62755 [==============================] - 2s 24us/step - loss: 0.3632 - accuracy: 0.8454 - val_loss: 0.5597 - val_accuracy: 0.7323\n",
      "Epoch 5/110\n",
      "62755/62755 [==============================] - 2s 25us/step - loss: 0.3601 - accuracy: 0.8469 - val_loss: 0.4933 - val_accuracy: 0.7573\n",
      "Epoch 6/110\n",
      "62755/62755 [==============================] - 1s 24us/step - loss: 0.3572 - accuracy: 0.8492 - val_loss: 0.4739 - val_accuracy: 0.7902\n",
      "Epoch 7/110\n",
      "62755/62755 [==============================] - 2s 30us/step - loss: 0.3549 - accuracy: 0.8500 - val_loss: 0.5387 - val_accuracy: 0.7332\n",
      "Epoch 8/110\n",
      "62755/62755 [==============================] - 2s 28us/step - loss: 0.3461 - accuracy: 0.8538 - val_loss: 0.4413 - val_accuracy: 0.8377\n",
      "Epoch 9/110\n",
      "62755/62755 [==============================] - 2s 28us/step - loss: 0.3448 - accuracy: 0.8545 - val_loss: 0.4745 - val_accuracy: 0.7860\n",
      "Epoch 10/110\n",
      "62755/62755 [==============================] - 2s 28us/step - loss: 0.3394 - accuracy: 0.8584 - val_loss: 0.4696 - val_accuracy: 0.7869\n",
      "Epoch 11/110\n",
      "62755/62755 [==============================] - 2s 28us/step - loss: 0.3382 - accuracy: 0.8583 - val_loss: 0.4629 - val_accuracy: 0.7939\n",
      "Epoch 12/110\n",
      "62755/62755 [==============================] - 2s 29us/step - loss: 0.3332 - accuracy: 0.8609 - val_loss: 0.4590 - val_accuracy: 0.7852\n",
      "Epoch 13/110\n",
      "62755/62755 [==============================] - 2s 31us/step - loss: 0.3311 - accuracy: 0.8618 - val_loss: 0.4939 - val_accuracy: 0.7680\n",
      "Epoch 14/110\n",
      "62755/62755 [==============================] - 2s 31us/step - loss: 0.3293 - accuracy: 0.8633 - val_loss: 0.4770 - val_accuracy: 0.7672\n",
      "Epoch 15/110\n",
      "62755/62755 [==============================] - 2s 28us/step - loss: 0.3267 - accuracy: 0.8650 - val_loss: 0.4559 - val_accuracy: 0.7823\n",
      "Epoch 16/110\n",
      "62755/62755 [==============================] - 2s 29us/step - loss: 0.3235 - accuracy: 0.8672 - val_loss: 0.5200 - val_accuracy: 0.7502\n",
      "Epoch 17/110\n",
      "62755/62755 [==============================] - 2s 28us/step - loss: 0.3234 - accuracy: 0.8671 - val_loss: 0.5028 - val_accuracy: 0.7742\n",
      "Epoch 18/110\n",
      "62755/62755 [==============================] - 2s 28us/step - loss: 0.3171 - accuracy: 0.8687 - val_loss: 0.4919 - val_accuracy: 0.7774\n",
      "Epoch 19/110\n",
      "62755/62755 [==============================] - 2s 28us/step - loss: 0.3167 - accuracy: 0.8698 - val_loss: 0.4447 - val_accuracy: 0.8086\n",
      "Epoch 20/110\n",
      "62755/62755 [==============================] - 2s 27us/step - loss: 0.3147 - accuracy: 0.8707 - val_loss: 0.5178 - val_accuracy: 0.7704\n",
      "Epoch 21/110\n",
      "62755/62755 [==============================] - 2s 28us/step - loss: 0.3135 - accuracy: 0.8712 - val_loss: 0.6230 - val_accuracy: 0.7428\n",
      "Epoch 22/110\n",
      "62755/62755 [==============================] - 2s 29us/step - loss: 0.3136 - accuracy: 0.8720 - val_loss: 0.4752 - val_accuracy: 0.7952\n",
      "Epoch 23/110\n",
      "62755/62755 [==============================] - 2s 28us/step - loss: 0.3109 - accuracy: 0.8717 - val_loss: 0.5674 - val_accuracy: 0.7499\n",
      "Epoch 24/110\n",
      "62755/62755 [==============================] - 2s 28us/step - loss: 0.3114 - accuracy: 0.8719 - val_loss: 0.5236 - val_accuracy: 0.7807\n",
      "Epoch 25/110\n",
      "62755/62755 [==============================] - 2s 29us/step - loss: 0.3093 - accuracy: 0.8734 - val_loss: 0.5372 - val_accuracy: 0.7718\n",
      "Epoch 26/110\n",
      "62755/62755 [==============================] - 2s 28us/step - loss: 0.3077 - accuracy: 0.8739 - val_loss: 0.4974 - val_accuracy: 0.7979\n",
      "Epoch 27/110\n",
      "62755/62755 [==============================] - 2s 29us/step - loss: 0.3064 - accuracy: 0.8763 - val_loss: 0.5050 - val_accuracy: 0.7931\n",
      "Epoch 28/110\n",
      "62755/62755 [==============================] - 2s 27us/step - loss: 0.3067 - accuracy: 0.8745 - val_loss: 0.4909 - val_accuracy: 0.7908\n",
      "Epoch 29/110\n",
      "62755/62755 [==============================] - 2s 27us/step - loss: 0.3036 - accuracy: 0.8761 - val_loss: 0.4867 - val_accuracy: 0.8092\n",
      "Epoch 30/110\n",
      "62755/62755 [==============================] - 2s 29us/step - loss: 0.3046 - accuracy: 0.8762 - val_loss: 0.4765 - val_accuracy: 0.8133\n",
      "Epoch 31/110\n",
      "62755/62755 [==============================] - 2s 32us/step - loss: 0.3015 - accuracy: 0.8764 - val_loss: 0.5021 - val_accuracy: 0.8069\n",
      "Epoch 32/110\n",
      "62755/62755 [==============================] - 2s 30us/step - loss: 0.3034 - accuracy: 0.8764 - val_loss: 0.5730 - val_accuracy: 0.7592\n",
      "Epoch 33/110\n",
      "62755/62755 [==============================] - 2s 31us/step - loss: 0.3013 - accuracy: 0.8771 - val_loss: 0.5251 - val_accuracy: 0.7847\n",
      "Epoch 34/110\n",
      "62755/62755 [==============================] - 4s 65us/step - loss: 0.2987 - accuracy: 0.8784 - val_loss: 0.5428 - val_accuracy: 0.7714\n",
      "Epoch 35/110\n",
      "62755/62755 [==============================] - 2s 30us/step - loss: 0.2989 - accuracy: 0.8795 - val_loss: 0.5247 - val_accuracy: 0.7843\n",
      "Epoch 36/110\n",
      "62755/62755 [==============================] - 2s 27us/step - loss: 0.2958 - accuracy: 0.8814 - val_loss: 0.4682 - val_accuracy: 0.8214\n",
      "Epoch 37/110\n",
      "62755/62755 [==============================] - 2s 27us/step - loss: 0.2972 - accuracy: 0.8801 - val_loss: 0.5397 - val_accuracy: 0.7735\n",
      "Epoch 38/110\n",
      "62755/62755 [==============================] - 2s 31us/step - loss: 0.2955 - accuracy: 0.8813 - val_loss: 0.4840 - val_accuracy: 0.8216\n",
      "Epoch 39/110\n",
      "62755/62755 [==============================] - 2s 29us/step - loss: 0.2955 - accuracy: 0.8807 - val_loss: 0.4888 - val_accuracy: 0.8170\n",
      "Epoch 40/110\n",
      "62755/62755 [==============================] - 2s 28us/step - loss: 0.2927 - accuracy: 0.8829 - val_loss: 0.5732 - val_accuracy: 0.7623\n",
      "Epoch 41/110\n",
      "62755/62755 [==============================] - 2s 28us/step - loss: 0.2937 - accuracy: 0.8825 - val_loss: 0.4806 - val_accuracy: 0.8119\n",
      "Epoch 42/110\n",
      "62755/62755 [==============================] - 2s 27us/step - loss: 0.2923 - accuracy: 0.8818 - val_loss: 0.5277 - val_accuracy: 0.7904\n",
      "Epoch 43/110\n",
      "62755/62755 [==============================] - 2s 29us/step - loss: 0.2907 - accuracy: 0.8832 - val_loss: 0.5368 - val_accuracy: 0.7860\n",
      "Epoch 44/110\n",
      "62755/62755 [==============================] - 2s 27us/step - loss: 0.2899 - accuracy: 0.8840 - val_loss: 0.5169 - val_accuracy: 0.7923\n",
      "Epoch 45/110\n",
      "62755/62755 [==============================] - 2s 31us/step - loss: 0.2896 - accuracy: 0.8834 - val_loss: 0.4385 - val_accuracy: 0.8316\n",
      "Epoch 46/110\n",
      "62755/62755 [==============================] - 2s 27us/step - loss: 0.2877 - accuracy: 0.8855 - val_loss: 0.4670 - val_accuracy: 0.8289\n",
      "Epoch 47/110\n",
      "62755/62755 [==============================] - 2s 30us/step - loss: 0.2888 - accuracy: 0.8842 - val_loss: 0.6277 - val_accuracy: 0.7662\n",
      "Epoch 48/110\n",
      "62755/62755 [==============================] - 2s 28us/step - loss: 0.2886 - accuracy: 0.8833 - val_loss: 0.4935 - val_accuracy: 0.8241\n",
      "Epoch 49/110\n",
      "62755/62755 [==============================] - 2s 32us/step - loss: 0.2886 - accuracy: 0.8847 - val_loss: 0.4975 - val_accuracy: 0.8227\n",
      "Epoch 50/110\n",
      "62755/62755 [==============================] - 2s 28us/step - loss: 0.2889 - accuracy: 0.8836 - val_loss: 0.5137 - val_accuracy: 0.8137\n",
      "Epoch 51/110\n",
      "62755/62755 [==============================] - 2s 27us/step - loss: 0.2880 - accuracy: 0.8840 - val_loss: 0.5163 - val_accuracy: 0.8145\n",
      "Epoch 52/110\n",
      "62755/62755 [==============================] - 2s 27us/step - loss: 0.2859 - accuracy: 0.8849 - val_loss: 0.5801 - val_accuracy: 0.7963\n",
      "Epoch 53/110\n",
      "62755/62755 [==============================] - 2s 27us/step - loss: 0.2849 - accuracy: 0.8845 - val_loss: 0.5871 - val_accuracy: 0.7794\n",
      "Epoch 54/110\n",
      "62755/62755 [==============================] - 2s 26us/step - loss: 0.2851 - accuracy: 0.8849 - val_loss: 0.5217 - val_accuracy: 0.7931\n",
      "Epoch 55/110\n",
      "62755/62755 [==============================] - 2s 27us/step - loss: 0.2860 - accuracy: 0.8848 - val_loss: 0.5497 - val_accuracy: 0.7768\n",
      "Epoch 56/110\n",
      "62755/62755 [==============================] - 2s 30us/step - loss: 0.2823 - accuracy: 0.8870 - val_loss: 0.5505 - val_accuracy: 0.7860\n",
      "Epoch 57/110\n",
      "62755/62755 [==============================] - 2s 28us/step - loss: 0.2843 - accuracy: 0.8857 - val_loss: 0.5385 - val_accuracy: 0.7936\n",
      "Epoch 58/110\n",
      "62755/62755 [==============================] - 2s 28us/step - loss: 0.2821 - accuracy: 0.8861 - val_loss: 0.6354 - val_accuracy: 0.7515\n",
      "Epoch 59/110\n",
      "62755/62755 [==============================] - 2s 28us/step - loss: 0.2832 - accuracy: 0.8874 - val_loss: 0.5877 - val_accuracy: 0.7778\n",
      "Epoch 60/110\n",
      "62755/62755 [==============================] - 2s 28us/step - loss: 0.2809 - accuracy: 0.8877 - val_loss: 0.5868 - val_accuracy: 0.7965\n",
      "Epoch 61/110\n",
      "62755/62755 [==============================] - 2s 35us/step - loss: 0.2806 - accuracy: 0.8895 - val_loss: 0.5527 - val_accuracy: 0.8070\n",
      "Epoch 62/110\n",
      "62755/62755 [==============================] - 2s 35us/step - loss: 0.2789 - accuracy: 0.8887 - val_loss: 0.5694 - val_accuracy: 0.8015\n",
      "Epoch 63/110\n",
      "62755/62755 [==============================] - 2s 33us/step - loss: 0.2813 - accuracy: 0.8880 - val_loss: 0.7997 - val_accuracy: 0.7156\n",
      "Epoch 64/110\n",
      "62755/62755 [==============================] - 2s 38us/step - loss: 0.2799 - accuracy: 0.8885 - val_loss: 0.5988 - val_accuracy: 0.7875\n",
      "Epoch 65/110\n",
      "62755/62755 [==============================] - 3s 47us/step - loss: 0.2764 - accuracy: 0.8915 - val_loss: 0.6577 - val_accuracy: 0.7554\n",
      "Epoch 66/110\n",
      "62755/62755 [==============================] - 3s 43us/step - loss: 0.2791 - accuracy: 0.8897 - val_loss: 0.6523 - val_accuracy: 0.7724\n",
      "Epoch 67/110\n",
      "62755/62755 [==============================] - 2s 35us/step - loss: 0.2771 - accuracy: 0.8904 - val_loss: 0.6123 - val_accuracy: 0.7671\n",
      "Epoch 68/110\n",
      "62755/62755 [==============================] - 2s 34us/step - loss: 0.2795 - accuracy: 0.8891 - val_loss: 0.5881 - val_accuracy: 0.7933\n",
      "Epoch 69/110\n",
      "62755/62755 [==============================] - 2s 33us/step - loss: 0.2773 - accuracy: 0.8905 - val_loss: 0.5338 - val_accuracy: 0.7994\n",
      "Epoch 70/110\n",
      "62755/62755 [==============================] - 2s 33us/step - loss: 0.2795 - accuracy: 0.8894 - val_loss: 0.5996 - val_accuracy: 0.7855\n",
      "Epoch 71/110\n",
      "62755/62755 [==============================] - 3s 41us/step - loss: 0.2782 - accuracy: 0.8892 - val_loss: 0.7057 - val_accuracy: 0.7352\n",
      "Epoch 72/110\n",
      "62755/62755 [==============================] - 2s 38us/step - loss: 0.2766 - accuracy: 0.8914 - val_loss: 0.6087 - val_accuracy: 0.7804\n",
      "Epoch 73/110\n",
      "62755/62755 [==============================] - 2s 34us/step - loss: 0.2760 - accuracy: 0.8919 - val_loss: 0.6060 - val_accuracy: 0.7521\n",
      "Epoch 74/110\n",
      "62755/62755 [==============================] - 2s 33us/step - loss: 0.2788 - accuracy: 0.8903 - val_loss: 0.6864 - val_accuracy: 0.7344\n",
      "Epoch 75/110\n",
      "62755/62755 [==============================] - 2s 32us/step - loss: 0.2776 - accuracy: 0.8911 - val_loss: 0.6328 - val_accuracy: 0.7885\n",
      "Epoch 76/110\n",
      "62755/62755 [==============================] - 2s 32us/step - loss: 0.2775 - accuracy: 0.8907 - val_loss: 0.6993 - val_accuracy: 0.7635\n",
      "Epoch 77/110\n",
      "62755/62755 [==============================] - 2s 31us/step - loss: 0.2762 - accuracy: 0.8911 - val_loss: 0.6431 - val_accuracy: 0.7573\n",
      "Epoch 78/110\n",
      "62755/62755 [==============================] - 2s 33us/step - loss: 0.2752 - accuracy: 0.8924 - val_loss: 0.6229 - val_accuracy: 0.7881\n",
      "Epoch 79/110\n",
      "62755/62755 [==============================] - 2s 36us/step - loss: 0.2761 - accuracy: 0.8920 - val_loss: 0.6861 - val_accuracy: 0.7793\n",
      "Epoch 80/110\n",
      "62755/62755 [==============================] - 2s 32us/step - loss: 0.2768 - accuracy: 0.8911 - val_loss: 0.5879 - val_accuracy: 0.7939\n",
      "Epoch 81/110\n",
      "62755/62755 [==============================] - 2s 33us/step - loss: 0.2744 - accuracy: 0.8925 - val_loss: 0.6618 - val_accuracy: 0.7545\n",
      "Epoch 82/110\n",
      "62755/62755 [==============================] - 2s 34us/step - loss: 0.2746 - accuracy: 0.8940 - val_loss: 0.6380 - val_accuracy: 0.7911\n",
      "Epoch 83/110\n",
      "62755/62755 [==============================] - 2s 32us/step - loss: 0.2757 - accuracy: 0.8932 - val_loss: 0.6825 - val_accuracy: 0.7736\n",
      "Epoch 84/110\n",
      "62755/62755 [==============================] - 2s 32us/step - loss: 0.2735 - accuracy: 0.8944 - val_loss: 0.6477 - val_accuracy: 0.7671\n",
      "Epoch 85/110\n",
      "62755/62755 [==============================] - 2s 32us/step - loss: 0.2738 - accuracy: 0.8939 - val_loss: 0.6505 - val_accuracy: 0.7753\n",
      "Epoch 86/110\n",
      "62755/62755 [==============================] - 2s 37us/step - loss: 0.2731 - accuracy: 0.8935 - val_loss: 0.7034 - val_accuracy: 0.7568\n",
      "Epoch 87/110\n",
      "62755/62755 [==============================] - 2s 33us/step - loss: 0.2731 - accuracy: 0.8938 - val_loss: 0.6723 - val_accuracy: 0.7687\n",
      "Epoch 88/110\n",
      "62755/62755 [==============================] - 2s 33us/step - loss: 0.2703 - accuracy: 0.8949 - val_loss: 0.7906 - val_accuracy: 0.7236\n",
      "Epoch 89/110\n",
      "62755/62755 [==============================] - 2s 32us/step - loss: 0.2718 - accuracy: 0.8952 - val_loss: 0.6515 - val_accuracy: 0.7778\n",
      "Epoch 90/110\n",
      "62755/62755 [==============================] - 2s 31us/step - loss: 0.2718 - accuracy: 0.8948 - val_loss: 0.7033 - val_accuracy: 0.7661\n",
      "Epoch 91/110\n",
      "62755/62755 [==============================] - 2s 35us/step - loss: 0.2721 - accuracy: 0.8948 - val_loss: 0.6501 - val_accuracy: 0.7658\n",
      "Epoch 92/110\n",
      "62755/62755 [==============================] - 2s 37us/step - loss: 0.2710 - accuracy: 0.8953 - val_loss: 0.6836 - val_accuracy: 0.7616\n",
      "Epoch 93/110\n",
      "62755/62755 [==============================] - 2s 38us/step - loss: 0.2723 - accuracy: 0.8955 - val_loss: 0.6336 - val_accuracy: 0.7784\n",
      "Epoch 94/110\n",
      "62755/62755 [==============================] - 2s 39us/step - loss: 0.2702 - accuracy: 0.8965 - val_loss: 0.6248 - val_accuracy: 0.7767\n",
      "Epoch 95/110\n",
      "62755/62755 [==============================] - 2s 36us/step - loss: 0.2693 - accuracy: 0.8947 - val_loss: 0.6206 - val_accuracy: 0.7703\n",
      "Epoch 96/110\n",
      "62755/62755 [==============================] - 2s 27us/step - loss: 0.2715 - accuracy: 0.8954 - val_loss: 0.5954 - val_accuracy: 0.7815\n",
      "Epoch 97/110\n",
      "62755/62755 [==============================] - 2s 27us/step - loss: 0.2692 - accuracy: 0.8965 - val_loss: 0.6366 - val_accuracy: 0.7837\n",
      "Epoch 98/110\n",
      "62755/62755 [==============================] - 2s 26us/step - loss: 0.2674 - accuracy: 0.8972 - val_loss: 0.6127 - val_accuracy: 0.7688\n",
      "Epoch 99/110\n",
      "62755/62755 [==============================] - 2s 29us/step - loss: 0.2676 - accuracy: 0.8978 - val_loss: 0.6197 - val_accuracy: 0.7662\n",
      "Epoch 100/110\n",
      "62755/62755 [==============================] - 2s 27us/step - loss: 0.2694 - accuracy: 0.8963 - val_loss: 0.5608 - val_accuracy: 0.7931\n",
      "Epoch 101/110\n",
      "62755/62755 [==============================] - 2s 27us/step - loss: 0.2702 - accuracy: 0.8963 - val_loss: 0.6270 - val_accuracy: 0.7616\n",
      "Epoch 102/110\n",
      "62755/62755 [==============================] - 2s 29us/step - loss: 0.2657 - accuracy: 0.8986 - val_loss: 0.5799 - val_accuracy: 0.7935\n",
      "Epoch 103/110\n",
      "62755/62755 [==============================] - 2s 28us/step - loss: 0.2665 - accuracy: 0.8974 - val_loss: 0.5831 - val_accuracy: 0.7882\n",
      "Epoch 104/110\n",
      "62755/62755 [==============================] - 2s 27us/step - loss: 0.2669 - accuracy: 0.8981 - val_loss: 0.6254 - val_accuracy: 0.7780\n",
      "Epoch 105/110\n",
      "62755/62755 [==============================] - 2s 27us/step - loss: 0.2664 - accuracy: 0.8968 - val_loss: 0.5883 - val_accuracy: 0.7880\n",
      "Epoch 106/110\n",
      "62755/62755 [==============================] - 2s 27us/step - loss: 0.2657 - accuracy: 0.8981 - val_loss: 0.6932 - val_accuracy: 0.7515\n",
      "Epoch 107/110\n",
      "62755/62755 [==============================] - 2s 26us/step - loss: 0.2682 - accuracy: 0.8964 - val_loss: 0.6892 - val_accuracy: 0.7634\n",
      "Epoch 108/110\n",
      "62755/62755 [==============================] - 2s 26us/step - loss: 0.2685 - accuracy: 0.8960 - val_loss: 0.6200 - val_accuracy: 0.7570\n",
      "Epoch 109/110\n",
      "62755/62755 [==============================] - 2s 26us/step - loss: 0.2685 - accuracy: 0.8971 - val_loss: 0.6418 - val_accuracy: 0.7869\n",
      "Epoch 110/110\n"
     ]
    },
    {
     "name": "stdout",
     "output_type": "stream",
     "text": [
      "62755/62755 [==============================] - 2s 26us/step - loss: 0.2645 - accuracy: 0.8985 - val_loss: 0.6710 - val_accuracy: 0.7661\n"
     ]
    }
   ],
   "source": [
    "\n",
    "#model=ModelBased()\n",
    "#model=ModelByRegularL2()\n",
    "#model=ModelByWConstr_Dropout()\n",
    "\n",
    "model=ModelByAllTuning()\n",
    "\n",
    "if isEarlyStop==True:\n",
    " print(\"Use EarlyStopping\")\n",
    " history_model=model.fit(Xtrain_scaled,y_train,validation_data=(Xtest_scaled,y_test),\n",
    "                        epochs=xpoch,batch_size=xbatch,callbacks=[es])\n",
    "else:\n",
    " history_model=model.fit(Xtrain_scaled,y_train,validation_data=(Xtest_scaled,y_test), \n",
    "                        epochs=xpoch,batch_size=xbatch)"
   ]
  },
  {
   "cell_type": "code",
   "execution_count": 40,
   "metadata": {},
   "outputs": [
    {
     "name": "stdout",
     "output_type": "stream",
     "text": [
      " Accuracy(%) train vs test:  91.38 - 85.54\n",
      " Loss(%) train vs test:  0.23 - 0.36\n"
     ]
    },
    {
     "data": {
      "image/png": "[encoded data removed]",
      "text/plain": [
       "<Figure size 864x576 with 2 Axes>"
      ]
     },
     "metadata": {
      "needs_background": "light"
     },
     "output_type": "display_data"
    }
   ],
   "source": [
    "train_loss,train_acc=model.evaluate(Xtrain_scaled,y_train,verbose=0)\n",
    "test_loss,test_acc=model.evaluate(Xtest_scaled,y_test,verbose=0)\n",
    "\n",
    "print(' Accuracy(%) train vs test: ',round(train_acc*100,2),\"-\",round(test_acc*100,2))   \n",
    "print(' Loss(%) train vs test: ',round(train_loss,2),\"-\",round(test_loss,2))\n",
    "\n",
    "PlotModelEvaluation(history_model)\n"
   ]
  },
  {
   "cell_type": "code",
   "execution_count": 195,
   "metadata": {},
   "outputs": [
    {
     "data": {
      "text/plain": [
       "array([[0.87870197, 0.89374894, 0.89230769, 0.8458237 , 0.86770083,\n",
       "        0.89365672, 0.87340909, 0.88238283, 0.28421283, 0.31419508,\n",
       "        0.40992204, 0.40934821, 0.83201741, 0.        , 0.        ,\n",
       "        0.66666667, 0.33333333],\n",
       "       [0.87862416, 0.89367003, 0.89230769, 0.8458237 , 0.86770083,\n",
       "        0.89321773, 0.87340909, 0.88215697, 0.28370192, 0.31356067,\n",
       "        0.41006378, 0.41889051, 0.83189125, 0.        , 0.        ,\n",
       "        0.66666667, 0.33333333],\n",
       "       [0.87855745, 0.89357984, 0.89230769, 0.8458237 , 0.86770083,\n",
       "        0.89255926, 0.87340909, 0.88181818, 0.283264  , 0.31292625,\n",
       "        0.41034727, 0.4284328 , 0.8319333 , 0.        , 0.        ,\n",
       "        0.66666667, 0.33333333]])"
      ]
     },
     "execution_count": 195,
     "metadata": {},
     "output_type": "execute_result"
    }
   ],
   "source": [
    "Xtest_scaled[:3]"
   ]
  },
  {
   "cell_type": "code",
   "execution_count": 196,
   "metadata": {},
   "outputs": [
    {
     "name": "stdout",
     "output_type": "stream",
     "text": [
      "[0, 0, 0, 0, 0, 0, 0, 0, 0, 0]\n",
      "[[1. 0.]\n",
      " [1. 0.]\n",
      " [1. 0.]\n",
      " [1. 0.]\n",
      " [1. 0.]\n",
      " [1. 0.]\n",
      " [1. 0.]\n",
      " [1. 0.]\n",
      " [1. 0.]\n",
      " [1. 0.]]\n"
     ]
    }
   ],
   "source": [
    "yPredicted = model.predict_classes(Xtest_scaled)\n",
    "#yPredicted = model.predict(Xtest_scaled)\n",
    "\n",
    "predictions = [value for value in yPredicted]\n",
    "\n",
    "\n",
    "print(predictions[:10])\n",
    "print(y_test[:10])\n"
   ]
  },
  {
   "cell_type": "code",
   "execution_count": 197,
   "metadata": {},
   "outputs": [
    {
     "name": "stdout",
     "output_type": "stream",
     "text": [
      "[0, 0, 0, 0, 0, 0, 0, 0, 0, 0]\n"
     ]
    }
   ],
   "source": [
    "if y_train.ndim==2:\n",
    " y_test = [numpy.argmax(y, axis=None, out=None) for y in y_test]\n",
    " print(y_test[:10])"
   ]
  },
  {
   "cell_type": "code",
   "execution_count": 198,
   "metadata": {},
   "outputs": [
    {
     "name": "stdout",
     "output_type": "stream",
     "text": [
      "Accuracy: 79.08%\n"
     ]
    }
   ],
   "source": [
    "# evaluate predictions  \n",
    "accuracy = accuracy_score(y_test, predictions)\n",
    "print(\"Accuracy: %.2f%%\" % (accuracy * 100.0))"
   ]
  },
  {
   "cell_type": "markdown",
   "metadata": {},
   "source": [
    "# Create Prediction Result DataFrame"
   ]
  },
  {
   "cell_type": "code",
   "execution_count": 199,
   "metadata": {},
   "outputs": [
    {
     "name": "stdout",
     "output_type": "stream",
     "text": [
      "(7838, 2)\n"
     ]
    },
    {
     "data": {
      "text/html": [
       "<div>\n",
       "<style scoped>\n",
       "    .dataframe tbody tr th:only-of-type {\n",
       "        vertical-align: middle;\n",
       "    }\n",
       "\n",
       "    .dataframe tbody tr th {\n",
       "        vertical-align: top;\n",
       "    }\n",
       "\n",
       "    .dataframe thead th {\n",
       "        text-align: right;\n",
       "    }\n",
       "</style>\n",
       "<table border=\"1\" class=\"dataframe\">\n",
       "  <thead>\n",
       "    <tr style=\"text-align: right;\">\n",
       "      <th></th>\n",
       "      <th>y_Actual</th>\n",
       "      <th>y_Predicted</th>\n",
       "    </tr>\n",
       "    <tr>\n",
       "      <th>datetime</th>\n",
       "      <th></th>\n",
       "      <th></th>\n",
       "    </tr>\n",
       "  </thead>\n",
       "  <tbody>\n",
       "    <tr>\n",
       "      <th>2020-06-10 15:45:00</th>\n",
       "      <td>1</td>\n",
       "      <td>1</td>\n",
       "    </tr>\n",
       "    <tr>\n",
       "      <th>2020-06-10 16:00:00</th>\n",
       "      <td>1</td>\n",
       "      <td>1</td>\n",
       "    </tr>\n",
       "    <tr>\n",
       "      <th>2020-06-10 16:15:00</th>\n",
       "      <td>1</td>\n",
       "      <td>1</td>\n",
       "    </tr>\n",
       "    <tr>\n",
       "      <th>2020-06-10 16:30:00</th>\n",
       "      <td>1</td>\n",
       "      <td>1</td>\n",
       "    </tr>\n",
       "    <tr>\n",
       "      <th>2020-06-10 16:45:00</th>\n",
       "      <td>1</td>\n",
       "      <td>1</td>\n",
       "    </tr>\n",
       "  </tbody>\n",
       "</table>\n",
       "</div>"
      ],
      "text/plain": [
       "                     y_Actual  y_Predicted\n",
       "datetime                                  \n",
       "2020-06-10 15:45:00         1            1\n",
       "2020-06-10 16:00:00         1            1\n",
       "2020-06-10 16:15:00         1            1\n",
       "2020-06-10 16:30:00         1            1\n",
       "2020-06-10 16:45:00         1            1"
      ]
     },
     "execution_count": 199,
     "metadata": {},
     "output_type": "execute_result"
    }
   ],
   "source": [
    "df_predictResult=pandas.DataFrame({'y_Actual':y_test,'y_Predicted':yPredicted.ravel()},index=df_test.index)\n",
    "print(df_predictResult.shape)\n",
    "df_predictResult.tail(5)"
   ]
  },
  {
   "cell_type": "code",
   "execution_count": 200,
   "metadata": {},
   "outputs": [
    {
     "data": {
      "text/plain": [
       "array([[9.9973649e-01, 2.6350073e-04],\n",
       "       [9.9973267e-01, 2.6732654e-04],\n",
       "       [9.9972874e-01, 2.7130410e-04],\n",
       "       [9.9972385e-01, 2.7618793e-04],\n",
       "       [9.9971861e-01, 2.8138570e-04]], dtype=float32)"
      ]
     },
     "execution_count": 200,
     "metadata": {},
     "output_type": "execute_result"
    }
   ],
   "source": [
    "yPredicted_prob = model.predict_proba(Xtest_scaled)\n",
    "yPredicted_prob[:5]"
   ]
  },
  {
   "cell_type": "code",
   "execution_count": 201,
   "metadata": {},
   "outputs": [
    {
     "name": "stdout",
     "output_type": "stream",
     "text": [
      "(7838, 2)\n"
     ]
    },
    {
     "data": {
      "text/html": [
       "<div>\n",
       "<style scoped>\n",
       "    .dataframe tbody tr th:only-of-type {\n",
       "        vertical-align: middle;\n",
       "    }\n",
       "\n",
       "    .dataframe tbody tr th {\n",
       "        vertical-align: top;\n",
       "    }\n",
       "\n",
       "    .dataframe thead th {\n",
       "        text-align: right;\n",
       "    }\n",
       "</style>\n",
       "<table border=\"1\" class=\"dataframe\">\n",
       "  <thead>\n",
       "    <tr style=\"text-align: right;\">\n",
       "      <th></th>\n",
       "      <th>Prob_0</th>\n",
       "      <th>Prob_1</th>\n",
       "    </tr>\n",
       "    <tr>\n",
       "      <th>datetime</th>\n",
       "      <th></th>\n",
       "      <th></th>\n",
       "    </tr>\n",
       "  </thead>\n",
       "  <tbody>\n",
       "    <tr>\n",
       "      <th>2020-06-10 15:45:00</th>\n",
       "      <td>0.308</td>\n",
       "      <td>0.692</td>\n",
       "    </tr>\n",
       "    <tr>\n",
       "      <th>2020-06-10 16:00:00</th>\n",
       "      <td>0.304</td>\n",
       "      <td>0.696</td>\n",
       "    </tr>\n",
       "    <tr>\n",
       "      <th>2020-06-10 16:15:00</th>\n",
       "      <td>0.299</td>\n",
       "      <td>0.701</td>\n",
       "    </tr>\n",
       "    <tr>\n",
       "      <th>2020-06-10 16:30:00</th>\n",
       "      <td>0.295</td>\n",
       "      <td>0.705</td>\n",
       "    </tr>\n",
       "    <tr>\n",
       "      <th>2020-06-10 16:45:00</th>\n",
       "      <td>0.291</td>\n",
       "      <td>0.709</td>\n",
       "    </tr>\n",
       "  </tbody>\n",
       "</table>\n",
       "</div>"
      ],
      "text/plain": [
       "                     Prob_0  Prob_1\n",
       "datetime                           \n",
       "2020-06-10 15:45:00   0.308   0.692\n",
       "2020-06-10 16:00:00   0.304   0.696\n",
       "2020-06-10 16:15:00   0.299   0.701\n",
       "2020-06-10 16:30:00   0.295   0.705\n",
       "2020-06-10 16:45:00   0.291   0.709"
      ]
     },
     "execution_count": 201,
     "metadata": {},
     "output_type": "execute_result"
    }
   ],
   "source": [
    "df_predictProb=pandas.DataFrame(data=yPredicted_prob,columns=['Prob_0','Prob_1'],index=df_test.index)\n",
    "print(df_predictProb.shape)\n",
    "df_predictProb.round(3).tail()"
   ]
  },
  {
   "cell_type": "code",
   "execution_count": 202,
   "metadata": {},
   "outputs": [
    {
     "data": {
      "text/html": [
       "<div>\n",
       "<style scoped>\n",
       "    .dataframe tbody tr th:only-of-type {\n",
       "        vertical-align: middle;\n",
       "    }\n",
       "\n",
       "    .dataframe tbody tr th {\n",
       "        vertical-align: top;\n",
       "    }\n",
       "\n",
       "    .dataframe thead th {\n",
       "        text-align: right;\n",
       "    }\n",
       "</style>\n",
       "<table border=\"1\" class=\"dataframe\">\n",
       "  <thead>\n",
       "    <tr style=\"text-align: right;\">\n",
       "      <th></th>\n",
       "      <th>open</th>\n",
       "      <th>high</th>\n",
       "      <th>low</th>\n",
       "      <th>close</th>\n",
       "      <th>y_Actual</th>\n",
       "      <th>y_Predicted</th>\n",
       "      <th>Prob_0</th>\n",
       "      <th>Prob_1</th>\n",
       "    </tr>\n",
       "    <tr>\n",
       "      <th>datetime</th>\n",
       "      <th></th>\n",
       "      <th></th>\n",
       "      <th></th>\n",
       "      <th></th>\n",
       "      <th></th>\n",
       "      <th></th>\n",
       "      <th></th>\n",
       "      <th></th>\n",
       "    </tr>\n",
       "  </thead>\n",
       "  <tbody>\n",
       "    <tr>\n",
       "      <th>2019-01-02 09:45:00</th>\n",
       "      <td>1039.0</td>\n",
       "      <td>1046.4</td>\n",
       "      <td>1038.2</td>\n",
       "      <td>1044.3</td>\n",
       "      <td>0</td>\n",
       "      <td>0</td>\n",
       "      <td>0.999736</td>\n",
       "      <td>0.000264</td>\n",
       "    </tr>\n",
       "    <tr>\n",
       "      <th>2019-01-02 10:00:00</th>\n",
       "      <td>1044.4</td>\n",
       "      <td>1045.0</td>\n",
       "      <td>1039.7</td>\n",
       "      <td>1041.7</td>\n",
       "      <td>0</td>\n",
       "      <td>0</td>\n",
       "      <td>0.999733</td>\n",
       "      <td>0.000267</td>\n",
       "    </tr>\n",
       "    <tr>\n",
       "      <th>2019-01-02 10:15:00</th>\n",
       "      <td>1041.7</td>\n",
       "      <td>1044.1</td>\n",
       "      <td>1041.6</td>\n",
       "      <td>1043.0</td>\n",
       "      <td>0</td>\n",
       "      <td>0</td>\n",
       "      <td>0.999729</td>\n",
       "      <td>0.000271</td>\n",
       "    </tr>\n",
       "    <tr>\n",
       "      <th>2019-01-02 10:30:00</th>\n",
       "      <td>1042.9</td>\n",
       "      <td>1047.0</td>\n",
       "      <td>1042.6</td>\n",
       "      <td>1045.0</td>\n",
       "      <td>0</td>\n",
       "      <td>0</td>\n",
       "      <td>0.999724</td>\n",
       "      <td>0.000276</td>\n",
       "    </tr>\n",
       "    <tr>\n",
       "      <th>2019-01-02 10:45:00</th>\n",
       "      <td>1045.3</td>\n",
       "      <td>1045.8</td>\n",
       "      <td>1043.7</td>\n",
       "      <td>1044.5</td>\n",
       "      <td>0</td>\n",
       "      <td>0</td>\n",
       "      <td>0.999719</td>\n",
       "      <td>0.000281</td>\n",
       "    </tr>\n",
       "  </tbody>\n",
       "</table>\n",
       "</div>"
      ],
      "text/plain": [
       "                       open    high     low   close  y_Actual  y_Predicted  \\\n",
       "datetime                                                                     \n",
       "2019-01-02 09:45:00  1039.0  1046.4  1038.2  1044.3         0            0   \n",
       "2019-01-02 10:00:00  1044.4  1045.0  1039.7  1041.7         0            0   \n",
       "2019-01-02 10:15:00  1041.7  1044.1  1041.6  1043.0         0            0   \n",
       "2019-01-02 10:30:00  1042.9  1047.0  1042.6  1045.0         0            0   \n",
       "2019-01-02 10:45:00  1045.3  1045.8  1043.7  1044.5         0            0   \n",
       "\n",
       "                       Prob_0    Prob_1  \n",
       "datetime                                 \n",
       "2019-01-02 09:45:00  0.999736  0.000264  \n",
       "2019-01-02 10:00:00  0.999733  0.000267  \n",
       "2019-01-02 10:15:00  0.999729  0.000271  \n",
       "2019-01-02 10:30:00  0.999724  0.000276  \n",
       "2019-01-02 10:45:00  0.999719  0.000281  "
      ]
     },
     "execution_count": 202,
     "metadata": {},
     "output_type": "execute_result"
    }
   ],
   "source": [
    "df_predictAll=pandas.concat([dfOHLC,df_predictResult,df_predictProb],axis=1)\n",
    "df_predictAll.head()"
   ]
  },
  {
   "cell_type": "code",
   "execution_count": 148,
   "metadata": {},
   "outputs": [
    {
     "name": "stdout",
     "output_type": "stream",
     "text": [
      "D:\\JupyterCode\\ML-S50F\\Lab-S5-F-DNN\\results\\long_MLP-_17x17x0_epo105_btch32_tn2007-2018_ts2019-2020_030720_1553_resultB1.csv\n",
      "D:\\JupyterCode\\ML-S50F\\Lab-S5-F-DNN\\models\\B1_long_MLP_17x17x0_epo105_btch32_tn2007-2018_ts2019-2020_030720_1553\n"
     ]
    }
   ],
   "source": [
    "buildtime=datetime.now().strftime('%d%m%y_%H%M')\n",
    "\n",
    "result_filename=f'{result_path}\\\\{strategyName}_MLP-_{modelHD_Title}_tn{st}-{ed}_ts{test_st}-{test_ed}_{buildtime}_resultB1.csv'\n",
    "\n",
    "print(result_filename)\n",
    "\n",
    "model_filename=f'{model_path}\\\\B1_{strategyName}_MLP_{modelHD_Title}_tn{st}-{ed}_ts{test_st}-{test_ed}_{buildtime}'\n",
    "print(model_filename)\n",
    "\n"
   ]
  },
  {
   "cell_type": "markdown",
   "metadata": {},
   "source": [
    "# save reulst as csv file"
   ]
  },
  {
   "cell_type": "code",
   "execution_count": 149,
   "metadata": {},
   "outputs": [],
   "source": [
    "df_predictAll.to_csv(result_filename)"
   ]
  },
  {
   "cell_type": "markdown",
   "metadata": {},
   "source": [
    "# save model and scaler individually"
   ]
  },
  {
   "cell_type": "code",
   "execution_count": 150,
   "metadata": {},
   "outputs": [],
   "source": [
    "\n",
    "#actually prefer save model json\n",
    "from pickle import dump\n",
    "# save the model\n",
    "dump(model, open(f'{model_filename}_Dump-Model.pkl', 'wb'))\n",
    "# save the scaler\n",
    "dump(scaler, open(f'{model_filename}_Dump-Scaler.pkl', 'wb'))"
   ]
  },
  {
   "cell_type": "code",
   "execution_count": null,
   "metadata": {},
   "outputs": [],
   "source": []
  },
  {
   "cell_type": "code",
   "execution_count": null,
   "metadata": {},
   "outputs": [],
   "source": []
  }
 ],
 "metadata": {
  "kernelspec": {
   "display_name": "Python 3",
   "language": "python",
   "name": "python3"
  },
  "language_info": {
   "codemirror_mode": {
    "name": "ipython",
    "version": 3
   },
   "file_extension": ".py",
   "mimetype": "text/x-python",
   "name": "python",
   "nbconvert_exporter": "python",
   "pygments_lexer": "ipython3",
   "version": "3.8.5"
  }
 },
 "nbformat": 4,
 "nbformat_minor": 2
}
