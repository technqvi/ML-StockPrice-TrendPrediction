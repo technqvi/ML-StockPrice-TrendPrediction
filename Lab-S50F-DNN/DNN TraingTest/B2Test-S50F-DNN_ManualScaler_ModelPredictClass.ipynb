{
 "cells": [
  {
   "cell_type": "code",
   "execution_count": 22,
   "metadata": {},
   "outputs": [],
   "source": [
    " # Binary Classification with Sonar Dataset: Baseline\n",
    "import numpy\n",
    "import pandas\n",
    "from keras.models import Sequential\n",
    "from keras.layers import Dense\n",
    "from keras.models import model_from_json\n",
    "\n",
    "\n",
    "from keras.wrappers.scikit_learn import KerasClassifier\n",
    "from sklearn.model_selection import cross_val_score\n",
    "from sklearn.preprocessing import LabelEncoder\n",
    "from sklearn.model_selection import StratifiedKFold\n",
    "\n",
    "from sklearn.preprocessing import StandardScaler\n",
    "from sklearn.preprocessing import MinMaxScaler\n",
    "\n",
    "from sklearn.pipeline import Pipeline\n",
    "from keras.utils import np_utils\n",
    "import os"
   ]
  },
  {
   "cell_type": "code",
   "execution_count": 23,
   "metadata": {},
   "outputs": [],
   "source": [
    "seed = 1992\n",
    "numpy.random.seed(seed)\n"
   ]
  },
  {
   "cell_type": "code",
   "execution_count": 24,
   "metadata": {},
   "outputs": [
    {
     "name": "stdout",
     "output_type": "stream",
     "text": [
      "D:\\DataSets\\ML-Long_S50M15_07ToNow-Train.csv\n"
     ]
    }
   ],
   "source": [
    "filename='ML-Long_S50M15_07ToNow-Train.csv'\n",
    "filepath=os.path.abspath(f'D:\\DataSets\\/{filename}')\n",
    "print(filepath)"
   ]
  },
  {
   "cell_type": "code",
   "execution_count": 25,
   "metadata": {},
   "outputs": [
    {
     "name": "stdout",
     "output_type": "stream",
     "text": [
      "<class 'pandas.core.frame.DataFrame'>\n",
      "DatetimeIndex: 70693 entries, 2007-01-03 09:45:00 to 2020-06-10 16:45:00\n",
      "Data columns (total 22 columns):\n",
      " #   Column                  Non-Null Count  Dtype  \n",
      "---  ------                  --------------  -----  \n",
      " 0   open                    70693 non-null  float64\n",
      " 1   high                    70693 non-null  float64\n",
      " 2   low                     70693 non-null  float64\n",
      " 3   close                   70693 non-null  float64\n",
      " 4   indy_ma-550             70693 non-null  float64\n",
      " 5   indy_ma-1100            70693 non-null  float64\n",
      " 6   indy_hh-550             70693 non-null  float64\n",
      " 7   indy_ll-550             70693 non-null  float64\n",
      " 8   indy_mid-550            70693 non-null  float64\n",
      " 9   indy_hh2-1100           70693 non-null  float64\n",
      " 10  indy_ll2-1100           70693 non-null  float64\n",
      " 11  indy_mid2-1100          70693 non-null  float64\n",
      " 12  indy_macd110-440        70693 non-null  float64\n",
      " 13  indy_signal110-440-110  70693 non-null  float64\n",
      " 14  indy_hist_macd110-440   70693 non-null  float64\n",
      " 15  indy_rsi25-ma20         70693 non-null  float64\n",
      " 16  indy_6ATRTrail_DC-110   70693 non-null  float64\n",
      " 17  cate_3trend-550_ma110   70693 non-null  int64  \n",
      " 18  cate_2trend-1100_ma220  70693 non-null  int64  \n",
      " 19  cate_rannkHL1100-ma66   70693 non-null  int64  \n",
      " 20  cate_CombineTrend       70693 non-null  int64  \n",
      " 21  LongSignal              70693 non-null  int64  \n",
      "dtypes: float64(17), int64(5)\n",
      "memory usage: 12.4 MB\n",
      "None\n"
     ]
    }
   ],
   "source": [
    "dataframe = pandas.read_csv(filepath,index_col=\"datetime\", parse_dates=['datetime'],dayfirst=True)\n",
    "print(dataframe.info())\n"
   ]
  },
  {
   "cell_type": "code",
   "execution_count": 26,
   "metadata": {},
   "outputs": [
    {
     "name": "stdout",
     "output_type": "stream",
     "text": [
      "<class 'pandas.core.frame.DataFrame'>\n",
      "DatetimeIndex: 7838 entries, 2019-01-02 09:45:00 to 2020-06-10 16:45:00\n",
      "Data columns (total 18 columns):\n",
      " #   Column                  Non-Null Count  Dtype  \n",
      "---  ------                  --------------  -----  \n",
      " 0   indy_ma-550             7838 non-null   float64\n",
      " 1   indy_ma-1100            7838 non-null   float64\n",
      " 2   indy_hh-550             7838 non-null   float64\n",
      " 3   indy_ll-550             7838 non-null   float64\n",
      " 4   indy_mid-550            7838 non-null   float64\n",
      " 5   indy_hh2-1100           7838 non-null   float64\n",
      " 6   indy_ll2-1100           7838 non-null   float64\n",
      " 7   indy_mid2-1100          7838 non-null   float64\n",
      " 8   indy_macd110-440        7838 non-null   float64\n",
      " 9   indy_signal110-440-110  7838 non-null   float64\n",
      " 10  indy_hist_macd110-440   7838 non-null   float64\n",
      " 11  indy_rsi25-ma20         7838 non-null   float64\n",
      " 12  indy_6ATRTrail_DC-110   7838 non-null   float64\n",
      " 13  cate_3trend-550_ma110   7838 non-null   int64  \n",
      " 14  cate_2trend-1100_ma220  7838 non-null   int64  \n",
      " 15  cate_rannkHL1100-ma66   7838 non-null   int64  \n",
      " 16  cate_CombineTrend       7838 non-null   int64  \n",
      " 17  LongSignal              7838 non-null   int64  \n",
      "dtypes: float64(13), int64(5)\n",
      "memory usage: 1.1 MB\n"
     ]
    },
    {
     "name": "stderr",
     "output_type": "stream",
     "text": [
      "C:\\ProgramData\\Anaconda3\\lib\\site-packages\\pandas\\core\\frame.py:3997: SettingWithCopyWarning: \n",
      "A value is trying to be set on a copy of a slice from a DataFrame\n",
      "\n",
      "See the caveats in the documentation: https://pandas.pydata.org/pandas-docs/stable/user_guide/indexing.html#returning-a-view-versus-a-copy\n",
      "  errors=errors,\n"
     ]
    }
   ],
   "source": [
    "df=dataframe['01-2019':'12-2020']\n",
    "df.drop(['open','high','low','close'],axis=1,inplace=True)\n",
    "df.info()"
   ]
  },
  {
   "cell_type": "code",
   "execution_count": 27,
   "metadata": {},
   "outputs": [
    {
     "data": {
      "text/plain": [
       "'LongSignal'"
      ]
     },
     "execution_count": 27,
     "metadata": {},
     "output_type": "execute_result"
    }
   ],
   "source": [
    "labelName=df.columns[-1]\n",
    "labelName"
   ]
  },
  {
   "cell_type": "code",
   "execution_count": 28,
   "metadata": {},
   "outputs": [],
   "source": [
    "\n",
    "X_df = df.drop(columns=labelName).astype(float)\n",
    "Y_df = df[labelName]"
   ]
  },
  {
   "cell_type": "code",
   "execution_count": 29,
   "metadata": {},
   "outputs": [
    {
     "data": {
      "text/html": [
       "<div>\n",
       "<style scoped>\n",
       "    .dataframe tbody tr th:only-of-type {\n",
       "        vertical-align: middle;\n",
       "    }\n",
       "\n",
       "    .dataframe tbody tr th {\n",
       "        vertical-align: top;\n",
       "    }\n",
       "\n",
       "    .dataframe thead th {\n",
       "        text-align: right;\n",
       "    }\n",
       "</style>\n",
       "<table border=\"1\" class=\"dataframe\">\n",
       "  <thead>\n",
       "    <tr style=\"text-align: right;\">\n",
       "      <th></th>\n",
       "      <th>indy_ma-550</th>\n",
       "      <th>indy_ma-1100</th>\n",
       "      <th>indy_hh-550</th>\n",
       "      <th>indy_ll-550</th>\n",
       "      <th>indy_mid-550</th>\n",
       "      <th>indy_hh2-1100</th>\n",
       "      <th>indy_ll2-1100</th>\n",
       "      <th>indy_mid2-1100</th>\n",
       "      <th>indy_macd110-440</th>\n",
       "      <th>indy_signal110-440-110</th>\n",
       "      <th>indy_hist_macd110-440</th>\n",
       "      <th>indy_rsi25-ma20</th>\n",
       "      <th>indy_6ATRTrail_DC-110</th>\n",
       "      <th>cate_3trend-550_ma110</th>\n",
       "      <th>cate_2trend-1100_ma220</th>\n",
       "      <th>cate_rannkHL1100-ma66</th>\n",
       "      <th>cate_CombineTrend</th>\n",
       "    </tr>\n",
       "    <tr>\n",
       "      <th>datetime</th>\n",
       "      <th></th>\n",
       "      <th></th>\n",
       "      <th></th>\n",
       "      <th></th>\n",
       "      <th></th>\n",
       "      <th></th>\n",
       "      <th></th>\n",
       "      <th></th>\n",
       "      <th></th>\n",
       "      <th></th>\n",
       "      <th></th>\n",
       "      <th></th>\n",
       "      <th></th>\n",
       "      <th></th>\n",
       "      <th></th>\n",
       "      <th></th>\n",
       "      <th></th>\n",
       "    </tr>\n",
       "  </thead>\n",
       "  <tbody>\n",
       "    <tr>\n",
       "      <th>2019-01-02 09:45:00</th>\n",
       "      <td>1076.48</td>\n",
       "      <td>1085.09</td>\n",
       "      <td>1123.2</td>\n",
       "      <td>1022.6</td>\n",
       "      <td>1072.9</td>\n",
       "      <td>1125.0</td>\n",
       "      <td>1022.6</td>\n",
       "      <td>1073.8</td>\n",
       "      <td>-29.84</td>\n",
       "      <td>-24.72</td>\n",
       "      <td>-5.12</td>\n",
       "      <td>45.39</td>\n",
       "      <td>1049.31</td>\n",
       "      <td>1.0</td>\n",
       "      <td>0.0</td>\n",
       "      <td>3.0</td>\n",
       "      <td>2.0</td>\n",
       "    </tr>\n",
       "    <tr>\n",
       "      <th>2019-01-02 10:00:00</th>\n",
       "      <td>1076.41</td>\n",
       "      <td>1085.02</td>\n",
       "      <td>1123.2</td>\n",
       "      <td>1022.6</td>\n",
       "      <td>1072.9</td>\n",
       "      <td>1124.6</td>\n",
       "      <td>1022.6</td>\n",
       "      <td>1073.6</td>\n",
       "      <td>-29.91</td>\n",
       "      <td>-24.80</td>\n",
       "      <td>-5.11</td>\n",
       "      <td>45.98</td>\n",
       "      <td>1049.19</td>\n",
       "      <td>1.0</td>\n",
       "      <td>0.0</td>\n",
       "      <td>3.0</td>\n",
       "      <td>2.0</td>\n",
       "    </tr>\n",
       "    <tr>\n",
       "      <th>2019-01-02 10:15:00</th>\n",
       "      <td>1076.35</td>\n",
       "      <td>1084.94</td>\n",
       "      <td>1123.2</td>\n",
       "      <td>1022.6</td>\n",
       "      <td>1072.9</td>\n",
       "      <td>1124.0</td>\n",
       "      <td>1022.6</td>\n",
       "      <td>1073.3</td>\n",
       "      <td>-29.97</td>\n",
       "      <td>-24.88</td>\n",
       "      <td>-5.09</td>\n",
       "      <td>46.57</td>\n",
       "      <td>1049.23</td>\n",
       "      <td>1.0</td>\n",
       "      <td>0.0</td>\n",
       "      <td>3.0</td>\n",
       "      <td>2.0</td>\n",
       "    </tr>\n",
       "  </tbody>\n",
       "</table>\n",
       "</div>"
      ],
      "text/plain": [
       "                     indy_ma-550  indy_ma-1100  indy_hh-550  indy_ll-550  \\\n",
       "datetime                                                                   \n",
       "2019-01-02 09:45:00      1076.48       1085.09       1123.2       1022.6   \n",
       "2019-01-02 10:00:00      1076.41       1085.02       1123.2       1022.6   \n",
       "2019-01-02 10:15:00      1076.35       1084.94       1123.2       1022.6   \n",
       "\n",
       "                     indy_mid-550  indy_hh2-1100  indy_ll2-1100  \\\n",
       "datetime                                                          \n",
       "2019-01-02 09:45:00        1072.9         1125.0         1022.6   \n",
       "2019-01-02 10:00:00        1072.9         1124.6         1022.6   \n",
       "2019-01-02 10:15:00        1072.9         1124.0         1022.6   \n",
       "\n",
       "                     indy_mid2-1100  indy_macd110-440  indy_signal110-440-110  \\\n",
       "datetime                                                                        \n",
       "2019-01-02 09:45:00          1073.8            -29.84                  -24.72   \n",
       "2019-01-02 10:00:00          1073.6            -29.91                  -24.80   \n",
       "2019-01-02 10:15:00          1073.3            -29.97                  -24.88   \n",
       "\n",
       "                     indy_hist_macd110-440  indy_rsi25-ma20  \\\n",
       "datetime                                                      \n",
       "2019-01-02 09:45:00                  -5.12            45.39   \n",
       "2019-01-02 10:00:00                  -5.11            45.98   \n",
       "2019-01-02 10:15:00                  -5.09            46.57   \n",
       "\n",
       "                     indy_6ATRTrail_DC-110  cate_3trend-550_ma110  \\\n",
       "datetime                                                            \n",
       "2019-01-02 09:45:00                1049.31                    1.0   \n",
       "2019-01-02 10:00:00                1049.19                    1.0   \n",
       "2019-01-02 10:15:00                1049.23                    1.0   \n",
       "\n",
       "                     cate_2trend-1100_ma220  cate_rannkHL1100-ma66  \\\n",
       "datetime                                                             \n",
       "2019-01-02 09:45:00                     0.0                    3.0   \n",
       "2019-01-02 10:00:00                     0.0                    3.0   \n",
       "2019-01-02 10:15:00                     0.0                    3.0   \n",
       "\n",
       "                     cate_CombineTrend  \n",
       "datetime                                \n",
       "2019-01-02 09:45:00                2.0  \n",
       "2019-01-02 10:00:00                2.0  \n",
       "2019-01-02 10:15:00                2.0  "
      ]
     },
     "execution_count": 29,
     "metadata": {},
     "output_type": "execute_result"
    }
   ],
   "source": [
    "X_df.head(3)"
   ]
  },
  {
   "cell_type": "code",
   "execution_count": 30,
   "metadata": {},
   "outputs": [
    {
     "data": {
      "text/plain": [
       "datetime\n",
       "2019-01-02 09:45:00    0\n",
       "2019-01-02 10:00:00    0\n",
       "2019-01-02 10:15:00    0\n",
       "Name: LongSignal, dtype: int64"
      ]
     },
     "execution_count": 30,
     "metadata": {},
     "output_type": "execute_result"
    }
   ],
   "source": [
    "Y_df.head(3)"
   ]
  },
  {
   "cell_type": "code",
   "execution_count": 31,
   "metadata": {},
   "outputs": [
    {
     "name": "stdout",
     "output_type": "stream",
     "text": [
      "(7838, 17)\n",
      "(7838,)\n"
     ]
    }
   ],
   "source": [
    "# split into input (X) and output (Y) variables\n",
    "X = X_df.to_numpy()\n",
    "y =Y_df.to_numpy()\n",
    "print(X.shape)\n",
    "print(y.shape)"
   ]
  },
  {
   "cell_type": "markdown",
   "metadata": {},
   "source": [
    "# How to Save and Reuse Data Preparation Objects in Scikit-Learn"
   ]
  },
  {
   "cell_type": "code",
   "execution_count": 32,
   "metadata": {},
   "outputs": [],
   "source": [
    "from pickle import load\n",
    "\n",
    "from sklearn.metrics import accuracy_score\n",
    "\n",
    "import collections"
   ]
  },
  {
   "cell_type": "code",
   "execution_count": 34,
   "metadata": {},
   "outputs": [
    {
     "name": "stdout",
     "output_type": "stream",
     "text": [
      "D:\\JupyterCode\\ML-S50F\\Lab-S5-F-DNN\\final_model\\B1_long_MLP_17x17x0_epo105_btch32_tn2007-2018_ts2019-2020_030720_1553_Dump-Model.pkl True\n",
      "D:\\JupyterCode\\ML-S50F\\Lab-S5-F-DNN\\final_model\\B1_long_MLP_17x17x0_epo105_btch32_tn2007-2018_ts2019-2020_030720_1553_Dump-Scaler.pkl True\n"
     ]
    }
   ],
   "source": [
    "model_path=os.path.abspath(r'D:\\JupyterCode\\ML-S50F\\Lab-S5-F-DNN\\final_model')\n",
    "\n",
    "model_dumpfile=f'{model_path}\\B1_long_MLP_17x17x0_epo105_btch32_tn2007-2018_ts2019-2020_030720_1553_Dump-Model.pkl'\n",
    "scaler_dumpfile=f'{model_path}\\B1_long_MLP_17x17x0_epo105_btch32_tn2007-2018_ts2019-2020_030720_1553_Dump-Scaler.pkl'\n",
    "\n",
    "print(f'{model_dumpfile}',os.path.exists(model_dumpfile))\n",
    "print(f'{scaler_dumpfile}',os.path.exists(scaler_dumpfile))"
   ]
  },
  {
   "cell_type": "code",
   "execution_count": 35,
   "metadata": {},
   "outputs": [
    {
     "name": "stdout",
     "output_type": "stream",
     "text": [
      "WARNING:tensorflow:From C:\\ProgramData\\Anaconda3\\lib\\site-packages\\keras\\backend\\tensorflow_backend.py:422: The name tf.global_variables is deprecated. Please use tf.compat.v1.global_variables instead.\n",
      "\n"
     ]
    }
   ],
   "source": [
    "model = load(open(model_dumpfile, 'rb'))\n",
    "# load the scaler\n",
    "scaler = load(open(scaler_dumpfile, 'rb'))\n",
    "# transform the test dataset\n"
   ]
  },
  {
   "cell_type": "code",
   "execution_count": 36,
   "metadata": {},
   "outputs": [
    {
     "data": {
      "text/plain": [
       "<keras.engine.sequential.Sequential at 0x1c2b14c5648>"
      ]
     },
     "execution_count": 36,
     "metadata": {},
     "output_type": "execute_result"
    }
   ],
   "source": [
    "model"
   ]
  },
  {
   "cell_type": "code",
   "execution_count": 37,
   "metadata": {},
   "outputs": [
    {
     "data": {
      "text/plain": [
       "MinMaxScaler(copy=True, feature_range=(0, 1))"
      ]
     },
     "execution_count": 37,
     "metadata": {},
     "output_type": "execute_result"
    }
   ],
   "source": [
    "scaler"
   ]
  },
  {
   "cell_type": "code",
   "execution_count": 38,
   "metadata": {},
   "outputs": [
    {
     "name": "stdout",
     "output_type": "stream",
     "text": [
      "Test Accuracy: 81.65\n"
     ]
    }
   ],
   "source": [
    "# transform the test dataset\n",
    "X_test_scaled = scaler.transform(X)\n",
    "# make predictions on the test set\n",
    "yPredicted = model.predict_classes(X_test_scaled)\n",
    "# evaluate accuracy\n",
    "acc = accuracy_score(y, yPredicted)\n",
    "print('Test Accuracy:',round(acc*100,2))"
   ]
  },
  {
   "cell_type": "code",
   "execution_count": null,
   "metadata": {},
   "outputs": [],
   "source": []
  },
  {
   "cell_type": "code",
   "execution_count": null,
   "metadata": {},
   "outputs": [],
   "source": []
  }
 ],
 "metadata": {
  "kernelspec": {
   "display_name": "Python 3",
   "language": "python",
   "name": "python3"
  },
  "language_info": {
   "codemirror_mode": {
    "name": "ipython",
    "version": 3
   },
   "file_extension": ".py",
   "mimetype": "text/x-python",
   "name": "python",
   "nbconvert_exporter": "python",
   "pygments_lexer": "ipython3",
   "version": "3.7.6"
  }
 },
 "nbformat": 4,
 "nbformat_minor": 4
}
