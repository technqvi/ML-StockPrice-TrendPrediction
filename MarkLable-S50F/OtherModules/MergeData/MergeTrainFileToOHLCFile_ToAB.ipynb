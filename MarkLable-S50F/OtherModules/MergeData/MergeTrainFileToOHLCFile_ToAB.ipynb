{
 "cells": [
  {
   "cell_type": "code",
   "execution_count": 21,
   "metadata": {},
   "outputs": [],
   "source": [
    "import numpy as np\n",
    "import pandas as pd\n",
    "import matplotlib.pyplot as plt\n",
    "\n",
    "import datetime\n",
    "\n",
    "%config IPCompleter.greedy=True \n",
    "%matplotlib inline  "
   ]
  },
  {
   "cell_type": "code",
   "execution_count": 22,
   "metadata": {},
   "outputs": [],
   "source": [
    "class display(object):\n",
    "    \"\"\"Display HTML representation of multiple objects\"\"\"\n",
    "    template = \"\"\"<div style=\"float: left; padding: 10px;\">\n",
    "    <p style='font-family:\"Courier New\", Courier, monospace'>{0}</p>{1}\n",
    "    </div>\"\"\"\n",
    "    def __init__(self, *args):\n",
    "        self.args = args\n",
    "        \n",
    "    def _repr_html_(self):\n",
    "        return '\\n'.join(self.template.format(a, eval(a)._repr_html_())\n",
    "                         for a in self.args)\n",
    "    \n",
    "    def __repr__(self):\n",
    "        return '\\n\\n'.join(a + '\\n' + repr(eval(a))\n",
    "                           for a in self.args)"
   ]
  },
  {
   "cell_type": "markdown",
   "metadata": {},
   "source": [
    "#  MergeTrainFile_TRend&OHLC to AUX1"
   ]
  },
  {
   "cell_type": "code",
   "execution_count": 35,
   "metadata": {},
   "outputs": [],
   "source": [
    "ab_train_file='datasets\\TFday\\DataTrain2007-2015\\AB_2007To2015_Trend_Train-S50Day.csv'\n",
    "#ab_train_file='datasets\\TFday\\DataTrain2014-2019\\AB_2014To2019_Trend_Train-S50Day.csv'"
   ]
  },
  {
   "cell_type": "code",
   "execution_count": 36,
   "metadata": {},
   "outputs": [],
   "source": [
    "train_filename='datasets\\TFday\\DataTrain2007-2015\\ML_S50IF_CON-2007-2015_TrainData.csv'\n",
    "ohlc_filename='datasets\\TFday\\DataTrain2007-2015\\OHLC_S50IF_CON_2007-2015.csv'"
   ]
  },
  {
   "cell_type": "code",
   "execution_count": 37,
   "metadata": {},
   "outputs": [
    {
     "name": "stdout",
     "output_type": "stream",
     "text": [
      "(2199, 18)\n",
      "(2199, 4)\n"
     ]
    }
   ],
   "source": [
    "df_trend=pd.read_csv(train_filename,index_col='datetime',parse_dates =['datetime'],dayfirst=True)\n",
    "df_ohlc=pd.read_csv(ohlc_filename,index_col='datetime',parse_dates =['datetime'],dayfirst=True)\n",
    "print(df_trend.shape)\n",
    "print(df_ohlc.shape)"
   ]
  },
  {
   "cell_type": "code",
   "execution_count": 38,
   "metadata": {},
   "outputs": [
    {
     "data": {
      "text/plain": [
       "\"\\naction_filename='datasets\\\\Data_S50F_15M_2014Now\\\\ML-Action_S50F-15M_2014Now-TrainData.csv'\\ndf_action=pd.read_csv(action_filename,index_col='datetime',parse_dates =['datetime'],dayfirst=True)\\n\\nprint(df_action.shape)\\n\""
      ]
     },
     "execution_count": 38,
     "metadata": {},
     "output_type": "execute_result"
    }
   ],
   "source": [
    "'''\n",
    "action_filename='datasets\\Data_S50F_15M_2014Now\\ML-Action_S50F-15M_2014Now-TrainData.csv'\n",
    "df_action=pd.read_csv(action_filename,index_col='datetime',parse_dates =['datetime'],dayfirst=True)\n",
    "\n",
    "print(df_action.shape)\n",
    "'''"
   ]
  },
  {
   "cell_type": "code",
   "execution_count": 39,
   "metadata": {},
   "outputs": [],
   "source": [
    "df1=df_ohlc[['open','high','low','close']]\n",
    "df2=df_trend[['TrendLabel']]"
   ]
  },
  {
   "cell_type": "code",
   "execution_count": 40,
   "metadata": {},
   "outputs": [
    {
     "name": "stdout",
     "output_type": "stream",
     "text": [
      "(2199, 5)\n"
     ]
    },
    {
     "data": {
      "text/html": [
       "<div>\n",
       "<style scoped>\n",
       "    .dataframe tbody tr th:only-of-type {\n",
       "        vertical-align: middle;\n",
       "    }\n",
       "\n",
       "    .dataframe tbody tr th {\n",
       "        vertical-align: top;\n",
       "    }\n",
       "\n",
       "    .dataframe thead th {\n",
       "        text-align: right;\n",
       "    }\n",
       "</style>\n",
       "<table border=\"1\" class=\"dataframe\">\n",
       "  <thead>\n",
       "    <tr style=\"text-align: right;\">\n",
       "      <th></th>\n",
       "      <th>open</th>\n",
       "      <th>high</th>\n",
       "      <th>low</th>\n",
       "      <th>close</th>\n",
       "      <th>TrendLabel</th>\n",
       "    </tr>\n",
       "    <tr>\n",
       "      <th>datetime</th>\n",
       "      <th></th>\n",
       "      <th></th>\n",
       "      <th></th>\n",
       "      <th></th>\n",
       "      <th></th>\n",
       "    </tr>\n",
       "  </thead>\n",
       "  <tbody>\n",
       "    <tr>\n",
       "      <th>2007-01-03 09:45:00</th>\n",
       "      <td>460.0</td>\n",
       "      <td>464.5</td>\n",
       "      <td>453.5</td>\n",
       "      <td>458.9</td>\n",
       "      <td>2</td>\n",
       "    </tr>\n",
       "    <tr>\n",
       "      <th>2007-01-04 09:45:00</th>\n",
       "      <td>458.0</td>\n",
       "      <td>459.5</td>\n",
       "      <td>450.0</td>\n",
       "      <td>450.0</td>\n",
       "      <td>2</td>\n",
       "    </tr>\n",
       "    <tr>\n",
       "      <th>2007-01-05 09:45:00</th>\n",
       "      <td>448.0</td>\n",
       "      <td>448.0</td>\n",
       "      <td>435.3</td>\n",
       "      <td>438.5</td>\n",
       "      <td>2</td>\n",
       "    </tr>\n",
       "    <tr>\n",
       "      <th>2007-01-08 09:45:00</th>\n",
       "      <td>435.7</td>\n",
       "      <td>445.4</td>\n",
       "      <td>434.9</td>\n",
       "      <td>443.2</td>\n",
       "      <td>2</td>\n",
       "    </tr>\n",
       "    <tr>\n",
       "      <th>2007-01-09 09:45:00</th>\n",
       "      <td>439.9</td>\n",
       "      <td>443.0</td>\n",
       "      <td>425.5</td>\n",
       "      <td>427.5</td>\n",
       "      <td>2</td>\n",
       "    </tr>\n",
       "  </tbody>\n",
       "</table>\n",
       "</div>"
      ],
      "text/plain": [
       "                      open   high    low  close  TrendLabel\n",
       "datetime                                                   \n",
       "2007-01-03 09:45:00  460.0  464.5  453.5  458.9           2\n",
       "2007-01-04 09:45:00  458.0  459.5  450.0  450.0           2\n",
       "2007-01-05 09:45:00  448.0  448.0  435.3  438.5           2\n",
       "2007-01-08 09:45:00  435.7  445.4  434.9  443.2           2\n",
       "2007-01-09 09:45:00  439.9  443.0  425.5  427.5           2"
      ]
     },
     "execution_count": 40,
     "metadata": {},
     "output_type": "execute_result"
    }
   ],
   "source": [
    "dfx=df1.merge(df2,how='inner',on='datetime')\n",
    "print(dfx.shape)\n",
    "dfx.head()"
   ]
  },
  {
   "cell_type": "code",
   "execution_count": 41,
   "metadata": {},
   "outputs": [],
   "source": [
    "dfx.to_csv(ab_train_file)"
   ]
  },
  {
   "cell_type": "code",
   "execution_count": null,
   "metadata": {},
   "outputs": [],
   "source": []
  }
 ],
 "metadata": {
  "kernelspec": {
   "display_name": "Python 3",
   "language": "python",
   "name": "python3"
  },
  "language_info": {
   "codemirror_mode": {
    "name": "ipython",
    "version": 3
   },
   "file_extension": ".py",
   "mimetype": "text/x-python",
   "name": "python",
   "nbconvert_exporter": "python",
   "pygments_lexer": "ipython3",
   "version": "3.7.6"
  }
 },
 "nbformat": 4,
 "nbformat_minor": 2
}
