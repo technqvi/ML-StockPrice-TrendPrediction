{
 "cells": [
  {
   "cell_type": "code",
   "execution_count": 38,
   "metadata": {},
   "outputs": [],
   "source": [
    "import numpy as np\n",
    "import pandas as pd\n",
    "import matplotlib.pyplot as plt\n",
    "\n",
    "import datetime\n"
   ]
  },
  {
   "cell_type": "markdown",
   "metadata": {},
   "source": [
    "# Merge Result Prediction Trend with Test File  \n",
    "\n",
    "AUX1=Predict\n",
    "\n",
    "AUX2=Actual\n",
    "\n",
    "# Result Prediction from Rapid miner"
   ]
  },
  {
   "cell_type": "code",
   "execution_count": 39,
   "metadata": {},
   "outputs": [],
   "source": [
    "#load feature train file only OHLC \n",
    "#df_predict_trend=pd.read_csv(r\"..\\datasets\\S50F15M_LS\\ML-Long_S50M15_07To19-Train.csv\",index_col='datetime',parse_dates =['datetime'],dayfirst=True)\n",
    "#dfTestFeature=df_predict_trend.loc['01-2016':'12-2019',['open','high','low','close']]\n",
    "\n",
    "\n",
    "df_predict_trend=pd.read_csv(r\"..\\datasets\\S50F15M_LS\\ML-Short_S50M15_07To19-Train.csv\",index_col='datetime',parse_dates =['datetime'],dayfirst=True)\n",
    "dfTestFeature=df_predict_trend.loc['01-2019':,['open','high','low','close']]\n"
   ]
  },
  {
   "cell_type": "code",
   "execution_count": 40,
   "metadata": {},
   "outputs": [
    {
     "name": "stdout",
     "output_type": "stream",
     "text": [
      "<class 'pandas.core.frame.DataFrame'>\n",
      "DatetimeIndex: 6673 entries, 2019-01-02 09:45:00 to 2020-03-20 16:45:00\n",
      "Data columns (total 4 columns):\n",
      "open     6673 non-null float64\n",
      "high     6673 non-null float64\n",
      "low      6673 non-null float64\n",
      "close    6673 non-null float64\n",
      "dtypes: float64(4)\n",
      "memory usage: 260.7 KB\n",
      "None\n",
      "(6673, 4)\n"
     ]
    },
    {
     "data": {
      "text/html": [
       "<div>\n",
       "<style scoped>\n",
       "    .dataframe tbody tr th:only-of-type {\n",
       "        vertical-align: middle;\n",
       "    }\n",
       "\n",
       "    .dataframe tbody tr th {\n",
       "        vertical-align: top;\n",
       "    }\n",
       "\n",
       "    .dataframe thead th {\n",
       "        text-align: right;\n",
       "    }\n",
       "</style>\n",
       "<table border=\"1\" class=\"dataframe\">\n",
       "  <thead>\n",
       "    <tr style=\"text-align: right;\">\n",
       "      <th></th>\n",
       "      <th>open</th>\n",
       "      <th>high</th>\n",
       "      <th>low</th>\n",
       "      <th>close</th>\n",
       "    </tr>\n",
       "    <tr>\n",
       "      <th>datetime</th>\n",
       "      <th></th>\n",
       "      <th></th>\n",
       "      <th></th>\n",
       "      <th></th>\n",
       "    </tr>\n",
       "  </thead>\n",
       "  <tbody>\n",
       "    <tr>\n",
       "      <th>2020-03-20 15:45:00</th>\n",
       "      <td>743.5</td>\n",
       "      <td>756.0</td>\n",
       "      <td>743.4</td>\n",
       "      <td>754.1</td>\n",
       "    </tr>\n",
       "    <tr>\n",
       "      <th>2020-03-20 16:00:00</th>\n",
       "      <td>754.2</td>\n",
       "      <td>761.7</td>\n",
       "      <td>752.2</td>\n",
       "      <td>758.6</td>\n",
       "    </tr>\n",
       "    <tr>\n",
       "      <th>2020-03-20 16:15:00</th>\n",
       "      <td>758.7</td>\n",
       "      <td>762.0</td>\n",
       "      <td>758.0</td>\n",
       "      <td>760.1</td>\n",
       "    </tr>\n",
       "    <tr>\n",
       "      <th>2020-03-20 16:30:00</th>\n",
       "      <td>760.3</td>\n",
       "      <td>762.0</td>\n",
       "      <td>755.0</td>\n",
       "      <td>755.5</td>\n",
       "    </tr>\n",
       "    <tr>\n",
       "      <th>2020-03-20 16:45:00</th>\n",
       "      <td>755.4</td>\n",
       "      <td>761.0</td>\n",
       "      <td>755.1</td>\n",
       "      <td>760.5</td>\n",
       "    </tr>\n",
       "  </tbody>\n",
       "</table>\n",
       "</div>"
      ],
      "text/plain": [
       "                      open   high    low  close\n",
       "datetime                                       \n",
       "2020-03-20 15:45:00  743.5  756.0  743.4  754.1\n",
       "2020-03-20 16:00:00  754.2  761.7  752.2  758.6\n",
       "2020-03-20 16:15:00  758.7  762.0  758.0  760.1\n",
       "2020-03-20 16:30:00  760.3  762.0  755.0  755.5\n",
       "2020-03-20 16:45:00  755.4  761.0  755.1  760.5"
      ]
     },
     "execution_count": 40,
     "metadata": {},
     "output_type": "execute_result"
    }
   ],
   "source": [
    "print(dfTestFeature.info())\n",
    "print(dfTestFeature.shape)\n",
    "dfTestFeature.tail(5)"
   ]
  },
  {
   "cell_type": "code",
   "execution_count": 41,
   "metadata": {},
   "outputs": [],
   "source": [
    "#labelName='LongSignal'\n",
    "labelName='ShortSignal'\n",
    "rm_labelName=f'prediction({labelName})'\n",
    "#['confidence(0)','confidence(1)']"
   ]
  },
  {
   "cell_type": "code",
   "execution_count": 42,
   "metadata": {},
   "outputs": [],
   "source": [
    "#long\n",
    "#scoreTestfile=r\"..\\datasets\\S50F15M_LS\\Predict&Test\\TestResult_Long_16To19.csv\"\n",
    "#abFile=       r'..\\datasets\\S50F15M_LS\\Predict&Test\\AB-Long_S50M15_16To19-Predict.csv'\n",
    "\n",
    "#Short\n",
    "scoreTestfile=r\"..\\datasets\\S50F15M_LS\\Predict&Test\\TestResult_Short_19To20Mar20.csv\"\n",
    "abFile=       r'..\\datasets\\S50F15M_LS\\Predict&Test\\AB-Short_S50M15_19To20Mar20-Predict.csv'"
   ]
  },
  {
   "cell_type": "code",
   "execution_count": 43,
   "metadata": {},
   "outputs": [],
   "source": [
    "def BuildLabelFile(filename,colList):\n",
    " df_temp=pd.read_csv(filename)\n",
    " df_temp['datetime']=pd.to_datetime(df_temp['datetime'],format='%m/%d/%y %I:%M %p')\n",
    "\n",
    " colList.append('datetime')\n",
    " df_label=df_temp[colList]\n",
    "\n",
    " df_label.set_index('datetime',inplace=True)\n",
    "\n",
    " print(df_label.info())\n",
    " print(df_label.shape)\n",
    "\n",
    " return df_label\n"
   ]
  },
  {
   "cell_type": "code",
   "execution_count": 44,
   "metadata": {},
   "outputs": [
    {
     "name": "stdout",
     "output_type": "stream",
     "text": [
      "<class 'pandas.core.frame.DataFrame'>\n",
      "DatetimeIndex: 6673 entries, 2019-01-02 09:45:00 to 2020-03-20 16:45:00\n",
      "Data columns (total 2 columns):\n",
      "ShortSignal                6673 non-null int64\n",
      "prediction(ShortSignal)    6673 non-null int64\n",
      "dtypes: int64(2)\n",
      "memory usage: 156.4 KB\n",
      "None\n",
      "(6673, 2)\n"
     ]
    },
    {
     "data": {
      "text/html": [
       "<div>\n",
       "<style scoped>\n",
       "    .dataframe tbody tr th:only-of-type {\n",
       "        vertical-align: middle;\n",
       "    }\n",
       "\n",
       "    .dataframe tbody tr th {\n",
       "        vertical-align: top;\n",
       "    }\n",
       "\n",
       "    .dataframe thead th {\n",
       "        text-align: right;\n",
       "    }\n",
       "</style>\n",
       "<table border=\"1\" class=\"dataframe\">\n",
       "  <thead>\n",
       "    <tr style=\"text-align: right;\">\n",
       "      <th></th>\n",
       "      <th>ShortSignal</th>\n",
       "      <th>prediction(ShortSignal)</th>\n",
       "    </tr>\n",
       "    <tr>\n",
       "      <th>datetime</th>\n",
       "      <th></th>\n",
       "      <th></th>\n",
       "    </tr>\n",
       "  </thead>\n",
       "  <tbody>\n",
       "    <tr>\n",
       "      <th>2020-03-20 16:15:00</th>\n",
       "      <td>0</td>\n",
       "      <td>0</td>\n",
       "    </tr>\n",
       "    <tr>\n",
       "      <th>2020-03-20 16:30:00</th>\n",
       "      <td>0</td>\n",
       "      <td>0</td>\n",
       "    </tr>\n",
       "    <tr>\n",
       "      <th>2020-03-20 16:45:00</th>\n",
       "      <td>0</td>\n",
       "      <td>0</td>\n",
       "    </tr>\n",
       "  </tbody>\n",
       "</table>\n",
       "</div>"
      ],
      "text/plain": [
       "                     ShortSignal  prediction(ShortSignal)\n",
       "datetime                                                 \n",
       "2020-03-20 16:15:00            0                        0\n",
       "2020-03-20 16:30:00            0                        0\n",
       "2020-03-20 16:45:00            0                        0"
      ]
     },
     "execution_count": 44,
     "metadata": {},
     "output_type": "execute_result"
    }
   ],
   "source": [
    "df_trendLabel=BuildLabelFile(scoreTestfile,[labelName,rm_labelName])\n",
    "df_trendLabel.tail(3)"
   ]
  },
  {
   "cell_type": "code",
   "execution_count": 45,
   "metadata": {
    "scrolled": true
   },
   "outputs": [
    {
     "name": "stdout",
     "output_type": "stream",
     "text": [
      "(6673, 6)\n"
     ]
    },
    {
     "data": {
      "text/html": [
       "<div>\n",
       "<style scoped>\n",
       "    .dataframe tbody tr th:only-of-type {\n",
       "        vertical-align: middle;\n",
       "    }\n",
       "\n",
       "    .dataframe tbody tr th {\n",
       "        vertical-align: top;\n",
       "    }\n",
       "\n",
       "    .dataframe thead th {\n",
       "        text-align: right;\n",
       "    }\n",
       "</style>\n",
       "<table border=\"1\" class=\"dataframe\">\n",
       "  <thead>\n",
       "    <tr style=\"text-align: right;\">\n",
       "      <th></th>\n",
       "      <th>open</th>\n",
       "      <th>high</th>\n",
       "      <th>low</th>\n",
       "      <th>close</th>\n",
       "      <th>ShortSignal</th>\n",
       "      <th>prediction(ShortSignal)</th>\n",
       "    </tr>\n",
       "    <tr>\n",
       "      <th>datetime</th>\n",
       "      <th></th>\n",
       "      <th></th>\n",
       "      <th></th>\n",
       "      <th></th>\n",
       "      <th></th>\n",
       "      <th></th>\n",
       "    </tr>\n",
       "  </thead>\n",
       "  <tbody>\n",
       "    <tr>\n",
       "      <th>2020-03-20 15:45:00</th>\n",
       "      <td>743.5</td>\n",
       "      <td>756.0</td>\n",
       "      <td>743.4</td>\n",
       "      <td>754.1</td>\n",
       "      <td>0.0</td>\n",
       "      <td>0.0</td>\n",
       "    </tr>\n",
       "    <tr>\n",
       "      <th>2020-03-20 16:00:00</th>\n",
       "      <td>754.2</td>\n",
       "      <td>761.7</td>\n",
       "      <td>752.2</td>\n",
       "      <td>758.6</td>\n",
       "      <td>0.0</td>\n",
       "      <td>0.0</td>\n",
       "    </tr>\n",
       "    <tr>\n",
       "      <th>2020-03-20 16:15:00</th>\n",
       "      <td>758.7</td>\n",
       "      <td>762.0</td>\n",
       "      <td>758.0</td>\n",
       "      <td>760.1</td>\n",
       "      <td>0.0</td>\n",
       "      <td>0.0</td>\n",
       "    </tr>\n",
       "    <tr>\n",
       "      <th>2020-03-20 16:30:00</th>\n",
       "      <td>760.3</td>\n",
       "      <td>762.0</td>\n",
       "      <td>755.0</td>\n",
       "      <td>755.5</td>\n",
       "      <td>0.0</td>\n",
       "      <td>0.0</td>\n",
       "    </tr>\n",
       "    <tr>\n",
       "      <th>2020-03-20 16:45:00</th>\n",
       "      <td>755.4</td>\n",
       "      <td>761.0</td>\n",
       "      <td>755.1</td>\n",
       "      <td>760.5</td>\n",
       "      <td>0.0</td>\n",
       "      <td>0.0</td>\n",
       "    </tr>\n",
       "  </tbody>\n",
       "</table>\n",
       "</div>"
      ],
      "text/plain": [
       "                      open   high    low  close  ShortSignal  \\\n",
       "datetime                                                       \n",
       "2020-03-20 15:45:00  743.5  756.0  743.4  754.1          0.0   \n",
       "2020-03-20 16:00:00  754.2  761.7  752.2  758.6          0.0   \n",
       "2020-03-20 16:15:00  758.7  762.0  758.0  760.1          0.0   \n",
       "2020-03-20 16:30:00  760.3  762.0  755.0  755.5          0.0   \n",
       "2020-03-20 16:45:00  755.4  761.0  755.1  760.5          0.0   \n",
       "\n",
       "                     prediction(ShortSignal)  \n",
       "datetime                                      \n",
       "2020-03-20 15:45:00                      0.0  \n",
       "2020-03-20 16:00:00                      0.0  \n",
       "2020-03-20 16:15:00                      0.0  \n",
       "2020-03-20 16:30:00                      0.0  \n",
       "2020-03-20 16:45:00                      0.0  "
      ]
     },
     "execution_count": 45,
     "metadata": {},
     "output_type": "execute_result"
    }
   ],
   "source": [
    "dfx=dfTestFeature.merge(df_trendLabel,how='left',left_index=True, right_index=True) \n",
    "print(dfx.shape) \n",
    "\n",
    "\n",
    "\n",
    "dfx.to_csv(abFile)\n",
    "dfx.tail()"
   ]
  },
  {
   "cell_type": "code",
   "execution_count": 46,
   "metadata": {},
   "outputs": [
    {
     "data": {
      "text/plain": [
       "1164"
      ]
     },
     "execution_count": 46,
     "metadata": {},
     "output_type": "execute_result"
    }
   ],
   "source": [
    "len(dfx[dfx[labelName]!=dfx[rm_labelName]].index)"
   ]
  },
  {
   "cell_type": "code",
   "execution_count": null,
   "metadata": {},
   "outputs": [],
   "source": []
  }
 ],
 "metadata": {
  "kernelspec": {
   "display_name": "Python 3",
   "language": "python",
   "name": "python3"
  },
  "language_info": {
   "codemirror_mode": {
    "name": "ipython",
    "version": 3
   },
   "file_extension": ".py",
   "mimetype": "text/x-python",
   "name": "python",
   "nbconvert_exporter": "python",
   "pygments_lexer": "ipython3",
   "version": "3.6.8"
  }
 },
 "nbformat": 4,
 "nbformat_minor": 2
}
