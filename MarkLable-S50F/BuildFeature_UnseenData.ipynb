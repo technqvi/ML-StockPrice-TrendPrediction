{
 "cells": [
  {
   "cell_type": "code",
   "execution_count": 74,
   "metadata": {},
   "outputs": [],
   "source": [
    "import numpy as np\n",
    "import pandas as pd\n",
    "import matplotlib.pyplot as plt\n",
    "\n",
    "import datetime\n",
    "\n",
    "%config IPCompleter.greedy=True \n",
    "%matplotlib inline  \n",
    "\n",
    "import os"
   ]
  },
  {
   "cell_type": "code",
   "execution_count": 75,
   "metadata": {},
   "outputs": [],
   "source": [
    "def CleanFeatureData(df):\n",
    "    df[\"datetime\"]=pd.to_datetime(df[\"Date/Time\"],format='%d/%m/%Y %H:%M:%S',dayfirst=True)\n",
    "    df.drop(columns=['Ticker','Date/Time','open','high','low','close'],inplace=True)\n",
    "    df.set_index('datetime',inplace=True)\n",
    "    df.dropna(inplace=True)"
   ]
  },
  {
   "cell_type": "markdown",
   "metadata": {},
   "source": [
    "# Build Unseen Feature File"
   ]
  },
  {
   "cell_type": "code",
   "execution_count": 76,
   "metadata": {},
   "outputs": [],
   "source": [
    "test_period='15M_April20'\n",
    "\n",
    "featureTest_file=os.path.abspath(f'D:\\\\Dev-Trong\\\\DataSet\\ABRawData\\\\FeatureTest_S50-{test_period}.csv')\n",
    "\n",
    "featureTrain_file=os.path.abspath(r'D:\\Dev-Trong\\DataSet\\ML-Long_S50M15_07To19-Train.csv')\n",
    "                          \n",
    "unlabeled_file=os.path.abspath(f'D:\\\\Dev-Trong\\DataSet\\\\UnlabeledData\\\\ML-S50M15-Unlabeled-{test_period}.csv')"
   ]
  },
  {
   "cell_type": "code",
   "execution_count": 77,
   "metadata": {},
   "outputs": [
    {
     "name": "stdout",
     "output_type": "stream",
     "text": [
      "<class 'pandas.core.frame.DataFrame'>\n",
      "DatetimeIndex: 528 entries, 2020-04-01 09:45:00 to 2020-05-08 16:45:00\n",
      "Data columns (total 17 columns):\n",
      "indy_ma-550               528 non-null float64\n",
      "indy_ma-1100              528 non-null float64\n",
      "indy_hh-550               528 non-null float64\n",
      "indy_ll-550               528 non-null float64\n",
      "indy_mid-550              528 non-null float64\n",
      "indy_hh2-1100             528 non-null float64\n",
      "indy_ll2-1100             528 non-null float64\n",
      "indy_mid2-1100            528 non-null float64\n",
      "indy_macd110-440          528 non-null float64\n",
      "indy_signal110-440-110    528 non-null float64\n",
      "indy_hist_macd110-440     528 non-null float64\n",
      "indy_rsi25-ma20           528 non-null float64\n",
      "indy_6ATRTrail_DC-110     528 non-null float64\n",
      "cate_3trend-550_ma110     528 non-null int64\n",
      "cate_2trend-1100_ma220    528 non-null int64\n",
      "cate_rannkHL1100-ma66     528 non-null int64\n",
      "cate_CombineTrend         528 non-null int64\n",
      "dtypes: float64(13), int64(4)\n",
      "memory usage: 74.2 KB\n",
      "None\n"
     ]
    }
   ],
   "source": [
    "df_test=pd.read_csv(featureTest_file)\n",
    "CleanFeatureData(df_test)\n",
    "print(df_test.info())"
   ]
  },
  {
   "cell_type": "code",
   "execution_count": 78,
   "metadata": {},
   "outputs": [
    {
     "name": "stdout",
     "output_type": "stream",
     "text": [
      "Show Null/NA values\n",
      "\n"
     ]
    }
   ],
   "source": [
    "print(\"Show Null/NA values\\n\"),df_test.isna().sum()\n",
    "\n",
    "df_test.dropna(inplace=True)"
   ]
  },
  {
   "cell_type": "code",
   "execution_count": 79,
   "metadata": {},
   "outputs": [
    {
     "name": "stdout",
     "output_type": "stream",
     "text": [
      "<class 'pandas.core.frame.DataFrame'>\n",
      "DatetimeIndex: 68292 entries, 2007-01-03 09:45:00 to 2019-12-30 17:00:00\n",
      "Data columns (total 17 columns):\n",
      "indy_ma-550               68292 non-null float64\n",
      "indy_ma-1100              68292 non-null float64\n",
      "indy_hh-550               68292 non-null float64\n",
      "indy_ll-550               68292 non-null float64\n",
      "indy_mid-550              68292 non-null float64\n",
      "indy_hh2-1100             68292 non-null float64\n",
      "indy_ll2-1100             68292 non-null float64\n",
      "indy_mid2-1100            68292 non-null float64\n",
      "indy_macd110-440          68292 non-null float64\n",
      "indy_signal110-440-110    68292 non-null float64\n",
      "indy_hist_macd110-440     68292 non-null float64\n",
      "indy_rsi25-ma20           68292 non-null float64\n",
      "indy_6ATRTrail_DC-110     68292 non-null float64\n",
      "cate_3trend-550_ma110     68292 non-null int64\n",
      "cate_2trend-1100_ma220    68292 non-null int64\n",
      "cate_rannkHL1100-ma66     68292 non-null int64\n",
      "cate_CombineTrend         68292 non-null int64\n",
      "dtypes: float64(13), int64(4)\n",
      "memory usage: 9.4 MB\n"
     ]
    }
   ],
   "source": [
    "df_train=pd.read_csv(featureTrain_file,index_col='datetime',parse_dates =['datetime'],dayfirst=True)\n",
    "df_train.drop(columns=['open','high','low','close',df_train.columns[-1]],inplace=True)\n",
    "df_train.info()"
   ]
  },
  {
   "cell_type": "markdown",
   "metadata": {},
   "source": [
    "# check all column mush be matched both position and name"
   ]
  },
  {
   "cell_type": "code",
   "execution_count": 80,
   "metadata": {},
   "outputs": [],
   "source": [
    "if df_test.columns.tolist()==df_train.columns.tolist() :\n",
    "    df_test.to_csv(unlabeled_file)"
   ]
  },
  {
   "cell_type": "code",
   "execution_count": null,
   "metadata": {},
   "outputs": [],
   "source": []
  }
 ],
 "metadata": {
  "kernelspec": {
   "display_name": "Python 3",
   "language": "python",
   "name": "python3"
  },
  "language_info": {
   "codemirror_mode": {
    "name": "ipython",
    "version": 3
   },
   "file_extension": ".py",
   "mimetype": "text/x-python",
   "name": "python",
   "nbconvert_exporter": "python",
   "pygments_lexer": "ipython3",
   "version": "3.7.8"
  }
 },
 "nbformat": 4,
 "nbformat_minor": 2
}
